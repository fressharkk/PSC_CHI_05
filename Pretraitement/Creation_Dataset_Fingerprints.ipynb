{
 "cells": [
  {
   "cell_type": "markdown",
   "metadata": {},
   "source": [
    "# Créations du dataset des Fingerprints à partir de la database originale"
   ]
  },
  {
   "cell_type": "code",
   "execution_count": 1,
   "metadata": {},
   "outputs": [],
   "source": [
    "#Ensemble des importations requises\n",
    "from aizynthfinder.chem import Molecule\n",
    "import pandas as pd\n",
    "import tqdm.notebook as tnote\n",
    "import numpy as np\n",
    "import os\n",
    "import math"
   ]
  },
  {
   "cell_type": "code",
   "execution_count": 2,
   "metadata": {},
   "outputs": [],
   "source": [
    "filename = \"inserer_nom_fichier_a_transformer_en_fp\""
   ]
  },
  {
   "cell_type": "code",
   "execution_count": 11,
   "metadata": {},
   "outputs": [],
   "source": [
    "#Lecture du fichier\n",
    "data = pd.read_csv(filename) #, delimiter=\";\")\n",
    "\n",
    "#Eventuellement, ajouter la partie commentée"
   ]
  },
  {
   "cell_type": "code",
   "execution_count": 6,
   "metadata": {},
   "outputs": [],
   "source": [
    "def create_fingerprint(reactants, products):\n",
    "    '''\n",
    "    Renvoie le fingerprint du produit et celui de la reaction à partir des réactifs et produits au format smiles\n",
    "    '''\n",
    "    prd_f = Molecule(smiles=products).fingerprint(2)\n",
    "    rea_f = sum(Molecule(smiles=x).fingerprint(2) for x in reactants.split(\".\"))\n",
    "    return prd_f, prd_f  - rea_f"
   ]
  },
  {
   "cell_type": "code",
   "execution_count": 7,
   "metadata": {},
   "outputs": [],
   "source": [
    "def string_nonzero_from_fp(fp):\n",
    "    '''\n",
    "    Encode le fingerprint sous la forme d'une chaine de caracteres contenant les indices non nuls du fingerprint\n",
    "    ainsi que les valeurs associées quand elles sont différentes de 1\n",
    "    '''\n",
    "    s = \"\"\n",
    "    l = np.nonzero(fp)[0]\n",
    "    for k in l:\n",
    "        if (int(fp[k])!=1):\n",
    "            s+= str(int(k))+\"-\"+str(int(fp[k]))\n",
    "        else:\n",
    "            s += str(int(k))\n",
    "        s+= \" \"\n",
    "    return s"
   ]
  },
  {
   "cell_type": "code",
   "execution_count": 9,
   "metadata": {},
   "outputs": [],
   "source": [
    "def create_data_fingerprint(dataset):\n",
    "    '''\n",
    "    Création du dataset des fingerprints à partir du dataset original\n",
    "    '''\n",
    "    res_data = pd.DataFrame(columns=[\"Product_Fingerprint\", \"Reaction_Fingerprint\"])\n",
    "    for i in range(dataset.shape[0]):\n",
    "        smarts = dataset.iloc[i,1], dataset.iloc[i,2]\n",
    "        #On récupère les fingerprints et on les transforme en string selon notre format\n",
    "        prd_f, rxn_f = create_fingerprint(smarts[0],smarts[1])\n",
    "        prd_f, rxn_f = string_nonzero_from_fp(prd_f), string_nonzero_from_fp(rxn_f)\n",
    "        res_data.loc[i] = [prd_f, rxn_f]\n",
    "    return res_data"
   ]
  },
  {
   "cell_type": "code",
   "execution_count": 13,
   "metadata": {},
   "outputs": [
    {
     "name": "stdout",
     "output_type": "stream",
     "text": [
      "1309\n"
     ]
    },
    {
     "data": {
      "application/vnd.jupyter.widget-view+json": {
       "model_id": "db1d615779014a5dbfd9ee7cde7885be",
       "version_major": 2,
       "version_minor": 0
      },
      "text/plain": [
       "  0%|          | 0/1310 [00:00<?, ?it/s]"
      ]
     },
     "metadata": {},
     "output_type": "display_data"
    }
   ],
   "source": [
    "#On séquence la création de la database pour des questions de temps d'execution \n",
    "l = []\n",
    "p = data.shape[0]//200\n",
    "print(p)\n",
    "pb = tnote.tqdm(total = p+1)\n",
    "for i in range(p+1):\n",
    "    l.append(create_data_fingerprint(data[i*200:(i+1)*200]))\n",
    "    l[-1].to_csv(f\"fichier_desire_\", index = True)\n",
    "    pb.update(1)"
   ]
  },
  {
   "cell_type": "code",
   "execution_count": 14,
   "metadata": {},
   "outputs": [],
   "source": [
    "res_data_ = pd.concat(l, ignore_index=True)"
   ]
  },
  {
   "cell_type": "code",
   "execution_count": 15,
   "metadata": {},
   "outputs": [],
   "source": [
    "res_data_.to_csv(\"False_Reactions_Recommender_Fingerprints.csv\")"
   ]
  }
 ],
 "metadata": {
  "kernelspec": {
   "display_name": "aizynth-env",
   "language": "python",
   "name": "aizynth-env"
  },
  "language_info": {
   "codemirror_mode": {
    "name": "ipython",
    "version": 3
   },
   "file_extension": ".py",
   "mimetype": "text/x-python",
   "name": "python",
   "nbconvert_exporter": "python",
   "pygments_lexer": "ipython3",
   "version": "3.8.12"
  },
  "latex_envs": {
   "LaTeX_envs_menu_present": true,
   "autoclose": false,
   "autocomplete": false,
   "bibliofile": "biblio.bib",
   "cite_by": "apalike",
   "current_citInitial": 1,
   "eqLabelWithNumbers": true,
   "eqNumInitial": 1,
   "hotkeys": {
    "equation": "Ctrl-E",
    "itemize": "Ctrl-I"
   },
   "labels_anchors": false,
   "latex_user_defs": false,
   "report_style_numbering": false,
   "user_envs_cfg": false
  }
 },
 "nbformat": 4,
 "nbformat_minor": 5
}
