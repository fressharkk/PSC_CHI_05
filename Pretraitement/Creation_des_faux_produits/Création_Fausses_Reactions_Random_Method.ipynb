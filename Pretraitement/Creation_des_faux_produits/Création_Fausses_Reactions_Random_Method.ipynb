{
 "cells": [
  {
   "cell_type": "markdown",
   "metadata": {},
   "source": [
    "### Importation des bibliothèques nécessaires"
   ]
  },
  {
   "cell_type": "code",
   "execution_count": null,
   "metadata": {},
   "outputs": [],
   "source": [
    "import pandas as pd\n",
    "import random\n",
    "import numpy as np\n",
    "from aizynthfinder.chem import Molecule, Reaction, MoleculeException\n",
    "from aizynthfinder.training.utils import (\n",
    "    Config,\n",
    "    create_reactants_molecules,\n",
    "    reverse_template,\n",
    "    reaction_hash,\n",
    "    reactants_to_fingerprint,\n",
    ")\n",
    "from aizynthfinder.utils.models import CUSTOM_OBJECTS, load_keras_model"
   ]
  },
  {
   "cell_type": "markdown",
   "metadata": {},
   "source": [
    "### Récupération des bases de données"
   ]
  },
  {
   "cell_type": "code",
   "execution_count": null,
   "metadata": {},
   "outputs": [],
   "source": [
    "data_reactions = pd.read_json(\"C:/Users/Yassine/Desktop/aizynth/uspto-reactions.json\")\n",
    "data_templates = pd.read_json(\"C:/Users/Yassine/Desktop/aizynth/uspto-templates.json\")"
   ]
  },
  {
   "cell_type": "markdown",
   "metadata": {},
   "source": [
    "### Création des fonctions dont on va avoir besoin"
   ]
  },
  {
   "cell_type": "code",
   "execution_count": null,
   "metadata": {},
   "outputs": [],
   "source": [
    "def get_random_row(lib):\n",
    "    '''\n",
    "    Renvoie une ligne aléatoire dans un DataFrame Panda\n",
    "    '''\n",
    "    \n",
    "    r = random.randint(0,lib.shape[0]-1)\n",
    "    return [lib.iloc[r]]"
   ]
  },
  {
   "cell_type": "code",
   "execution_count": null,
   "metadata": {},
   "outputs": [],
   "source": [
    "def random_sample_lib(data_templates, data_reactions):\n",
    "    '''\n",
    "    Renvoie une liste de nouvelles \"fausses\" réactions en applicant des templates pris aléatoirement \n",
    "    dans la base correspondante. \n",
    "    \n",
    "    '''\n",
    "    to_return = []\n",
    "    \n",
    "    \n",
    "    for val, row in data_reactions.iterrows():   #On parcours l'ensemble des réactions\n",
    "        \n",
    "        if (type(row.reactants) == str):   #On vérifie que les réactifs sont bien présent (les bases de données \n",
    "                                            #sont parfois incomplètes)\n",
    "            mols = create_reactants_molecules(row.reactants)\n",
    "        else:\n",
    "            continue\n",
    "            \n",
    "        try:   #On récupère le produit au format Molecule pour pouvoir la comparer plus loin\n",
    "            ref_mol = Molecule(smiles=row.products, sanitize=True)\n",
    "        except MoleculeException:\n",
    "            continue\n",
    "            \n",
    "            \n",
    "        #On tente de créer un nouveau produit de manière random\n",
    "        new_product = None\n",
    "        for template_row in get_random_row(data_templates): #On prend un template au hasard\n",
    "\n",
    "            if (type(template_row[\"reaction_smarts\"]) != str): #On vérifie que le template est bon\n",
    "                continue\n",
    "            smarts_fwd = reverse_template(template_row[\"reaction_smarts\"]) #On renverse le template car la base de donnée \n",
    "                                                                            #contient des templates de retro-reactions\n",
    "            \n",
    "            \n",
    "            try:   #On tente d'appliquer le template tiré aux réactifs\n",
    "                new_product = Reaction(mols=mols, smarts=smarts_fwd).apply()[0][0]\n",
    "            except (ValueError, IndexError):\n",
    "                continue\n",
    "                \n",
    "                \n",
    "            if new_product.basic_compare(ref_mol):  #On verifie que l'on n'a pas créé la même réaction.\n",
    "                continue\n",
    "            break  # Si on est arrivé ici, c'est qu'on a réussi à créer une \"fausse réaction\"\n",
    "\n",
    "        if not new_product: #On vérifie qu'on n'a pas créé un produit vide\n",
    "            continue\n",
    "        \n",
    "        to_return += [val,new_product] #On ajoute la réaction créée\n",
    "    return to_return"
   ]
  },
  {
   "cell_type": "code",
   "execution_count": null,
   "metadata": {},
   "outputs": [],
   "source": [
    "##A PRIORI PAS BON MAIS A CHECKER\n",
    "\n",
    "def _sample_lib(library, lib2):\n",
    "    to_return = []\n",
    "    for val, row in lib2.iterrows():\n",
    "        if (type(row.reactants) == str):\n",
    "            mols = create_reactants_molecules(row.reactants)\n",
    "        else:\n",
    "            continue\n",
    "        try:\n",
    "            ref_mol = Molecule(smiles=row.products, sanitize=True)\n",
    "        except MoleculeException:\n",
    "            continue\n",
    "            \n",
    "        new_product = None\n",
    "        for idx,template_row in library.iterrows(): #SAMPLER \n",
    "            #if row.template_hash == template_row.template_hash: #Check\n",
    "            #    continue\n",
    "            #smarts_fwd = reverse_template(template_row.retro_template) #Check\n",
    "            if (idx != 15):\n",
    "                continue\n",
    "            if (type(template_row[\"reaction_smarts\"]) != str):\n",
    "                continue\n",
    "            smarts_fwd = reverse_template(template_row[\"reaction_smarts\"])\n",
    "            try:\n",
    "                new_product = Reaction(mols=mols, smarts=smarts_fwd).apply()[0][0]\n",
    "            except (ValueError, IndexError):\n",
    "                continue\n",
    "            if new_product.basic_compare(ref_mol):\n",
    "                continue\n",
    "            break  # If we have reached here, we have found a match that fits all criteria\n",
    "\n",
    "        if not new_product:\n",
    "            continue\n",
    "        \n",
    "        to_return += [val,new_product]\n",
    "    return to_return"
   ]
  },
  {
   "cell_type": "code",
   "execution_count": null,
   "metadata": {},
   "outputs": [],
   "source": [
    "#On récupère les fausses réactions crées\n",
    "y = random_sample_lib(data_templates, data_reactions)\n",
    "z = y[1::2]"
   ]
  },
  {
   "cell_type": "code",
   "execution_count": null,
   "metadata": {},
   "outputs": [],
   "source": [
    "#On réécrit tout sous forme de réactions smiles\n",
    "n = len(z)\n",
    "arr_to_dat = np.empty(n, dtype=\"object\")\n",
    "for x in range(n):\n",
    "    arr_to_dat[x] = data_reactions.iloc[y[2*x]].reactants + \">>\" + z[x].smiles"
   ]
  },
  {
   "cell_type": "code",
   "execution_count": null,
   "metadata": {
    "scrolled": true
   },
   "outputs": [],
   "source": [
    "false_reactions = pd.DataFrame(data=arr_to_dat)\n",
    "#On enregistre ensuite au format csv\n",
    "false_reactions.to_csv(\"Nom_désiré.csv\")"
   ]
  }
 ],
 "metadata": {
  "kernelspec": {
   "display_name": "aizynth-env",
   "language": "python",
   "name": "aizynth-env"
  },
  "language_info": {
   "codemirror_mode": {
    "name": "ipython",
    "version": 3
   },
   "file_extension": ".py",
   "mimetype": "text/x-python",
   "name": "python",
   "nbconvert_exporter": "python",
   "pygments_lexer": "ipython3",
   "version": "3.8.12"
  },
  "latex_envs": {
   "LaTeX_envs_menu_present": true,
   "autoclose": false,
   "autocomplete": false,
   "bibliofile": "biblio.bib",
   "cite_by": "apalike",
   "current_citInitial": 1,
   "eqLabelWithNumbers": true,
   "eqNumInitial": 1,
   "hotkeys": {
    "equation": "Ctrl-E",
    "itemize": "Ctrl-I"
   },
   "labels_anchors": false,
   "latex_user_defs": false,
   "report_style_numbering": false,
   "user_envs_cfg": false
  }
 },
 "nbformat": 4,
 "nbformat_minor": 5
}
