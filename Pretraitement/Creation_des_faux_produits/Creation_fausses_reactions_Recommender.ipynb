{
 "cells": [
  {
   "cell_type": "markdown",
   "metadata": {},
   "source": [
    "# Création de la base des fausses réactions à partir du recommender"
   ]
  },
  {
   "cell_type": "code",
   "execution_count": null,
   "metadata": {},
   "outputs": [],
   "source": [
    "#Bibliothèques dont on a besoin\n",
    "import pandas as pd\n",
    "import numpy as np\n",
    "import tensorflow as tf\n",
    "from tensorflow.keras.utils import to_categorical\n",
    "import tensorflow.keras as keras"
   ]
  },
  {
   "cell_type": "code",
   "execution_count": null,
   "metadata": {},
   "outputs": [],
   "source": [
    "#Pour gérer les progress bar\n",
    "import tqdm.notebook as tqdm"
   ]
  },
  {
   "cell_type": "code",
   "execution_count": null,
   "metadata": {},
   "outputs": [],
   "source": [
    "#Importations de AiZynthFinder\n",
    "from aizynthfinder.chem import Molecule, Reaction, MoleculeException\n",
    "from aizynthfinder.training.utils import (\n",
    "    Config,\n",
    "    create_reactants_molecules,\n",
    "    reverse_template,\n",
    "    reaction_hash,\n",
    "    reactants_to_fingerprint,\n",
    ")\n",
    "from aizynthfinder.utils.models import CUSTOM_OBJECTS, load_keras_model\n"
   ]
  },
  {
   "cell_type": "code",
   "execution_count": null,
   "metadata": {},
   "outputs": [],
   "source": [
    "#On récupère les bases de données adéquates\n",
    "templates_all = pd.read_csv(\"Purified_Templates.csv\")\n",
    "reactions_data = pd.read_json(\"uspto-reactions.json\")\n",
    "reactions_fp_data = pd.read_csv('Reactions_Fingerprint_True.csv')"
   ]
  },
  {
   "cell_type": "code",
   "execution_count": null,
   "metadata": {},
   "outputs": [],
   "source": [
    "#On récupère notre modèle déjà entraîné\n",
    "model = keras.models.load_model(\"our_recommender_model_2\")"
   ]
  },
  {
   "cell_type": "code",
   "execution_count": null,
   "metadata": {},
   "outputs": [],
   "source": [
    "def fp_from_fp_db(fp_db):\n",
    "    '''\n",
    "    Renvoie le fingerprint à partir de sa forme stockée (indices des valeurs non nulles etc...) \n",
    "    sous forme de tableau de 2048 éléments\n",
    "    '''\n",
    "    res = np.zeros(2048)\n",
    "    list_idx = fp_db.split(\" \")\n",
    "    for el in list_idx[:-1]:\n",
    "        lfp = el.split(\"-\")\n",
    "        n = len(lfp)\n",
    "        if n == 1:\n",
    "            res[int(lfp[0])] = 1\n",
    "        elif n==2:\n",
    "            res[int(lfp[0])] = int(lfp[-1])\n",
    "        else:\n",
    "            res[int(lfp[0])] = -int(lfp[-1])\n",
    "    return res"
   ]
  },
  {
   "cell_type": "code",
   "execution_count": null,
   "metadata": {},
   "outputs": [],
   "source": [
    "def recommended_rows(row1,row2):\n",
    "    '''\n",
    "    Renvoie le tableau des 20 templates les plus probables entre row1 et row2 \n",
    "    '''\n",
    "    fingerprints = np.array([fp_from_fp_db(reactions_fp_data.iloc[row,1])- fp_from_fp_db(reactions_fp_data.iloc[row,2]) for row in range(row1,row2)])\n",
    "    return np.argsort(model.predict(fingerprints))[::-1][:20] #On récupère les plus 20 plus probables\n",
    "\n",
    "def predictions(row1,row2):\n",
    "    '''\n",
    "    Ne garde que les bonnes prédictions et stocke les mauvaises dans skip sous forme d'un indice\n",
    "    '''\n",
    "    fingerprints = []\n",
    "    skip = []\n",
    "    for row in range(row1,row2):\n",
    "        try : \n",
    "            fingerprints+= [fp_from_fp_db(reactions_fp_data.iloc[row,1])- fp_from_fp_db(reactions_fp_data.iloc[row,2])]\n",
    "        except:\n",
    "            skip.append(row)\n",
    "            fingerprints += [np.zeros(2048)]\n",
    "    fingerprints = np.array(fingerprints)\n",
    "    predictions = model.predict(fingerprints)\n",
    "    return [np.argsort(predictions[i])[::-1][:20] for i in range(fingerprints.shape[0])], skip\n",
    "    "
   ]
  },
  {
   "cell_type": "code",
   "execution_count": null,
   "metadata": {},
   "outputs": [],
   "source": [
    "pred,skip = predictions(0,10000)"
   ]
  },
  {
   "cell_type": "code",
   "execution_count": null,
   "metadata": {},
   "outputs": [],
   "source": [
    "smarts_templates = templates_all[:200000].drop_duplicates(subset ='reaction_smarts')['reaction_smarts'].to_list()\n",
    "my_map = dict(list(enumerate(smarts_templates)))"
   ]
  },
  {
   "cell_type": "code",
   "execution_count": null,
   "metadata": {},
   "outputs": [],
   "source": [
    "inv_map = {v: k for k, v in my_map.items()}"
   ]
  },
  {
   "cell_type": "code",
   "execution_count": null,
   "metadata": {},
   "outputs": [],
   "source": [
    "def recommender_sample_lib(r1,r2):\n",
    "    '''\n",
    "    Retourne un dataset contenant des fausses réactions obtenues à l'aide du recommender\n",
    "    '''\n",
    "    data_frame = pd.DataFrame(columns=['Reactifs', 'Produits'])\n",
    "    #On ne garde que les réactions qui ont donné quelque chose \n",
    "    set_val = (set(list(range(r1,r2)))-set(skip))\n",
    "    \n",
    "    #Progress Bar\n",
    "    p_bar = tqdm.tqdm(total = len(set_val))\n",
    "    for val in set_val:\n",
    "        if val in skip:\n",
    "            continue\n",
    "        row_reactants = reactions_data.iloc[val,1]\n",
    "        row_products  = reactions_data.iloc[val,2]\n",
    "        #Si on a bien une réaction faisable\n",
    "        if (type(row_reactants) == str):\n",
    "             mols = create_reactants_molecules(row_reactants)\n",
    "        else:\n",
    "             continue\n",
    "        try:\n",
    "            #On élimine les éventuelles erreurs liées à la sanitization (normalisation) des molécules\n",
    "            ref_mol = Molecule(smiles=row_products, sanitize=True)\n",
    "        except MoleculeException:\n",
    "             continue\n",
    "        new_product=None\n",
    "        for template_row in pred[val-r1]:\n",
    "            smarts_fwd = reverse_template(my_map[template_row])\n",
    "            try:\n",
    "                new_product = Reaction(mols=mols, smarts=smarts_fwd).apply()[0][0]\n",
    "            except (ValueError, IndexError):\n",
    "                continue\n",
    "            #Si le produit obtenu est identique à celui de base, on ne garde pas la réaction\n",
    "            if new_product.basic_compare(ref_mol):\n",
    "                continue\n",
    "            break  # Si on arrive jusqu'ici, c'est que la réaction obtenue a de grandes chances d'être fausse\n",
    "        if not new_product:\n",
    "            continue\n",
    "        #On ajoute la ligne au data_frame    \n",
    "        data_frame = pd.concat([pd.DataFrame(data={\"Reactifs\" : row_reactants, \"Products\" : [new_product.smiles]}),data_frame], ignore_index=True)\n",
    "        p_bar.update(1)\n",
    "               \n",
    "    data_frame.to_csv(f\"Data_frame_{r1}.csv\")\n",
    "    return data_frame"
   ]
  },
  {
   "cell_type": "code",
   "execution_count": null,
   "metadata": {
    "scrolled": false
   },
   "outputs": [],
   "source": [
    "#Pour que ca aille plus vite, on séquence en plusieurs morceaux\n",
    "l2 = []\n",
    "p_b = tqdm.tqdm(total=20)\n",
    "for i in range(21,40):\n",
    "    pred,skip = predictions(10000*i,10000*(i+1))\n",
    "    l2.append(recommender_sample_lib(10000*i,10000*(i+1)))\n",
    "    p_b.update(1)"
   ]
  },
  {
   "cell_type": "code",
   "execution_count": null,
   "metadata": {},
   "outputs": [],
   "source": [
    "data_final = pd.concat(l2,ignore_index=True)"
   ]
  },
  {
   "cell_type": "code",
   "execution_count": null,
   "metadata": {},
   "outputs": [],
   "source": [
    "#On enregistre en CSV\n",
    "data_final.to_csv('Data_False_Reactions_Recommender.csv')"
   ]
  }
 ],
 "metadata": {
  "kernelspec": {
   "display_name": "aizynth-env",
   "language": "python",
   "name": "aizynth-env"
  },
  "language_info": {
   "codemirror_mode": {
    "name": "ipython",
    "version": 3
   },
   "file_extension": ".py",
   "mimetype": "text/x-python",
   "name": "python",
   "nbconvert_exporter": "python",
   "pygments_lexer": "ipython3",
   "version": "3.8.12"
  },
  "latex_envs": {
   "LaTeX_envs_menu_present": true,
   "autoclose": false,
   "autocomplete": false,
   "bibliofile": "biblio.bib",
   "cite_by": "apalike",
   "current_citInitial": 1,
   "eqLabelWithNumbers": true,
   "eqNumInitial": 1,
   "hotkeys": {
    "equation": "Ctrl-E",
    "itemize": "Ctrl-I"
   },
   "labels_anchors": false,
   "latex_user_defs": false,
   "report_style_numbering": false,
   "user_envs_cfg": false
  }
 },
 "nbformat": 4,
 "nbformat_minor": 5
}
