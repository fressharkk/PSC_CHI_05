{
 "cells": [
  {
   "cell_type": "code",
   "execution_count": 1,
   "id": "136dc5e2",
   "metadata": {},
   "outputs": [],
   "source": [
    "from aizynthfinder.chem import Molecule\n",
    "import pandas as pd\n",
    "import tqdm.notebook as tnote\n",
    "import numpy as np"
   ]
  },
  {
   "cell_type": "code",
   "execution_count": 2,
   "id": "b46b113d",
   "metadata": {},
   "outputs": [],
   "source": [
    "import os"
   ]
  },
  {
   "cell_type": "code",
   "execution_count": 3,
   "id": "f10a7834",
   "metadata": {},
   "outputs": [],
   "source": [
    "import math"
   ]
  },
  {
   "cell_type": "code",
   "execution_count": 2,
   "id": "13cdcef5",
   "metadata": {},
   "outputs": [],
   "source": [
    "filename = \"C:/Users/Yassine/Desktop/PSC/PSC_Final/Data/False_reactions/Data_False_Reactions_Recommender.csv\""
   ]
  },
  {
   "cell_type": "code",
   "execution_count": 11,
   "id": "0891f4ab",
   "metadata": {},
   "outputs": [],
   "source": [
    "data = pd.read_csv(filename, delimiter=\";\")"
   ]
  },
  {
   "cell_type": "code",
   "execution_count": 12,
   "id": "f894369a",
   "metadata": {},
   "outputs": [
    {
     "data": {
      "text/html": [
       "<div>\n",
       "<style scoped>\n",
       "    .dataframe tbody tr th:only-of-type {\n",
       "        vertical-align: middle;\n",
       "    }\n",
       "\n",
       "    .dataframe tbody tr th {\n",
       "        vertical-align: top;\n",
       "    }\n",
       "\n",
       "    .dataframe thead th {\n",
       "        text-align: right;\n",
       "    }\n",
       "</style>\n",
       "<table border=\"1\" class=\"dataframe\">\n",
       "  <thead>\n",
       "    <tr style=\"text-align: right;\">\n",
       "      <th></th>\n",
       "      <th>Unnamed: 0</th>\n",
       "      <th>Reactifs</th>\n",
       "      <th>Products</th>\n",
       "    </tr>\n",
       "  </thead>\n",
       "  <tbody>\n",
       "    <tr>\n",
       "      <th>0</th>\n",
       "      <td>0</td>\n",
       "      <td>C[O:2][C:3](=[O:33])/[CH:4]=[C:5](\\[O:10][C:11...</td>\n",
       "      <td>C[O:8][C:6](C(=CC(=O)O)[O:10][c:11]1[c:12]([CH...</td>\n",
       "    </tr>\n",
       "    <tr>\n",
       "      <th>1</th>\n",
       "      <td>1</td>\n",
       "      <td>O=C1[C:7]2[CH:8]=[CH:9][C:10]([O:12][CH2:13][C...</td>\n",
       "      <td>O=C(O)c1cc(=O)c2ccc(O[CH2:13][CH2:14][CH2:15][...</td>\n",
       "    </tr>\n",
       "    <tr>\n",
       "      <th>2</th>\n",
       "      <td>2</td>\n",
       "      <td>[O:1]=[C:2]1[C:7]2[CH:8]=[CH:9][C:10]([O:12][C...</td>\n",
       "      <td>N#Cc1o[c:6]2[c:7]([c:2](=[O:1])[cH:3]1)[cH:8][...</td>\n",
       "    </tr>\n",
       "    <tr>\n",
       "      <th>3</th>\n",
       "      <td>3</td>\n",
       "      <td>[O:1]=[C:2]1[C:7]2[CH:8]=[CH:9][C:10]([O:12][C...</td>\n",
       "      <td>c1c(-c2nnn[nH]2)o[c:6]2[c:7]([c:2]1=[O:1])[cH:...</td>\n",
       "    </tr>\n",
       "    <tr>\n",
       "      <th>4</th>\n",
       "      <td>4</td>\n",
       "      <td>[O:1]=[C:2]1[C:7]2[CH:8]=[CH:9][C:10]([O:12][C...</td>\n",
       "      <td>O=C([O-])[c:4]1[cH:3][c:2](=[O:1])[c:7]2[c:6](...</td>\n",
       "    </tr>\n",
       "    <tr>\n",
       "      <th>...</th>\n",
       "      <td>...</td>\n",
       "      <td>...</td>\n",
       "      <td>...</td>\n",
       "    </tr>\n",
       "    <tr>\n",
       "      <th>261820</th>\n",
       "      <td>261820</td>\n",
       "      <td>[H-].[Al+3].[Li+].[H-].[H-].[H-].C(O[C:10]([CH...</td>\n",
       "      <td>OCC1[CH2:13][CH2:14][CH:15]([CH:18]2[O:19][C:2...</td>\n",
       "    </tr>\n",
       "    <tr>\n",
       "      <th>261821</th>\n",
       "      <td>261821</td>\n",
       "      <td>[F:1][CH2:2][CH2:3][CH2:4][Br:5].[C:6]1([P:12]...</td>\n",
       "      <td>[Br-]</td>\n",
       "    </tr>\n",
       "    <tr>\n",
       "      <th>261822</th>\n",
       "      <td>261822</td>\n",
       "      <td>[F:1][C:2]1[CH:3]=[C:4](Br)[CH:5]=[C:6]([F:8])...</td>\n",
       "      <td>c1c[c:2]([F:1])[cH:7][c:6]([F:8])c1</td>\n",
       "    </tr>\n",
       "    <tr>\n",
       "      <th>261823</th>\n",
       "      <td>261823</td>\n",
       "      <td>[N:1]([CH2:4][CH2:5][CH2:6][Si:7]([O:14][CH2:1...</td>\n",
       "      <td>O=C(NC[CH2:5][CH2:6][Si:7]([O:8][CH2:9][CH3:10...</td>\n",
       "    </tr>\n",
       "    <tr>\n",
       "      <th>261824</th>\n",
       "      <td>261824</td>\n",
       "      <td>[CH3:1][C:2]12[CH2:29][CH:5]([C:6]3([CH3:28])[...</td>\n",
       "      <td>c1c[c:13]([C:16](=[O:17])[c:18]2[cH:19][cH:20]...</td>\n",
       "    </tr>\n",
       "  </tbody>\n",
       "</table>\n",
       "<p>261825 rows × 3 columns</p>\n",
       "</div>"
      ],
      "text/plain": [
       "        Unnamed: 0                                           Reactifs  \\\n",
       "0                0  C[O:2][C:3](=[O:33])/[CH:4]=[C:5](\\[O:10][C:11...   \n",
       "1                1  O=C1[C:7]2[CH:8]=[CH:9][C:10]([O:12][CH2:13][C...   \n",
       "2                2  [O:1]=[C:2]1[C:7]2[CH:8]=[CH:9][C:10]([O:12][C...   \n",
       "3                3  [O:1]=[C:2]1[C:7]2[CH:8]=[CH:9][C:10]([O:12][C...   \n",
       "4                4  [O:1]=[C:2]1[C:7]2[CH:8]=[CH:9][C:10]([O:12][C...   \n",
       "...            ...                                                ...   \n",
       "261820      261820  [H-].[Al+3].[Li+].[H-].[H-].[H-].C(O[C:10]([CH...   \n",
       "261821      261821  [F:1][CH2:2][CH2:3][CH2:4][Br:5].[C:6]1([P:12]...   \n",
       "261822      261822  [F:1][C:2]1[CH:3]=[C:4](Br)[CH:5]=[C:6]([F:8])...   \n",
       "261823      261823  [N:1]([CH2:4][CH2:5][CH2:6][Si:7]([O:14][CH2:1...   \n",
       "261824      261824  [CH3:1][C:2]12[CH2:29][CH:5]([C:6]3([CH3:28])[...   \n",
       "\n",
       "                                                 Products  \n",
       "0       C[O:8][C:6](C(=CC(=O)O)[O:10][c:11]1[c:12]([CH...  \n",
       "1       O=C(O)c1cc(=O)c2ccc(O[CH2:13][CH2:14][CH2:15][...  \n",
       "2       N#Cc1o[c:6]2[c:7]([c:2](=[O:1])[cH:3]1)[cH:8][...  \n",
       "3       c1c(-c2nnn[nH]2)o[c:6]2[c:7]([c:2]1=[O:1])[cH:...  \n",
       "4       O=C([O-])[c:4]1[cH:3][c:2](=[O:1])[c:7]2[c:6](...  \n",
       "...                                                   ...  \n",
       "261820  OCC1[CH2:13][CH2:14][CH:15]([CH:18]2[O:19][C:2...  \n",
       "261821                                              [Br-]  \n",
       "261822                c1c[c:2]([F:1])[cH:7][c:6]([F:8])c1  \n",
       "261823  O=C(NC[CH2:5][CH2:6][Si:7]([O:8][CH2:9][CH3:10...  \n",
       "261824  c1c[c:13]([C:16](=[O:17])[c:18]2[cH:19][cH:20]...  \n",
       "\n",
       "[261825 rows x 3 columns]"
      ]
     },
     "execution_count": 12,
     "metadata": {},
     "output_type": "execute_result"
    }
   ],
   "source": [
    "data"
   ]
  },
  {
   "cell_type": "code",
   "execution_count": 6,
   "id": "c293096f",
   "metadata": {},
   "outputs": [],
   "source": [
    "def create_fingerprint(reactants, products):\n",
    "    prd_f = Molecule(smiles=products).fingerprint(2)\n",
    "    rea_f = sum(Molecule(smiles=x).fingerprint(2) for x in reactants.split(\".\"))\n",
    "    return prd_f, prd_f  - rea_f"
   ]
  },
  {
   "cell_type": "code",
   "execution_count": 7,
   "id": "61768744",
   "metadata": {},
   "outputs": [],
   "source": [
    "def string_nonzero_from_fp(fp):\n",
    "    s = \"\"\n",
    "    l = np.nonzero(fp)[0]\n",
    "    for k in l:\n",
    "        if (int(fp[k])!=1):\n",
    "            s+= str(int(k))+\"-\"+str(int(fp[k]))\n",
    "        else:\n",
    "            s += str(int(k))\n",
    "        s+= \" \"\n",
    "    return s"
   ]
  },
  {
   "cell_type": "code",
   "execution_count": 8,
   "id": "aa60e48e",
   "metadata": {},
   "outputs": [],
   "source": [
    "def string_from_fp(fp):\n",
    "    s = \"\"\n",
    "    for k in fp:\n",
    "        s += str(int(k))\n",
    "    return s"
   ]
  },
  {
   "cell_type": "code",
   "execution_count": 9,
   "id": "816ce42d",
   "metadata": {},
   "outputs": [],
   "source": [
    "def create_data_fingerprint(dataset):\n",
    "   # progress_bar = tnote.tqdm(total = dataset.shape[0])\n",
    "    res_data = pd.DataFrame(columns=[\"Product_Fingerprint\", \"Reaction_Fingerprint\"])\n",
    "    for i in range(dataset.shape[0]):\n",
    "    #    progress_bar.update(1)\n",
    "        smarts = dataset.iloc[i,1], dataset.iloc[i,2]\n",
    "        prd_f, rxn_f = create_fingerprint(smarts[0],smarts[1])\n",
    "        prd_f, rxn_f = string_nonzero_from_fp(prd_f), string_nonzero_from_fp(rxn_f)\n",
    "        res_data.loc[i] = [prd_f, rxn_f]\n",
    "    return res_data"
   ]
  },
  {
   "cell_type": "code",
   "execution_count": 13,
   "id": "114a77e0",
   "metadata": {},
   "outputs": [
    {
     "name": "stdout",
     "output_type": "stream",
     "text": [
      "1309\n"
     ]
    },
    {
     "data": {
      "application/vnd.jupyter.widget-view+json": {
       "model_id": "db1d615779014a5dbfd9ee7cde7885be",
       "version_major": 2,
       "version_minor": 0
      },
      "text/plain": [
       "  0%|          | 0/1310 [00:00<?, ?it/s]"
      ]
     },
     "metadata": {},
     "output_type": "display_data"
    }
   ],
   "source": [
    "l = []\n",
    "p = data.shape[0]//200\n",
    "print(p)\n",
    "pb = tnote.tqdm(total = p+1)\n",
    "for i in range(p+1):\n",
    "    l.append(create_data_fingerprint(data[i*200:(i+1)*200]))\n",
    "    l[-1].to_csv(f\"False_Recommender_FP/False_Reactions_Recommender_{i}_Fingerprints.csv\", index = True)\n",
    "    pb.update(1)"
   ]
  },
  {
   "cell_type": "code",
   "execution_count": 14,
   "id": "aedcb6d4",
   "metadata": {},
   "outputs": [],
   "source": [
    "res_data_ = pd.concat(l, ignore_index=True)\n"
   ]
  },
  {
   "cell_type": "code",
   "execution_count": 15,
   "id": "0f5efd4b",
   "metadata": {},
   "outputs": [],
   "source": [
    "res_data_.to_csv(\"False_Reactions_Recommender_Fingerprints.csv\")"
   ]
  }
 ],
 "metadata": {
  "kernelspec": {
   "display_name": "aizynth-env",
   "language": "python",
   "name": "aizynth-env"
  },
  "language_info": {
   "codemirror_mode": {
    "name": "ipython",
    "version": 3
   },
   "file_extension": ".py",
   "mimetype": "text/x-python",
   "name": "python",
   "nbconvert_exporter": "python",
   "pygments_lexer": "ipython3",
   "version": "3.8.12"
  },
  "latex_envs": {
   "LaTeX_envs_menu_present": true,
   "autoclose": false,
   "autocomplete": false,
   "bibliofile": "biblio.bib",
   "cite_by": "apalike",
   "current_citInitial": 1,
   "eqLabelWithNumbers": true,
   "eqNumInitial": 1,
   "hotkeys": {
    "equation": "Ctrl-E",
    "itemize": "Ctrl-I"
   },
   "labels_anchors": false,
   "latex_user_defs": false,
   "report_style_numbering": false,
   "user_envs_cfg": false
  }
 },
 "nbformat": 4,
 "nbformat_minor": 5
}
