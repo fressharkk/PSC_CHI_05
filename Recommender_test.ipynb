{
 "cells": [
  {
   "cell_type": "code",
   "execution_count": 1,
   "id": "22201fa3",
   "metadata": {},
   "outputs": [],
   "source": [
    "import pandas as pd\n",
    "import numpy as np\n",
    "import tensorflow as tf\n",
    "from tensorflow.keras.utils import to_categorical\n",
    "import tensorflow.keras as keras"
   ]
  },
  {
   "cell_type": "code",
   "execution_count": 2,
   "id": "97963838",
   "metadata": {},
   "outputs": [],
   "source": [
    "import tqdm.notebook as tqdm"
   ]
  },
  {
   "cell_type": "code",
   "execution_count": 3,
   "id": "3905e8ed",
   "metadata": {},
   "outputs": [],
   "source": [
    "templates_all = pd.read_csv(\"Purified_Templates.csv\")"
   ]
  },
  {
   "cell_type": "code",
   "execution_count": 4,
   "id": "f1e10b36",
   "metadata": {},
   "outputs": [],
   "source": [
    "reactions_data = pd.read_json(\"uspto-reactions.json\")"
   ]
  },
  {
   "cell_type": "code",
   "execution_count": 5,
   "id": "c19f7ea7",
   "metadata": {},
   "outputs": [],
   "source": [
    "reactions_fp_data = pd.read_csv('Reactions_Fingerprint_True.csv')"
   ]
  },
  {
   "cell_type": "code",
   "execution_count": 6,
   "id": "978511a1",
   "metadata": {},
   "outputs": [],
   "source": [
    "from aizynthfinder.chem import Molecule, Reaction, MoleculeException\n",
    "from aizynthfinder.training.utils import (\n",
    "    Config,\n",
    "    create_reactants_molecules,\n",
    "    reverse_template,\n",
    "    reaction_hash,\n",
    "    reactants_to_fingerprint,\n",
    ")\n",
    "from aizynthfinder.utils.models import CUSTOM_OBJECTS, load_keras_model\n"
   ]
  },
  {
   "cell_type": "code",
   "execution_count": 7,
   "id": "55871dd1",
   "metadata": {},
   "outputs": [],
   "source": [
    "model = keras.models.load_model(\"our_recommender_model_2\")"
   ]
  },
  {
   "cell_type": "code",
   "execution_count": 8,
   "id": "8865bcd3",
   "metadata": {},
   "outputs": [],
   "source": [
    "def fp_from_fp_db(fp_db):\n",
    "    res = np.zeros(2048)\n",
    "    list_idx = fp_db.split(\" \")\n",
    "    for el in list_idx[:-1]:\n",
    "        lfp = el.split(\"-\")\n",
    "        n = len(lfp)\n",
    "        if n == 1:\n",
    "            res[int(lfp[0])] = 1\n",
    "        elif n==2:\n",
    "            res[int(lfp[0])] = int(lfp[-1])\n",
    "        else:\n",
    "            res[int(lfp[0])] = -int(lfp[-1])\n",
    "    return res"
   ]
  },
  {
   "cell_type": "code",
   "execution_count": 9,
   "id": "fc734787",
   "metadata": {},
   "outputs": [],
   "source": [
    "def recommended_rows(row1,row2):\n",
    "    fingerprints = np.array([fp_from_fp_db(reactions_fp_data.iloc[row,1])- fp_from_fp_db(reactions_fp_data.iloc[row,2]) for row in range(row1,row2)])\n",
    "    return np.argsort(model.predict(fingerprints))[::-1][:20]"
   ]
  },
  {
   "cell_type": "code",
   "execution_count": 10,
   "id": "8b60856d",
   "metadata": {},
   "outputs": [],
   "source": [
    "def predictions(row1,row2):\n",
    "    fingerprints = []\n",
    "    skip = []\n",
    "    for row in range(row1,row2):\n",
    "        try : \n",
    "            fingerprints+= [fp_from_fp_db(reactions_fp_data.iloc[row,1])- fp_from_fp_db(reactions_fp_data.iloc[row,2])]\n",
    "        except:\n",
    "            skip.append(row)\n",
    "            fingerprints += [np.zeros(2048)]\n",
    "    fingerprints = np.array(fingerprints)\n",
    "    predictions = model.predict(fingerprints)\n",
    "    return [np.argsort(predictions[i])[::-1][:20] for i in range(fingerprints.shape[0])], skip\n",
    "    "
   ]
  },
  {
   "cell_type": "code",
   "execution_count": 11,
   "id": "9f38338c",
   "metadata": {},
   "outputs": [],
   "source": [
    "pred,skip = predictions(0,10000)"
   ]
  },
  {
   "cell_type": "code",
   "execution_count": 42,
   "id": "6c947d23",
   "metadata": {},
   "outputs": [],
   "source": [
    "def recommender_sample_lib(r1,r2):\n",
    "    data_frame = pd.DataFrame(columns=['Reactifs', 'Produits'])\n",
    "    set_val = (set(list(range(r1,r2)))-set(skip))\n",
    "    p_bar = tqdm.tqdm(total = len(set_val))\n",
    "    for val in set_val:\n",
    "        if val in skip:\n",
    "            continue\n",
    "        row_reactants = reactions_data.iloc[val,1]\n",
    "        row_products  = reactions_data.iloc[val,2]\n",
    "        if (type(row_reactants) == str):\n",
    "             mols = create_reactants_molecules(row_reactants)\n",
    "        else:\n",
    "             continue\n",
    "        try:\n",
    "             ref_mol = Molecule(smiles=row_products, sanitize=True)\n",
    "        except MoleculeException:\n",
    "             continue\n",
    "        new_product=None\n",
    "        for template_row in pred[val-r1]:\n",
    "            smarts_fwd = reverse_template(my_map[template_row])\n",
    "            try:\n",
    "                new_product = Reaction(mols=mols, smarts=smarts_fwd).apply()[0][0]\n",
    "            except (ValueError, IndexError):\n",
    "                continue\n",
    "            if new_product.basic_compare(ref_mol):\n",
    "                continue\n",
    "            break  # If we have reached here, we have found a match that fits all criteria\n",
    "\n",
    "        if not new_product:\n",
    "            continue\n",
    "        data_frame = pd.concat([pd.DataFrame(data={\"Reactifs\" : row_reactants, \"Products\" : [new_product.smiles]}),data_frame], ignore_index=True)\n",
    "        p_bar.update(1)\n",
    "               \n",
    "    data_frame.to_csv(f\"Data_frame_{r1}.csv\")\n",
    "    return data_frame"
   ]
  },
  {
   "cell_type": "code",
   "execution_count": 37,
   "id": "a659421d",
   "metadata": {
    "scrolled": true
   },
   "outputs": [],
   "source": [
    "smarts_templates = templates_all[:200000].drop_duplicates(subset ='reaction_smarts')['reaction_smarts'].to_list()\n",
    "my_map = dict(list(enumerate(smarts_templates)))"
   ]
  },
  {
   "cell_type": "code",
   "execution_count": 38,
   "id": "d6c121a4",
   "metadata": {},
   "outputs": [],
   "source": [
    "inv_map = {v: k for k, v in my_map.items()}"
   ]
  },
  {
   "cell_type": "code",
   "execution_count": 53,
   "id": "7df4a8a2",
   "metadata": {
    "scrolled": false
   },
   "outputs": [
    {
     "data": {
      "application/vnd.jupyter.widget-view+json": {
       "model_id": "67bcd9a2cdf34488b1daf9b33801477f",
       "version_major": 2,
       "version_minor": 0
      },
      "text/plain": [
       "  0%|          | 0/20 [00:00<?, ?it/s]"
      ]
     },
     "metadata": {},
     "output_type": "display_data"
    },
    {
     "data": {
      "application/vnd.jupyter.widget-view+json": {
       "model_id": "fcf3e114079e448f9f78b2cdb649f984",
       "version_major": 2,
       "version_minor": 0
      },
      "text/plain": [
       "  0%|          | 0/9959 [00:00<?, ?it/s]"
      ]
     },
     "metadata": {},
     "output_type": "display_data"
    },
    {
     "data": {
      "application/vnd.jupyter.widget-view+json": {
       "model_id": "a45377e56aa94711a9b9124f4a233424",
       "version_major": 2,
       "version_minor": 0
      },
      "text/plain": [
       "  0%|          | 0/9955 [00:00<?, ?it/s]"
      ]
     },
     "metadata": {},
     "output_type": "display_data"
    },
    {
     "data": {
      "application/vnd.jupyter.widget-view+json": {
       "model_id": "08e161ffa5d14abbb1dcf93a7078af39",
       "version_major": 2,
       "version_minor": 0
      },
      "text/plain": [
       "  0%|          | 0/9963 [00:00<?, ?it/s]"
      ]
     },
     "metadata": {},
     "output_type": "display_data"
    },
    {
     "data": {
      "application/vnd.jupyter.widget-view+json": {
       "model_id": "d538ef45f4074703acc57c1138b788f2",
       "version_major": 2,
       "version_minor": 0
      },
      "text/plain": [
       "  0%|          | 0/9953 [00:00<?, ?it/s]"
      ]
     },
     "metadata": {},
     "output_type": "display_data"
    },
    {
     "data": {
      "application/vnd.jupyter.widget-view+json": {
       "model_id": "04f3828612cf4eceb0635efaa4fd962b",
       "version_major": 2,
       "version_minor": 0
      },
      "text/plain": [
       "  0%|          | 0/9972 [00:00<?, ?it/s]"
      ]
     },
     "metadata": {},
     "output_type": "display_data"
    },
    {
     "data": {
      "application/vnd.jupyter.widget-view+json": {
       "model_id": "bf55083ea1b84378bcf5af6aacee65ba",
       "version_major": 2,
       "version_minor": 0
      },
      "text/plain": [
       "  0%|          | 0/9956 [00:00<?, ?it/s]"
      ]
     },
     "metadata": {},
     "output_type": "display_data"
    },
    {
     "data": {
      "application/vnd.jupyter.widget-view+json": {
       "model_id": "bbc3f8b97e0d4aefb7e56332a1fa2fae",
       "version_major": 2,
       "version_minor": 0
      },
      "text/plain": [
       "  0%|          | 0/9964 [00:00<?, ?it/s]"
      ]
     },
     "metadata": {},
     "output_type": "display_data"
    },
    {
     "data": {
      "application/vnd.jupyter.widget-view+json": {
       "model_id": "73bb6238fcd4444e9f5689b2bb9b8f9b",
       "version_major": 2,
       "version_minor": 0
      },
      "text/plain": [
       "  0%|          | 0/9967 [00:00<?, ?it/s]"
      ]
     },
     "metadata": {},
     "output_type": "display_data"
    },
    {
     "data": {
      "application/vnd.jupyter.widget-view+json": {
       "model_id": "1b8903fde4454432b6fa8589452823aa",
       "version_major": 2,
       "version_minor": 0
      },
      "text/plain": [
       "  0%|          | 0/9961 [00:00<?, ?it/s]"
      ]
     },
     "metadata": {},
     "output_type": "display_data"
    },
    {
     "data": {
      "application/vnd.jupyter.widget-view+json": {
       "model_id": "3a8ecefba2ee4e18bbfb9773035d9347",
       "version_major": 2,
       "version_minor": 0
      },
      "text/plain": [
       "  0%|          | 0/9977 [00:00<?, ?it/s]"
      ]
     },
     "metadata": {},
     "output_type": "display_data"
    },
    {
     "data": {
      "application/vnd.jupyter.widget-view+json": {
       "model_id": "39f84fe543254edfa5ddf6d5fdd73ffc",
       "version_major": 2,
       "version_minor": 0
      },
      "text/plain": [
       "  0%|          | 0/9979 [00:00<?, ?it/s]"
      ]
     },
     "metadata": {},
     "output_type": "display_data"
    },
    {
     "data": {
      "application/vnd.jupyter.widget-view+json": {
       "model_id": "ade93d9d99834f24ae53f7d07cfe650a",
       "version_major": 2,
       "version_minor": 0
      },
      "text/plain": [
       "  0%|          | 0/9961 [00:00<?, ?it/s]"
      ]
     },
     "metadata": {},
     "output_type": "display_data"
    },
    {
     "data": {
      "application/vnd.jupyter.widget-view+json": {
       "model_id": "55c2f59512d64861aa13037413936346",
       "version_major": 2,
       "version_minor": 0
      },
      "text/plain": [
       "  0%|          | 0/9968 [00:00<?, ?it/s]"
      ]
     },
     "metadata": {},
     "output_type": "display_data"
    },
    {
     "data": {
      "application/vnd.jupyter.widget-view+json": {
       "model_id": "45ac6bed04af43c5bace710410ae4528",
       "version_major": 2,
       "version_minor": 0
      },
      "text/plain": [
       "  0%|          | 0/9909 [00:00<?, ?it/s]"
      ]
     },
     "metadata": {},
     "output_type": "display_data"
    },
    {
     "data": {
      "application/vnd.jupyter.widget-view+json": {
       "model_id": "332cc4824a5043798b9e570db7e4b1c6",
       "version_major": 2,
       "version_minor": 0
      },
      "text/plain": [
       "  0%|          | 0/9973 [00:00<?, ?it/s]"
      ]
     },
     "metadata": {},
     "output_type": "display_data"
    },
    {
     "data": {
      "application/vnd.jupyter.widget-view+json": {
       "model_id": "9ecaeae5a0d84ddebd2062695430070d",
       "version_major": 2,
       "version_minor": 0
      },
      "text/plain": [
       "  0%|          | 0/9972 [00:00<?, ?it/s]"
      ]
     },
     "metadata": {},
     "output_type": "display_data"
    },
    {
     "data": {
      "application/vnd.jupyter.widget-view+json": {
       "model_id": "1423e3c00e71489880b4607750bc4e9d",
       "version_major": 2,
       "version_minor": 0
      },
      "text/plain": [
       "  0%|          | 0/9955 [00:00<?, ?it/s]"
      ]
     },
     "metadata": {},
     "output_type": "display_data"
    },
    {
     "data": {
      "application/vnd.jupyter.widget-view+json": {
       "model_id": "3ad8b9ed911d46978112ed333a920cf9",
       "version_major": 2,
       "version_minor": 0
      },
      "text/plain": [
       "  0%|          | 0/9937 [00:00<?, ?it/s]"
      ]
     },
     "metadata": {},
     "output_type": "display_data"
    },
    {
     "data": {
      "application/vnd.jupyter.widget-view+json": {
       "model_id": "33bddbab4e814e6e8c563c6a12039595",
       "version_major": 2,
       "version_minor": 0
      },
      "text/plain": [
       "  0%|          | 0/9962 [00:00<?, ?it/s]"
      ]
     },
     "metadata": {},
     "output_type": "display_data"
    }
   ],
   "source": [
    "l2 = []\n",
    "p_b = tqdm.tqdm(total=20)\n",
    "for i in range(21,40):\n",
    "    pred,skip = predictions(10000*i,10000*(i+1))\n",
    "    l2.append(recommender_sample_lib(10000*i,10000*(i+1)))\n",
    "    p_b.update(1)"
   ]
  },
  {
   "cell_type": "code",
   "execution_count": 54,
   "id": "fabff30a",
   "metadata": {},
   "outputs": [
    {
     "data": {
      "text/plain": [
       "19"
      ]
     },
     "execution_count": 54,
     "metadata": {},
     "output_type": "execute_result"
    }
   ],
   "source": [
    "len(l2)"
   ]
  },
  {
   "cell_type": "code",
   "execution_count": 46,
   "id": "ad51423c",
   "metadata": {},
   "outputs": [],
   "source": [
    "l2.append(l)"
   ]
  },
  {
   "cell_type": "code",
   "execution_count": 55,
   "id": "372b0bee",
   "metadata": {},
   "outputs": [],
   "source": [
    "dataaaa2 = pd.concat(l2,ignore_index=True)"
   ]
  },
  {
   "cell_type": "code",
   "execution_count": 56,
   "id": "4f48db4e",
   "metadata": {},
   "outputs": [],
   "source": [
    "dattaaaa = pd.concat([dataaaa, dataaaa2], ignore_index=True)"
   ]
  },
  {
   "cell_type": "code",
   "execution_count": 57,
   "id": "3a0678b3",
   "metadata": {},
   "outputs": [
    {
     "data": {
      "text/html": [
       "<div>\n",
       "<style scoped>\n",
       "    .dataframe tbody tr th:only-of-type {\n",
       "        vertical-align: middle;\n",
       "    }\n",
       "\n",
       "    .dataframe tbody tr th {\n",
       "        vertical-align: top;\n",
       "    }\n",
       "\n",
       "    .dataframe thead th {\n",
       "        text-align: right;\n",
       "    }\n",
       "</style>\n",
       "<table border=\"1\" class=\"dataframe\">\n",
       "  <thead>\n",
       "    <tr style=\"text-align: right;\">\n",
       "      <th></th>\n",
       "      <th>Reactifs</th>\n",
       "      <th>Products</th>\n",
       "      <th>Produits</th>\n",
       "    </tr>\n",
       "  </thead>\n",
       "  <tbody>\n",
       "    <tr>\n",
       "      <th>0</th>\n",
       "      <td>C[O:2][C:3](=[O:33])/[CH:4]=[C:5](\\[O:10][C:11...</td>\n",
       "      <td>C[O:8][C:6](C(=CC(=O)O)[O:10][c:11]1[c:12]([CH...</td>\n",
       "      <td>NaN</td>\n",
       "    </tr>\n",
       "    <tr>\n",
       "      <th>1</th>\n",
       "      <td>O=C1[C:7]2[CH:8]=[CH:9][C:10]([O:12][CH2:13][C...</td>\n",
       "      <td>O=C(O)c1cc(=O)c2ccc(O[CH2:13][CH2:14][CH2:15][...</td>\n",
       "      <td>NaN</td>\n",
       "    </tr>\n",
       "    <tr>\n",
       "      <th>2</th>\n",
       "      <td>[O:1]=[C:2]1[C:7]2[CH:8]=[CH:9][C:10]([O:12][C...</td>\n",
       "      <td>N#Cc1o[c:6]2[c:7]([c:2](=[O:1])[cH:3]1)[cH:8][...</td>\n",
       "      <td>NaN</td>\n",
       "    </tr>\n",
       "    <tr>\n",
       "      <th>3</th>\n",
       "      <td>[O:1]=[C:2]1[C:7]2[CH:8]=[CH:9][C:10]([O:12][C...</td>\n",
       "      <td>c1c(-c2nnn[nH]2)o[c:6]2[c:7]([c:2]1=[O:1])[cH:...</td>\n",
       "      <td>NaN</td>\n",
       "    </tr>\n",
       "    <tr>\n",
       "      <th>4</th>\n",
       "      <td>[O:1]=[C:2]1[C:7]2[CH:8]=[CH:9][C:10]([O:12][C...</td>\n",
       "      <td>O=C([O-])[c:4]1[cH:3][c:2](=[O:1])[c:7]2[c:6](...</td>\n",
       "      <td>NaN</td>\n",
       "    </tr>\n",
       "    <tr>\n",
       "      <th>...</th>\n",
       "      <td>...</td>\n",
       "      <td>...</td>\n",
       "      <td>...</td>\n",
       "    </tr>\n",
       "    <tr>\n",
       "      <th>261820</th>\n",
       "      <td>[H-].[Al+3].[Li+].[H-].[H-].[H-].C(O[C:10]([CH...</td>\n",
       "      <td>OCC1[CH2:13][CH2:14][CH:15]([CH:18]2[O:19][C:2...</td>\n",
       "      <td>NaN</td>\n",
       "    </tr>\n",
       "    <tr>\n",
       "      <th>261821</th>\n",
       "      <td>[F:1][CH2:2][CH2:3][CH2:4][Br:5].[C:6]1([P:12]...</td>\n",
       "      <td>[Br-]</td>\n",
       "      <td>NaN</td>\n",
       "    </tr>\n",
       "    <tr>\n",
       "      <th>261822</th>\n",
       "      <td>[F:1][C:2]1[CH:3]=[C:4](Br)[CH:5]=[C:6]([F:8])...</td>\n",
       "      <td>c1c[c:2]([F:1])[cH:7][c:6]([F:8])c1</td>\n",
       "      <td>NaN</td>\n",
       "    </tr>\n",
       "    <tr>\n",
       "      <th>261823</th>\n",
       "      <td>[N:1]([CH2:4][CH2:5][CH2:6][Si:7]([O:14][CH2:1...</td>\n",
       "      <td>O=C(NC[CH2:5][CH2:6][Si:7]([O:8][CH2:9][CH3:10...</td>\n",
       "      <td>NaN</td>\n",
       "    </tr>\n",
       "    <tr>\n",
       "      <th>261824</th>\n",
       "      <td>[CH3:1][C:2]12[CH2:29][CH:5]([C:6]3([CH3:28])[...</td>\n",
       "      <td>c1c[c:13]([C:16](=[O:17])[c:18]2[cH:19][cH:20]...</td>\n",
       "      <td>NaN</td>\n",
       "    </tr>\n",
       "  </tbody>\n",
       "</table>\n",
       "<p>261825 rows × 3 columns</p>\n",
       "</div>"
      ],
      "text/plain": [
       "                                                 Reactifs  \\\n",
       "0       C[O:2][C:3](=[O:33])/[CH:4]=[C:5](\\[O:10][C:11...   \n",
       "1       O=C1[C:7]2[CH:8]=[CH:9][C:10]([O:12][CH2:13][C...   \n",
       "2       [O:1]=[C:2]1[C:7]2[CH:8]=[CH:9][C:10]([O:12][C...   \n",
       "3       [O:1]=[C:2]1[C:7]2[CH:8]=[CH:9][C:10]([O:12][C...   \n",
       "4       [O:1]=[C:2]1[C:7]2[CH:8]=[CH:9][C:10]([O:12][C...   \n",
       "...                                                   ...   \n",
       "261820  [H-].[Al+3].[Li+].[H-].[H-].[H-].C(O[C:10]([CH...   \n",
       "261821  [F:1][CH2:2][CH2:3][CH2:4][Br:5].[C:6]1([P:12]...   \n",
       "261822  [F:1][C:2]1[CH:3]=[C:4](Br)[CH:5]=[C:6]([F:8])...   \n",
       "261823  [N:1]([CH2:4][CH2:5][CH2:6][Si:7]([O:14][CH2:1...   \n",
       "261824  [CH3:1][C:2]12[CH2:29][CH:5]([C:6]3([CH3:28])[...   \n",
       "\n",
       "                                                 Products Produits  \n",
       "0       C[O:8][C:6](C(=CC(=O)O)[O:10][c:11]1[c:12]([CH...      NaN  \n",
       "1       O=C(O)c1cc(=O)c2ccc(O[CH2:13][CH2:14][CH2:15][...      NaN  \n",
       "2       N#Cc1o[c:6]2[c:7]([c:2](=[O:1])[cH:3]1)[cH:8][...      NaN  \n",
       "3       c1c(-c2nnn[nH]2)o[c:6]2[c:7]([c:2]1=[O:1])[cH:...      NaN  \n",
       "4       O=C([O-])[c:4]1[cH:3][c:2](=[O:1])[c:7]2[c:6](...      NaN  \n",
       "...                                                   ...      ...  \n",
       "261820  OCC1[CH2:13][CH2:14][CH:15]([CH:18]2[O:19][C:2...      NaN  \n",
       "261821                                              [Br-]      NaN  \n",
       "261822                c1c[c:2]([F:1])[cH:7][c:6]([F:8])c1      NaN  \n",
       "261823  O=C(NC[CH2:5][CH2:6][Si:7]([O:8][CH2:9][CH3:10...      NaN  \n",
       "261824  c1c[c:13]([C:16](=[O:17])[c:18]2[cH:19][cH:20]...      NaN  \n",
       "\n",
       "[261825 rows x 3 columns]"
      ]
     },
     "execution_count": 57,
     "metadata": {},
     "output_type": "execute_result"
    }
   ],
   "source": [
    "dattaaaa"
   ]
  },
  {
   "cell_type": "code",
   "execution_count": 52,
   "id": "c89a5023",
   "metadata": {},
   "outputs": [],
   "source": [
    "dattaaaa.to_csv('Data_False_Reactions_Recommen.csv')"
   ]
  }
 ],
 "metadata": {
  "kernelspec": {
   "display_name": "aizynth-env",
   "language": "python",
   "name": "aizynth-env"
  },
  "language_info": {
   "codemirror_mode": {
    "name": "ipython",
    "version": 3
   },
   "file_extension": ".py",
   "mimetype": "text/x-python",
   "name": "python",
   "nbconvert_exporter": "python",
   "pygments_lexer": "ipython3",
   "version": "3.8.12"
  },
  "latex_envs": {
   "LaTeX_envs_menu_present": true,
   "autoclose": false,
   "autocomplete": false,
   "bibliofile": "biblio.bib",
   "cite_by": "apalike",
   "current_citInitial": 1,
   "eqLabelWithNumbers": true,
   "eqNumInitial": 1,
   "hotkeys": {
    "equation": "Ctrl-E",
    "itemize": "Ctrl-I"
   },
   "labels_anchors": false,
   "latex_user_defs": false,
   "report_style_numbering": false,
   "user_envs_cfg": false
  }
 },
 "nbformat": 4,
 "nbformat_minor": 5
}
