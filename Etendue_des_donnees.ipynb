{
 "cells": [
  {
   "cell_type": "code",
   "execution_count": 1,
   "id": "564d78c3",
   "metadata": {},
   "outputs": [],
   "source": [
    "import pandas as pd"
   ]
  },
  {
   "cell_type": "code",
   "execution_count": 33,
   "id": "4e7d3294",
   "metadata": {},
   "outputs": [],
   "source": [
    "from scipy import sparse\n",
    "from scipy import linalg"
   ]
  },
  {
   "cell_type": "code",
   "execution_count": 3,
   "id": "a509b93c",
   "metadata": {},
   "outputs": [],
   "source": [
    "import tqdm.notebook as tq"
   ]
  },
  {
   "cell_type": "code",
   "execution_count": 4,
   "id": "7f5d8d1b",
   "metadata": {},
   "outputs": [],
   "source": [
    "from sklearn.manifold import TSNE\n",
    "import numpy as np"
   ]
  },
  {
   "cell_type": "code",
   "execution_count": 5,
   "id": "001c42e3",
   "metadata": {},
   "outputs": [],
   "source": [
    "import matplotlib.pyplot as plt"
   ]
  },
  {
   "cell_type": "code",
   "execution_count": 6,
   "id": "172c8fc7",
   "metadata": {},
   "outputs": [],
   "source": [
    "data = pd.read_csv(\"Reactions_Fingerprint_False.csv\")"
   ]
  },
  {
   "cell_type": "code",
   "execution_count": 7,
   "id": "f0a46789",
   "metadata": {},
   "outputs": [],
   "source": [
    "def fp_out_of_database_line(line_str):\n",
    "    res_fp = np.zeros(2048)\n",
    "    grps_idx = line_str.split(\" \")\n",
    "    for grp_idx in grps_idx[:-1]:\n",
    "        idx = grp_idx.split(\"-\")\n",
    "        n = len(idx)\n",
    "        if (n==1):\n",
    "            res_fp[int(idx[0])] = 1\n",
    "        elif n==2:\n",
    "            res_fp[int(idx[0])] = int(idx[1])\n",
    "        else:\n",
    "            res_fp[int(idx[0])] = - int(idx[2])\n",
    "    return res_fp"
   ]
  },
  {
   "cell_type": "code",
   "execution_count": 8,
   "id": "6238c29b",
   "metadata": {},
   "outputs": [],
   "source": [
    "def fp_np_arr_out_of_database(database):\n",
    "    progress_bar = tq.tqdm(total=database.shape[0])\n",
    "    res_l = []\n",
    "    for i in range(database.shape[0]):\n",
    "        res_l.append(fp_out_of_database_line(database.iloc[i,1]))\n",
    "        progress_bar.update(1)\n",
    "    return np.array(res_l)"
   ]
  },
  {
   "cell_type": "code",
   "execution_count": 9,
   "id": "bdb61288",
   "metadata": {
    "scrolled": true
   },
   "outputs": [
    {
     "data": {
      "application/vnd.jupyter.widget-view+json": {
       "model_id": "7180bebdb6d347dcb41511ea755de5ec",
       "version_major": 2,
       "version_minor": 0
      },
      "text/plain": [
       "  0%|          | 0/250761 [00:00<?, ?it/s]"
      ]
     },
     "metadata": {},
     "output_type": "display_data"
    }
   ],
   "source": [
    "arr = fp_np_arr_out_of_database(data)"
   ]
  },
  {
   "cell_type": "code",
   "execution_count": 10,
   "id": "3894064f",
   "metadata": {},
   "outputs": [
    {
     "data": {
      "text/plain": [
       "array([[0., 0., 0., ..., 0., 0., 0.],\n",
       "       [0., 0., 0., ..., 0., 0., 0.],\n",
       "       [0., 0., 0., ..., 0., 0., 0.],\n",
       "       ...,\n",
       "       [0., 0., 0., ..., 0., 0., 0.],\n",
       "       [0., 1., 0., ..., 0., 0., 0.],\n",
       "       [0., 0., 0., ..., 0., 0., 0.]])"
      ]
     },
     "execution_count": 10,
     "metadata": {},
     "output_type": "execute_result"
    }
   ],
   "source": [
    "arr"
   ]
  },
  {
   "cell_type": "code",
   "execution_count": 11,
   "id": "4f5b97e3",
   "metadata": {},
   "outputs": [],
   "source": [
    "model = TSNE(n_components=2, random_state=0)"
   ]
  },
  {
   "cell_type": "code",
   "execution_count": 12,
   "id": "d1ae32f3",
   "metadata": {},
   "outputs": [],
   "source": [
    "X = model.fit_transform(arr[:5000])"
   ]
  },
  {
   "cell_type": "code",
   "execution_count": 36,
   "id": "f950b143",
   "metadata": {},
   "outputs": [],
   "source": [
    "U, S, V_T  = linalg.svd(X)"
   ]
  },
  {
   "cell_type": "code",
   "execution_count": 64,
   "id": "106004bf",
   "metadata": {},
   "outputs": [
    {
     "data": {
      "text/plain": [
       "array([2213.5464, 1864.6293], dtype=float32)"
      ]
     },
     "execution_count": 64,
     "metadata": {},
     "output_type": "execute_result"
    }
   ],
   "source": [
    "S"
   ]
  },
  {
   "cell_type": "code",
   "execution_count": 59,
   "id": "1f79161d",
   "metadata": {},
   "outputs": [],
   "source": [
    "l = [np.array([S[0],0.]), np.array([0.,S[1]])]\n",
    "for i in range(4998):\n",
    "    l.append(np.zeros(2))\n",
    "S_diag = np.array(l)"
   ]
  },
  {
   "cell_type": "code",
   "execution_count": 55,
   "id": "0eb679fa",
   "metadata": {},
   "outputs": [
    {
     "data": {
      "text/plain": [
       "(5000, 2)"
      ]
     },
     "execution_count": 55,
     "metadata": {},
     "output_type": "execute_result"
    }
   ],
   "source": [
    "S_diag.shape"
   ]
  },
  {
   "cell_type": "code",
   "execution_count": 45,
   "id": "3a4a9671",
   "metadata": {},
   "outputs": [
    {
     "data": {
      "text/plain": [
       "(5000, 5000)"
      ]
     },
     "execution_count": 45,
     "metadata": {},
     "output_type": "execute_result"
    }
   ],
   "source": [
    "U.shape"
   ]
  },
  {
   "cell_type": "code",
   "execution_count": 47,
   "id": "4ff68e25",
   "metadata": {},
   "outputs": [
    {
     "data": {
      "text/plain": [
       "(2, 2)"
      ]
     },
     "execution_count": 47,
     "metadata": {},
     "output_type": "execute_result"
    }
   ],
   "source": [
    "V_T.shape"
   ]
  },
  {
   "cell_type": "code",
   "execution_count": 61,
   "id": "e9e60394",
   "metadata": {},
   "outputs": [
    {
     "data": {
      "text/plain": [
       "(5000, 2)"
      ]
     },
     "execution_count": 61,
     "metadata": {},
     "output_type": "execute_result"
    }
   ],
   "source": [
    "S_diag.dot(V_T).shape"
   ]
  },
  {
   "cell_type": "code",
   "execution_count": 62,
   "id": "d0951b91",
   "metadata": {},
   "outputs": [],
   "source": [
    "B = U.dot(S_diag.dot(V_T))"
   ]
  },
  {
   "cell_type": "code",
   "execution_count": 63,
   "id": "80cb564b",
   "metadata": {},
   "outputs": [
    {
     "data": {
      "text/plain": [
       "array([[-12.71136247,  22.74317819],\n",
       "       [ 10.21703482, -54.6943266 ],\n",
       "       [ 24.48079734,  -5.54702474],\n",
       "       ...,\n",
       "       [-47.64126481, -11.6808344 ],\n",
       "       [ 35.63888132, -25.42848407],\n",
       "       [  3.80449945,   4.75115408]])"
      ]
     },
     "execution_count": 63,
     "metadata": {},
     "output_type": "execute_result"
    }
   ],
   "source": [
    "B"
   ]
  },
  {
   "cell_type": "code",
   "execution_count": 29,
   "id": "982b9c01",
   "metadata": {},
   "outputs": [
    {
     "data": {
      "text/plain": [
       "(5000, 5000)"
      ]
     },
     "execution_count": 29,
     "metadata": {},
     "output_type": "execute_result"
    }
   ],
   "source": [
    "test[0].shape"
   ]
  },
  {
   "cell_type": "code",
   "execution_count": 31,
   "id": "d61841a0",
   "metadata": {},
   "outputs": [
    {
     "data": {
      "text/plain": [
       "array([2213.5461, 1864.6296], dtype=float32)"
      ]
     },
     "execution_count": 31,
     "metadata": {},
     "output_type": "execute_result"
    }
   ],
   "source": [
    "test[1]"
   ]
  },
  {
   "cell_type": "code",
   "execution_count": 18,
   "id": "c7112f65",
   "metadata": {},
   "outputs": [],
   "source": [
    "X2 = model.fit_transform(arr[5000:10000])"
   ]
  },
  {
   "cell_type": "code",
   "execution_count": 14,
   "id": "b9db38ac",
   "metadata": {},
   "outputs": [],
   "source": [
    "x,y = X[:,0],X[:,1]"
   ]
  },
  {
   "cell_type": "code",
   "execution_count": 19,
   "id": "ba3682b6",
   "metadata": {},
   "outputs": [],
   "source": [
    "x2,y2 = X2[:,0],X2[:,1]"
   ]
  },
  {
   "cell_type": "code",
   "execution_count": 22,
   "id": "044e38e1",
   "metadata": {},
   "outputs": [
    {
     "data": {
      "text/plain": [
       "<matplotlib.collections.PathCollection at 0x22591153d60>"
      ]
     },
     "execution_count": 22,
     "metadata": {},
     "output_type": "execute_result"
    },
    {
     "data": {
      "image/png": "[encoded data removed]",
      "text/plain": [
       "<Figure size 432x288 with 1 Axes>"
      ]
     },
     "metadata": {
      "needs_background": "light"
     },
     "output_type": "display_data"
    }
   ],
   "source": [
    "plt.scatter(x,y, linewidths=0.25)\n",
    "plt.scatter(x2,y2, linewidths=0.25)"
   ]
  },
  {
   "cell_type": "code",
   "execution_count": 24,
   "id": "43efee29",
   "metadata": {},
   "outputs": [
    {
     "data": {
      "text/plain": [
       "<matplotlib.collections.PathCollection at 0x225d1546d90>"
      ]
     },
     "execution_count": 24,
     "metadata": {},
     "output_type": "execute_result"
    },
    {
     "data": {
      "image/png": "[encoded data removed]",
      "text/plain": [
       "<Figure size 432x288 with 1 Axes>"
      ]
     },
     "metadata": {
      "needs_background": "light"
     },
     "output_type": "display_data"
    }
   ],
   "source": [
    "plt.scatter(np.concatenate([x,x2]),np.concatenate([y,y2]))"
   ]
  },
  {
   "cell_type": "code",
   "execution_count": null,
   "id": "45e62283",
   "metadata": {},
   "outputs": [],
   "source": []
  }
 ],
 "metadata": {
  "kernelspec": {
   "display_name": "aizynth-env",
   "language": "python",
   "name": "aizynth-env"
  },
  "language_info": {
   "codemirror_mode": {
    "name": "ipython",
    "version": 3
   },
   "file_extension": ".py",
   "mimetype": "text/x-python",
   "name": "python",
   "nbconvert_exporter": "python",
   "pygments_lexer": "ipython3",
   "version": "3.8.12"
  },
  "latex_envs": {
   "LaTeX_envs_menu_present": true,
   "autoclose": false,
   "autocomplete": false,
   "bibliofile": "biblio.bib",
   "cite_by": "apalike",
   "current_citInitial": 1,
   "eqLabelWithNumbers": true,
   "eqNumInitial": 1,
   "hotkeys": {
    "equation": "Ctrl-E",
    "itemize": "Ctrl-I"
   },
   "labels_anchors": false,
   "latex_user_defs": false,
   "report_style_numbering": false,
   "user_envs_cfg": false
  }
 },
 "nbformat": 4,
 "nbformat_minor": 5
}
