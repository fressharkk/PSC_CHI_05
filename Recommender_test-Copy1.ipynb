{
 "cells": [
  {
   "cell_type": "code",
   "execution_count": 12,
   "id": "c5071e7f",
   "metadata": {},
   "outputs": [],
   "source": [
    "import pandas as pd"
   ]
  },
  {
   "cell_type": "code",
   "execution_count": 13,
   "id": "87ecfe5f",
   "metadata": {},
   "outputs": [],
   "source": [
    "import numpy as np"
   ]
  },
  {
   "cell_type": "code",
   "execution_count": 14,
   "id": "b76678df",
   "metadata": {},
   "outputs": [],
   "source": [
    "import tensorflow as tf\n",
    "#tf.config.set_visible_devices([], 'GPU')"
   ]
  },
  {
   "cell_type": "code",
   "execution_count": 15,
   "id": "9429165e",
   "metadata": {},
   "outputs": [],
   "source": [
    "from tensorflow.keras.utils import to_categorical"
   ]
  },
  {
   "cell_type": "code",
   "execution_count": 16,
   "id": "d2ee0e9f",
   "metadata": {},
   "outputs": [],
   "source": [
    "import tensorflow.keras as keras"
   ]
  },
  {
   "cell_type": "code",
   "execution_count": 17,
   "id": "6c47a120",
   "metadata": {},
   "outputs": [],
   "source": [
    "templates_all = pd.read_csv(\"Purified_Templates.csv\")"
   ]
  },
  {
   "cell_type": "code",
   "execution_count": 18,
   "id": "3002c338",
   "metadata": {},
   "outputs": [],
   "source": [
    "reactions_all = pd.read_csv(\"Purified_Reactions.csv\")"
   ]
  },
  {
   "cell_type": "code",
   "execution_count": 19,
   "id": "2b6ced84",
   "metadata": {},
   "outputs": [],
   "source": [
    "templates_single = templates_all.drop_duplicates(subset=\"reaction_smarts\")"
   ]
  },
  {
   "cell_type": "code",
   "execution_count": 20,
   "id": "b25276fc",
   "metadata": {},
   "outputs": [],
   "source": [
    "fp = pd.read_csv(\"Purified_Fingerprints.csv\")"
   ]
  },
  {
   "cell_type": "code",
   "execution_count": 21,
   "id": "79f1e0d6",
   "metadata": {},
   "outputs": [],
   "source": [
    "model = keras.models.load_model(\"our_recommender_model\")"
   ]
  },
  {
   "cell_type": "code",
   "execution_count": 11,
   "id": "0fdb12b3",
   "metadata": {},
   "outputs": [],
   "source": [
    "def fp_from_fp_db(fp_db):\n",
    "    res = np.zeros(2048)\n",
    "    list_idx = fp_db.split(\" \")\n",
    "    for el in list_idx[:-1]:\n",
    "        lfp = el.split(\"-\")\n",
    "        n = len(lfp)\n",
    "        if n == 1:\n",
    "            res[int(lfp[0])] = 1\n",
    "        elif n==2:\n",
    "            res[int(lfp[0])] = int(lfp[-1])\n",
    "        else:\n",
    "            res[int(lfp[0])] = -int(lfp[-1])\n",
    "    return res"
   ]
  },
  {
   "cell_type": "code",
   "execution_count": null,
   "id": "fb567431",
   "metadata": {
    "scrolled": true
   },
   "outputs": [],
   "source": [
    "ink = [fp_from_fp_db(fp.iloc[x,1])-fp_from_fp_db(fp.iloc[x,2]) for x in range(17000,30000)]\n",
    "v = model.predict(np.array(ink))"
   ]
  },
  {
   "cell_type": "code",
   "execution_count": null,
   "id": "e0003dd9",
   "metadata": {},
   "outputs": [],
   "source": [
    "y[inv_map[self.data_templates.iloc[val,4]] for val in range(17000,30000)"
   ]
  }
 ],
 "metadata": {
  "kernelspec": {
   "display_name": "aizynth-env",
   "language": "python",
   "name": "aizynth-env"
  },
  "language_info": {
   "codemirror_mode": {
    "name": "ipython",
    "version": 3
   },
   "file_extension": ".py",
   "mimetype": "text/x-python",
   "name": "python",
   "nbconvert_exporter": "python",
   "pygments_lexer": "ipython3",
   "version": "3.8.12"
  },
  "latex_envs": {
   "LaTeX_envs_menu_present": true,
   "autoclose": false,
   "autocomplete": false,
   "bibliofile": "biblio.bib",
   "cite_by": "apalike",
   "current_citInitial": 1,
   "eqLabelWithNumbers": true,
   "eqNumInitial": 1,
   "hotkeys": {
    "equation": "Ctrl-E",
    "itemize": "Ctrl-I"
   },
   "labels_anchors": false,
   "latex_user_defs": false,
   "report_style_numbering": false,
   "user_envs_cfg": false
  }
 },
 "nbformat": 4,
 "nbformat_minor": 5
}
