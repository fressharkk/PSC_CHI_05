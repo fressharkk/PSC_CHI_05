{
 "cells": [
  {
   "cell_type": "markdown",
   "metadata": {},
   "source": [
    "# Comparaison des resultats de AizynthFinder et de nos modeles"
   ]
  },
  {
   "cell_type": "code",
   "execution_count": 1,
   "metadata": {},
   "outputs": [],
   "source": [
    "#Importations utiles \n",
    "import pandas as pd\n",
    "import numpy as np\n",
    "import matplotlib.pyplot as plt\n",
    "import tensorflow as tf\n",
    "from tensorflow.keras.datasets import cifar10\n",
    "from tensorflow.keras.models import Sequential\n",
    "from tensorflow.keras.layers import Dense, Flatten, Conv2D, MaxPooling2D\n",
    "from tensorflow.keras.losses import sparse_categorical_crossentropy\n",
    "from tensorflow.keras.optimizers import Adam\n",
    "from sklearn.model_selection import KFold\n",
    "import numpy as np\n",
    "import pandas as pd\n",
    "from sklearn.model_selection import train_test_split\n",
    "from sklearn.naive_bayes import ComplementNB\n",
    "from sklearn.metrics import precision_recall_fscore_support as score\n",
    "from sklearn.metrics import mean_squared_error, r2_score\n",
    "from sklearn.metrics import roc_auc_score, roc_curve, accuracy_score"
   ]
  },
  {
   "cell_type": "code",
   "execution_count": 2,
   "metadata": {},
   "outputs": [],
   "source": [
    "#Importations pour charger des modèles\n",
    "import pickle\n",
    "from aizynthfinder.utils.models import LocalKerasModel"
   ]
  },
  {
   "cell_type": "code",
   "execution_count": 3,
   "metadata": {},
   "outputs": [],
   "source": [
    "import tqdm.notebook as tq\n",
    "import SelectionGroup"
   ]
  },
  {
   "cell_type": "code",
   "execution_count": 7,
   "metadata": {},
   "outputs": [],
   "source": [
    "#Noms des Fichiers\n",
    "fname_fp_false = \"Nom du Fichier de ValidationData pour les Fausses Reactions\"\n",
    "fname_fp_true = \"Nom du Fichier de ValidationData pour les Vraies Reactions\""
   ]
  },
  {
   "cell_type": "code",
   "execution_count": 8,
   "metadata": {},
   "outputs": [],
   "source": [
    "#Chargement des données\n",
    "data_fp_false = pd.read_csv(fname_fp_false)\n",
    "data_fp_true = pd.read_csv(fname_fp_true)"
   ]
  },
  {
   "cell_type": "code",
   "execution_count": 9,
   "metadata": {},
   "outputs": [],
   "source": [
    "def fp_from_fp_db(fp_db):\n",
    "    '''\n",
    "    Cette fonction permet de recréer le fingerprint de taille 2048\n",
    "    à partir du fingerprint codé en mémoire\n",
    "    '''\n",
    "    res = np.zeros(2048)\n",
    "    #On initialise un array de 2048 zéros\n",
    "    list_idx = fp_db.split(\" \")\n",
    "    #On récupère tous les indices non nuls du fingerprint\n",
    "    for el in list_idx[:-1]:\n",
    "        lfp = el.split(\"-\")\n",
    "        n = len(lfp)\n",
    "        #En fonction des cas, on complète avec la bonne valeur\n",
    "        if n == 1:\n",
    "            res[int(lfp[0])] = 1\n",
    "        elif n==2:\n",
    "            res[int(lfp[0])] = int(lfp[-1])\n",
    "        else:\n",
    "            res[int(lfp[0])] = -int(lfp[-1])\n",
    "    return res\n",
    "\n",
    "def input_model_from_db(base_fp):\n",
    "    '''\n",
    "    Cette fonction renvoie un array de fingerprint à partir d'un dataset contenant des\n",
    "    fingerprints sous forme \"codée\"\n",
    "    '''\n",
    "    #On sépare fingerprint de réactions et fingerprints du produit\n",
    "    prod_fp_db,rxn_fp_db = base_fp[\"Product_Fingerprint\"],base_fp[\"Reaction_Fingerprint\"]\n",
    "    prod_fp,rxn_fp = [],[]\n",
    "    p_bar = tq.tqdm(total=base_fp.shape[0])\n",
    "    for i in range(base_fp.shape[0]):\n",
    "        #On essaie de récupérer le fingerprint associé à la ligne i\n",
    "        try:\n",
    "            p_bar.update(1)\n",
    "            rxn_fp.append(fp_from_fp_db(rxn_fp_db.iloc[i]))\n",
    "            prod_fp.append(fp_from_fp_db(prod_fp_db.iloc[i]))\n",
    "        except:\n",
    "            continue\n",
    "    return np.array(prod_fp), np.array(rxn_fp)"
   ]
  },
  {
   "cell_type": "code",
   "execution_count": 10,
   "metadata": {},
   "outputs": [],
   "source": [
    "size_true = data_fp_true.shape[0]\n",
    "size_false = data_fp_false.shape[0]"
   ]
  },
  {
   "cell_type": "code",
   "execution_count": 11,
   "metadata": {},
   "outputs": [
    {
     "data": {
      "application/vnd.jupyter.widget-view+json": {
       "model_id": "dc72bfbfe4ad40a9b50aa2c06ad87987",
       "version_major": 2,
       "version_minor": 0
      },
      "text/plain": [
       "  0%|          | 0/100000 [00:00<?, ?it/s]"
      ]
     },
     "metadata": {},
     "output_type": "display_data"
    }
   ],
   "source": [
    "p1,p2 = input_model_from_db(data_fp_true[:100000])"
   ]
  },
  {
   "cell_type": "code",
   "execution_count": 12,
   "metadata": {},
   "outputs": [
    {
     "data": {
      "application/vnd.jupyter.widget-view+json": {
       "model_id": "6ccb2c8b45b74900b6570e8dcc8dadf4",
       "version_major": 2,
       "version_minor": 0
      },
      "text/plain": [
       "  0%|          | 0/13867 [00:00<?, ?it/s]"
      ]
     },
     "metadata": {},
     "output_type": "display_data"
    }
   ],
   "source": [
    "p3,p4 = input_model_from_db(data_fp_false[:size_false*100000//size_true])"
   ]
  },
  {
   "cell_type": "code",
   "execution_count": 13,
   "metadata": {},
   "outputs": [],
   "source": [
    "prod_fp = np.concatenate((p1, p3))"
   ]
  },
  {
   "cell_type": "code",
   "execution_count": 14,
   "metadata": {},
   "outputs": [],
   "source": [
    "rxn_fp = np.concatenate((p2,p4))"
   ]
  },
  {
   "cell_type": "code",
   "execution_count": 15,
   "metadata": {},
   "outputs": [],
   "source": [
    "labels = np.array([1]*p1.shape[0]+[0]*p3.shape[0])"
   ]
  },
  {
   "cell_type": "code",
   "execution_count": 16,
   "metadata": {},
   "outputs": [],
   "source": [
    "input_test = [np.concatenate((rxn_fp[i], prod_fp[i])) for i in range(rxn_fp.shape[0])]"
   ]
  },
  {
   "cell_type": "code",
   "execution_count": 17,
   "metadata": {},
   "outputs": [],
   "source": [
    "input_2_test = [np.concatenate((prod_fp[i]-rxn_fp[i], prod_fp[i])) for i in range(rxn_fp.shape[0])]"
   ]
  },
  {
   "cell_type": "markdown",
   "metadata": {},
   "source": [
    "## Chargement des Modeles"
   ]
  },
  {
   "cell_type": "code",
   "execution_count": 19,
   "metadata": {},
   "outputs": [],
   "source": [
    "reg_model = pickle.load(open(\"regression_model.sav\", 'rb'))"
   ]
  },
  {
   "cell_type": "code",
   "execution_count": 20,
   "metadata": {},
   "outputs": [],
   "source": [
    "rf_model = pickle.load(open(\"Random_Forest_model.sav\", 'rb'))"
   ]
  },
  {
   "cell_type": "code",
   "execution_count": null,
   "metadata": {},
   "outputs": [],
   "source": [
    "cnb_model = pickle.load(open(\"Complement_Bayesian_model.sav\", 'rb'))"
   ]
  },
  {
   "cell_type": "code",
   "execution_count": 21,
   "metadata": {},
   "outputs": [],
   "source": [
    "aizynth_model = LocalKerasModel(\"../uspto_filter_model.hdf5\")"
   ]
  },
  {
   "cell_type": "markdown",
   "metadata": {},
   "source": [
    "# Predictions"
   ]
  },
  {
   "cell_type": "code",
   "execution_count": 23,
   "metadata": {},
   "outputs": [],
   "source": [
    "reg_pred = reg_model.predict(input_test)\n",
    "reg_pred_prob = reg_model.predict_proba(input_test)\n",
    "rf_pred = rf_model.predict(input_test)\n",
    "cnb_pred = cnb_model.predict(input_2_test)"
   ]
  },
  {
   "cell_type": "code",
   "execution_count": 24,
   "metadata": {},
   "outputs": [],
   "source": [
    "rf_pred_prob = rf_model.predict_proba(input_test)\n",
    "cnb_pred_prob = cnb_model.predict_proba(input_2_test)"
   ]
  },
  {
   "cell_type": "code",
   "execution_count": 25,
   "metadata": {},
   "outputs": [],
   "source": [
    "aizynth_pred = aizynth_model.model.predict([prod_fp_test, rxn_fp_test])"
   ]
  },
  {
   "cell_type": "code",
   "execution_count": 46,
   "metadata": {},
   "outputs": [],
   "source": [
    "aizynth_pred2 = aizynth_model.model.predict([rxn_fp_test, prod_fp_test])"
   ]
  },
  {
   "cell_type": "markdown",
   "metadata": {},
   "source": [
    "## Resultats"
   ]
  },
  {
   "cell_type": "code",
   "execution_count": 28,
   "metadata": {},
   "outputs": [],
   "source": [
    "fpr_reg, tpr_reg, _ = roc_curve(labels_test, reg_pred_prob[:,1])\n",
    "fpr_rf, tpr_rf, _ = roc_curve(labels_test, rf_pred_prob[:,1])\n",
    "fpr_cnb, tpr_cnb, _ = roc_curve(labels_test, cnb_pred_prob[:,1])\n",
    "fpr_ai, tpr_ai, _ = roc_curve(labels_test, aizynth_pred2)"
   ]
  },
  {
   "cell_type": "code",
   "execution_count": 30,
   "metadata": {
    "scrolled": true
   },
   "outputs": [
    {
     "name": "stdout",
     "output_type": "stream",
     "text": [
      "AiZynthFinder : (0.9532437730076014, 0.9977981284091477, 0.9750122249388753, None)\n",
      "RandomForest : (0.9573728772084373, 0.9789320922784367, 0.9680324623911322, None)\n",
      "RegressionLogistique : (0.969735182849937, 0.8466196266826803, 0.9040049159742445, None)\n",
      "CNB : (0.969735182849937, 0.8466196266826803, 0.9040049159742445, None)\n"
     ]
    }
   ],
   "source": [
    "print(f\"AiZynthFinder : {score(labels_test, rf_pred,pos_label=1, average='binary')}\")\n",
    "print(f\"RandomForest : {score(labels_test, reg_pred, pos_label=1, average='binary')}\")\n",
    "print(f\"RegressionLogistique : {score(labels_test, cnb_pred, pos_label=1, average='binary')}\")\n",
    "print(f\"CNB : {score(labels_test, cnb_pred, pos_label=1, average='binary')}\")\n",
    "      "
   ]
  },
  {
   "cell_type": "code",
   "execution_count": 31,
   "metadata": {},
   "outputs": [],
   "source": [
    "def tp_tn_fp_fn(y,y2):\n",
    "    #assert(y.shape == y2.shape)\n",
    "    n = y.shape[0]\n",
    "    return n-np.nonzero(y+y2-2)[0].shape[0], n-np.nonzero(y+y2)[0].shape[0], n-np.nonzero(y2-y+1)[0].shape[0], n-np.nonzero(-y2+y+1)[0].shape[0]"
   ]
  },
  {
   "cell_type": "code",
   "execution_count": 32,
   "metadata": {},
   "outputs": [],
   "source": [
    "def str_tp(y,y2):\n",
    "    tp,tn,fp,fn = tp_tn_fp_fn(y,y2)\n",
    "    n = tp+tn+fp+fn\n",
    "    return f\"TP : {tp/n}, TN : {tn/n}, FP : {fp/n}, FN : {fn/n}\""
   ]
  },
  {
   "cell_type": "code",
   "execution_count": 33,
   "metadata": {
    "scrolled": true
   },
   "outputs": [
    {
     "name": "stdout",
     "output_type": "stream",
     "text": [
      "AiZynthFinder : (0.9532437730076014, 0.9977981284091477, 0.9750122249388753, None)\n",
      "RandomForest : (0.9573728772084373, 0.9789320922784367, 0.9680324623911322, None)\n",
      "RegressionLogistique : (0.969735182849937, 0.8466196266826803, 0.9040049159742445, None)\n",
      "CNB : (0.969735182849937, 0.8466196266826803, 0.9040049159742445, None)\n"
     ]
    }
   ],
   "source": [
    "print(f\"AiZynthFinder : {score(labels_test, rf_pred,pos_label=1, average='binary')}\")\n",
    "print(f\"RandomForest : {score(labels_test, reg_pred, pos_label=1, average='binary')}\")\n",
    "print(f\"RegressionLogistique : {score(labels_test, cnb_pred, pos_label=1, average='binary')}\")\n",
    "print(f\"CNB : {score(labels_test, cnb_pred, pos_label=1, average='binary')}\")"
   ]
  },
  {
   "cell_type": "code",
   "execution_count": 34,
   "metadata": {},
   "outputs": [
    {
     "name": "stdout",
     "output_type": "stream",
     "text": [
      "AiZynthFinder : TP : 0.8779832672831351, TN : 0.07701453104359313, FP : 0.001937472479084104, FN : 0.043064729194187586 \n",
      "RandomForest : TP : 0.8613826508146191, TN : 0.0817261118450022, FP : 0.018538088947600177, FN : 0.038353148392778515\n",
      "RegressionLogistique : TP : 0.744958168207838, TN : 0.09682959048877146, FP : 0.13496257155438132, FN : 0.023249669749009248\n",
      "CNB : TP : 0.9863636363636363, TN : 0.0, FP : 0.0, FN : 0.013636363636363636\n"
     ]
    }
   ],
   "source": [
    "print(f\"AiZynthFinder : {str_tp(labels_test, rf_pred)} \")\n",
    "print(f\"RandomForest : {str_tp(labels_test, reg_pred)}\")\n",
    "print(f\"RegressionLogistique : {str_tp(labels_test, cnb_pred)}\")\n",
    "print(f\"CNB : {str_tp(labels_test, np.array([x[0] for x in aizynth_pred]))}\")\n",
    "     "
   ]
  },
  {
   "cell_type": "code",
   "execution_count": 49,
   "metadata": {},
   "outputs": [],
   "source": [
    "auc_1 = roc_auc_score(labels_test, reg_pred_prob[:,1])\n",
    "auc_2 = roc_auc_score(labels_test, rf_pred_prob[:,1])\n",
    "auc_3 = roc_auc_score(labels_test, aizynth_pred2)\n",
    "auc_4 = roc_auc_score(labels_test, cnb_pred_prob[:,1])"
   ]
  },
  {
   "cell_type": "code",
   "execution_count": 50,
   "metadata": {},
   "outputs": [
    {
     "data": {
      "image/png": "[encoded data removed]",
      "text/plain": [
       "<Figure size 720x720 with 1 Axes>"
      ]
     },
     "metadata": {
      "needs_background": "light"
     },
     "output_type": "display_data"
    }
   ],
   "source": [
    "plt.figure(figsize=(10,10))\n",
    "plt.plot(fpr_rf,tpr_rf, label=f\"RF  (AUC = {np.round(auc_2,3)})\")\n",
    "plt.plot(fpr_ai, tpr_ai, label=f\"AZF (AUC = {np.round(auc_3,3)})\")\n",
    "plt.plot(fpr_reg, tpr_reg, label=f\"REG (AUC = {np.round(auc_1,3)})\")\n",
    "plt.plot(fpr_cnb, tpr_cnb,label=f\"CNB (AUC = {np.round(auc_4,3)})\")\n",
    "plt.legend(loc=\"best\")\n",
    "plt.xlabel('Taux de faux positifs')\n",
    "plt.ylabel('Taux de vrais  positifs')\n",
    "plt.title('Courbes ROC pour les différents modèles')\n",
    "plt.savefig('ROC_Curves_Models_Init.png')"
   ]
  }
 ],
 "metadata": {
  "kernelspec": {
   "display_name": "aizynth-env",
   "language": "python",
   "name": "aizynth-env"
  },
  "language_info": {
   "codemirror_mode": {
    "name": "ipython",
    "version": 3
   },
   "file_extension": ".py",
   "mimetype": "text/x-python",
   "name": "python",
   "nbconvert_exporter": "python",
   "pygments_lexer": "ipython3",
   "version": "3.8.12"
  },
  "latex_envs": {
   "LaTeX_envs_menu_present": true,
   "autoclose": false,
   "autocomplete": false,
   "bibliofile": "biblio.bib",
   "cite_by": "apalike",
   "current_citInitial": 1,
   "eqLabelWithNumbers": true,
   "eqNumInitial": 1,
   "hotkeys": {
    "equation": "Ctrl-E",
    "itemize": "Ctrl-I"
   },
   "labels_anchors": false,
   "latex_user_defs": false,
   "report_style_numbering": false,
   "user_envs_cfg": false
  }
 },
 "nbformat": 4,
 "nbformat_minor": 4
}
