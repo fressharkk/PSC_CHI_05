{
 "cells": [
  {
   "cell_type": "markdown",
   "id": "a683be6b",
   "metadata": {},
   "source": [
    "# Importations"
   ]
  },
  {
   "cell_type": "code",
   "execution_count": 4,
   "id": "03614786",
   "metadata": {},
   "outputs": [],
   "source": [
    "import tensorflow as tf\n",
    "from tensorflow.keras.models import load_model as load_keras_model,Model,Sequential\n",
    "import tensorflow.keras as keras\n",
    "from tensorflow.keras.callbacks import ReduceLROnPlateau, EarlyStopping\n",
    "from tensorflow.keras.layers import Dense\n",
    "from tensorflow.keras import Input\n",
    "from tensorflow.keras.activations import relu\n",
    "from keras.utils.vis_utils import plot_model\n",
    "from tensorflow.keras.optimizers import Adam\n",
    "import pandas as pd\n",
    "import numpy as np\n",
    "import matplotlib.pyplot as plt\n",
    "from sklearn.model_selection import train_test_split\n",
    "from sklearn.linear_model import LogisticRegression\n",
    "from sklearn.metrics import precision_recall_fscore_support as score\n",
    "from sklearn.metrics import mean_squared_error, r2_score\n",
    "from sklearn.metrics import accuracy_score,RocCurveDisplay,roc_curve, roc_auc_score\n",
    "from aizynthfinder.chem import *\n",
    "from aizynthfinder.utils import *\n",
    "from aizynthfinder.training import *\n",
    "from aizynthfinder.context import *\n",
    "from aizynthfinder.utils.models import LocalKerasModel\n",
    "import numpy as np\n",
    "import tqdm.notebook as tqdm\n",
    "import SelectionGroup"
   ]
  },
  {
   "cell_type": "markdown",
   "id": "bc10d454",
   "metadata": {},
   "source": [
    "# Modeles"
   ]
  },
  {
   "cell_type": "markdown",
   "id": "b3ec6e3b",
   "metadata": {},
   "source": [
    "# Récupération des Datas "
   ]
  },
  {
   "cell_type": "code",
   "execution_count": 8,
   "id": "5e5a4e6a",
   "metadata": {},
   "outputs": [],
   "source": [
    "#Noms des Fichiers\n",
    "fname_fp_false = \"Nom du Fichier de ValidationData FINGERPRINT pour les Fausses Reactions\"\n",
    "fname_fp_true = \"Nom du Fichier de ValidationData FINGERPRINT pour les Vraies Reactions\"\n",
    "fname_groups_false = \"Nom du Fichier de ValidationData GROUPES pour les Fausses Reactions\"\n",
    "fname_groups_true = \"Nom du Fichier de ValidationData GROUPES pour les Vraies Reactions\"\n"
   ]
  },
  {
   "cell_type": "code",
   "execution_count": 9,
   "id": "b6012169",
   "metadata": {},
   "outputs": [],
   "source": [
    "#On charge les donnees\n",
    "data_fp_false = pd.read_csv(fname_fp_false)\n",
    "data_fp_true = pd.read_csv(fname_fp_true)\n",
    "data_groups_false = pd.read_csv(fname_groups_false)\n",
    "data_groups_true = pd.read_csv(fname_groups_true)"
   ]
  },
  {
   "cell_type": "code",
   "execution_count": 10,
   "id": "18513faf",
   "metadata": {},
   "outputs": [],
   "source": [
    "def fp_from_fp_db(fp_db):\n",
    "    '''\n",
    "    Cette fonction permet de recréer le fingerprint de taille 2048\n",
    "    à partir du fingerprint codé en mémoire\n",
    "    '''\n",
    "    res = np.zeros(2048)\n",
    "    #On initialise un array de 2048 zéros\n",
    "    list_idx = fp_db.split(\" \")\n",
    "    #On récupère tous les indices non nuls du fingerprint\n",
    "    for el in list_idx[:-1]:\n",
    "        lfp = el.split(\"-\")\n",
    "        n = len(lfp)\n",
    "        #En fonction des cas, on complète avec la bonne valeur\n",
    "        if n == 1:\n",
    "            res[int(lfp[0])] = 1\n",
    "        elif n==2:\n",
    "            res[int(lfp[0])] = int(lfp[-1])\n",
    "        else:\n",
    "            res[int(lfp[0])] = -int(lfp[-1])\n",
    "    return res\n",
    "\n",
    "def input_model_from_db(base_fp):\n",
    "    '''\n",
    "    Cette fonction renvoie un array de fingerprint à partir d'un dataset contenant des\n",
    "    fingerprints sous forme \"codée\"\n",
    "    '''\n",
    "    #On sépare fingerprint de réactions et fingerprints du produit\n",
    "    prod_fp_db,rxn_fp_db = base_fp[\"Product_Fingerprint\"],base_fp[\"Reaction_Fingerprint\"]\n",
    "    prod_fp,rxn_fp = [],[]\n",
    "    p_bar = tq.tqdm(total=base_fp.shape[0])\n",
    "    for i in range(base_fp.shape[0]):\n",
    "        #On essaie de récupérer le fingerprint associé à la ligne i\n",
    "        try:\n",
    "            p_bar.update(1)\n",
    "            rxn_fp.append(fp_from_fp_db(rxn_fp_db.iloc[i]))\n",
    "            prod_fp.append(fp_from_fp_db(prod_fp_db.iloc[i]))\n",
    "        except:\n",
    "            continue\n",
    "    return np.array(prod_fp), np.array(rxn_fp)"
   ]
  },
  {
   "cell_type": "code",
   "execution_count": 27,
   "id": "86bda38d",
   "metadata": {},
   "outputs": [],
   "source": [
    "def get_data(data_fp_false,data_fp_true,grps):\n",
    "    res = []\n",
    "    fp_grps = SelectionGroup.select_grp(data_fp_false,data_fp_true,grps)\n",
    "    for prod_fp_false,rxn_fp_false,prod_fp_true,rxn_fp_true in fp_grps:\n",
    "        prod_fp,rxn_fp = np.concatenate((prod_fp_false,prod_fp_true)),np.concatenate((rxn_fp_false,rxn_fp_true))\n",
    "        labels = np.array([0]*prod_fp_false.shape[0]+[1]*prod_fp_true.shape[0])\n",
    "        train_prop = 0.9\n",
    "        test_prop  = 0.1\n",
    "        assert(test_prop+train_prop==1)\n",
    "        res.append(train_test_split(prod_fp, rxn_fp, labels, train_size = train_prop, random_state=41))\n",
    "    return res"
   ]
  },
  {
   "cell_type": "code",
   "execution_count": 12,
   "id": "ec83021b",
   "metadata": {},
   "outputs": [],
   "source": [
    "grp_correspondance = {\"Aldehyde\": \"004\",\n",
    "         \"Cetone\":\"005\",\n",
    "         \"Enamine\":\"024\",\n",
    "         \"Alcool\":\"028\",\n",
    "         \"Phenol\":\"034\",\n",
    "         \"Ether\":\"037\",\n",
    "         \"Amine\":\"047\",\n",
    "         \"Halogene\":\"061\",\n",
    "         \"Acide Carboxylique\":\"076\",\n",
    "         \"Lactone\":\"079\",\n",
    "         \"Uree\":\"133\",\n",
    "         \"Alcene\":\"199\"}"
   ]
  },
  {
   "cell_type": "code",
   "execution_count": 13,
   "id": "eaa5f7b7",
   "metadata": {},
   "outputs": [],
   "source": [
    "reverse_grp_fp = {v: k for k, v in grp_correspondance.items()}"
   ]
  },
  {
   "cell_type": "markdown",
   "id": "dbd18ed8",
   "metadata": {},
   "source": [
    "## Exemple avec la Lactone"
   ]
  },
  {
   "cell_type": "code",
   "execution_count": 59,
   "id": "bc9bbbd0",
   "metadata": {},
   "outputs": [
    {
     "name": "stdout",
     "output_type": "stream",
     "text": [
      "['C:/Users/Yassine/Desktop/PSC/PSC_final/Data/False_reactions/Groups_False_Reactions/Lactone_False_Reactions.csv']\n"
     ]
    },
    {
     "data": {
      "application/vnd.jupyter.widget-view+json": {
       "model_id": "6950bd4954324e58936ece0220d869b5",
       "version_major": 2,
       "version_minor": 0
      },
      "text/plain": [
       "  0%|          | 0/791 [00:00<?, ?it/s]"
      ]
     },
     "metadata": {},
     "output_type": "display_data"
    },
    {
     "data": {
      "application/vnd.jupyter.widget-view+json": {
       "model_id": "ce8a4932ef6c4bd98cdbca1c621ca579",
       "version_major": 2,
       "version_minor": 0
      },
      "text/plain": [
       "  0%|          | 0/13893 [00:00<?, ?it/s]"
      ]
     },
     "metadata": {},
     "output_type": "display_data"
    }
   ],
   "source": [
    "data = get_data(data_fp_false, data_fp_true, ['Lactone'])"
   ]
  },
  {
   "cell_type": "code",
   "execution_count": 37,
   "id": "f8568e1f",
   "metadata": {},
   "outputs": [],
   "source": [
    "#On charge le modèle AiZynthFinder\n",
    "mod_2 = tf.keras.models.load_model(\"../uspto_filter_model.hdf5\")"
   ]
  },
  {
   "cell_type": "code",
   "execution_count": 60,
   "id": "1c7625a1",
   "metadata": {},
   "outputs": [],
   "source": [
    "#On charge notre modele\n",
    "mod_1 = tf.keras.models.load_model(\"our_model_Lactone\")"
   ]
  },
  {
   "cell_type": "code",
   "execution_count": null,
   "id": "1f5b3a5d",
   "metadata": {},
   "outputs": [],
   "source": [
    "#On prédit \n",
    "ai_pred = mod_2.predict([[data[0][1], data[0][3]]])\n",
    "predictions = mod_1.predict([data[0][3], data[0][1]])"
   ]
  },
  {
   "cell_type": "code",
   "execution_count": 62,
   "id": "6b4ca198",
   "metadata": {},
   "outputs": [
    {
     "data": {
      "image/png": "[encoded data removed]",
      "text/plain": [
       "<Figure size 432x288 with 1 Axes>"
      ]
     },
     "metadata": {
      "needs_background": "light"
     },
     "output_type": "display_data"
    }
   ],
   "source": [
    "plot_roc_group(predictions, ai_pred , data[0][-1], 'Lactone')"
   ]
  },
  {
   "cell_type": "markdown",
   "id": "98c9d85d",
   "metadata": {},
   "source": [
    "## Fonction générique"
   ]
  },
  {
   "cell_type": "code",
   "execution_count": 66,
   "id": "ee1317aa",
   "metadata": {},
   "outputs": [],
   "source": [
    "def plot_curve(grp):\n",
    "    data_ = get_data(data_fp_false, data_fp_true, [grp])\n",
    "    mod_1 = tf.keras.models.load_model(f\"our_model_{grp}\")\n",
    "    predictions = mod_1.predict([data_[0][3], data_[0][1]])\n",
    "    ai_pred = mod_2.predict([[data_[0][1], data_[0][3]]])\n",
    "    plot_roc_group(predictions, ai_pred , data_[0][-1], grp)"
   ]
  },
  {
   "cell_type": "code",
   "execution_count": null,
   "id": "eb69b94c",
   "metadata": {},
   "outputs": [],
   "source": [
    "def plot_curve_generator(grp):\n",
    "    data_ = get_data(data_fp_false, data_fp_true, [grp])\n",
    "    mod_1 = tf.keras.models.load_model(f\"our_model_generator_{grp}\")\n",
    "    predictions = mod_1.predict([data_[0][3], data_[0][1]])\n",
    "    ai_pred = mod_2.predict([[data_[0][1], data_[0][3]]])\n",
    "    plot_roc_group(predictions, ai_pred , data_[0][-1], grp)"
   ]
  },
  {
   "cell_type": "code",
   "execution_count": 68,
   "id": "b4feb360",
   "metadata": {},
   "outputs": [
    {
     "name": "stdout",
     "output_type": "stream",
     "text": [
      "['C:/Users/Yassine/Desktop/PSC/PSC_final/Data/False_reactions/Groups_False_Reactions/Enamine_False_Reactions.csv']\n"
     ]
    },
    {
     "data": {
      "application/vnd.jupyter.widget-view+json": {
       "model_id": "38d8845615fb47dd875741349501a700",
       "version_major": 2,
       "version_minor": 0
      },
      "text/plain": [
       "  0%|          | 0/4104 [00:00<?, ?it/s]"
      ]
     },
     "metadata": {},
     "output_type": "display_data"
    },
    {
     "data": {
      "application/vnd.jupyter.widget-view+json": {
       "model_id": "1e151ca87a0d4fe38afa0856c6e38b3a",
       "version_major": 2,
       "version_minor": 0
      },
      "text/plain": [
       "  0%|          | 0/24000 [00:00<?, ?it/s]"
      ]
     },
     "metadata": {},
     "output_type": "display_data"
    },
    {
     "data": {
      "image/png": "[encoded data removed]",
      "text/plain": [
       "<Figure size 432x288 with 1 Axes>"
      ]
     },
     "metadata": {
      "needs_background": "light"
     },
     "output_type": "display_data"
    }
   ],
   "source": [
    "plot_curve('Enamine')"
   ]
  }
 ],
 "metadata": {
  "kernelspec": {
   "display_name": "aizynth-env",
   "language": "python",
   "name": "aizynth-env"
  },
  "language_info": {
   "codemirror_mode": {
    "name": "ipython",
    "version": 3
   },
   "file_extension": ".py",
   "mimetype": "text/x-python",
   "name": "python",
   "nbconvert_exporter": "python",
   "pygments_lexer": "ipython3",
   "version": "3.8.12"
  },
  "latex_envs": {
   "LaTeX_envs_menu_present": true,
   "autoclose": false,
   "autocomplete": false,
   "bibliofile": "biblio.bib",
   "cite_by": "apalike",
   "current_citInitial": 1,
   "eqLabelWithNumbers": true,
   "eqNumInitial": 1,
   "hotkeys": {
    "equation": "Ctrl-E",
    "itemize": "Ctrl-I"
   },
   "labels_anchors": false,
   "latex_user_defs": false,
   "report_style_numbering": false,
   "user_envs_cfg": false
  }
 },
 "nbformat": 4,
 "nbformat_minor": 5
}
