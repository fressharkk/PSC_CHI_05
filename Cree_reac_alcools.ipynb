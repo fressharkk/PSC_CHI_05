{
 "cells": [
  {
   "cell_type": "code",
   "execution_count": 1,
   "metadata": {},
   "outputs": [],
   "source": [
    "import pandas as pd\n",
    "import numpy as np\n",
    "from aizynthfinder.chem import Molecule, MoleculeException\n",
    "from aizynthfinder.interfaces import AiZynthApp"
   ]
  },
  {
   "cell_type": "code",
   "execution_count": 2,
   "metadata": {},
   "outputs": [],
   "source": [
    "data = pd.read_csv(\"data_reactions.csv\", delimiter=';')"
   ]
  },
  {
   "cell_type": "code",
   "execution_count": 3,
   "metadata": {},
   "outputs": [],
   "source": [
    "data_limited = pd.read_csv(\"data_reactions.csv\", delimiter=';', nrows=2000)"
   ]
  },
  {
   "cell_type": "code",
   "execution_count": 4,
   "metadata": {},
   "outputs": [],
   "source": [
    "def get_products(dataframe):\n",
    "    products = []\n",
    "    for i in range(dataframe.shape[0]):\n",
    "        diviser = dataframe.iloc[i,0].split(\">\")\n",
    "        products.append(diviser[2])\n",
    "    return products"
   ]
  },
  {
   "cell_type": "code",
   "execution_count": 5,
   "metadata": {},
   "outputs": [],
   "source": [
    "def get_reactants_products(dataframe):\n",
    "    n = dataframe.shape[0]\n",
    "    reactants = np.empty(n, dtype=\"object\")\n",
    "    products  = np.empty(n, dtype=\"object\")\n",
    "    for i in range(n):\n",
    "        diviser = dataframe.iloc[i,0].split(\">\")\n",
    "        reactants[i] = diviser[0]\n",
    "        products[i]  = diviser[2]\n",
    "    return reactants, products"
   ]
  },
  {
   "cell_type": "code",
   "execution_count": 6,
   "metadata": {},
   "outputs": [],
   "source": [
    "def create_dataframe_reac_prod(dataframe):\n",
    "    n = dataframe.shape[0]\n",
    "    reactants,products = get_reactants_products(dataframe)\n",
    "    return pd.DataFrame({'reactants': reactants, 'products': products})"
   ]
  },
  {
   "cell_type": "code",
   "execution_count": 112,
   "metadata": {},
   "outputs": [],
   "source": [
    "data_reacprod = create_dataframe_reac_prod(data)\n"
   ]
  },
  {
   "cell_type": "code",
   "execution_count": 114,
   "metadata": {},
   "outputs": [],
   "source": [
    "data_reacprod.to_csv(\"data_reactants_products.csv\")"
   ]
  },
  {
   "cell_type": "code",
   "execution_count": 7,
   "metadata": {},
   "outputs": [],
   "source": [
    "def fingerprint(smi_str):\n",
    "    mol = Molecule(smiles=smi_str)\n",
    "    try:\n",
    "        return mol.fingerprint(2,2048).astype(np.int8)\n",
    "    except MoleculeException:\n",
    "        return np.array([0]*2048).astype(np.int8)\n"
   ]
  },
  {
   "cell_type": "code",
   "execution_count": 8,
   "metadata": {},
   "outputs": [],
   "source": [
    "def get_index_fingerprint(fing):\n",
    "    index_arr = []\n",
    "    for i in range(len(fing)):\n",
    "        if (fing[i]!=0):\n",
    "            index_arr.append(i)\n",
    "    return index_arr\n",
    "\n",
    "def get_index_fingerprint_np(fing):\n",
    "    return np.nonzero(np.array(fing))\n"
   ]
  },
  {
   "cell_type": "code",
   "execution_count": 9,
   "metadata": {},
   "outputs": [],
   "source": [
    "def indexes_keep_alcohol(dataframe):\n",
    "    list_index = []\n",
    "    products = get_products(dataframe)\n",
    "    for i in range(len(products)):\n",
    "        if 807 in get_index_fingerprint(fingerprint(products[i])):\n",
    "            list_index.append(i)\n",
    "    return list_index\n",
    "        "
   ]
  },
  {
   "cell_type": "code",
   "execution_count": 10,
   "metadata": {},
   "outputs": [],
   "source": [
    "def create_data_frame(list_index, dataframe):\n",
    "    list_ = []\n",
    "    for idx in list_index:\n",
    "        list_.append(dataframe.iloc[idx,0])\n",
    "    return pd.DataFrame(np.array(list_), columns=['reaction_smiles'])\n"
   ]
  },
  {
   "cell_type": "code",
   "execution_count": 11,
   "metadata": {},
   "outputs": [
    {
     "data": {
      "text/html": [
       "<div>\n",
       "<style scoped>\n",
       "    .dataframe tbody tr th:only-of-type {\n",
       "        vertical-align: middle;\n",
       "    }\n",
       "\n",
       "    .dataframe tbody tr th {\n",
       "        vertical-align: top;\n",
       "    }\n",
       "\n",
       "    .dataframe thead th {\n",
       "        text-align: right;\n",
       "    }\n",
       "</style>\n",
       "<table border=\"1\" class=\"dataframe\">\n",
       "  <thead>\n",
       "    <tr style=\"text-align: right;\">\n",
       "      <th></th>\n",
       "      <th>ReactionSmiles</th>\n",
       "      <th>PatentNumber</th>\n",
       "      <th>Year</th>\n",
       "    </tr>\n",
       "  </thead>\n",
       "  <tbody>\n",
       "    <tr>\n",
       "      <th>0</th>\n",
       "      <td>[Br:1][CH2:2][CH2:3][OH:4].[CH2:5]([S:7](Cl)(=...</td>\n",
       "      <td>US03930836</td>\n",
       "      <td>1976</td>\n",
       "    </tr>\n",
       "    <tr>\n",
       "      <th>1</th>\n",
       "      <td>[Br:1][CH2:2][CH2:3][CH2:4][OH:5].[CH3:6][S:7]...</td>\n",
       "      <td>US03930836</td>\n",
       "      <td>1976</td>\n",
       "    </tr>\n",
       "    <tr>\n",
       "      <th>2</th>\n",
       "      <td>[CH2:1]([Cl:4])[CH2:2][OH:3].CCOCC.[CH2:10]([S...</td>\n",
       "      <td>US03930836</td>\n",
       "      <td>1976</td>\n",
       "    </tr>\n",
       "    <tr>\n",
       "      <th>3</th>\n",
       "      <td>[Br:1][CH2:2][CH2:3][OH:4].[CH2:5]([S:7](Cl)(=...</td>\n",
       "      <td>US03930839</td>\n",
       "      <td>1976</td>\n",
       "    </tr>\n",
       "    <tr>\n",
       "      <th>4</th>\n",
       "      <td>[Br:1][CH2:2][CH2:3][CH2:4][OH:5].[CH3:6][S:7]...</td>\n",
       "      <td>US03930839</td>\n",
       "      <td>1976</td>\n",
       "    </tr>\n",
       "    <tr>\n",
       "      <th>...</th>\n",
       "      <td>...</td>\n",
       "      <td>...</td>\n",
       "      <td>...</td>\n",
       "    </tr>\n",
       "    <tr>\n",
       "      <th>1995</th>\n",
       "      <td>CC(C)=[O:3].OS(O)(=O)=O.O=[Cr](=O)=O.[OH:14][C...</td>\n",
       "      <td>US03935261</td>\n",
       "      <td>1976</td>\n",
       "    </tr>\n",
       "    <tr>\n",
       "      <th>1996</th>\n",
       "      <td>[BH4-].[Na+].[O:3]=[C:4]1[CH2:8][CH2:7][CH:6](...</td>\n",
       "      <td>US03935261</td>\n",
       "      <td>1976</td>\n",
       "    </tr>\n",
       "    <tr>\n",
       "      <th>1997</th>\n",
       "      <td>[O:1]1[CH:6]=[CH:5][CH2:4][CH2:3][CH2:2]1.[OH:...</td>\n",
       "      <td>US03935261</td>\n",
       "      <td>1976</td>\n",
       "    </tr>\n",
       "    <tr>\n",
       "      <th>1998</th>\n",
       "      <td>[H-].C([Al+]CC(C)C)C(C)C.[O:11]1[CH2:16][CH2:1...</td>\n",
       "      <td>US03935261</td>\n",
       "      <td>1976</td>\n",
       "    </tr>\n",
       "    <tr>\n",
       "      <th>1999</th>\n",
       "      <td>C[C:2]([CH3:4])=[O:3].OS(O)(=O)=O.O=[Cr](=O)=O...</td>\n",
       "      <td>US03935261</td>\n",
       "      <td>1976</td>\n",
       "    </tr>\n",
       "  </tbody>\n",
       "</table>\n",
       "<p>2000 rows × 3 columns</p>\n",
       "</div>"
      ],
      "text/plain": [
       "                                         ReactionSmiles PatentNumber  Year\n",
       "0     [Br:1][CH2:2][CH2:3][OH:4].[CH2:5]([S:7](Cl)(=...   US03930836  1976\n",
       "1     [Br:1][CH2:2][CH2:3][CH2:4][OH:5].[CH3:6][S:7]...   US03930836  1976\n",
       "2     [CH2:1]([Cl:4])[CH2:2][OH:3].CCOCC.[CH2:10]([S...   US03930836  1976\n",
       "3     [Br:1][CH2:2][CH2:3][OH:4].[CH2:5]([S:7](Cl)(=...   US03930839  1976\n",
       "4     [Br:1][CH2:2][CH2:3][CH2:4][OH:5].[CH3:6][S:7]...   US03930839  1976\n",
       "...                                                 ...          ...   ...\n",
       "1995  CC(C)=[O:3].OS(O)(=O)=O.O=[Cr](=O)=O.[OH:14][C...   US03935261  1976\n",
       "1996  [BH4-].[Na+].[O:3]=[C:4]1[CH2:8][CH2:7][CH:6](...   US03935261  1976\n",
       "1997  [O:1]1[CH:6]=[CH:5][CH2:4][CH2:3][CH2:2]1.[OH:...   US03935261  1976\n",
       "1998  [H-].C([Al+]CC(C)C)C(C)C.[O:11]1[CH2:16][CH2:1...   US03935261  1976\n",
       "1999  C[C:2]([CH3:4])=[O:3].OS(O)(=O)=O.O=[Cr](=O)=O...   US03935261  1976\n",
       "\n",
       "[2000 rows x 3 columns]"
      ]
     },
     "execution_count": 11,
     "metadata": {},
     "output_type": "execute_result"
    }
   ],
   "source": [
    "data_limited"
   ]
  },
  {
   "cell_type": "code",
   "execution_count": 12,
   "metadata": {},
   "outputs": [],
   "source": [
    "def create_data_fingerprint(dataframe):\n",
    "    n = (dataframe.shape[0])\n",
    "    arr_fing = np.ndarray(shape=(n,2048), dtype=np.int8)\n",
    "    for i in range(n):\n",
    "        arr_fing[i] = np.array(fingerprint(dataframe.iloc[i,1]))\n",
    "    return pd.DataFrame(arr_fing)\n",
    "        "
   ]
  },
  {
   "cell_type": "code",
   "execution_count": 14,
   "metadata": {},
   "outputs": [],
   "source": [
    "d_reac = create_dataframe_reac_prod(data_limited)"
   ]
  },
  {
   "cell_type": "code",
   "execution_count": 16,
   "metadata": {},
   "outputs": [],
   "source": [
    "import time"
   ]
  },
  {
   "cell_type": "code",
   "execution_count": 20,
   "metadata": {
    "scrolled": true
   },
   "outputs": [
    {
     "data": {
      "text/plain": [
       "407.24169124256474"
      ]
     },
     "execution_count": 20,
     "metadata": {},
     "output_type": "execute_result"
    }
   ],
   "source": [
    "t1 = time.time()\n",
    "d_____ = create_data_fingerprint(d_reac)\n",
    "t2 = time.time()\n",
    "(t2-t1)*(750000/0.66)/2000"
   ]
  },
  {
   "cell_type": "code",
   "execution_count": null,
   "metadata": {},
   "outputs": [],
   "source": [
    "d_fp_all = create_data_fingerprint(data_reacprod)"
   ]
  },
  {
   "cell_type": "code",
   "execution_count": 71,
   "metadata": {},
   "outputs": [],
   "source": [
    "d.to_csv(\"reanuifhaiuehbiuzfe.csv\")"
   ]
  },
  {
   "cell_type": "code",
   "execution_count": 19,
   "metadata": {},
   "outputs": [],
   "source": [
    "data_f = create_data_frame(indexes_keep_alcohol(data), data)"
   ]
  },
  {
   "cell_type": "code",
   "execution_count": 22,
   "metadata": {},
   "outputs": [
    {
     "data": {
      "text/plain": [
       "701750"
      ]
     },
     "execution_count": 22,
     "metadata": {},
     "output_type": "execute_result"
    }
   ],
   "source": [
    "data_f.shape[0]"
   ]
  },
  {
   "cell_type": "code",
   "execution_count": 20,
   "metadata": {},
   "outputs": [],
   "source": [
    "data_f.to_csv(\"reactions_alcools.csv\", index=False)"
   ]
  },
  {
   "cell_type": "code",
   "execution_count": 6,
   "metadata": {},
   "outputs": [],
   "source": [
    "import pandas as pd\n",
    "import random\n",
    "import time"
   ]
  },
  {
   "cell_type": "code",
   "execution_count": 3,
   "metadata": {},
   "outputs": [],
   "source": [
    "data_reactions = pd.read_json(\"C:/Users/Yassine/Desktop/aizynth/uspto-reactions.json\")"
   ]
  }
 ],
 "metadata": {
  "kernelspec": {
   "display_name": "Python 3",
   "language": "python",
   "name": "python3"
  },
  "language_info": {
   "codemirror_mode": {
    "name": "ipython",
    "version": 3
   },
   "file_extension": ".py",
   "mimetype": "text/x-python",
   "name": "python",
   "nbconvert_exporter": "python",
   "pygments_lexer": "ipython3",
   "version": "3.8.12"
  },
  "latex_envs": {
   "LaTeX_envs_menu_present": true,
   "autoclose": false,
   "autocomplete": false,
   "bibliofile": "biblio.bib",
   "cite_by": "apalike",
   "current_citInitial": 1,
   "eqLabelWithNumbers": true,
   "eqNumInitial": 1,
   "hotkeys": {
    "equation": "Ctrl-E",
    "itemize": "Ctrl-I"
   },
   "labels_anchors": false,
   "latex_user_defs": false,
   "report_style_numbering": false,
   "user_envs_cfg": false
  }
 },
 "nbformat": 4,
 "nbformat_minor": 4
}
