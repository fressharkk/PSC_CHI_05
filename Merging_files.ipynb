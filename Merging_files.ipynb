{
 "cells": [
  {
   "cell_type": "code",
   "execution_count": 1,
   "id": "cdb2c90e",
   "metadata": {},
   "outputs": [],
   "source": [
    "import pandas as pd"
   ]
  },
  {
   "cell_type": "code",
   "execution_count": 3,
   "id": "df011f3c",
   "metadata": {},
   "outputs": [
    {
     "data": {
      "text/plain": [
       "0                           #047#051#053#075#076#150#201\n",
       "1               #003#061#068#075#076#080#082#106#201#202\n",
       "2               #037#038#039#040#075#080#082#083#201#202\n",
       "3                           #047#051#053#061#069#201#202\n",
       "4                               #061#068#069#090#201#202\n",
       "                             ...                        \n",
       "195    #037#040#047#055#056#061#068#075#080#082#133#1...\n",
       "196                 #061#068#069#075#076#078#106#201#202\n",
       "197                     #037#039#047#048#049#199#201#202\n",
       "198         #037#039#047#051#054#055#056#061#166#201#202\n",
       "199                             #027#028#029#037#039#201\n",
       "Name: Groupes, Length: 200, dtype: object"
      ]
     },
     "execution_count": 3,
     "metadata": {},
     "output_type": "execute_result"
    }
   ],
   "source": [
    "l = []\n",
    "for i in range(2000):\n",
    "    l.append(pd.read_csv(f\"Validation_Data_Groups/Data_{i}_Groups_Val.csv\"))\n"
   ]
  },
  {
   "cell_type": "code",
   "execution_count": 5,
   "id": "50390a6e",
   "metadata": {},
   "outputs": [],
   "source": [
    "data_b = pd.DataFrame(columns=['Groupes'])"
   ]
  },
  {
   "cell_type": "code",
   "execution_count": 7,
   "id": "8d39fbfc",
   "metadata": {},
   "outputs": [],
   "source": [
    "l.append(pd.read_csv(\"Validation_Data_Groups/Data_Fin_Groups_Val.csv\"))"
   ]
  },
  {
   "cell_type": "code",
   "execution_count": 9,
   "id": "796b46de",
   "metadata": {},
   "outputs": [],
   "source": [
    "l2 = [l[i]['Groupes'] for i in range(len(l))]"
   ]
  },
  {
   "cell_type": "code",
   "execution_count": 11,
   "id": "a38bcaee",
   "metadata": {},
   "outputs": [],
   "source": [
    "data_b = pd.concat(l2, ignore_index=True)"
   ]
  },
  {
   "cell_type": "code",
   "execution_count": 14,
   "id": "c819d6ab",
   "metadata": {},
   "outputs": [],
   "source": [
    "data_b.to_csv(\"Data_Validation_Groupes.csv\", index=False)"
   ]
  }
 ],
 "metadata": {
  "kernelspec": {
   "display_name": "aizynth-env",
   "language": "python",
   "name": "aizynth-env"
  },
  "language_info": {
   "codemirror_mode": {
    "name": "ipython",
    "version": 3
   },
   "file_extension": ".py",
   "mimetype": "text/x-python",
   "name": "python",
   "nbconvert_exporter": "python",
   "pygments_lexer": "ipython3",
   "version": "3.8.12"
  },
  "latex_envs": {
   "LaTeX_envs_menu_present": true,
   "autoclose": false,
   "autocomplete": false,
   "bibliofile": "biblio.bib",
   "cite_by": "apalike",
   "current_citInitial": 1,
   "eqLabelWithNumbers": true,
   "eqNumInitial": 1,
   "hotkeys": {
    "equation": "Ctrl-E",
    "itemize": "Ctrl-I"
   },
   "labels_anchors": false,
   "latex_user_defs": false,
   "report_style_numbering": false,
   "user_envs_cfg": false
  }
 },
 "nbformat": 4,
 "nbformat_minor": 5
}
