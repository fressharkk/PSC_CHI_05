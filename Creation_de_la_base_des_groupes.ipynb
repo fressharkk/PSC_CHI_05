{
 "cells": [
  {
   "cell_type": "code",
   "execution_count": 1,
   "id": "d734480d",
   "metadata": {},
   "outputs": [],
   "source": [
    "from aizynthfinder.chem import Molecule"
   ]
  },
  {
   "cell_type": "code",
   "execution_count": 2,
   "id": "066049ff",
   "metadata": {},
   "outputs": [],
   "source": [
    "import time"
   ]
  },
  {
   "cell_type": "code",
   "execution_count": 3,
   "id": "a542a76f",
   "metadata": {},
   "outputs": [],
   "source": [
    "import pandas as pd"
   ]
  },
  {
   "cell_type": "code",
   "execution_count": 4,
   "id": "da5fe5f6",
   "metadata": {},
   "outputs": [],
   "source": [
    "from tqdm.notebook import tqdm"
   ]
  },
  {
   "cell_type": "code",
   "execution_count": 5,
   "id": "1fc9b3b3",
   "metadata": {},
   "outputs": [],
   "source": [
    "def fp_from_rp(reac, prod):\n",
    "    return sum(Molecule(smiles=x).fingerprint(2) for x in reac.split(\".\")), Molecule(smiles=prod).fingerprint(2)"
   ]
  },
  {
   "cell_type": "code",
   "execution_count": 6,
   "id": "0adaf3c0",
   "metadata": {},
   "outputs": [],
   "source": [
    "def fp_from_reac(smarts):\n",
    "    return fp_from_rp(smarts.split(\">>\")[0], smarts.split(\">>\")[1])"
   ]
  },
  {
   "cell_type": "code",
   "execution_count": 7,
   "id": "3e24fc0a",
   "metadata": {},
   "outputs": [],
   "source": [
    "def model_fp_from_fp(f_r,f_p):\n",
    "    return f_p, f_p-f_r"
   ]
  },
  {
   "cell_type": "code",
   "execution_count": 8,
   "id": "b8f0de0b",
   "metadata": {},
   "outputs": [],
   "source": [
    "grp_fp = {\"Aldehyde\": \"004\",\n",
    "         \"Cetone\":\"005\",\n",
    "         \"Enamine\":\"024\",\n",
    "         \"Alcool\":\"028\",\n",
    "         \"Phenol\":\"034\",\n",
    "         \"Ether\":\"037\",\n",
    "         \"Amine\":\"047\",\n",
    "         \"Halogene\":\"061\",\n",
    "         \"Acide Carboxylique\":\"076\",\n",
    "         \"Lactone\":\"079\",\n",
    "         \"Uree\":\"133\",\n",
    "         \"Alcene\":\"199\"}"
   ]
  },
  {
   "cell_type": "code",
   "execution_count": 9,
   "id": "77d1135e",
   "metadata": {},
   "outputs": [],
   "source": [
    "def index_grp(base_grp,grps):\n",
    "    progress_bar = tqdm(total = base_grp.shape[0])\n",
    "    res_data = pd.DataFrame(columns = [\"Indices\"])\n",
    "    grps = [grp_fp[fct] for fct in grps]\n",
    "    for i in range(base_grp.shape[0]):\n",
    "        if set(grps).intersection(str(base_grp.iloc[i,1]).split(\"#\"))!=set():\n",
    "            res_data = pd.concat([res_data,pd.DataFrame(data = {\"Indices\":[i]})],ignore_index = True)\n",
    "        progress_bar.update(1)\n",
    "    return res_data\n"
   ]
  },
  {
   "cell_type": "code",
   "execution_count": 19,
   "id": "c460ce29",
   "metadata": {},
   "outputs": [],
   "source": [
    "base_grp = pd.read_csv(\"Groupes_Vraies_Reactions.csv\")"
   ]
  },
  {
   "cell_type": "code",
   "execution_count": 22,
   "id": "f572a9e2",
   "metadata": {},
   "outputs": [],
   "source": [
    "grp_fp_slice = {\"Halogene\":\"061\",\n",
    "         \"Acide Carboxylique\":\"076\",\n",
    "         \"Lactone\":\"079\",\n",
    "         \"Uree\":\"133\",\n",
    "         \"Alcene\":\"199\"}"
   ]
  },
  {
   "cell_type": "code",
   "execution_count": 23,
   "id": "8311488e",
   "metadata": {},
   "outputs": [
    {
     "data": {
      "application/vnd.jupyter.widget-view+json": {
       "model_id": "cbd7380b721e4e36a98d8488086b8cd6",
       "version_major": 2,
       "version_minor": 0
      },
      "text/plain": [
       "  0%|          | 0/1808254 [00:00<?, ?it/s]"
      ]
     },
     "metadata": {},
     "output_type": "display_data"
    },
    {
     "data": {
      "application/vnd.jupyter.widget-view+json": {
       "model_id": "364ce4b6d9cc4bcb8b0ca86eb31e8ce4",
       "version_major": 2,
       "version_minor": 0
      },
      "text/plain": [
       "  0%|          | 0/1808254 [00:00<?, ?it/s]"
      ]
     },
     "metadata": {},
     "output_type": "display_data"
    },
    {
     "data": {
      "application/vnd.jupyter.widget-view+json": {
       "model_id": "d907d67e34144b8a866c8b9926bb7158",
       "version_major": 2,
       "version_minor": 0
      },
      "text/plain": [
       "  0%|          | 0/1808254 [00:00<?, ?it/s]"
      ]
     },
     "metadata": {},
     "output_type": "display_data"
    },
    {
     "data": {
      "application/vnd.jupyter.widget-view+json": {
       "model_id": "c6a06fd02c724e148c2f552914ccc4b8",
       "version_major": 2,
       "version_minor": 0
      },
      "text/plain": [
       "  0%|          | 0/1808254 [00:00<?, ?it/s]"
      ]
     },
     "metadata": {},
     "output_type": "display_data"
    },
    {
     "data": {
      "application/vnd.jupyter.widget-view+json": {
       "model_id": "0925b83c2fb044c1bf270f6c6d849992",
       "version_major": 2,
       "version_minor": 0
      },
      "text/plain": [
       "  0%|          | 0/1808254 [00:00<?, ?it/s]"
      ]
     },
     "metadata": {},
     "output_type": "display_data"
    }
   ],
   "source": [
    "for grp in grp_fp_slice:\n",
    "    index_grp(base_grp,[grp]).to_csv(f\"{grp}_True_Reactions.csv\",index=False)"
   ]
  },
  {
   "cell_type": "code",
   "execution_count": 55,
   "id": "77920c9c",
   "metadata": {},
   "outputs": [
    {
     "data": {
      "application/vnd.jupyter.widget-view+json": {
       "model_id": "05f9735a84ec40499beff4d96669837f",
       "version_major": 2,
       "version_minor": 0
      },
      "text/plain": [
       "  0%|          | 0/250761 [00:00<?, ?it/s]"
      ]
     },
     "metadata": {},
     "output_type": "display_data"
    }
   ],
   "source": [
    "res = index_grp(base_grp,[\"Cetone\"])"
   ]
  },
  {
   "cell_type": "code",
   "execution_count": 57,
   "id": "c2af5907",
   "metadata": {},
   "outputs": [],
   "source": [
    "res.to_csv(\"Cetone_False_Reactions.csv\")"
   ]
  },
  {
   "cell_type": "code",
   "execution_count": 21,
   "id": "6e5396d9",
   "metadata": {},
   "outputs": [
    {
     "ename": "KeyError",
     "evalue": "7",
     "output_type": "error",
     "traceback": [
      "\u001b[1;31m---------------------------------------------------------------------------\u001b[0m",
      "\u001b[1;31mKeyError\u001b[0m                                  Traceback (most recent call last)",
      "\u001b[1;32m<ipython-input-21-35b4960b0f5c>\u001b[0m in \u001b[0;36m<module>\u001b[1;34m\u001b[0m\n\u001b[1;32m----> 1\u001b[1;33m \u001b[0mgrp_fp\u001b[0m\u001b[1;33m[\u001b[0m\u001b[1;36m7\u001b[0m\u001b[1;33m]\u001b[0m\u001b[1;33m\u001b[0m\u001b[1;33m\u001b[0m\u001b[0m\n\u001b[0m",
      "\u001b[1;31mKeyError\u001b[0m: 7"
     ]
    }
   ],
   "source": [
    "grp_fp[7]"
   ]
  },
  {
   "cell_type": "code",
   "execution_count": null,
   "id": "389c7fcc",
   "metadata": {},
   "outputs": [],
   "source": []
  }
 ],
 "metadata": {
  "kernelspec": {
   "display_name": "aizynth-env",
   "language": "python",
   "name": "aizynth-env"
  },
  "language_info": {
   "codemirror_mode": {
    "name": "ipython",
    "version": 3
   },
   "file_extension": ".py",
   "mimetype": "text/x-python",
   "name": "python",
   "nbconvert_exporter": "python",
   "pygments_lexer": "ipython3",
   "version": "3.8.12"
  },
  "latex_envs": {
   "LaTeX_envs_menu_present": true,
   "autoclose": false,
   "autocomplete": false,
   "bibliofile": "biblio.bib",
   "cite_by": "apalike",
   "current_citInitial": 1,
   "eqLabelWithNumbers": true,
   "eqNumInitial": 1,
   "hotkeys": {
    "equation": "Ctrl-E",
    "itemize": "Ctrl-I"
   },
   "labels_anchors": false,
   "latex_user_defs": false,
   "report_style_numbering": false,
   "user_envs_cfg": false
  }
 },
 "nbformat": 4,
 "nbformat_minor": 5
}
