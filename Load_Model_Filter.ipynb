{
 "cells": [
  {
   "cell_type": "markdown",
   "id": "a2db0b01",
   "metadata": {},
   "source": [
    "# Importations"
   ]
  },
  {
   "cell_type": "code",
   "execution_count": 5,
   "id": "813d305d",
   "metadata": {},
   "outputs": [],
   "source": [
    "import tensorflow as tf\n",
    "from tensorflow.keras.models import load_model as load_keras_model,Model,Sequential"
   ]
  },
  {
   "cell_type": "code",
   "execution_count": 2,
   "id": "c2cba1cd",
   "metadata": {},
   "outputs": [],
   "source": [
    "import tensorflow as tf"
   ]
  },
  {
   "cell_type": "code",
   "execution_count": 7,
   "id": "5e0b9f3a",
   "metadata": {},
   "outputs": [
    {
     "data": {
      "text/plain": [
       "True"
      ]
     },
     "execution_count": 7,
     "metadata": {},
     "output_type": "execute_result"
    }
   ],
   "source": [
    "tf.test.is_built_with_cuda()"
   ]
  },
  {
   "cell_type": "code",
   "execution_count": 8,
   "id": "b711ce89",
   "metadata": {},
   "outputs": [
    {
     "data": {
      "text/plain": [
       "True"
      ]
     },
     "execution_count": 8,
     "metadata": {},
     "output_type": "execute_result"
    }
   ],
   "source": [
    "tf.test.is_gpu_available(cuda_only=False, min_cuda_compute_capability=None)"
   ]
  },
  {
   "cell_type": "code",
   "execution_count": 9,
   "id": "c0f2cbc3",
   "metadata": {},
   "outputs": [
    {
     "data": {
      "text/plain": [
       "[PhysicalDevice(name='/physical_device:GPU:0', device_type='GPU')]"
      ]
     },
     "execution_count": 9,
     "metadata": {},
     "output_type": "execute_result"
    }
   ],
   "source": [
    "tf.config.list_physical_devices('GPU')"
   ]
  },
  {
   "cell_type": "code",
   "execution_count": 10,
   "id": "3de2285f",
   "metadata": {},
   "outputs": [],
   "source": [
    "from tensorflow.keras.callbacks import ReduceLROnPlateau, EarlyStopping"
   ]
  },
  {
   "cell_type": "code",
   "execution_count": 11,
   "id": "e63f74f3",
   "metadata": {},
   "outputs": [],
   "source": [
    "from tensorflow.keras.layers import Dense\n",
    "from tensorflow.keras import Input\n",
    "from tensorflow.keras.activations import relu"
   ]
  },
  {
   "cell_type": "code",
   "execution_count": 12,
   "id": "de4aceed",
   "metadata": {},
   "outputs": [],
   "source": [
    "from sklearn.model_selection import train_test_split\n",
    "from sklearn.linear_model import LogisticRegression\n",
    "from sklearn.metrics import precision_recall_fscore_support as score\n",
    "from sklearn.metrics import mean_squared_error, r2_score\n",
    "from sklearn.metrics import accuracy_score,RocCurveDisplay,roc_curve"
   ]
  },
  {
   "cell_type": "code",
   "execution_count": 13,
   "id": "ffbfc641",
   "metadata": {},
   "outputs": [],
   "source": [
    "from aizynthfinder.chem import *\n",
    "from aizynthfinder.utils import *\n",
    "from aizynthfinder.training import *\n",
    "from aizynthfinder.context import *\n",
    "import numpy as np\n"
   ]
  },
  {
   "cell_type": "code",
   "execution_count": 1,
   "id": "0c09816c",
   "metadata": {},
   "outputs": [],
   "source": [
    "from aizynthfinder.utils.models import LocalKerasModel"
   ]
  },
  {
   "cell_type": "code",
   "execution_count": 15,
   "id": "9b258a97",
   "metadata": {},
   "outputs": [],
   "source": [
    "import pandas as pd\n",
    "import numpy as np\n",
    "import matplotlib.pyplot as plt"
   ]
  },
  {
   "cell_type": "code",
   "execution_count": 16,
   "id": "182efa7e",
   "metadata": {},
   "outputs": [],
   "source": [
    "from keras.utils.vis_utils import plot_model"
   ]
  },
  {
   "cell_type": "code",
   "execution_count": 17,
   "id": "4be657b2",
   "metadata": {},
   "outputs": [],
   "source": [
    "import SelectionGroup"
   ]
  },
  {
   "cell_type": "code",
   "execution_count": 18,
   "id": "2aa27454",
   "metadata": {},
   "outputs": [],
   "source": [
    "from tqdm.notebook import tqdm"
   ]
  },
  {
   "cell_type": "code",
   "execution_count": 19,
   "id": "2b0cd50c",
   "metadata": {},
   "outputs": [],
   "source": [
    "from tensorflow.keras.optimizers import Adam"
   ]
  },
  {
   "cell_type": "markdown",
   "id": "15215bd3",
   "metadata": {},
   "source": [
    "# Modeles"
   ]
  },
  {
   "cell_type": "markdown",
   "id": "94181f2b",
   "metadata": {},
   "source": [
    "### Récupération du modèle d'aizynth et création d'un nouveau"
   ]
  },
  {
   "cell_type": "code",
   "execution_count": 4,
   "id": "5a61b902",
   "metadata": {},
   "outputs": [],
   "source": [
    "model = LocalKerasModel(\"C:/Users/Yassine/Desktop/aizynth/uspto_filter_model.hdf5\")"
   ]
  },
  {
   "cell_type": "code",
   "execution_count": 5,
   "id": "caaa6ecd",
   "metadata": {},
   "outputs": [
    {
     "name": "stdout",
     "output_type": "stream",
     "text": [
      "Model: \"model\"\n",
      "__________________________________________________________________________________________________\n",
      " Layer (type)                   Output Shape         Param #     Connected to                     \n",
      "==================================================================================================\n",
      " input_1 (InputLayer)           [(None, 2048)]       0           []                               \n",
      "                                                                                                  \n",
      " dense (Dense)                  (None, 1024)         2098176     ['input_1[0][0]']                \n",
      "                                                                                                  \n",
      " input_2 (InputLayer)           [(None, 2048)]       0           []                               \n",
      "                                                                                                  \n",
      " dropout (Dropout)              (None, 1024)         0           ['dense[0][0]']                  \n",
      "                                                                                                  \n",
      " dense_1 (Dense)                (None, 1024)         2098176     ['input_2[0][0]']                \n",
      "                                                                                                  \n",
      " dot (Dot)                      (None, 1)            0           ['dropout[0][0]',                \n",
      "                                                                  'dense_1[0][0]']                \n",
      "                                                                                                  \n",
      " dense_2 (Dense)                (None, 1)            2           ['dot[0][0]']                    \n",
      "                                                                                                  \n",
      "==================================================================================================\n",
      "Total params: 4,196,354\n",
      "Trainable params: 4,196,354\n",
      "Non-trainable params: 0\n",
      "__________________________________________________________________________________________________\n"
     ]
    }
   ],
   "source": [
    "model.model.summary()"
   ]
  },
  {
   "cell_type": "code",
   "execution_count": 21,
   "id": "7280d071",
   "metadata": {},
   "outputs": [],
   "source": [
    "model.model.trainable = False"
   ]
  },
  {
   "cell_type": "code",
   "execution_count": 22,
   "id": "b7009977",
   "metadata": {},
   "outputs": [
    {
     "name": "stdout",
     "output_type": "stream",
     "text": [
      "Model: \"model\"\n",
      "_________________________________________________________________\n",
      " Layer (type)                Output Shape              Param #   \n",
      "=================================================================\n",
      " input_1 (InputLayer)        [(None, 2048)]            0         \n",
      "                                                                 \n",
      " dense (Dense)               (None, 1024)              2098176   \n",
      "                                                                 \n",
      " dropout (Dropout)           (None, 1024)              0         \n",
      "                                                                 \n",
      "=================================================================\n",
      "Total params: 2,098,176\n",
      "Trainable params: 0\n",
      "Non-trainable params: 2,098,176\n",
      "_________________________________________________________________\n"
     ]
    }
   ],
   "source": [
    "model_wo_output1 = Model(inputs = model.model.layers[0].input, outputs = model.model.layers[3].output)\n",
    "model_wo_output1.compile()\n",
    "model_wo_output1.summary()"
   ]
  },
  {
   "cell_type": "code",
   "execution_count": 23,
   "id": "13990e53",
   "metadata": {},
   "outputs": [
    {
     "name": "stdout",
     "output_type": "stream",
     "text": [
      "Model: \"model_1\"\n",
      "_________________________________________________________________\n",
      " Layer (type)                Output Shape              Param #   \n",
      "=================================================================\n",
      " input_2 (InputLayer)        [(None, 2048)]            0         \n",
      "                                                                 \n",
      " dense_1 (Dense)             (None, 1024)              2098176   \n",
      "                                                                 \n",
      "=================================================================\n",
      "Total params: 2,098,176\n",
      "Trainable params: 0\n",
      "Non-trainable params: 2,098,176\n",
      "_________________________________________________________________\n"
     ]
    }
   ],
   "source": [
    "model_wo_output2 = Model(inputs = model.model.layers[2].input, outputs = model.model.layers[4].output)\n",
    "model_wo_output2.compile()\n",
    "model_wo_output2.summary()"
   ]
  },
  {
   "cell_type": "code",
   "execution_count": 24,
   "id": "a2cb6c0f",
   "metadata": {},
   "outputs": [],
   "source": [
    "layer_in = Input(shape = (2048,))\n",
    "hidden = Dense(1024,name = \"dense_1\")(layer_in)\n",
    "layer_out = Dense(1,name = \"dense_2\")(hidden)\n",
    "#model_tl = Model(layer_in,layer_out)"
   ]
  },
  {
   "cell_type": "code",
   "execution_count": 25,
   "id": "42e9d212",
   "metadata": {},
   "outputs": [],
   "source": [
    "concat = tf.keras.layers.Concatenate()([model.model.layers[3].output,model.model.layers[4].output])"
   ]
  },
  {
   "cell_type": "code",
   "execution_count": 77,
   "id": "bfd775b3",
   "metadata": {},
   "outputs": [
    {
     "ename": "KeyboardInterrupt",
     "evalue": "",
     "output_type": "error",
     "traceback": [
      "\u001b[1;31m---------------------------------------------------------------------------\u001b[0m",
      "\u001b[1;31mKeyboardInterrupt\u001b[0m                         Traceback (most recent call last)",
      "\u001b[1;32m<ipython-input-77-65d96726401e>\u001b[0m in \u001b[0;36m<module>\u001b[1;34m\u001b[0m\n\u001b[1;32m----> 1\u001b[1;33m \u001b[0mhidden1\u001b[0m \u001b[1;33m=\u001b[0m \u001b[0mtf\u001b[0m\u001b[1;33m.\u001b[0m\u001b[0mkeras\u001b[0m\u001b[1;33m.\u001b[0m\u001b[0mlayers\u001b[0m\u001b[1;33m.\u001b[0m\u001b[0mDense\u001b[0m\u001b[1;33m(\u001b[0m\u001b[1;36m1024\u001b[0m\u001b[1;33m,\u001b[0m\u001b[0mname\u001b[0m \u001b[1;33m=\u001b[0m \u001b[1;34m\"Dense_3\"\u001b[0m\u001b[1;33m,\u001b[0m\u001b[0mactivation\u001b[0m \u001b[1;33m=\u001b[0m \u001b[1;34m'relu'\u001b[0m\u001b[1;33m)\u001b[0m\u001b[1;33m(\u001b[0m\u001b[0mconcat\u001b[0m\u001b[1;33m)\u001b[0m\u001b[1;33m\u001b[0m\u001b[1;33m\u001b[0m\u001b[0m\n\u001b[0m\u001b[0;32m      2\u001b[0m \u001b[1;31m#hidden2 = tf.keras.layers.Dense(1024, name = \"Dense_4\")(hidden1)\u001b[0m\u001b[1;33m\u001b[0m\u001b[1;33m\u001b[0m\u001b[1;33m\u001b[0m\u001b[0m\n\u001b[0;32m      3\u001b[0m \u001b[0mlayer_out\u001b[0m \u001b[1;33m=\u001b[0m \u001b[0mtf\u001b[0m\u001b[1;33m.\u001b[0m\u001b[0mkeras\u001b[0m\u001b[1;33m.\u001b[0m\u001b[0mlayers\u001b[0m\u001b[1;33m.\u001b[0m\u001b[0mDense\u001b[0m\u001b[1;33m(\u001b[0m\u001b[1;36m1\u001b[0m\u001b[1;33m,\u001b[0m\u001b[0mname\u001b[0m \u001b[1;33m=\u001b[0m \u001b[1;34m\"dense_5\"\u001b[0m\u001b[1;33m,\u001b[0m \u001b[0mactivation\u001b[0m\u001b[1;33m=\u001b[0m \u001b[1;34m'sigmoid'\u001b[0m\u001b[1;33m)\u001b[0m\u001b[1;33m(\u001b[0m\u001b[0mhidden1\u001b[0m\u001b[1;33m)\u001b[0m\u001b[1;33m\u001b[0m\u001b[1;33m\u001b[0m\u001b[0m\n",
      "\u001b[1;32mS:\\Programmes\\Anaconda\\envs\\aizynth-env\\lib\\site-packages\\keras\\utils\\traceback_utils.py\u001b[0m in \u001b[0;36merror_handler\u001b[1;34m(*args, **kwargs)\u001b[0m\n\u001b[0;32m     62\u001b[0m     \u001b[0mfiltered_tb\u001b[0m \u001b[1;33m=\u001b[0m \u001b[1;32mNone\u001b[0m\u001b[1;33m\u001b[0m\u001b[1;33m\u001b[0m\u001b[0m\n\u001b[0;32m     63\u001b[0m     \u001b[1;32mtry\u001b[0m\u001b[1;33m:\u001b[0m\u001b[1;33m\u001b[0m\u001b[1;33m\u001b[0m\u001b[0m\n\u001b[1;32m---> 64\u001b[1;33m       \u001b[1;32mreturn\u001b[0m \u001b[0mfn\u001b[0m\u001b[1;33m(\u001b[0m\u001b[1;33m*\u001b[0m\u001b[0margs\u001b[0m\u001b[1;33m,\u001b[0m \u001b[1;33m**\u001b[0m\u001b[0mkwargs\u001b[0m\u001b[1;33m)\u001b[0m\u001b[1;33m\u001b[0m\u001b[1;33m\u001b[0m\u001b[0m\n\u001b[0m\u001b[0;32m     65\u001b[0m     \u001b[1;32mexcept\u001b[0m \u001b[0mException\u001b[0m \u001b[1;32mas\u001b[0m \u001b[0me\u001b[0m\u001b[1;33m:\u001b[0m  \u001b[1;31m# pylint: disable=broad-except\u001b[0m\u001b[1;33m\u001b[0m\u001b[1;33m\u001b[0m\u001b[0m\n\u001b[0;32m     66\u001b[0m       \u001b[0mfiltered_tb\u001b[0m \u001b[1;33m=\u001b[0m \u001b[0m_process_traceback_frames\u001b[0m\u001b[1;33m(\u001b[0m\u001b[0me\u001b[0m\u001b[1;33m.\u001b[0m\u001b[0m__traceback__\u001b[0m\u001b[1;33m)\u001b[0m\u001b[1;33m\u001b[0m\u001b[1;33m\u001b[0m\u001b[0m\n",
      "\u001b[1;32mS:\\Programmes\\Anaconda\\envs\\aizynth-env\\lib\\site-packages\\keras\\engine\\base_layer.py\u001b[0m in \u001b[0;36m__call__\u001b[1;34m(self, *args, **kwargs)\u001b[0m\n\u001b[0;32m   1030\u001b[0m     \u001b[1;31m# >> model = tf.keras.Model(inputs, outputs)\u001b[0m\u001b[1;33m\u001b[0m\u001b[1;33m\u001b[0m\u001b[1;33m\u001b[0m\u001b[0m\n\u001b[0;32m   1031\u001b[0m     \u001b[1;32mif\u001b[0m \u001b[0m_in_functional_construction_mode\u001b[0m\u001b[1;33m(\u001b[0m\u001b[0mself\u001b[0m\u001b[1;33m,\u001b[0m \u001b[0minputs\u001b[0m\u001b[1;33m,\u001b[0m \u001b[0margs\u001b[0m\u001b[1;33m,\u001b[0m \u001b[0mkwargs\u001b[0m\u001b[1;33m,\u001b[0m \u001b[0minput_list\u001b[0m\u001b[1;33m)\u001b[0m\u001b[1;33m:\u001b[0m\u001b[1;33m\u001b[0m\u001b[1;33m\u001b[0m\u001b[0m\n\u001b[1;32m-> 1032\u001b[1;33m       return self._functional_construction_call(inputs, args, kwargs,\n\u001b[0m\u001b[0;32m   1033\u001b[0m                                                 input_list)\n\u001b[0;32m   1034\u001b[0m \u001b[1;33m\u001b[0m\u001b[0m\n",
      "\u001b[1;32mS:\\Programmes\\Anaconda\\envs\\aizynth-env\\lib\\site-packages\\keras\\engine\\base_layer.py\u001b[0m in \u001b[0;36m_functional_construction_call\u001b[1;34m(self, inputs, args, kwargs, input_list)\u001b[0m\n\u001b[0;32m   1149\u001b[0m       \u001b[1;31m# Priority 3: `learning_phase()` has been set.\u001b[0m\u001b[1;33m\u001b[0m\u001b[1;33m\u001b[0m\u001b[1;33m\u001b[0m\u001b[0m\n\u001b[0;32m   1150\u001b[0m       \u001b[1;32melif\u001b[0m \u001b[0mbackend\u001b[0m\u001b[1;33m.\u001b[0m\u001b[0mglobal_learning_phase_is_set\u001b[0m\u001b[1;33m(\u001b[0m\u001b[1;33m)\u001b[0m\u001b[1;33m:\u001b[0m\u001b[1;33m\u001b[0m\u001b[1;33m\u001b[0m\u001b[0m\n\u001b[1;32m-> 1151\u001b[1;33m         \u001b[0mtraining_value\u001b[0m \u001b[1;33m=\u001b[0m \u001b[0mbackend\u001b[0m\u001b[1;33m.\u001b[0m\u001b[0mlearning_phase\u001b[0m\u001b[1;33m(\u001b[0m\u001b[1;33m)\u001b[0m\u001b[1;33m\u001b[0m\u001b[1;33m\u001b[0m\u001b[0m\n\u001b[0m\u001b[0;32m   1152\u001b[0m         \u001b[1;31m# Force the training_value to be bool type which matches to the contract\u001b[0m\u001b[1;33m\u001b[0m\u001b[1;33m\u001b[0m\u001b[1;33m\u001b[0m\u001b[0m\n\u001b[0;32m   1153\u001b[0m         \u001b[1;31m# for layer/model call args.\u001b[0m\u001b[1;33m\u001b[0m\u001b[1;33m\u001b[0m\u001b[1;33m\u001b[0m\u001b[0m\n",
      "\u001b[1;32mS:\\Programmes\\Anaconda\\envs\\aizynth-env\\lib\\site-packages\\keras\\backend.py\u001b[0m in \u001b[0;36mlearning_phase\u001b[1;34m()\u001b[0m\n\u001b[0;32m    332\u001b[0m       \u001b[0mLearning\u001b[0m \u001b[0mphase\u001b[0m \u001b[1;33m(\u001b[0m\u001b[0mscalar\u001b[0m \u001b[0minteger\u001b[0m \u001b[0mtensor\u001b[0m \u001b[1;32mor\u001b[0m \u001b[0mPython\u001b[0m \u001b[0minteger\u001b[0m\u001b[1;33m)\u001b[0m\u001b[1;33m.\u001b[0m\u001b[1;33m\u001b[0m\u001b[1;33m\u001b[0m\u001b[0m\n\u001b[0;32m    333\u001b[0m   \"\"\"\n\u001b[1;32m--> 334\u001b[1;33m   \u001b[0mgraph\u001b[0m \u001b[1;33m=\u001b[0m \u001b[0mtf\u001b[0m\u001b[1;33m.\u001b[0m\u001b[0mcompat\u001b[0m\u001b[1;33m.\u001b[0m\u001b[0mv1\u001b[0m\u001b[1;33m.\u001b[0m\u001b[0mget_default_graph\u001b[0m\u001b[1;33m(\u001b[0m\u001b[1;33m)\u001b[0m\u001b[1;33m\u001b[0m\u001b[1;33m\u001b[0m\u001b[0m\n\u001b[0m\u001b[0;32m    335\u001b[0m   \u001b[1;32mif\u001b[0m \u001b[0mgraph\u001b[0m \u001b[1;32mis\u001b[0m \u001b[0mgetattr\u001b[0m\u001b[1;33m(\u001b[0m\u001b[0m_GRAPH\u001b[0m\u001b[1;33m,\u001b[0m \u001b[1;34m'graph'\u001b[0m\u001b[1;33m,\u001b[0m \u001b[1;32mNone\u001b[0m\u001b[1;33m)\u001b[0m\u001b[1;33m:\u001b[0m\u001b[1;33m\u001b[0m\u001b[1;33m\u001b[0m\u001b[0m\n\u001b[0;32m    336\u001b[0m     \u001b[1;31m# Don't enter an init_scope for the learning phase if eager execution\u001b[0m\u001b[1;33m\u001b[0m\u001b[1;33m\u001b[0m\u001b[1;33m\u001b[0m\u001b[0m\n",
      "\u001b[1;31mKeyboardInterrupt\u001b[0m: "
     ]
    }
   ],
   "source": [
    "hidden1 = tf.keras.layers.Dense(1024,name = \"Dense_3\",activation = 'relu')(concat)\n",
    "#hidden2 = tf.keras.layers.Dense(1024, name = \"Dense_4\")(hidden1)\n",
    "layer_out = tf.keras.layers.Dense(1,name = \"dense_5\",)(hidden1)"
   ]
  },
  {
   "cell_type": "code",
   "execution_count": 66,
   "id": "948b1269",
   "metadata": {},
   "outputs": [],
   "source": [
    "new_model = Model(inputs = [model.model.layers[0].input,model.model.layers[2].input],outputs = layer_out)"
   ]
  },
  {
   "cell_type": "code",
   "execution_count": 67,
   "id": "fc64fa09",
   "metadata": {},
   "outputs": [
    {
     "name": "stdout",
     "output_type": "stream",
     "text": [
      "Model: \"model_3\"\n",
      "__________________________________________________________________________________________________\n",
      " Layer (type)                   Output Shape         Param #     Connected to                     \n",
      "==================================================================================================\n",
      " input_1 (InputLayer)           [(None, 2048)]       0           []                               \n",
      "                                                                                                  \n",
      " dense_11 (Dense)               (None, 1024)         2098176     ['input_1[0][0]']                \n",
      "                                                                                                  \n",
      " input_2 (InputLayer)           [(None, 2048)]       0           []                               \n",
      "                                                                                                  \n",
      " dropout_12 (Dropout)           (None, 1024)         0           ['dense_11[0][0]']               \n",
      "                                                                                                  \n",
      " dense_21 (Dense)               (None, 1024)         2098176     ['input_2[0][0]']                \n",
      "                                                                                                  \n",
      " concatenate (Concatenate)      (None, 2048)         0           ['dropout_12[0][0]',             \n",
      "                                                                  'dense_21[0][0]']               \n",
      "                                                                                                  \n",
      " Dense_3 (Dense)                (None, 1024)         2098176     ['concatenate[0][0]']            \n",
      "                                                                                                  \n",
      " dense_5 (Dense)                (None, 1)            1025        ['Dense_3[0][0]']                \n",
      "                                                                                                  \n",
      "==================================================================================================\n",
      "Total params: 6,295,553\n",
      "Trainable params: 2,099,201\n",
      "Non-trainable params: 4,196,352\n",
      "__________________________________________________________________________________________________\n"
     ]
    }
   ],
   "source": [
    "new_model.summary()"
   ]
  },
  {
   "cell_type": "code",
   "execution_count": 29,
   "id": "3dab37e7",
   "metadata": {},
   "outputs": [
    {
     "data": {
      "image/png": "[encoded data removed]",
      "text/plain": [
       "<IPython.core.display.Image object>"
      ]
     },
     "execution_count": 29,
     "metadata": {},
     "output_type": "execute_result"
    }
   ],
   "source": [
    "plot_model(new_model, to_file='model_plot.png', show_shapes=True, show_layer_names=True)"
   ]
  },
  {
   "cell_type": "code",
   "execution_count": 30,
   "id": "78336327",
   "metadata": {},
   "outputs": [],
   "source": [
    "new_model.layers[1]._name = \"dense_11\"\n",
    "new_model.layers[3]._name = \"dropout_12\"\n",
    "new_model.layers[4]._name = \"dense_21\""
   ]
  },
  {
   "cell_type": "code",
   "execution_count": 31,
   "id": "40c54d36",
   "metadata": {},
   "outputs": [
    {
     "name": "stdout",
     "output_type": "stream",
     "text": [
      "Model: \"model_2\"\n",
      "__________________________________________________________________________________________________\n",
      " Layer (type)                   Output Shape         Param #     Connected to                     \n",
      "==================================================================================================\n",
      " input_1 (InputLayer)           [(None, 2048)]       0           []                               \n",
      "                                                                                                  \n",
      " dense_11 (Dense)               (None, 1024)         2098176     ['input_1[0][0]']                \n",
      "                                                                                                  \n",
      " input_2 (InputLayer)           [(None, 2048)]       0           []                               \n",
      "                                                                                                  \n",
      " dropout_12 (Dropout)           (None, 1024)         0           ['dense_11[0][0]']               \n",
      "                                                                                                  \n",
      " dense_21 (Dense)               (None, 1024)         2098176     ['input_2[0][0]']                \n",
      "                                                                                                  \n",
      " concatenate (Concatenate)      (None, 2048)         0           ['dropout_12[0][0]',             \n",
      "                                                                  'dense_21[0][0]']               \n",
      "                                                                                                  \n",
      " Dense_3 (Dense)                (None, 1024)         2098176     ['concatenate[0][0]']            \n",
      "                                                                                                  \n",
      " Dense_4 (Dense)                (None, 1024)         1049600     ['Dense_3[0][0]']                \n",
      "                                                                                                  \n",
      " dense_5 (Dense)                (None, 1)            1025        ['Dense_4[0][0]']                \n",
      "                                                                                                  \n",
      "==================================================================================================\n",
      "Total params: 7,345,153\n",
      "Trainable params: 3,148,801\n",
      "Non-trainable params: 4,196,352\n",
      "__________________________________________________________________________________________________\n"
     ]
    }
   ],
   "source": [
    "\n",
    "new_model.summary()"
   ]
  },
  {
   "cell_type": "markdown",
   "id": "e0d0b23b",
   "metadata": {},
   "source": [
    "# Récupération des Datas "
   ]
  },
  {
   "cell_type": "code",
   "execution_count": 32,
   "id": "c42e89db",
   "metadata": {},
   "outputs": [],
   "source": [
    "def fp_from_fp_db(fp_db):\n",
    "    res = np.zeros(2048)\n",
    "    list_idx = fp_db.split(\" \")\n",
    "    for el in list_idx[:-1]:\n",
    "        lfp = el.split(\"-\")\n",
    "        n = len(lfp)\n",
    "        if n == 1:\n",
    "            res[int(lfp[0])] = 1\n",
    "        elif n==2:\n",
    "            res[int(lfp[0])] = int(lfp[-1])\n",
    "        else:\n",
    "            res[int(lfp[0])] = -int(lfp[-1])\n",
    "    return res"
   ]
  },
  {
   "cell_type": "code",
   "execution_count": 33,
   "id": "08e2c19c",
   "metadata": {},
   "outputs": [],
   "source": [
    "def input_model_from_db(base_fp):\n",
    "    prod_fp_db,rxn_fp_db = base_fp[\"Product_Fingerprint\"],base_fp[\"Reaction_Fingerprint\"]\n",
    "    prod_fp,rxn_fp = np.empty(base_fp.shape[0],dtype = 'object'),np.empty(base_fp.shape[0],dtype = 'object')\n",
    "    for i in range(base_fp.shape[0]):\n",
    "        prod_fp[i]=fp_from_fp_db(prod_fp_db.iloc[i])\n",
    "        rxn_fp[i]=fp_from_fp_db(rxn_fp_db.iloc[i])\n",
    "    return prod_fp,rxn_fp"
   ]
  },
  {
   "cell_type": "code",
   "execution_count": 34,
   "id": "05f5dc94",
   "metadata": {},
   "outputs": [],
   "source": [
    "def get_fp_db_from_idx(base_idx,base_fp):\n",
    "    return base_fp.iloc[base_idx[\"Indices\"].values]"
   ]
  },
  {
   "cell_type": "code",
   "execution_count": 35,
   "id": "401b449b",
   "metadata": {},
   "outputs": [],
   "source": [
    "fname_fp_false = \"C:/Users/Clément/Desktop/PSC/PSC_final/Data/False_reactions/Reactions_Fingerprint_False.csv\"\n",
    "fname_fp_true = \"C:/Users/Clément/Desktop/PSC/PSC_final/Data/True_reactions/Reactions_Fingerprint_True.csv\"\n",
    "fname_groups_false = \"C:/Users/Clément/Desktop/PSC/PSC_final/Data/False_reactions/False_reac_groups.csv\"\n",
    "fname_groups_true = \"C:/Users/Clément/Desktop/PSC/PSC_final/Data/True_reactions/True_reac_groups.csv\""
   ]
  },
  {
   "cell_type": "code",
   "execution_count": 36,
   "id": "dc82b08a",
   "metadata": {},
   "outputs": [],
   "source": [
    "data_fp_false = pd.read_csv(fname_fp_false)\n",
    "data_fp_true = pd.read_csv(fname_fp_true)\n",
    "data_groups_false = pd.read_csv(fname_groups_false)\n",
    "data_groups_true = pd.read_csv(fname_groups_true)"
   ]
  },
  {
   "cell_type": "code",
   "execution_count": 37,
   "id": "bed39f7b",
   "metadata": {},
   "outputs": [
    {
     "data": {
      "text/html": [
       "<div>\n",
       "<style scoped>\n",
       "    .dataframe tbody tr th:only-of-type {\n",
       "        vertical-align: middle;\n",
       "    }\n",
       "\n",
       "    .dataframe tbody tr th {\n",
       "        vertical-align: top;\n",
       "    }\n",
       "\n",
       "    .dataframe thead th {\n",
       "        text-align: right;\n",
       "    }\n",
       "</style>\n",
       "<table border=\"1\" class=\"dataframe\">\n",
       "  <thead>\n",
       "    <tr style=\"text-align: right;\">\n",
       "      <th></th>\n",
       "      <th>Unnamed: 0</th>\n",
       "      <th>Product_Fingerprint</th>\n",
       "      <th>Reaction_Fingerprint</th>\n",
       "    </tr>\n",
       "  </thead>\n",
       "  <tbody>\n",
       "    <tr>\n",
       "      <th>0</th>\n",
       "      <td>0</td>\n",
       "      <td>13 80 91 251 275 294 350 495 556 650 695 728 9...</td>\n",
       "      <td>13 80--2 91 124--1 222--1 275 294--1 473--1 55...</td>\n",
       "    </tr>\n",
       "    <tr>\n",
       "      <th>1</th>\n",
       "      <td>1</td>\n",
       "      <td>13 80 91 251 350 495 650 692 695 728 1057 1147...</td>\n",
       "      <td>13 80--1 91 124--1 222--1 294--1 473--1 807--1...</td>\n",
       "    </tr>\n",
       "    <tr>\n",
       "      <th>2</th>\n",
       "      <td>2</td>\n",
       "      <td>1 13 80 91 203 283 350 420 556 650 695 1057 11...</td>\n",
       "      <td>13 80--2 91 124--1 222--1 294--1 473--1 556 68...</td>\n",
       "    </tr>\n",
       "    <tr>\n",
       "      <th>3</th>\n",
       "      <td>3</td>\n",
       "      <td>13 80 91 251 275 294 350 495 556 650 695 728 9...</td>\n",
       "      <td>13 80--2 91 124--1 222--1 275 294--1 473--1 55...</td>\n",
       "    </tr>\n",
       "    <tr>\n",
       "      <th>4</th>\n",
       "      <td>4</td>\n",
       "      <td>13 80 91 251 350 495 650 692 695 728 1057 1147...</td>\n",
       "      <td>13 80--1 91 124--1 222--1 294--1 473--1 807--1...</td>\n",
       "    </tr>\n",
       "  </tbody>\n",
       "</table>\n",
       "</div>"
      ],
      "text/plain": [
       "   Unnamed: 0                                Product_Fingerprint  \\\n",
       "0           0  13 80 91 251 275 294 350 495 556 650 695 728 9...   \n",
       "1           1  13 80 91 251 350 495 650 692 695 728 1057 1147...   \n",
       "2           2  1 13 80 91 203 283 350 420 556 650 695 1057 11...   \n",
       "3           3  13 80 91 251 275 294 350 495 556 650 695 728 9...   \n",
       "4           4  13 80 91 251 350 495 650 692 695 728 1057 1147...   \n",
       "\n",
       "                                Reaction_Fingerprint  \n",
       "0  13 80--2 91 124--1 222--1 275 294--1 473--1 55...  \n",
       "1  13 80--1 91 124--1 222--1 294--1 473--1 807--1...  \n",
       "2  13 80--2 91 124--1 222--1 294--1 473--1 556 68...  \n",
       "3  13 80--2 91 124--1 222--1 275 294--1 473--1 55...  \n",
       "4  13 80--1 91 124--1 222--1 294--1 473--1 807--1...  "
      ]
     },
     "execution_count": 37,
     "metadata": {},
     "output_type": "execute_result"
    }
   ],
   "source": [
    "data_fp_true.head()"
   ]
  },
  {
   "cell_type": "code",
   "execution_count": 38,
   "id": "91626532",
   "metadata": {},
   "outputs": [
    {
     "data": {
      "text/html": [
       "<div>\n",
       "<style scoped>\n",
       "    .dataframe tbody tr th:only-of-type {\n",
       "        vertical-align: middle;\n",
       "    }\n",
       "\n",
       "    .dataframe tbody tr th {\n",
       "        vertical-align: top;\n",
       "    }\n",
       "\n",
       "    .dataframe thead th {\n",
       "        text-align: right;\n",
       "    }\n",
       "</style>\n",
       "<table border=\"1\" class=\"dataframe\">\n",
       "  <thead>\n",
       "    <tr style=\"text-align: right;\">\n",
       "      <th></th>\n",
       "      <th>Unnamed: 0</th>\n",
       "      <th>Groupes</th>\n",
       "    </tr>\n",
       "  </thead>\n",
       "  <tbody>\n",
       "    <tr>\n",
       "      <th>0</th>\n",
       "      <td>0</td>\n",
       "      <td>#061#069#201</td>\n",
       "    </tr>\n",
       "    <tr>\n",
       "      <th>1</th>\n",
       "      <td>1</td>\n",
       "      <td>#003#005#026#075#076</td>\n",
       "    </tr>\n",
       "    <tr>\n",
       "      <th>2</th>\n",
       "      <td>2</td>\n",
       "      <td>#019#037#039#075#076#201#202</td>\n",
       "    </tr>\n",
       "    <tr>\n",
       "      <th>3</th>\n",
       "      <td>3</td>\n",
       "      <td>#003#005#075#076#199</td>\n",
       "    </tr>\n",
       "    <tr>\n",
       "      <th>4</th>\n",
       "      <td>4</td>\n",
       "      <td>#009#047#048#050#061#069#075#078#080#083#084#2...</td>\n",
       "    </tr>\n",
       "  </tbody>\n",
       "</table>\n",
       "</div>"
      ],
      "text/plain": [
       "   Unnamed: 0                                            Groupes\n",
       "0           0                                       #061#069#201\n",
       "1           1                               #003#005#026#075#076\n",
       "2           2                       #019#037#039#075#076#201#202\n",
       "3           3                               #003#005#075#076#199\n",
       "4           4  #009#047#048#050#061#069#075#078#080#083#084#2..."
      ]
     },
     "execution_count": 38,
     "metadata": {},
     "output_type": "execute_result"
    }
   ],
   "source": [
    "data_groups_false.head()"
   ]
  },
  {
   "cell_type": "code",
   "execution_count": 39,
   "id": "6d5b4e30",
   "metadata": {},
   "outputs": [
    {
     "data": {
      "text/html": [
       "<div>\n",
       "<style scoped>\n",
       "    .dataframe tbody tr th:only-of-type {\n",
       "        vertical-align: middle;\n",
       "    }\n",
       "\n",
       "    .dataframe tbody tr th {\n",
       "        vertical-align: top;\n",
       "    }\n",
       "\n",
       "    .dataframe thead th {\n",
       "        text-align: right;\n",
       "    }\n",
       "</style>\n",
       "<table border=\"1\" class=\"dataframe\">\n",
       "  <thead>\n",
       "    <tr style=\"text-align: right;\">\n",
       "      <th></th>\n",
       "      <th>Unnamed: 0</th>\n",
       "      <th>Groupes</th>\n",
       "    </tr>\n",
       "  </thead>\n",
       "  <tbody>\n",
       "    <tr>\n",
       "      <th>0</th>\n",
       "      <td>0</td>\n",
       "      <td>#061#065#161#163</td>\n",
       "    </tr>\n",
       "    <tr>\n",
       "      <th>1</th>\n",
       "      <td>1</td>\n",
       "      <td>#061#065#161#163</td>\n",
       "    </tr>\n",
       "    <tr>\n",
       "      <th>2</th>\n",
       "      <td>2</td>\n",
       "      <td>#061#064#161#163</td>\n",
       "    </tr>\n",
       "    <tr>\n",
       "      <th>3</th>\n",
       "      <td>3</td>\n",
       "      <td>#061#065#161#163</td>\n",
       "    </tr>\n",
       "    <tr>\n",
       "      <th>4</th>\n",
       "      <td>4</td>\n",
       "      <td>#061#065#161#163</td>\n",
       "    </tr>\n",
       "  </tbody>\n",
       "</table>\n",
       "</div>"
      ],
      "text/plain": [
       "   Unnamed: 0           Groupes\n",
       "0           0  #061#065#161#163\n",
       "1           1  #061#065#161#163\n",
       "2           2  #061#064#161#163\n",
       "3           3  #061#065#161#163\n",
       "4           4  #061#065#161#163"
      ]
     },
     "execution_count": 39,
     "metadata": {},
     "output_type": "execute_result"
    }
   ],
   "source": [
    "data_groups_true.head()"
   ]
  },
  {
   "cell_type": "code",
   "execution_count": 40,
   "id": "14ea163f",
   "metadata": {},
   "outputs": [
    {
     "data": {
      "text/html": [
       "<div>\n",
       "<style scoped>\n",
       "    .dataframe tbody tr th:only-of-type {\n",
       "        vertical-align: middle;\n",
       "    }\n",
       "\n",
       "    .dataframe tbody tr th {\n",
       "        vertical-align: top;\n",
       "    }\n",
       "\n",
       "    .dataframe thead th {\n",
       "        text-align: right;\n",
       "    }\n",
       "</style>\n",
       "<table border=\"1\" class=\"dataframe\">\n",
       "  <thead>\n",
       "    <tr style=\"text-align: right;\">\n",
       "      <th></th>\n",
       "      <th>Unnamed: 0</th>\n",
       "      <th>Groupes</th>\n",
       "    </tr>\n",
       "  </thead>\n",
       "  <tbody>\n",
       "    <tr>\n",
       "      <th>1</th>\n",
       "      <td>1</td>\n",
       "      <td>#061#065#161#163</td>\n",
       "    </tr>\n",
       "    <tr>\n",
       "      <th>3</th>\n",
       "      <td>3</td>\n",
       "      <td>#061#065#161#163</td>\n",
       "    </tr>\n",
       "    <tr>\n",
       "      <th>4</th>\n",
       "      <td>4</td>\n",
       "      <td>#061#065#161#163</td>\n",
       "    </tr>\n",
       "    <tr>\n",
       "      <th>5</th>\n",
       "      <td>5</td>\n",
       "      <td>#061#064#161#163</td>\n",
       "    </tr>\n",
       "    <tr>\n",
       "      <th>8</th>\n",
       "      <td>8</td>\n",
       "      <td>#150#201#202</td>\n",
       "    </tr>\n",
       "  </tbody>\n",
       "</table>\n",
       "</div>"
      ],
      "text/plain": [
       "   Unnamed: 0           Groupes\n",
       "1           1  #061#065#161#163\n",
       "3           3  #061#065#161#163\n",
       "4           4  #061#065#161#163\n",
       "5           5  #061#064#161#163\n",
       "8           8      #150#201#202"
      ]
     },
     "execution_count": 40,
     "metadata": {},
     "output_type": "execute_result"
    }
   ],
   "source": [
    "data_groups_true.iloc[[1,3,4,5,8]]"
   ]
  },
  {
   "cell_type": "code",
   "execution_count": 41,
   "id": "eecca35d",
   "metadata": {},
   "outputs": [
    {
     "data": {
      "text/html": [
       "<div>\n",
       "<style scoped>\n",
       "    .dataframe tbody tr th:only-of-type {\n",
       "        vertical-align: middle;\n",
       "    }\n",
       "\n",
       "    .dataframe tbody tr th {\n",
       "        vertical-align: top;\n",
       "    }\n",
       "\n",
       "    .dataframe thead th {\n",
       "        text-align: right;\n",
       "    }\n",
       "</style>\n",
       "<table border=\"1\" class=\"dataframe\">\n",
       "  <thead>\n",
       "    <tr style=\"text-align: right;\">\n",
       "      <th></th>\n",
       "      <th>Product_Fingerprint</th>\n",
       "      <th>Reaction_Fingerprint</th>\n",
       "    </tr>\n",
       "  </thead>\n",
       "  <tbody>\n",
       "    <tr>\n",
       "      <th>0</th>\n",
       "      <td>13 80 91 251 275 294 350 495 556 650 695 728 9...</td>\n",
       "      <td>13 80--2 91 124--1 222--1 275 294--1 473--1 55...</td>\n",
       "    </tr>\n",
       "    <tr>\n",
       "      <th>1</th>\n",
       "      <td>13 80 91 251 350 495 650 692 695 728 1057 1147...</td>\n",
       "      <td>13 80--1 91 124--1 222--1 294--1 473--1 807--1...</td>\n",
       "    </tr>\n",
       "    <tr>\n",
       "      <th>2</th>\n",
       "      <td>1 13 80 91 203 283 350 420 556 650 695 1057 11...</td>\n",
       "      <td>13 80--2 91 124--1 222--1 294--1 473--1 556 68...</td>\n",
       "    </tr>\n",
       "    <tr>\n",
       "      <th>3</th>\n",
       "      <td>13 80 91 251 275 294 350 495 556 650 695 728 9...</td>\n",
       "      <td>13 80--2 91 124--1 222--1 275 294--1 473--1 55...</td>\n",
       "    </tr>\n",
       "    <tr>\n",
       "      <th>4</th>\n",
       "      <td>13 80 91 251 350 495 650 692 695 728 1057 1147...</td>\n",
       "      <td>13 80--1 91 124--1 222--1 294--1 473--1 807--1...</td>\n",
       "    </tr>\n",
       "    <tr>\n",
       "      <th>...</th>\n",
       "      <td>...</td>\n",
       "      <td>...</td>\n",
       "    </tr>\n",
       "    <tr>\n",
       "      <th>1808249</th>\n",
       "      <td>71 119 131 162 222 277 352 389 675 714 736 776...</td>\n",
       "      <td>45--1 172--1 230--1 271--1 604--1 644--1 650--...</td>\n",
       "    </tr>\n",
       "    <tr>\n",
       "      <th>1808250</th>\n",
       "      <td>33 45 58 71 131 162 222 233 239 277 352 389 60...</td>\n",
       "      <td>33 58 114--2 119--1 233 239 389--2 392--2 609 ...</td>\n",
       "    </tr>\n",
       "    <tr>\n",
       "      <th>1808251</th>\n",
       "      <td>33 45 49 58 71 131 162 233 239 352 389 461 609...</td>\n",
       "      <td>33 58 114--2 119--1 233 239 389--1 392--2 609 ...</td>\n",
       "    </tr>\n",
       "    <tr>\n",
       "      <th>1808252</th>\n",
       "      <td>33 45 49 71 131 162 238 239 352 389 461 609 62...</td>\n",
       "      <td>33 114--2 119--1 238 239 389--1 392--2 485--1 ...</td>\n",
       "    </tr>\n",
       "    <tr>\n",
       "      <th>1808253</th>\n",
       "      <td>33 45 49 133 227 238 239 352 368 389 448 609 6...</td>\n",
       "      <td>33 114--2 119--1 238 239 389--1 392--2 485--1 ...</td>\n",
       "    </tr>\n",
       "  </tbody>\n",
       "</table>\n",
       "<p>1808254 rows × 2 columns</p>\n",
       "</div>"
      ],
      "text/plain": [
       "                                       Product_Fingerprint  \\\n",
       "0        13 80 91 251 275 294 350 495 556 650 695 728 9...   \n",
       "1        13 80 91 251 350 495 650 692 695 728 1057 1147...   \n",
       "2        1 13 80 91 203 283 350 420 556 650 695 1057 11...   \n",
       "3        13 80 91 251 275 294 350 495 556 650 695 728 9...   \n",
       "4        13 80 91 251 350 495 650 692 695 728 1057 1147...   \n",
       "...                                                    ...   \n",
       "1808249  71 119 131 162 222 277 352 389 675 714 736 776...   \n",
       "1808250  33 45 58 71 131 162 222 233 239 277 352 389 60...   \n",
       "1808251  33 45 49 58 71 131 162 233 239 352 389 461 609...   \n",
       "1808252  33 45 49 71 131 162 238 239 352 389 461 609 62...   \n",
       "1808253  33 45 49 133 227 238 239 352 368 389 448 609 6...   \n",
       "\n",
       "                                      Reaction_Fingerprint  \n",
       "0        13 80--2 91 124--1 222--1 275 294--1 473--1 55...  \n",
       "1        13 80--1 91 124--1 222--1 294--1 473--1 807--1...  \n",
       "2        13 80--2 91 124--1 222--1 294--1 473--1 556 68...  \n",
       "3        13 80--2 91 124--1 222--1 275 294--1 473--1 55...  \n",
       "4        13 80--1 91 124--1 222--1 294--1 473--1 807--1...  \n",
       "...                                                    ...  \n",
       "1808249  45--1 172--1 230--1 271--1 604--1 644--1 650--...  \n",
       "1808250  33 58 114--2 119--1 233 239 389--2 392--2 609 ...  \n",
       "1808251  33 58 114--2 119--1 233 239 389--1 392--2 609 ...  \n",
       "1808252  33 114--2 119--1 238 239 389--1 392--2 485--1 ...  \n",
       "1808253  33 114--2 119--1 238 239 389--1 392--2 485--1 ...  \n",
       "\n",
       "[1808254 rows x 2 columns]"
      ]
     },
     "execution_count": 41,
     "metadata": {},
     "output_type": "execute_result"
    }
   ],
   "source": [
    "data_fp_true[[\"Product_Fingerprint\",\"Reaction_Fingerprint\"]]"
   ]
  },
  {
   "cell_type": "code",
   "execution_count": 42,
   "id": "ac35bd1e",
   "metadata": {
    "scrolled": true
   },
   "outputs": [
    {
     "data": {
      "application/vnd.jupyter.widget-view+json": {
       "model_id": "8d1c78e167744b2c9b2c5e9d09490ee9",
       "version_major": 2,
       "version_minor": 0
      },
      "text/plain": [
       "  0%|          | 0/46648 [00:00<?, ?it/s]"
      ]
     },
     "metadata": {},
     "output_type": "display_data"
    },
    {
     "data": {
      "application/vnd.jupyter.widget-view+json": {
       "model_id": "9905caab78be4acaac7302afb7be9d37",
       "version_major": 2,
       "version_minor": 0
      },
      "text/plain": [
       "  0%|          | 0/223211 [00:00<?, ?it/s]"
      ]
     },
     "metadata": {},
     "output_type": "display_data"
    }
   ],
   "source": [
    "fp_alcool = SelectionGroup.select_grp(data_fp_false,data_fp_true,[\"Alcool\"])"
   ]
  },
  {
   "cell_type": "code",
   "execution_count": 43,
   "id": "1e7d6d08",
   "metadata": {},
   "outputs": [
    {
     "data": {
      "text/plain": [
       "[(array([[0., 1., 0., ..., 0., 0., 0.],\n",
       "         [0., 1., 0., ..., 0., 0., 0.],\n",
       "         [0., 0., 0., ..., 0., 0., 0.],\n",
       "         ...,\n",
       "         [0., 1., 0., ..., 0., 0., 0.],\n",
       "         [0., 0., 0., ..., 0., 0., 0.],\n",
       "         [0., 1., 0., ..., 0., 0., 0.]]),\n",
       "  array([[ 0.,  0.,  0., ...,  0.,  0.,  0.],\n",
       "         [ 0.,  1.,  0., ...,  0.,  0.,  0.],\n",
       "         [ 0., -1., -1., ...,  0.,  0.,  0.],\n",
       "         ...,\n",
       "         [ 0.,  0.,  0., ...,  0.,  0.,  0.],\n",
       "         [ 0.,  0.,  0., ...,  0.,  0.,  0.],\n",
       "         [ 0.,  1.,  0., ...,  0.,  0.,  0.]]),\n",
       "  array([[0., 1., 0., ..., 0., 0., 0.],\n",
       "         [0., 1., 0., ..., 0., 0., 0.],\n",
       "         [0., 1., 0., ..., 0., 0., 0.],\n",
       "         ...,\n",
       "         [0., 0., 0., ..., 0., 0., 0.],\n",
       "         [0., 0., 0., ..., 0., 0., 0.],\n",
       "         [0., 0., 0., ..., 0., 0., 0.]]),\n",
       "  array([[ 0.,  0.,  0., ...,  0.,  0.,  0.],\n",
       "         [ 0.,  0.,  0., ...,  0.,  0.,  0.],\n",
       "         [ 0., -2.,  0., ...,  0.,  0.,  0.],\n",
       "         ...,\n",
       "         [ 0.,  0.,  0., ...,  0.,  0.,  0.],\n",
       "         [ 0.,  0.,  0., ...,  0.,  0.,  0.],\n",
       "         [ 0.,  0.,  0., ...,  0.,  0.,  0.]]))]"
      ]
     },
     "execution_count": 43,
     "metadata": {},
     "output_type": "execute_result"
    }
   ],
   "source": [
    "fp_alcool"
   ]
  },
  {
   "cell_type": "code",
   "execution_count": 44,
   "id": "f778b331",
   "metadata": {},
   "outputs": [
    {
     "name": "stdout",
     "output_type": "stream",
     "text": [
      "Model: \"model_2\"\n",
      "__________________________________________________________________________________________________\n",
      " Layer (type)                   Output Shape         Param #     Connected to                     \n",
      "==================================================================================================\n",
      " input_1 (InputLayer)           [(None, 2048)]       0           []                               \n",
      "                                                                                                  \n",
      " dense_11 (Dense)               (None, 1024)         2098176     ['input_1[0][0]']                \n",
      "                                                                                                  \n",
      " input_2 (InputLayer)           [(None, 2048)]       0           []                               \n",
      "                                                                                                  \n",
      " dropout_12 (Dropout)           (None, 1024)         0           ['dense_11[0][0]']               \n",
      "                                                                                                  \n",
      " dense_21 (Dense)               (None, 1024)         2098176     ['input_2[0][0]']                \n",
      "                                                                                                  \n",
      " concatenate (Concatenate)      (None, 2048)         0           ['dropout_12[0][0]',             \n",
      "                                                                  'dense_21[0][0]']               \n",
      "                                                                                                  \n",
      " Dense_3 (Dense)                (None, 1024)         2098176     ['concatenate[0][0]']            \n",
      "                                                                                                  \n",
      " Dense_4 (Dense)                (None, 1024)         1049600     ['Dense_3[0][0]']                \n",
      "                                                                                                  \n",
      " dense_5 (Dense)                (None, 1)            1025        ['Dense_4[0][0]']                \n",
      "                                                                                                  \n",
      "==================================================================================================\n",
      "Total params: 7,345,153\n",
      "Trainable params: 3,148,801\n",
      "Non-trainable params: 4,196,352\n",
      "__________________________________________________________________________________________________\n"
     ]
    }
   ],
   "source": [
    "new_model.summary()"
   ]
  },
  {
   "cell_type": "code",
   "execution_count": 45,
   "id": "987869ca",
   "metadata": {},
   "outputs": [],
   "source": [
    "a,b,c,d = fp_alcool[0]"
   ]
  },
  {
   "cell_type": "code",
   "execution_count": 46,
   "id": "c03f36b8",
   "metadata": {},
   "outputs": [
    {
     "data": {
      "text/plain": [
       "(46648, 2048)"
      ]
     },
     "execution_count": 46,
     "metadata": {},
     "output_type": "execute_result"
    }
   ],
   "source": [
    "a.shape"
   ]
  },
  {
   "cell_type": "code",
   "execution_count": 47,
   "id": "26525e3f",
   "metadata": {},
   "outputs": [
    {
     "data": {
      "text/plain": [
       "(46648, 2048)"
      ]
     },
     "execution_count": 47,
     "metadata": {},
     "output_type": "execute_result"
    }
   ],
   "source": [
    "b.shape"
   ]
  },
  {
   "cell_type": "code",
   "execution_count": 1,
   "id": "058c41ab",
   "metadata": {},
   "outputs": [
    {
     "ename": "NameError",
     "evalue": "name 'c' is not defined",
     "output_type": "error",
     "traceback": [
      "\u001b[1;31m---------------------------------------------------------------------------\u001b[0m",
      "\u001b[1;31mNameError\u001b[0m                                 Traceback (most recent call last)",
      "\u001b[1;32m<ipython-input-1-d6049491b182>\u001b[0m in \u001b[0;36m<module>\u001b[1;34m\u001b[0m\n\u001b[1;32m----> 1\u001b[1;33m \u001b[0mc\u001b[0m\u001b[1;33m.\u001b[0m\u001b[0mshape\u001b[0m\u001b[1;33m\u001b[0m\u001b[1;33m\u001b[0m\u001b[0m\n\u001b[0m",
      "\u001b[1;31mNameError\u001b[0m: name 'c' is not defined"
     ]
    }
   ],
   "source": [
    "c.shape"
   ]
  },
  {
   "cell_type": "code",
   "execution_count": 48,
   "id": "6424986d",
   "metadata": {},
   "outputs": [],
   "source": [
    "c = c[:b.shape[0]]"
   ]
  },
  {
   "cell_type": "code",
   "execution_count": 49,
   "id": "8bdb66db",
   "metadata": {},
   "outputs": [],
   "source": [
    "d = d[:b.shape[0]]"
   ]
  },
  {
   "cell_type": "code",
   "execution_count": 50,
   "id": "c57da5a0",
   "metadata": {},
   "outputs": [],
   "source": [
    "y = [1]*b.shape[0] + [0]*b.shape[0]"
   ]
  },
  {
   "cell_type": "code",
   "execution_count": 51,
   "id": "bfdda010",
   "metadata": {},
   "outputs": [],
   "source": [
    "y = np.array(y)"
   ]
  },
  {
   "cell_type": "code",
   "execution_count": 52,
   "id": "b6931c22",
   "metadata": {},
   "outputs": [],
   "source": [
    "x_prod,x_rxn = np.concatenate((a,c)),np.concatenate((b,d))"
   ]
  },
  {
   "cell_type": "code",
   "execution_count": 53,
   "id": "4033c9a6",
   "metadata": {},
   "outputs": [
    {
     "data": {
      "text/plain": [
       "(93296, 2048)"
      ]
     },
     "execution_count": 53,
     "metadata": {},
     "output_type": "execute_result"
    }
   ],
   "source": [
    "x_prod.shape"
   ]
  },
  {
   "cell_type": "markdown",
   "id": "ba6301c7",
   "metadata": {},
   "source": [
    "## SETTING UP CALLBACKS"
   ]
  },
  {
   "cell_type": "code",
   "execution_count": 54,
   "id": "0df19f0d",
   "metadata": {},
   "outputs": [],
   "source": [
    "#We set up a reducing learning rate call back\n",
    "reduce_lr = ReduceLROnPlateau(\n",
    "        monitor=\"val_loss\",\n",
    "        factor=0.5,\n",
    "        patience=10,\n",
    "        verbose=0,\n",
    "        mode=\"auto\",\n",
    "        min_delta=0.000001,\n",
    "        cooldown=0,\n",
    "        min_lr=0,\n",
    "    )"
   ]
  },
  {
   "cell_type": "code",
   "execution_count": 55,
   "id": "4e8bb512",
   "metadata": {},
   "outputs": [],
   "source": [
    "#We set up an early stopping callback\n",
    "early_stop = EarlyStopping(\n",
    "    monitor=\"val_loss\",\n",
    "    min_delta=0.01,\n",
    "    patience=20,\n",
    "    verbose=2,\n",
    "    mode=\"auto\",\n",
    "    baseline=None,\n",
    "    restore_best_weights=True\n",
    ")\n"
   ]
  },
  {
   "cell_type": "markdown",
   "id": "5ea17142",
   "metadata": {},
   "source": [
    "## Compiling Model And Fitting Data"
   ]
  },
  {
   "cell_type": "code",
   "execution_count": 68,
   "id": "66d7ceeb",
   "metadata": {},
   "outputs": [],
   "source": [
    "new_model.compile(optimizer = Adam(learning_rate=0.001, beta_1=0.9, beta_2=0.999, epsilon=None, decay=0.0),\n",
    "                 loss = \"binary_crossentropy\",\n",
    "                 metrics = ['Accuracy'])"
   ]
  },
  {
   "cell_type": "code",
   "execution_count": 69,
   "id": "0b758ab2",
   "metadata": {},
   "outputs": [
    {
     "name": "stdout",
     "output_type": "stream",
     "text": [
      "Epoch 1/100\n",
      "2624/2624 [==============================] - 13s 5ms/step - loss: 4.4630 - Accuracy: 0.7061 - val_loss: 9.5774 - val_Accuracy: 0.3700 - lr: 0.0010\n",
      "Epoch 2/100\n",
      "2624/2624 [==============================] - 10s 4ms/step - loss: 4.1789 - Accuracy: 0.7257 - val_loss: 8.8057 - val_Accuracy: 0.4218 - lr: 0.0010\n",
      "Epoch 3/100\n",
      "2624/2624 [==============================] - 10s 4ms/step - loss: 4.0054 - Accuracy: 0.7374 - val_loss: 8.1038 - val_Accuracy: 0.4676 - lr: 0.0010\n",
      "Epoch 4/100\n",
      "2624/2624 [==============================] - 10s 4ms/step - loss: 3.5698 - Accuracy: 0.7665 - val_loss: 5.2846 - val_Accuracy: 0.6534 - lr: 0.0010\n",
      "Epoch 5/100\n",
      "2624/2624 [==============================] - 10s 4ms/step - loss: 3.4945 - Accuracy: 0.7713 - val_loss: 5.0885 - val_Accuracy: 0.6660 - lr: 0.0010\n",
      "Epoch 6/100\n",
      "2624/2624 [==============================] - 11s 4ms/step - loss: 3.4845 - Accuracy: 0.7721 - val_loss: 5.0351 - val_Accuracy: 0.6696 - lr: 0.0010\n",
      "Epoch 7/100\n",
      "2624/2624 [==============================] - 10s 4ms/step - loss: 3.4625 - Accuracy: 0.7736 - val_loss: 5.7181 - val_Accuracy: 0.6245 - lr: 0.0010\n",
      "Epoch 8/100\n",
      "2624/2624 [==============================] - 10s 4ms/step - loss: 3.4188 - Accuracy: 0.7770 - val_loss: 4.8297 - val_Accuracy: 0.6833 - lr: 0.0010\n",
      "Epoch 9/100\n",
      "2624/2624 [==============================] - 11s 4ms/step - loss: 3.4903 - Accuracy: 0.7717 - val_loss: 6.1055 - val_Accuracy: 0.5992 - lr: 0.0010\n",
      "Epoch 10/100\n",
      "2624/2624 [==============================] - 10s 4ms/step - loss: 3.5047 - Accuracy: 0.7707 - val_loss: 4.6192 - val_Accuracy: 0.6970 - lr: 0.0010\n",
      "Epoch 11/100\n",
      "2624/2624 [==============================] - 10s 4ms/step - loss: 3.2907 - Accuracy: 0.7849 - val_loss: 7.5386 - val_Accuracy: 0.5055 - lr: 0.0010\n",
      "Epoch 12/100\n",
      "2624/2624 [==============================] - 10s 4ms/step - loss: 3.1545 - Accuracy: 0.7941 - val_loss: 6.4546 - val_Accuracy: 0.5766 - lr: 0.0010\n",
      "Epoch 13/100\n",
      "2624/2624 [==============================] - 10s 4ms/step - loss: 3.5523 - Accuracy: 0.7684 - val_loss: 5.5359 - val_Accuracy: 0.6369 - lr: 0.0010\n",
      "Epoch 14/100\n",
      "2624/2624 [==============================] - 10s 4ms/step - loss: 3.1629 - Accuracy: 0.7934 - val_loss: 7.1479 - val_Accuracy: 0.5311 - lr: 0.0010\n",
      "Epoch 15/100\n",
      "2624/2624 [==============================] - 10s 4ms/step - loss: 3.2814 - Accuracy: 0.7854 - val_loss: 7.4619 - val_Accuracy: 0.5104 - lr: 0.0010\n",
      "Epoch 16/100\n",
      "2624/2624 [==============================] - 10s 4ms/step - loss: 3.2097 - Accuracy: 0.7902 - val_loss: 6.8272 - val_Accuracy: 0.5522 - lr: 0.0010\n",
      "Epoch 17/100\n",
      "2624/2624 [==============================] - 10s 4ms/step - loss: 3.1128 - Accuracy: 0.7968 - val_loss: 5.7127 - val_Accuracy: 0.6252 - lr: 0.0010\n",
      "Epoch 18/100\n",
      "2624/2624 [==============================] - 10s 4ms/step - loss: 3.6078 - Accuracy: 0.7649 - val_loss: 4.0537 - val_Accuracy: 0.7340 - lr: 0.0010\n",
      "Epoch 19/100\n",
      "2624/2624 [==============================] - 11s 4ms/step - loss: 3.7441 - Accuracy: 0.7565 - val_loss: 1.1966 - val_Accuracy: 0.9213 - lr: 0.0010\n",
      "Epoch 20/100\n",
      "2624/2624 [==============================] - 10s 4ms/step - loss: 4.3011 - Accuracy: 0.7206 - val_loss: 1.5498 - val_Accuracy: 0.8982 - lr: 0.0010\n",
      "Epoch 21/100\n",
      "2624/2624 [==============================] - 11s 4ms/step - loss: 3.3369 - Accuracy: 0.7829 - val_loss: 3.5484 - val_Accuracy: 0.7673 - lr: 0.0010\n",
      "Epoch 22/100\n",
      "2624/2624 [==============================] - 10s 4ms/step - loss: 3.3720 - Accuracy: 0.7806 - val_loss: 3.6384 - val_Accuracy: 0.7613 - lr: 0.0010\n",
      "Epoch 23/100\n",
      "2624/2624 [==============================] - 11s 4ms/step - loss: 3.1099 - Accuracy: 0.7974 - val_loss: 3.7069 - val_Accuracy: 0.7569 - lr: 0.0010\n",
      "Epoch 24/100\n",
      "2624/2624 [==============================] - 11s 4ms/step - loss: 3.5703 - Accuracy: 0.7679 - val_loss: 3.1088 - val_Accuracy: 0.7960 - lr: 0.0010\n",
      "Epoch 25/100\n",
      "2624/2624 [==============================] - 11s 4ms/step - loss: 3.0791 - Accuracy: 0.7991 - val_loss: 7.2686 - val_Accuracy: 0.5232 - lr: 0.0010\n",
      "Epoch 26/100\n",
      "2624/2624 [==============================] - 11s 4ms/step - loss: 3.3784 - Accuracy: 0.7790 - val_loss: 6.5508 - val_Accuracy: 0.5704 - lr: 0.0010\n",
      "Epoch 27/100\n",
      "2624/2624 [==============================] - 11s 4ms/step - loss: 3.1176 - Accuracy: 0.7963 - val_loss: 4.9116 - val_Accuracy: 0.6778 - lr: 0.0010\n",
      "Epoch 28/100\n",
      "2624/2624 [==============================] - 11s 4ms/step - loss: 3.1967 - Accuracy: 0.7910 - val_loss: 5.6846 - val_Accuracy: 0.6272 - lr: 0.0010\n",
      "Epoch 29/100\n",
      "2624/2624 [==============================] - 11s 4ms/step - loss: 3.1311 - Accuracy: 0.7953 - val_loss: 7.6965 - val_Accuracy: 0.4953 - lr: 0.0010\n",
      "Epoch 30/100\n",
      "2624/2624 [==============================] - 10s 4ms/step - loss: 3.3253 - Accuracy: 0.7824 - val_loss: 6.6881 - val_Accuracy: 0.5614 - lr: 5.0000e-04\n",
      "Epoch 31/100\n",
      "2624/2624 [==============================] - 10s 4ms/step - loss: 3.0183 - Accuracy: 0.8028 - val_loss: 5.6453 - val_Accuracy: 0.6298 - lr: 5.0000e-04\n",
      "Epoch 32/100\n",
      "2624/2624 [==============================] - 10s 4ms/step - loss: 3.1221 - Accuracy: 0.7960 - val_loss: 5.5294 - val_Accuracy: 0.6374 - lr: 5.0000e-04\n",
      "Epoch 33/100\n",
      "2624/2624 [==============================] - 11s 4ms/step - loss: 3.0378 - Accuracy: 0.8016 - val_loss: 5.6339 - val_Accuracy: 0.6304 - lr: 5.0000e-04\n",
      "Epoch 34/100\n",
      "2624/2624 [==============================] - 10s 4ms/step - loss: 3.0296 - Accuracy: 0.8022 - val_loss: 5.3806 - val_Accuracy: 0.6472 - lr: 5.0000e-04\n",
      "Epoch 35/100\n",
      "2624/2624 [==============================] - 11s 4ms/step - loss: 3.0281 - Accuracy: 0.8022 - val_loss: 4.5862 - val_Accuracy: 0.6992 - lr: 5.0000e-04\n",
      "Epoch 36/100\n",
      "2624/2624 [==============================] - 10s 4ms/step - loss: 2.9621 - Accuracy: 0.8069 - val_loss: 4.5816 - val_Accuracy: 0.6994 - lr: 5.0000e-04\n",
      "Epoch 37/100\n",
      "2624/2624 [==============================] - 10s 4ms/step - loss: 2.9937 - Accuracy: 0.8047 - val_loss: 1.8813 - val_Accuracy: 0.8766 - lr: 5.0000e-04\n",
      "Epoch 38/100\n",
      "2624/2624 [==============================] - 10s 4ms/step - loss: 3.2488 - Accuracy: 0.7886 - val_loss: 3.9130 - val_Accuracy: 0.7433 - lr: 5.0000e-04\n",
      "Epoch 39/100\n",
      "2622/2624 [============================>.] - ETA: 0s - loss: 2.9334 - Accuracy: 0.8088Restoring model weights from the end of the best epoch: 19.\n",
      "2624/2624 [==============================] - 10s 4ms/step - loss: 2.9338 - Accuracy: 0.8087 - val_loss: 4.0538 - val_Accuracy: 0.7340 - lr: 5.0000e-04\n",
      "Epoch 39: early stopping\n"
     ]
    },
    {
     "data": {
      "text/plain": [
       "<keras.callbacks.History at 0x273544ae6a0>"
      ]
     },
     "execution_count": 69,
     "metadata": {},
     "output_type": "execute_result"
    }
   ],
   "source": [
    "new_model.fit(x = [x_prod,x_rxn],y = y,epochs = 100,verbose = 1,validation_split = 0.1, callbacks = [reduce_lr, early_stop])"
   ]
  },
  {
   "cell_type": "markdown",
   "id": "2de08e54",
   "metadata": {},
   "source": [
    "## Scoring"
   ]
  },
  {
   "cell_type": "code",
   "execution_count": 70,
   "id": "6e4a87b1",
   "metadata": {},
   "outputs": [],
   "source": [
    "y_pred = new_model.predict([x_prod, x_rxn])"
   ]
  },
  {
   "cell_type": "code",
   "execution_count": 71,
   "id": "8adfcd53",
   "metadata": {},
   "outputs": [],
   "source": [
    "y_pred_bin = [x>0.5 for x in y_pred]"
   ]
  },
  {
   "cell_type": "code",
   "execution_count": 72,
   "id": "a70f3d20",
   "metadata": {
    "scrolled": true
   },
   "outputs": [
    {
     "name": "stdout",
     "output_type": "stream",
     "text": [
      "[93296, 93296]\n",
      "[93296, 93296]\n",
      "[93296, 93296]\n"
     ]
    }
   ],
   "source": [
    "precision, recall, fscore, support = score(y, y_pred_bin, pos_label=1, average='binary')"
   ]
  },
  {
   "cell_type": "code",
   "execution_count": 73,
   "id": "99cd56c0",
   "metadata": {},
   "outputs": [
    {
     "data": {
      "text/plain": [
       "(0.8828035377271214, 0.5114045618247299, 0.6476361119029198, None)"
      ]
     },
     "execution_count": 73,
     "metadata": {},
     "output_type": "execute_result"
    }
   ],
   "source": [
    "precision, recall, fscore, support"
   ]
  },
  {
   "cell_type": "code",
   "execution_count": 74,
   "id": "77b13c1d",
   "metadata": {},
   "outputs": [],
   "source": [
    "def plot_roc_curve(y_true,y_pred):\n",
    "    fpr, tpr, thresholds = roc_curve(y_true, y_pred)\n",
    "    plot_roc_curve_from_res(fpr,tpr,thresholds)\n"
   ]
  },
  {
   "cell_type": "code",
   "execution_count": 75,
   "id": "ffaa957f",
   "metadata": {
    "scrolled": true
   },
   "outputs": [],
   "source": [
    "def plot_roc_curve_from_res(fpr,tpr,thresholds):\n",
    "    plt.plot(fpr,tpr)\n",
    "    plt.xlabel(\"taux de faux positifs\")\n",
    "    plt.ylabel(\"taux de vrais positifs\")\n",
    "    plt.show()"
   ]
  },
  {
   "cell_type": "code",
   "execution_count": 76,
   "id": "e170e1ec",
   "metadata": {},
   "outputs": [
    {
     "name": "stdout",
     "output_type": "stream",
     "text": [
      "[93296, 93296]\n"
     ]
    },
    {
     "data": {
      "image/png": "[encoded data removed]",
      "text/plain": [
       "<Figure size 432x288 with 1 Axes>"
      ]
     },
     "metadata": {
      "needs_background": "light"
     },
     "output_type": "display_data"
    }
   ],
   "source": [
    "plot_roc_curve(y,y_pred)"
   ]
  },
  {
   "cell_type": "code",
   "execution_count": 2,
   "id": "3fcee824",
   "metadata": {},
   "outputs": [],
   "source": [
    "def fp_np_arr_out_of_database(database, column_index):\n",
    "    progress_bar = tq.tqdm(total=database.shape[0])\n",
    "    res_l = []\n",
    "    for i in range(database.shape[0]):\n",
    "        try :\n",
    "            res_l.append(fp_out_of_database_line(database.iloc[i,column_index]))\n",
    "        except AttributeError :\n",
    "            continue\n",
    "        progress_bar.update(1)\n",
    "    return np.array(res_l)"
   ]
  },
  {
   "cell_type": "code",
   "execution_count": null,
   "id": "3a8f617b",
   "metadata": {},
   "outputs": [],
   "source": []
  }
 ],
 "metadata": {
  "kernelspec": {
   "display_name": "aizynth-env",
   "language": "python",
   "name": "aizynth-env"
  },
  "language_info": {
   "codemirror_mode": {
    "name": "ipython",
    "version": 3
   },
   "file_extension": ".py",
   "mimetype": "text/x-python",
   "name": "python",
   "nbconvert_exporter": "python",
   "pygments_lexer": "ipython3",
   "version": "3.8.12"
  },
  "latex_envs": {
   "LaTeX_envs_menu_present": true,
   "autoclose": false,
   "autocomplete": false,
   "bibliofile": "biblio.bib",
   "cite_by": "apalike",
   "current_citInitial": 1,
   "eqLabelWithNumbers": true,
   "eqNumInitial": 1,
   "hotkeys": {
    "equation": "Ctrl-E",
    "itemize": "Ctrl-I"
   },
   "labels_anchors": false,
   "latex_user_defs": false,
   "report_style_numbering": false,
   "user_envs_cfg": false
  }
 },
 "nbformat": 4,
 "nbformat_minor": 5
}
