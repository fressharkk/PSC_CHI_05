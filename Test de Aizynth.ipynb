{
 "cells": [
  {
   "cell_type": "code",
   "execution_count": 4,
   "metadata": {},
   "outputs": [],
   "source": [
    "import pandas as pd\n",
    "import tensorflow as tf\n",
    "import numpy as np"
   ]
  },
  {
   "cell_type": "code",
   "execution_count": 5,
   "metadata": {},
   "outputs": [],
   "source": [
    "data = pd.read_csv(\"data_petit_petit.csv\")"
   ]
  },
  {
   "cell_type": "code",
   "execution_count": 6,
   "metadata": {},
   "outputs": [
    {
     "data": {
      "text/plain": [
       "(7, 3)"
      ]
     },
     "execution_count": 6,
     "metadata": {},
     "output_type": "execute_result"
    }
   ],
   "source": [
    "data.shape"
   ]
  },
  {
   "cell_type": "code",
   "execution_count": 4,
   "metadata": {},
   "outputs": [
    {
     "name": "stderr",
     "output_type": "stream",
     "text": [
      "usage: Tool to pre-process a template library to be used to train a in-scope filter network policy [-h] config\n",
      "Tool to pre-process a template library to be used to train a in-scope filter network policy: error: unrecognized arguments: -f\n"
     ]
    },
    {
     "ename": "SystemExit",
     "evalue": "2",
     "output_type": "error",
     "traceback": [
      "An exception has occurred, use %tb to see the full traceback.\n",
      "\u001b[1;31mSystemExit\u001b[0m\u001b[1;31m:\u001b[0m 2\n"
     ]
    },
    {
     "name": "stderr",
     "output_type": "stream",
     "text": [
      "C:\\Users\\Yassine\\anaconda3\\envs\\aizynth-env\\lib\\site-packages\\IPython\\core\\interactiveshell.py:3425: UserWarning: To exit: use 'exit', 'quit', or Ctrl-D.\n",
      "  warn(\"To exit: use 'exit', 'quit', or Ctrl-D.\", stacklevel=1)\n"
     ]
    }
   ],
   "source": [
    "\"\"\" Module routines for pre-processing data for filter policy training\n",
    "\"\"\"\n",
    "import argparse\n",
    "from typing import Sequence, Optional\n",
    "\n",
    "import pandas as pd\n",
    "import numpy as np\n",
    "from scipy import sparse\n",
    "\n",
    "from aizynthfinder.training.utils import (\n",
    "    Config,\n",
    "    split_and_save_data,\n",
    "    smiles_to_fingerprint,\n",
    "    reaction_to_fingerprints,\n",
    "    split_reaction_smiles,\n",
    ")\n",
    "\n",
    "\n",
    "def _get_config(optional_args: Optional[Sequence[str]] = None) -> Config:\n",
    "    parser = argparse.ArgumentParser(\n",
    "        \"Tool to pre-process a template library to be used to train a in-scope filter network policy\"\n",
    "    )\n",
    "    parser.add_argument(\"config\", help=\"the filename to a configuration file\")\n",
    "    args = parser.parse_args(optional_args)\n",
    "\n",
    "    return Config(args.config)\n",
    "\n",
    "\n",
    "def main(optional_args: Optional[Sequence[str]] = None) -> None:\n",
    "    \"\"\"Entry-point for the preprocess_filter tool\"\"\"\n",
    "    config = _get_config(optional_args)\n",
    "\n",
    "    true_dataset = pd.read_csv(\n",
    "        config.filename(\"library\"),\n",
    "        index_col=False,\n",
    "        header=0 if config[\"in_csv_headers\"] else None,\n",
    "        names=None if config[\"in_csv_headers\"] else config[\"library_headers\"][:-1],\n",
    "        sep=config[\"csv_sep\"],\n",
    "    )\n",
    "    true_dataset[\"true_product\"] = 1\n",
    "    false_dataset = pd.read_csv(\n",
    "        config.filename(\"false_library\"),\n",
    "        index_col=False,\n",
    "        header=0 if config[\"in_csv_headers\"] else None,\n",
    "        names=None if config[\"in_csv_headers\"] else config[\"library_headers\"][:-1],\n",
    "        sep=config[\"csv_sep\"],\n",
    "    )\n",
    "    false_dataset[\"true_product\"] = 0\n",
    "    dataset = true_dataset.append(false_dataset, sort=False)\n",
    "\n",
    "    if config[\"reaction_smiles_column\"]:\n",
    "        dataset = split_reaction_smiles(dataset, config)\n",
    "\n",
    "    print(\"Dataset loaded, generating Labels...\", flush=True)\n",
    "    labels = dataset[\"true_product\"].to_numpy()\n",
    "    split_and_save_data(labels, \"labels\", config)\n",
    "\n",
    "    print(\"Labels created and split, generating Inputs...\", flush=True)\n",
    "    products = dataset[config[\"column_map\"][\"products\"]].to_numpy()\n",
    "    reactants = dataset[config[\"column_map\"][\"reactants\"]].to_numpy()\n",
    "    inputs = np.apply_along_axis(\n",
    "        reaction_to_fingerprints, 0, [products, reactants], config\n",
    "    ).astype(np.int8)\n",
    "    inputs = sparse.lil_matrix(inputs.T).tocsr()\n",
    "    split_and_save_data(inputs, \"inputs2\", config)\n",
    "\n",
    "    inputs = np.apply_along_axis(smiles_to_fingerprint, 0, [products], config).astype(\n",
    "        np.int8\n",
    "    )\n",
    "    inputs = sparse.lil_matrix(inputs.T).tocsr()\n",
    "    split_and_save_data(inputs, \"inputs\", config)\n",
    "\n",
    "    print(\"Inputs created and split, splitting Full Dataset...\", flush=True)\n",
    "    split_and_save_data(dataset, \"library\", config)\n",
    "\n",
    "\n",
    "if __name__ == \"__main__\":\n",
    "    main()\n",
    " "
   ]
  },
  {
   "cell_type": "code",
   "execution_count": 111,
   "metadata": {},
   "outputs": [],
   "source": [
    "def get_reactant_product(dataframe, column_name):\n",
    "    smiles_split = dataframe[[column_name]]\n",
    "    reactants = []\n",
    "    products = []\n",
    "    for i in smiles_split.index:\n",
    "        diviser = smiles_split[column_name][i].split(\">\")\n",
    "        reactants.append(diviser[0])\n",
    "        products.append(diviser[2])\n",
    "    return reactants, products\n",
    "\n",
    "#We do not consider the agent of the midlle"
   ]
  },
  {
   "cell_type": "code",
   "execution_count": 8,
   "metadata": {},
   "outputs": [],
   "source": [
    "reactants, products = get_reactant_product(data)"
   ]
  },
  {
   "cell_type": "code",
   "execution_count": 9,
   "metadata": {},
   "outputs": [
    {
     "data": {
      "text/plain": [
       "['[Br:1][CH2:2][CH2:3][OH:4].[CH2:5]([S:7](Cl)(=[O:9])=[O:8])[CH3:6].CCOCC',\n",
       " '[Br:1][CH2:2][CH2:3][CH2:4][OH:5].[CH3:6][S:7](Cl)(=[O:9])=[O:8].CCOCC',\n",
       " '[CH2:1]([Cl:4])[CH2:2][OH:3].CCOCC.[CH2:10]([S:14](Cl)(=[O:16])=[O:15])[CH:11]([CH3:13])[CH3:12]',\n",
       " '[Br:1][CH2:2][CH2:3][OH:4].[CH2:5]([S:7](Cl)(=[O:9])=[O:8])[CH3:6].CCOCC',\n",
       " '[Br:1][CH2:2][CH2:3][CH2:4][OH:5].[CH3:6][S:7](Cl)(=[O:9])=[O:8].CCOCC',\n",
       " '[CH2:1]([Cl:4])[CH2:2][OH:3].CCOCC.[CH2:10]([S:14](Cl)(=[O:16])=[O:15])[CH:11]([CH3:13])[CH3:12]',\n",
       " '[Cl:1][C:2]1[N:3]=[CH:4][C:5]2[C:10]([CH:11]=1)=[C:9]([N+:12]([O-])=O)[CH:8]=[CH:7][CH:6]=2.O.[OH-].[Na+]']"
      ]
     },
     "execution_count": 9,
     "metadata": {},
     "output_type": "execute_result"
    }
   ],
   "source": [
    "reactants"
   ]
  },
  {
   "cell_type": "code",
   "execution_count": 10,
   "metadata": {},
   "outputs": [
    {
     "data": {
      "text/plain": [
       "['[CH2:5]([S:7]([O:4][CH2:3][CH2:2][Br:1])(=[O:9])=[O:8])[CH3:6]',\n",
       " '[CH3:6][S:7]([O:5][CH2:4][CH2:3][CH2:2][Br:1])(=[O:9])=[O:8]',\n",
       " '[CH2:10]([S:14]([O:3][CH2:2][CH2:1][Cl:4])(=[O:16])=[O:15])[CH:11]([CH3:13])[CH3:12]',\n",
       " '[CH2:5]([S:7]([O:4][CH2:3][CH2:2][Br:1])(=[O:9])=[O:8])[CH3:6]',\n",
       " '[CH3:6][S:7]([O:5][CH2:4][CH2:3][CH2:2][Br:1])(=[O:9])=[O:8]',\n",
       " '[CH2:10]([S:14]([O:3][CH2:2][CH2:1][Cl:4])(=[O:16])=[O:15])[CH:11]([CH3:13])[CH3:12]',\n",
       " '[Cl:1][C:2]1[N:3]=[CH:4][C:5]2[C:10]([CH:11]=1)=[C:9]([NH2:12])[CH:8]=[CH:7][CH:6]=2 |f:2.3|']"
      ]
     },
     "execution_count": 10,
     "metadata": {},
     "output_type": "execute_result"
    }
   ],
   "source": [
    "products"
   ]
  },
  {
   "cell_type": "code",
   "execution_count": 84,
   "metadata": {},
   "outputs": [
    {
     "ename": "SyntaxError",
     "evalue": "'return' outside function (<ipython-input-84-5370351c53f5>, line 1)",
     "output_type": "error",
     "traceback": [
      "\u001b[1;36m  File \u001b[1;32m\"<ipython-input-84-5370351c53f5>\"\u001b[1;36m, line \u001b[1;32m1\u001b[0m\n\u001b[1;33m    return (\u001b[0m\n\u001b[1;37m    ^\u001b[0m\n\u001b[1;31mSyntaxError\u001b[0m\u001b[1;31m:\u001b[0m 'return' outside function\n"
     ]
    }
   ],
   "source": [
    "\n",
    "    return (\n",
    "        Molecule(smiles=smiles)\n",
    "        .fingerprint(\n",
    "            config[\"fingerprint_radius\"],\n",
    "            config[\"fingerprint_len\"],\n",
    "        )\n",
    "        .astype(np.int8)\n",
    "    )"
   ]
  },
  {
   "cell_type": "code",
   "execution_count": 11,
   "metadata": {},
   "outputs": [],
   "source": [
    "from aizynthfinder.chem import Molecule, MoleculeException"
   ]
  },
  {
   "cell_type": "code",
   "execution_count": 12,
   "metadata": {},
   "outputs": [],
   "source": [
    "def fingerprint(smiles):\n",
    "    return Molecule(smiles=smiles).fingerprint(2,2048).astype(np.int8)"
   ]
  },
  {
   "cell_type": "code",
   "execution_count": 13,
   "metadata": {},
   "outputs": [],
   "source": [
    "reactant_fingerprints = []\n",
    "for reac in reactants:\n",
    "    reactant_fingerprints.append(fingerprint(reac))\n"
   ]
  },
  {
   "cell_type": "code",
   "execution_count": 14,
   "metadata": {},
   "outputs": [
    {
     "data": {
      "text/plain": [
       "[array([0, 0, 0, ..., 0, 0, 0], dtype=int8),\n",
       " array([0, 0, 0, ..., 0, 0, 0], dtype=int8),\n",
       " array([0, 1, 0, ..., 0, 0, 0], dtype=int8),\n",
       " array([0, 0, 0, ..., 0, 0, 0], dtype=int8),\n",
       " array([0, 0, 0, ..., 0, 0, 0], dtype=int8),\n",
       " array([0, 1, 0, ..., 0, 0, 0], dtype=int8),\n",
       " array([0, 0, 0, ..., 0, 0, 0], dtype=int8)]"
      ]
     },
     "execution_count": 14,
     "metadata": {},
     "output_type": "execute_result"
    }
   ],
   "source": [
    "reactant_fingerprints"
   ]
  },
  {
   "cell_type": "code",
   "execution_count": 103,
   "metadata": {},
   "outputs": [
    {
     "data": {
      "text/html": [
       "<div>\n",
       "<style scoped>\n",
       "    .dataframe tbody tr th:only-of-type {\n",
       "        vertical-align: middle;\n",
       "    }\n",
       "\n",
       "    .dataframe tbody tr th {\n",
       "        vertical-align: top;\n",
       "    }\n",
       "\n",
       "    .dataframe thead th {\n",
       "        text-align: right;\n",
       "    }\n",
       "</style>\n",
       "<table border=\"1\" class=\"dataframe\">\n",
       "  <thead>\n",
       "    <tr style=\"text-align: right;\">\n",
       "      <th></th>\n",
       "      <th>ReactionSmiles</th>\n",
       "      <th>PatentNumber</th>\n",
       "      <th>Year</th>\n",
       "    </tr>\n",
       "  </thead>\n",
       "  <tbody>\n",
       "    <tr>\n",
       "      <th>0</th>\n",
       "      <td>[Br:1][CH2:2][CH2:3][OH:4].[CH2:5]([S:7](Cl)(=...</td>\n",
       "      <td>US03930836</td>\n",
       "      <td>1976</td>\n",
       "    </tr>\n",
       "    <tr>\n",
       "      <th>1</th>\n",
       "      <td>[Br:1][CH2:2][CH2:3][CH2:4][OH:5].[CH3:6][S:7]...</td>\n",
       "      <td>US03930836</td>\n",
       "      <td>1976</td>\n",
       "    </tr>\n",
       "    <tr>\n",
       "      <th>2</th>\n",
       "      <td>[CH2:1]([Cl:4])[CH2:2][OH:3].CCOCC.[CH2:10]([S...</td>\n",
       "      <td>US03930836</td>\n",
       "      <td>1976</td>\n",
       "    </tr>\n",
       "    <tr>\n",
       "      <th>3</th>\n",
       "      <td>[Br:1][CH2:2][CH2:3][OH:4].[CH2:5]([S:7](Cl)(=...</td>\n",
       "      <td>US03930839</td>\n",
       "      <td>1976</td>\n",
       "    </tr>\n",
       "    <tr>\n",
       "      <th>4</th>\n",
       "      <td>[Br:1][CH2:2][CH2:3][CH2:4][OH:5].[CH3:6][S:7]...</td>\n",
       "      <td>US03930839</td>\n",
       "      <td>1976</td>\n",
       "    </tr>\n",
       "    <tr>\n",
       "      <th>...</th>\n",
       "      <td>...</td>\n",
       "      <td>...</td>\n",
       "      <td>...</td>\n",
       "    </tr>\n",
       "    <tr>\n",
       "      <th>193424</th>\n",
       "      <td>Cl[C:2]([F:27])([F:26])[C:3]1[N:8]=[C:7]([C:9]...</td>\n",
       "      <td>US04835279</td>\n",
       "      <td>1989</td>\n",
       "    </tr>\n",
       "    <tr>\n",
       "      <th>193425</th>\n",
       "      <td>Cl[C:2]1[C:7]([C:8]([O:10][CH3:11])=[O:9])=[C:...</td>\n",
       "      <td>US04835279</td>\n",
       "      <td>1989</td>\n",
       "    </tr>\n",
       "    <tr>\n",
       "      <th>193426</th>\n",
       "      <td>Cl[C:2]1[C:7]([C:8]([O:10][CH3:11])=[O:9])=[C:...</td>\n",
       "      <td>US04835279</td>\n",
       "      <td>1989</td>\n",
       "    </tr>\n",
       "    <tr>\n",
       "      <th>193427</th>\n",
       "      <td>Cl[C:2]1[C:7]([C:8]([O:10][CH3:11])=[O:9])=[C:...</td>\n",
       "      <td>US04835279</td>\n",
       "      <td>1989</td>\n",
       "    </tr>\n",
       "    <tr>\n",
       "      <th>193428</th>\n",
       "      <td>Cl[C:2]1[C:7]([C:8]([O:10][CH3:11])=[O:9])=[C:...</td>\n",
       "      <td>US04835279</td>\n",
       "      <td>1989</td>\n",
       "    </tr>\n",
       "  </tbody>\n",
       "</table>\n",
       "<p>193429 rows × 3 columns</p>\n",
       "</div>"
      ],
      "text/plain": [
       "                                           ReactionSmiles PatentNumber  Year\n",
       "0       [Br:1][CH2:2][CH2:3][OH:4].[CH2:5]([S:7](Cl)(=...   US03930836  1976\n",
       "1       [Br:1][CH2:2][CH2:3][CH2:4][OH:5].[CH3:6][S:7]...   US03930836  1976\n",
       "2       [CH2:1]([Cl:4])[CH2:2][OH:3].CCOCC.[CH2:10]([S...   US03930836  1976\n",
       "3       [Br:1][CH2:2][CH2:3][OH:4].[CH2:5]([S:7](Cl)(=...   US03930839  1976\n",
       "4       [Br:1][CH2:2][CH2:3][CH2:4][OH:5].[CH3:6][S:7]...   US03930839  1976\n",
       "...                                                   ...          ...   ...\n",
       "193424  Cl[C:2]([F:27])([F:26])[C:3]1[N:8]=[C:7]([C:9]...   US04835279  1989\n",
       "193425  Cl[C:2]1[C:7]([C:8]([O:10][CH3:11])=[O:9])=[C:...   US04835279  1989\n",
       "193426  Cl[C:2]1[C:7]([C:8]([O:10][CH3:11])=[O:9])=[C:...   US04835279  1989\n",
       "193427  Cl[C:2]1[C:7]([C:8]([O:10][CH3:11])=[O:9])=[C:...   US04835279  1989\n",
       "193428  Cl[C:2]1[C:7]([C:8]([O:10][CH3:11])=[O:9])=[C:...   US04835279  1989\n",
       "\n",
       "[193429 rows x 3 columns]"
      ]
     },
     "execution_count": 103,
     "metadata": {},
     "output_type": "execute_result"
    }
   ],
   "source": [
    "data_large = pd.read_csv(\"reactions_large.csv\", delimiter=';')\n",
    "data_large"
   ]
  },
  {
   "cell_type": "code",
   "execution_count": 178,
   "metadata": {},
   "outputs": [],
   "source": [
    "reactants_large, products_large = get_reactant_product(data_large,\"ReactionSmiles\")\n",
    "number = 150\n",
    "reactants_large, products_large = reactants_large[:number], products_large[:number]"
   ]
  },
  {
   "cell_type": "code",
   "execution_count": 179,
   "metadata": {},
   "outputs": [
    {
     "data": {
      "text/plain": [
       "150"
      ]
     },
     "execution_count": 179,
     "metadata": {},
     "output_type": "execute_result"
    }
   ],
   "source": [
    "reactants_large_fingerprint = []\n",
    "products_large_fingerprint = []\n",
    "for reac in reactants_large:\n",
    "    reactants_large_fingerprint.append(fingerprint(reac))\n",
    "for prod in products_large:\n",
    "    products_large_fingerprint.append(fingerprint(prod))\n",
    "\n",
    "len(products_large_fingerprint)"
   ]
  },
  {
   "cell_type": "code",
   "execution_count": 180,
   "metadata": {},
   "outputs": [],
   "source": [
    "syba_reac_score = []\n",
    "n = len(reactants_large_fingerprint)\n",
    "for i in range(n):\n",
    "    syba_reac_score.append(0.1*syba.predict(smi=reactants_large[i]) +0.9*syba.predict(smi=products_large[i]))"
   ]
  },
  {
   "cell_type": "code",
   "execution_count": 181,
   "metadata": {},
   "outputs": [
    {
     "data": {
      "text/plain": [
       "[13.695508615519575,\n",
       " 19.52607875243147,\n",
       " 19.59054089859256,\n",
       " 13.695508615519575,\n",
       " 19.52607875243147,\n",
       " 19.59054089859256,\n",
       " 26.579339293967152,\n",
       " 36.981782761857204,\n",
       " 36.2495120558943,\n",
       " 48.035406516130124,\n",
       " 46.59302814095119,\n",
       " 47.50298127311075,\n",
       " 46.80738385981445,\n",
       " 35.14878355367847,\n",
       " -9.157833656019148,\n",
       " -23.47957157682729,\n",
       " 6.980376462997723,\n",
       " 21.5923560522979,\n",
       " 29.784548626507817,\n",
       " 57.77509446241738,\n",
       " 32.04616694269324,\n",
       " -2.086502633917258,\n",
       " 60.722137653799535,\n",
       " 66.91393767931494,\n",
       " -13.708247821326687,\n",
       " 17.659539945399047,\n",
       " 13.029746942486264,\n",
       " 28.7382829203047,\n",
       " 1.4019478220740287,\n",
       " 40.49535499758619,\n",
       " 22.689695856649628,\n",
       " 11.797342337409985,\n",
       " 24.678798248832173,\n",
       " 22.414784518699655,\n",
       " 29.229685351144568,\n",
       " 32.13232035808455,\n",
       " 45.24445963136218,\n",
       " 20.481317577746758,\n",
       " 20.481317577746758,\n",
       " -0.6610489765218374,\n",
       " 17.58526540529345,\n",
       " 8.684510208351695,\n",
       " 26.461839632593225,\n",
       " 13.593422485605034,\n",
       " 24.010356881298584,\n",
       " 9.267530093765206,\n",
       " 13.17971127872727,\n",
       " 26.722618624471302,\n",
       " 7.50824856888403,\n",
       " 2.3143073823165095,\n",
       " 7.946385040307579,\n",
       " 54.84187923358254,\n",
       " 45.32777543433909,\n",
       " 50.6320817958367,\n",
       " 59.13309965007411,\n",
       " 59.94187185857631,\n",
       " 85.52058944204177,\n",
       " 90.09726376149702,\n",
       " 27.267894351670126,\n",
       " 50.8049130553514,\n",
       " 71.21859700579174,\n",
       " 42.5924228196183,\n",
       " 37.33547944873079,\n",
       " 91.84936562024438,\n",
       " 72.32605939879599,\n",
       " 62.16605055943124,\n",
       " 106.5548769110188,\n",
       " 41.07730395440334,\n",
       " 53.81201804733018,\n",
       " 15.12080668540491,\n",
       " 28.145092813684695,\n",
       " 19.560285125592678,\n",
       " 23.542063189218307,\n",
       " 40.903791071181956,\n",
       " 38.97352102932014,\n",
       " 59.70162528093398,\n",
       " 53.97991390552497,\n",
       " 45.295791514081806,\n",
       " 59.27936891711556,\n",
       " 49.68708088736451,\n",
       " 64.99360554908222,\n",
       " 51.03780184488463,\n",
       " 46.93759781049551,\n",
       " 54.11090622603745,\n",
       " 35.69267050639871,\n",
       " 23.972585597567054,\n",
       " 33.143115695357366,\n",
       " 31.68075867481369,\n",
       " 10.796349447828733,\n",
       " 13.281638229824289,\n",
       " 42.310127407461295,\n",
       " 24.958065012022892,\n",
       " 6.809090638847915,\n",
       " 51.51954439856494,\n",
       " 5.1037221893831966,\n",
       " 11.463524477685464,\n",
       " 33.179437617311905,\n",
       " 36.72976144393985,\n",
       " 40.98065145358163,\n",
       " 43.94847504236486,\n",
       " 31.822562659591345,\n",
       " 19.804325156940966,\n",
       " 12.978274031801,\n",
       " 25.359616009751157,\n",
       " 20.919577036914557,\n",
       " 29.44663877213509,\n",
       " 33.60492179350062,\n",
       " 67.24759400475614,\n",
       " 33.40133417002185,\n",
       " 32.92355204919929,\n",
       " 69.85074365349826,\n",
       " 31.739048998597813,\n",
       " 23.215649108898404,\n",
       " 61.16985056385441,\n",
       " 94.37049310862133,\n",
       " 61.14790794750264,\n",
       " 59.71032229722921,\n",
       " 41.185005225161284,\n",
       " 41.03790939904007,\n",
       " 41.54064135177141,\n",
       " 35.43070993636167,\n",
       " 33.2449343294702,\n",
       " 26.742418001115333,\n",
       " 21.139196570916184,\n",
       " 33.94910198630617,\n",
       " 27.745957842794148,\n",
       " 42.22553747383377,\n",
       " 67.88315269543574,\n",
       " -2.9528484167961135,\n",
       " 11.737201337701125,\n",
       " -16.635192602038664,\n",
       " 39.381068867482526,\n",
       " 15.368217923820616,\n",
       " 85.9874512601765,\n",
       " 108.49706506305571,\n",
       " 53.62476817209267,\n",
       " 44.88018495465868,\n",
       " 66.5990821650862,\n",
       " 79.51571591220346,\n",
       " 90.68383510760438,\n",
       " 38.79597327940962,\n",
       " 11.07920055139373,\n",
       " 7.751730654335851,\n",
       " 27.519957298843785,\n",
       " 35.57326542829541,\n",
       " 13.479472651249655,\n",
       " 17.432697728874555,\n",
       " 91.55958030048147,\n",
       " 36.61539791840376,\n",
       " 22.927639628554374]"
      ]
     },
     "execution_count": 181,
     "metadata": {},
     "output_type": "execute_result"
    }
   ],
   "source": [
    "#k = len(syba_reac_score)\n",
    "#syba_reac_score = np.array(syba_reac_score)\n",
    "#mea = syba_reac_score.mean()\n",
    "#std = syba_reac_score.std()\n",
    "#syba_reac_score = (syba_reac_score-mea)/std\n",
    "syba_reac_score"
   ]
  },
  {
   "cell_type": "code",
   "execution_count": 154,
   "metadata": {},
   "outputs": [],
   "source": [
    "from sklearn.linear_model import LinearRegression\n",
    "from sklearn.model_selection import train_test_split"
   ]
  },
  {
   "cell_type": "code",
   "execution_count": 182,
   "metadata": {
    "scrolled": true
   },
   "outputs": [
    {
     "name": "stdout",
     "output_type": "stream",
     "text": [
      "[array([0, 0, 0, ..., 0, 0, 0], dtype=int8), array([0, 0, 0, ..., 0, 0, 0], dtype=int8), array([0, 1, 0, ..., 0, 0, 0], dtype=int8), array([0, 0, 0, ..., 0, 0, 0], dtype=int8), array([0, 0, 0, ..., 0, 0, 0], dtype=int8), array([0, 1, 0, ..., 0, 0, 0], dtype=int8), array([0, 0, 0, ..., 0, 0, 0], dtype=int8), array([0, 0, 0, ..., 0, 0, 0], dtype=int8), array([0, 0, 0, ..., 0, 0, 0], dtype=int8), array([0, 0, 0, ..., 0, 0, 0], dtype=int8), array([0, 0, 0, ..., 0, 0, 0], dtype=int8), array([0, 0, 0, ..., 0, 0, 0], dtype=int8), array([0, 0, 0, ..., 0, 0, 0], dtype=int8), array([0, 0, 0, ..., 0, 0, 0], dtype=int8), array([0, 1, 0, ..., 0, 0, 0], dtype=int8), array([0, 1, 0, ..., 0, 0, 0], dtype=int8), array([0, 0, 0, ..., 0, 0, 0], dtype=int8), array([0, 0, 0, ..., 0, 0, 0], dtype=int8), array([0, 0, 0, ..., 0, 0, 0], dtype=int8), array([0, 0, 0, ..., 0, 0, 0], dtype=int8), array([0, 0, 0, ..., 0, 0, 0], dtype=int8), array([0, 0, 0, ..., 0, 0, 0], dtype=int8), array([0, 0, 1, ..., 0, 0, 0], dtype=int8), array([0, 0, 0, ..., 0, 0, 0], dtype=int8), array([0, 0, 0, ..., 0, 0, 0], dtype=int8), array([0, 0, 0, ..., 0, 0, 0], dtype=int8), array([0, 1, 0, ..., 1, 0, 0], dtype=int8), array([0, 0, 0, ..., 0, 0, 0], dtype=int8), array([0, 0, 0, ..., 0, 0, 0], dtype=int8), array([0, 0, 1, ..., 0, 0, 0], dtype=int8), array([0, 0, 0, ..., 0, 0, 0], dtype=int8), array([0, 0, 0, ..., 0, 0, 0], dtype=int8), array([0, 0, 0, ..., 0, 0, 0], dtype=int8), array([0, 0, 0, ..., 0, 0, 0], dtype=int8), array([0, 0, 0, ..., 0, 0, 0], dtype=int8), array([0, 0, 0, ..., 0, 0, 0], dtype=int8), array([0, 0, 0, ..., 0, 0, 0], dtype=int8), array([0, 0, 1, ..., 0, 0, 0], dtype=int8), array([0, 0, 1, ..., 0, 0, 0], dtype=int8), array([0, 0, 0, ..., 0, 0, 0], dtype=int8), array([0, 0, 0, ..., 0, 0, 0], dtype=int8), array([0, 0, 0, ..., 0, 0, 0], dtype=int8), array([0, 0, 1, ..., 0, 0, 0], dtype=int8), array([0, 0, 1, ..., 0, 0, 0], dtype=int8), array([0, 0, 1, ..., 0, 0, 0], dtype=int8), array([0, 0, 1, ..., 0, 0, 0], dtype=int8), array([0, 1, 0, ..., 0, 0, 0], dtype=int8), array([0, 0, 0, ..., 0, 0, 0], dtype=int8), array([0, 0, 0, ..., 0, 0, 0], dtype=int8), array([0, 0, 0, ..., 0, 0, 0], dtype=int8), array([0, 0, 0, ..., 0, 0, 0], dtype=int8), array([0, 0, 0, ..., 0, 0, 0], dtype=int8), array([0, 0, 0, ..., 0, 0, 0], dtype=int8), array([0, 0, 0, ..., 0, 0, 0], dtype=int8), array([0, 0, 0, ..., 0, 0, 0], dtype=int8), array([0, 0, 0, ..., 0, 0, 0], dtype=int8), array([0, 0, 0, ..., 0, 0, 0], dtype=int8), array([0, 0, 1, ..., 0, 0, 0], dtype=int8), array([0, 0, 0, ..., 0, 0, 0], dtype=int8), array([0, 0, 0, ..., 0, 0, 0], dtype=int8), array([0, 0, 1, ..., 0, 0, 0], dtype=int8), array([0, 0, 0, ..., 0, 0, 0], dtype=int8), array([0, 0, 0, ..., 0, 0, 1], dtype=int8), array([0, 0, 0, ..., 0, 0, 0], dtype=int8), array([0, 0, 0, ..., 0, 0, 0], dtype=int8), array([0, 0, 0, ..., 0, 0, 0], dtype=int8), array([0, 0, 0, ..., 0, 0, 0], dtype=int8), array([0, 1, 0, ..., 0, 0, 0], dtype=int8), array([0, 0, 0, ..., 0, 0, 0], dtype=int8), array([0, 1, 0, ..., 0, 0, 0], dtype=int8), array([0, 0, 0, ..., 0, 0, 0], dtype=int8), array([0, 1, 0, ..., 0, 0, 0], dtype=int8), array([0, 1, 0, ..., 0, 0, 0], dtype=int8), array([0, 1, 1, ..., 0, 0, 0], dtype=int8), array([0, 1, 0, ..., 0, 0, 0], dtype=int8), array([0, 1, 0, ..., 0, 0, 0], dtype=int8), array([0, 1, 0, ..., 0, 0, 0], dtype=int8), array([0, 0, 0, ..., 0, 0, 0], dtype=int8), array([0, 0, 0, ..., 0, 0, 0], dtype=int8), array([0, 0, 0, ..., 0, 0, 0], dtype=int8), array([0, 0, 0, ..., 0, 0, 0], dtype=int8), array([0, 0, 0, ..., 0, 0, 0], dtype=int8), array([0, 0, 0, ..., 0, 0, 0], dtype=int8), array([0, 0, 0, ..., 0, 0, 0], dtype=int8), array([0, 0, 1, ..., 0, 0, 0], dtype=int8), array([0, 0, 0, ..., 0, 0, 0], dtype=int8), array([0, 0, 0, ..., 0, 0, 0], dtype=int8), array([0, 0, 0, ..., 0, 0, 0], dtype=int8), array([0, 0, 0, ..., 0, 0, 0], dtype=int8), array([0, 0, 0, ..., 0, 0, 0], dtype=int8), array([0, 0, 0, ..., 0, 0, 0], dtype=int8), array([0, 1, 0, ..., 0, 0, 0], dtype=int8), array([0, 0, 0, ..., 0, 0, 0], dtype=int8), array([0, 0, 0, ..., 0, 0, 0], dtype=int8), array([0, 1, 0, ..., 0, 0, 0], dtype=int8), array([0, 0, 0, ..., 0, 0, 0], dtype=int8), array([0, 0, 0, ..., 0, 0, 0], dtype=int8), array([0, 0, 0, ..., 0, 0, 0], dtype=int8), array([0, 0, 0, ..., 0, 0, 0], dtype=int8), array([0, 0, 0, ..., 0, 0, 0], dtype=int8), array([0, 0, 0, ..., 0, 0, 0], dtype=int8), array([0, 0, 0, ..., 0, 0, 0], dtype=int8), array([0, 1, 0, ..., 0, 0, 0], dtype=int8), array([0, 0, 0, ..., 0, 0, 0], dtype=int8), array([0, 1, 0, ..., 0, 0, 0], dtype=int8), array([0, 0, 0, ..., 0, 0, 0], dtype=int8), array([0, 0, 0, ..., 0, 0, 0], dtype=int8), array([0, 0, 0, ..., 0, 0, 0], dtype=int8), array([0, 1, 0, ..., 0, 0, 0], dtype=int8), array([0, 0, 0, ..., 0, 0, 0], dtype=int8), array([0, 0, 0, ..., 0, 0, 0], dtype=int8), array([0, 0, 0, ..., 0, 0, 0], dtype=int8), array([0, 0, 0, ..., 0, 0, 0], dtype=int8), array([0, 0, 0, ..., 0, 0, 0], dtype=int8), array([0, 0, 0, ..., 0, 0, 0], dtype=int8), array([0, 0, 0, ..., 0, 0, 0], dtype=int8), array([0, 0, 0, ..., 0, 0, 0], dtype=int8), array([0, 0, 0, ..., 0, 0, 0], dtype=int8), array([0, 0, 0, ..., 0, 0, 0], dtype=int8), array([0, 0, 0, ..., 0, 0, 0], dtype=int8), array([0, 0, 0, ..., 0, 0, 0], dtype=int8), array([0, 0, 0, ..., 0, 0, 0], dtype=int8), array([0, 0, 0, ..., 0, 0, 0], dtype=int8), array([0, 0, 0, ..., 0, 0, 0], dtype=int8), array([0, 0, 0, ..., 0, 0, 0], dtype=int8), array([0, 0, 0, ..., 0, 0, 0], dtype=int8), array([0, 0, 0, ..., 0, 0, 0], dtype=int8), array([0, 0, 0, ..., 0, 0, 0], dtype=int8), array([0, 1, 0, ..., 0, 0, 0], dtype=int8), array([0, 1, 0, ..., 0, 0, 0], dtype=int8), array([0, 0, 1, ..., 0, 0, 0], dtype=int8), array([0, 0, 0, ..., 0, 0, 0], dtype=int8), array([0, 0, 0, ..., 0, 0, 0], dtype=int8), array([0, 0, 1, ..., 0, 0, 0], dtype=int8), array([0, 1, 0, ..., 0, 0, 0], dtype=int8), array([0, 1, 0, ..., 0, 0, 0], dtype=int8), array([0, 1, 0, ..., 0, 0, 0], dtype=int8), array([0, 0, 0, ..., 0, 0, 0], dtype=int8), array([0, 0, 0, ..., 0, 0, 0], dtype=int8), array([0, 1, 0, ..., 0, 0, 0], dtype=int8), array([0, 1, 0, ..., 0, 0, 0], dtype=int8), array([0, 0, 1, ..., 0, 0, 0], dtype=int8), array([0, 0, 0, ..., 0, 0, 0], dtype=int8), array([0, 0, 0, ..., 0, 0, 0], dtype=int8), array([0, 0, 0, ..., 0, 0, 0], dtype=int8), array([0, 0, 0, ..., 0, 0, 0], dtype=int8), array([0, 0, 1, ..., 0, 0, 0], dtype=int8), array([0, 1, 0, ..., 0, 0, 0], dtype=int8), array([0, 0, 0, ..., 0, 0, 0], dtype=int8), array([0, 0, 1, ..., 0, 0, 0], dtype=int8)]\n"
     ]
    }
   ],
   "source": [
    "entree_data = []\n",
    "for i in range(n):\n",
    "    entree_data += [np.concatenate((reactants_large_fingerprint[i],products_large_fingerprint[i]))]\n",
    "print(reactants_large_fingerprint)"
   ]
  },
  {
   "cell_type": "code",
   "execution_count": 141,
   "metadata": {},
   "outputs": [
    {
     "data": {
      "text/plain": [
       "4096"
      ]
     },
     "execution_count": 141,
     "metadata": {},
     "output_type": "execute_result"
    }
   ],
   "source": [
    "len(entree_data[0])"
   ]
  },
  {
   "cell_type": "code",
   "execution_count": 142,
   "metadata": {},
   "outputs": [
    {
     "data": {
      "text/plain": [
       "100"
      ]
     },
     "execution_count": 142,
     "metadata": {},
     "output_type": "execute_result"
    }
   ],
   "source": [
    "len(syba_reac_score)"
   ]
  },
  {
   "cell_type": "code",
   "execution_count": 183,
   "metadata": {},
   "outputs": [],
   "source": [
    "x_train, x_test, y_train, y_test = train_test_split(entree_data, syba_reac_score, test_size=0.2)"
   ]
  },
  {
   "cell_type": "code",
   "execution_count": 184,
   "metadata": {},
   "outputs": [],
   "source": [
    "for i in range(len(y_train)):\n",
    "    y_train[i] = int(y_train[i])"
   ]
  },
  {
   "cell_type": "code",
   "execution_count": 185,
   "metadata": {},
   "outputs": [],
   "source": [
    "log_regression_alg = LinearRegression()"
   ]
  },
  {
   "cell_type": "code",
   "execution_count": 186,
   "metadata": {},
   "outputs": [
    {
     "data": {
      "text/plain": [
       "LinearRegression()"
      ]
     },
     "execution_count": 186,
     "metadata": {},
     "output_type": "execute_result"
    }
   ],
   "source": [
    "log_regression_alg.fit(x_train,y_train)"
   ]
  },
  {
   "cell_type": "code",
   "execution_count": 187,
   "metadata": {},
   "outputs": [],
   "source": [
    "test_predict = log_regression_alg.predict(x_test)"
   ]
  },
  {
   "cell_type": "code",
   "execution_count": 176,
   "metadata": {},
   "outputs": [
    {
     "name": "stdout",
     "output_type": "stream",
     "text": [
      "[ 7.09839718e+12  1.48594687e+12  3.58728485e+13 -7.76666716e+11\n",
      "  1.44424364e+13  5.12835007e+12 -1.68822240e+13 -3.34619564e+12\n",
      "  1.03524465e+12  6.30936151e+12  3.94895738e+13  2.72398068e+11\n",
      "  4.19660580e+11 -6.16585545e+11  2.48265560e+12  5.12835007e+12\n",
      " -6.66650249e+11  4.29632079e+11 -1.53245453e+13  1.46212446e+12\n",
      " -4.36894325e+12  2.66791992e+01  7.09839718e+12  7.01987885e+12\n",
      "  1.12711716e+12 -1.79873689e+12  5.77354290e+12 -3.02055677e+11\n",
      " -1.64231201e+12  3.43114247e+13]\n"
     ]
    }
   ],
   "source": [
    "print(test_predict)"
   ]
  },
  {
   "cell_type": "code",
   "execution_count": 188,
   "metadata": {},
   "outputs": [
    {
     "name": "stdout",
     "output_type": "stream",
     "text": [
      "[24.678798248832173, 19.52607875243147, 21.139196570916184, 19.560285125592678, 50.8049130553514, 59.71032229722921, 64.99360554908222, 13.479472651249655, 50.6320817958367, 53.81201804733018, 6.809090638847915, 66.91393767931494, 46.93759781049551, 23.215649108898404, 11.463524477685464, 13.593422485605034, 10.796349447828733, 40.903791071181956, 25.359616009751157, 11.797342337409985, 13.281638229824289, 26.722618624471302, 21.5923560522979, 23.972585597567054, 33.60492179350062, 11.07920055139373, 54.11090622603745, 20.919577036914557, 27.267894351670126, 32.04616694269324]\n"
     ]
    }
   ],
   "source": [
    "print(y_test)"
   ]
  },
  {
   "cell_type": "code",
   "execution_count": 189,
   "metadata": {},
   "outputs": [],
   "source": [
    "smi_test = \"CCC\""
   ]
  },
  {
   "cell_type": "code",
   "execution_count": 190,
   "metadata": {},
   "outputs": [
    {
     "data": {
      "text/plain": [
       "11.292091326780156"
      ]
     },
     "execution_count": 190,
     "metadata": {},
     "output_type": "execute_result"
    }
   ],
   "source": [
    "syba.predict(smi_test)"
   ]
  },
  {
   "cell_type": "code",
   "execution_count": 191,
   "metadata": {},
   "outputs": [],
   "source": [
    "from aizynthfinder.interfaces import AiZynthApp"
   ]
  },
  {
   "cell_type": "code",
   "execution_count": 192,
   "metadata": {},
   "outputs": [
    {
     "name": "stdout",
     "output_type": "stream",
     "text": [
      "Loading template-based expansion policy model from C:\\Users\\Yassine\\Desktop\\aizynthfinder-master\\models_to_load\\uspto_model.hdf5 to uspto\n",
      "Loading templates from C:\\Users\\Yassine\\Desktop\\aizynthfinder-master\\models_to_load\\uspto_templates.hdf5 to uspto\n",
      "Loading filter policy model from C:\\Users\\Yassine\\Desktop\\aizynthfinder-master\\models_to_load\\uspto_filter_model.hdf5 to uspto\n",
      "Loading stock from C:\\Users\\Yassine\\Desktop\\aizynthfinder-master\\models_to_load\\zinc_stock.hdf5 to zinc\n",
      "Selected as molecule cost: zero\n"
     ]
    },
    {
     "data": {
      "application/vnd.jupyter.widget-view+json": {
       "model_id": "d213054e020a4177a683b8358a0be45c",
       "version_major": 2,
       "version_minor": 0
      },
      "text/plain": [
       "Text(value='', continuous_update=False, description='SMILES')"
      ]
     },
     "metadata": {},
     "output_type": "display_data"
    },
    {
     "data": {
      "application/vnd.jupyter.widget-view+json": {
       "model_id": "5e5c4086b867477daaf409180e84e410",
       "version_major": 2,
       "version_minor": 0
      },
      "text/plain": [
       "Output(layout=Layout(border='1px solid silver', height='180px', width='50%'))"
      ]
     },
     "metadata": {},
     "output_type": "display_data"
    },
    {
     "data": {
      "application/vnd.jupyter.widget-view+json": {
       "model_id": "a8888e5221114c7ba02011310305e097",
       "version_major": 2,
       "version_minor": 0
      },
      "text/plain": [
       "Tab(children=(HBox(children=(VBox(children=(Label(value='Stocks'), Checkbox(value=True, description='zinc', st…"
      ]
     },
     "metadata": {},
     "output_type": "display_data"
    },
    {
     "data": {
      "application/vnd.jupyter.widget-view+json": {
       "model_id": "ca07ff0948774c768d74d8531332b98b",
       "version_major": 2,
       "version_minor": 0
      },
      "text/plain": [
       "HBox(children=(Button(description='Run Search', style=ButtonStyle()), Button(description='Extend Search', styl…"
      ]
     },
     "metadata": {},
     "output_type": "display_data"
    },
    {
     "data": {
      "application/vnd.jupyter.widget-view+json": {
       "model_id": "7319a8e8081d47f3bcfac2b73f564b0d",
       "version_major": 2,
       "version_minor": 0
      },
      "text/plain": [
       "Output(layout=Layout(border='1px solid silver', height='320px', overflow='auto', width='99%'))"
      ]
     },
     "metadata": {},
     "output_type": "display_data"
    },
    {
     "data": {
      "application/vnd.jupyter.widget-view+json": {
       "model_id": "7441972e5fbc43c7b05bd4648623ec72",
       "version_major": 2,
       "version_minor": 0
      },
      "text/plain": [
       "HBox(children=(Button(description='Show Reactions', style=ButtonStyle()), Dropdown(description='Routes: ', opt…"
      ]
     },
     "metadata": {},
     "output_type": "display_data"
    },
    {
     "data": {
      "application/vnd.jupyter.widget-view+json": {
       "model_id": "1f51de154e3a45a7b753c69120ee23b2",
       "version_major": 2,
       "version_minor": 0
      },
      "text/plain": [
       "Output(layout=Layout(border='1px solid silver', width='99%'))"
      ]
     },
     "metadata": {},
     "output_type": "display_data"
    }
   ],
   "source": [
    "configfile=r\"C:\\Users\\Yassine\\Desktop\\aizynthfinder-master\\models_to_load\\config.yml\"\n",
    "app = AiZynthApp(configfile)"
   ]
  }
 ],
 "metadata": {
  "kernelspec": {
   "display_name": "aizynth-env",
   "language": "python",
   "name": "aizynth-env"
  },
  "language_info": {
   "codemirror_mode": {
    "name": "ipython",
    "version": 3
   },
   "file_extension": ".py",
   "mimetype": "text/x-python",
   "name": "python",
   "nbconvert_exporter": "python",
   "pygments_lexer": "ipython3",
   "version": "3.8.12"
  },
  "latex_envs": {
   "LaTeX_envs_menu_present": true,
   "autoclose": false,
   "autocomplete": false,
   "bibliofile": "biblio.bib",
   "cite_by": "apalike",
   "current_citInitial": 1,
   "eqLabelWithNumbers": true,
   "eqNumInitial": 1,
   "hotkeys": {
    "equation": "Ctrl-E",
    "itemize": "Ctrl-I"
   },
   "labels_anchors": false,
   "latex_user_defs": false,
   "report_style_numbering": false,
   "user_envs_cfg": false
  }
 },
 "nbformat": 4,
 "nbformat_minor": 4
}
