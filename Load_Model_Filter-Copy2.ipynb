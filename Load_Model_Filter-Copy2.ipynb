{
 "cells": [
  {
   "cell_type": "markdown",
   "id": "a683be6b",
   "metadata": {},
   "source": [
    "# Importations"
   ]
  },
  {
   "cell_type": "code",
   "execution_count": 1,
   "id": "03614786",
   "metadata": {},
   "outputs": [],
   "source": [
    "import tensorflow as tf\n",
    "from tensorflow.keras.models import load_model as load_keras_model,Model,Sequential"
   ]
  },
  {
   "cell_type": "code",
   "execution_count": 2,
   "id": "97709a7f",
   "metadata": {},
   "outputs": [],
   "source": [
    "import tensorflow.keras as keras"
   ]
  },
  {
   "cell_type": "code",
   "execution_count": 5,
   "id": "e6f01a42",
   "metadata": {},
   "outputs": [],
   "source": [
    "from tensorflow.keras.callbacks import ReduceLROnPlateau, EarlyStopping"
   ]
  },
  {
   "cell_type": "code",
   "execution_count": 6,
   "id": "91fa573c",
   "metadata": {},
   "outputs": [],
   "source": [
    "from tensorflow.keras.layers import Dense\n",
    "from tensorflow.keras import Input\n",
    "from tensorflow.keras.activations import relu"
   ]
  },
  {
   "cell_type": "code",
   "execution_count": 7,
   "id": "24dc8306",
   "metadata": {},
   "outputs": [],
   "source": [
    "from sklearn.model_selection import train_test_split\n",
    "from sklearn.linear_model import LogisticRegression\n",
    "from sklearn.metrics import precision_recall_fscore_support as score\n",
    "from sklearn.metrics import mean_squared_error, r2_score\n",
    "from sklearn.metrics import accuracy_score,RocCurveDisplay,roc_curve, roc_auc_score"
   ]
  },
  {
   "cell_type": "code",
   "execution_count": 8,
   "id": "e21dd410",
   "metadata": {},
   "outputs": [],
   "source": [
    "from aizynthfinder.chem import *\n",
    "from aizynthfinder.utils import *\n",
    "from aizynthfinder.training import *\n",
    "from aizynthfinder.context import *"
   ]
  },
  {
   "cell_type": "code",
   "execution_count": 9,
   "id": "b5236195",
   "metadata": {},
   "outputs": [],
   "source": [
    "from aizynthfinder.utils.models import LocalKerasModel"
   ]
  },
  {
   "cell_type": "code",
   "execution_count": 10,
   "id": "f5737a1f",
   "metadata": {},
   "outputs": [],
   "source": [
    "import pandas as pd\n",
    "import numpy as np\n",
    "import matplotlib.pyplot as plt"
   ]
  },
  {
   "cell_type": "code",
   "execution_count": 11,
   "id": "73a5c99c",
   "metadata": {},
   "outputs": [],
   "source": [
    "from keras.utils.vis_utils import plot_model"
   ]
  },
  {
   "cell_type": "code",
   "execution_count": 12,
   "id": "b7aaf93e",
   "metadata": {},
   "outputs": [],
   "source": [
    "import SelectionGroup"
   ]
  },
  {
   "cell_type": "code",
   "execution_count": 13,
   "id": "a48abbbb",
   "metadata": {},
   "outputs": [],
   "source": [
    "import tqdm.notebook as tqdm"
   ]
  },
  {
   "cell_type": "code",
   "execution_count": 14,
   "id": "132b6c6e",
   "metadata": {},
   "outputs": [],
   "source": [
    "from tensorflow.keras.optimizers import Adam"
   ]
  },
  {
   "cell_type": "markdown",
   "id": "bc10d454",
   "metadata": {},
   "source": [
    "# Modeles"
   ]
  },
  {
   "cell_type": "markdown",
   "id": "b2273c84",
   "metadata": {},
   "source": [
    "### Récupération du modèle d'aizynth et création d'un nouveau modèle"
   ]
  },
  {
   "cell_type": "code",
   "execution_count": 15,
   "id": "fbf6416b",
   "metadata": {},
   "outputs": [],
   "source": [
    "def create_model(loss_function=\"binary_crossentropy\", \n",
    "                   optimizer=\"adam\", metrics=['accuracy']):\n",
    "    '''\n",
    "    Fonction permettant de récupérer le modèle d'AizynthFinder et de le modifier pour le Transfer Learning\n",
    "    '''\n",
    "    \n",
    "    #On récupère le modèle d'AizynthFinder\n",
    "    model = LocalKerasModel(\"C:/Users/Yassine/Desktop/aizynth/uspto_filter_model.hdf5\")\n",
    "    \n",
    "    #On gèle les paramètres\n",
    "    model.model.trainable = False\n",
    "    \n",
    "    #Le modèle d'AF prenant deux inputs il faut concatener les branches de l'ancien modèle\n",
    "    concat = tf.keras.layers.Concatenate()([model.model.layers[3].output,model.model.layers[4].output])\n",
    "    \n",
    "    #On rajoute deux nouveaux layers, un layer dense et un layer de sortie. \n",
    "    hidden1 = tf.keras.layers.Dense(1024,name = \"Dense_3\",activation = 'relu')(concat)\n",
    "    layer_out = tf.keras.layers.Dense(1,name = \"dense_5\", activation = \"sigmoid\")(hidden1)\n",
    "    \n",
    "    #On créé notre nouveau modèle\n",
    "    new_model = Model(inputs = [model.model.layers[0].input,model.model.layers[2].input],outputs = layer_out)\n",
    "    \n",
    "    #On enregistre le modèle sous forme de jpg à des fins d'illustration du rapport \n",
    "    plot_model(new_model, to_file='filter_model_plot.png', show_shapes=True, show_layer_names=True)\n",
    "    \n",
    "    #On compile le nouveau modèle\n",
    "    new_model.compile(loss=loss_function, optimizer=optimizer, metrics=['accuracy'])\n",
    "    return new_model"
   ]
  },
  {
   "cell_type": "markdown",
   "id": "27dd9d4b",
   "metadata": {},
   "source": [
    "### Setting Up Callbacks"
   ]
  },
  {
   "cell_type": "markdown",
   "id": "68728e58",
   "metadata": {},
   "source": [
    "#### Un callback est une fonction qui permet de modifier les hyperparamètres pendant  l'entraînement en fonction des mesures de précision à chaque epoch"
   ]
  },
  {
   "cell_type": "code",
   "execution_count": 18,
   "id": "c7739081",
   "metadata": {},
   "outputs": [],
   "source": [
    "#We set up a reducing learning rate call back\n",
    "reduce_lr = ReduceLROnPlateau(\n",
    "        monitor=\"val_loss\",\n",
    "        factor=0.8,\n",
    "        patience=10,\n",
    "        verbose=2,\n",
    "        mode=\"auto\",\n",
    "        min_delta=0.0001,\n",
    "        cooldown=0,\n",
    "        min_lr=0,)"
   ]
  },
  {
   "cell_type": "code",
   "execution_count": 17,
   "id": "34a4872b",
   "metadata": {},
   "outputs": [],
   "source": [
    "#We set up an early stopping callback\n",
    "early_stop = EarlyStopping(\n",
    "    monitor=\"val_loss\",\n",
    "    min_delta=0.01,\n",
    "    patience=25,\n",
    "    verbose=2,\n",
    "    mode=\"auto\",\n",
    "    baseline=None,\n",
    "    restore_best_weights=True\n",
    ")\n"
   ]
  },
  {
   "cell_type": "markdown",
   "id": "b3ec6e3b",
   "metadata": {},
   "source": [
    "# Récupération des Datas "
   ]
  },
  {
   "cell_type": "code",
   "execution_count": 19,
   "id": "5e5a4e6a",
   "metadata": {},
   "outputs": [],
   "source": [
    "fname_fp_false = \"C:/Users/Yassine/Desktop/PSC/PSC_final/Data/False_reactions/Reactions_Fingerprint_False.csv\"\n",
    "fname_fp_true = \"C:/Users/Yassine/Desktop/PSC/PSC_final/Data/True_reactions/Reactions_Fingerprint_True.csv\"\n",
    "fname_groups_false = \"C:/Users/Yassine/Desktop/PSC/PSC_final/Data/False_reactions/False_reac_groups.csv\"\n",
    "fname_groups_true = \"C:/Users/Yassine/Desktop/PSC/PSC_final/Data/True_reactions/True_reac_groups.csv\"\n"
   ]
  },
  {
   "cell_type": "code",
   "execution_count": 20,
   "id": "b6012169",
   "metadata": {},
   "outputs": [],
   "source": [
    "data_fp_false = pd.read_csv(fname_fp_false)\n",
    "data_fp_true = pd.read_csv(fname_fp_true)\n",
    "data_groups_false = pd.read_csv(fname_groups_false)\n",
    "data_groups_true = pd.read_csv(fname_groups_true)"
   ]
  },
  {
   "cell_type": "code",
   "execution_count": 21,
   "id": "18513faf",
   "metadata": {},
   "outputs": [],
   "source": [
    "#Les fonctions permettant de traiter les données pour qu'elles soient adaptées aux entrées des modèles\n",
    "\n",
    "def fp_from_fp_db(fp_db):\n",
    "    res = np.zeros(2048)\n",
    "    list_idx = fp_db.split(\" \")\n",
    "    for el in list_idx[:-1]:\n",
    "        lfp = el.split(\"-\")\n",
    "        n = len(lfp)\n",
    "        if n == 1:\n",
    "            res[int(lfp[0])] = 1\n",
    "        elif n==2:\n",
    "            res[int(lfp[0])] = int(lfp[-1])\n",
    "        else:\n",
    "            res[int(lfp[0])] = -int(lfp[-1])\n",
    "    return res\n",
    "\n",
    "def input_model_from_db(base_fp):\n",
    "    prod_fp_db,rxn_fp_db = base_fp[\"Product_Fingerprint\"],base_fp[\"Reaction_Fingerprint\"]\n",
    "    prod_fp,rxn_fp = np.empty(base_fp.shape[0],dtype = 'object'),np.empty(base_fp.shape[0],dtype = 'object')\n",
    "    for i in range(base_fp.shape[0]):\n",
    "        prod_fp[i]=fp_from_fp_db(prod_fp_db.iloc[i])\n",
    "        rxn_fp[i]=fp_from_fp_db(rxn_fp_db.iloc[i])\n",
    "    return prod_fp,rxn_fp\n",
    "\n",
    "def get_fp_db_from_idx(base_idx,base_fp):\n",
    "    return base_fp.iloc[base_idx[\"Indices\"].values]"
   ]
  },
  {
   "cell_type": "code",
   "execution_count": 22,
   "id": "86bda38d",
   "metadata": {},
   "outputs": [],
   "source": [
    "def get_data(data_fp_false,data_fp_true,grps):\n",
    "    res = []\n",
    "    fp_grps = SelectionGroup.select_grp(data_fp_false,data_fp_true,grps)\n",
    "    for prod_fp_false,rxn_fp_false,prod_fp_true,rxn_fp_true in fp_grps:\n",
    "        #n = min(prod_fp_false.shape[0],rxn_fp_false.shape[0],prod_fp_true.shape[0],rxn_fp_true.shape[0])\n",
    "        #prod_fp_false,rxn_fp_false,prod_fp_true,rxn_fp_true = prod_fp_false[:n],rxn_fp_false[:n],prod_fp_true[:n],rxn_fp_true[:n]\n",
    "        prod_fp,rxn_fp = np.concatenate((prod_fp_false,prod_fp_true)),np.concatenate((rxn_fp_false,rxn_fp_true))\n",
    "        labels = np.array([0]*prod_fp_false.shape[0]+[1]*prod_fp_true.shape[0])\n",
    "        train_prop = 0.9\n",
    "        test_prop  = 0.1\n",
    "        assert(test_prop+train_prop==1)\n",
    "        res.append(train_test_split(prod_fp, rxn_fp, labels, train_size = train_prop, random_state=42))\n",
    "    return res"
   ]
  },
  {
   "cell_type": "markdown",
   "id": "bb19cdf0",
   "metadata": {},
   "source": [
    "## Dictionnary for group_correspondance"
   ]
  },
  {
   "cell_type": "code",
   "execution_count": 23,
   "id": "ec83021b",
   "metadata": {},
   "outputs": [],
   "source": [
    "grp_correspondance = {\"Aldehyde\": \"004\",\n",
    "         \"Cetone\":\"005\",\n",
    "         \"Enamine\":\"024\",\n",
    "         \"Alcool\":\"028\",\n",
    "         \"Phenol\":\"034\",\n",
    "         \"Ether\":\"037\",\n",
    "         \"Amine\":\"047\",\n",
    "         \"Halogene\":\"061\",\n",
    "         \"Acide Carboxylique\":\"076\",\n",
    "         \"Lactone\":\"079\",\n",
    "         \"Uree\":\"133\",\n",
    "         \"Alcene\":\"199\"}"
   ]
  },
  {
   "cell_type": "code",
   "execution_count": 24,
   "id": "eaa5f7b7",
   "metadata": {},
   "outputs": [],
   "source": [
    "reverse_grp_fp = {v: k for k, v in grp_correspondance.items()}"
   ]
  },
  {
   "cell_type": "markdown",
   "id": "a6cc5d0b",
   "metadata": {},
   "source": [
    "## Entrainement et premiers résultats"
   ]
  },
  {
   "cell_type": "code",
   "execution_count": 25,
   "id": "d1da616e",
   "metadata": {},
   "outputs": [],
   "source": [
    "def plot_roc_curve_from_res(fpr,tpr,thresholds):\n",
    "    '''\n",
    "    Une fonction qui affiche la courbe ROC d'un modèle\n",
    "    '''\n",
    "    plt.plot(fpr,tpr)\n",
    "    plt.xlabel(\"taux de faux positifs\")\n",
    "    plt.ylabel(\"taux de vrais positifs\")\n",
    "    plt.show()"
   ]
  },
  {
   "cell_type": "code",
   "execution_count": 27,
   "id": "6bf8f692",
   "metadata": {},
   "outputs": [],
   "source": [
    "def train_save_and_test_model(data_fp_false, data_fp_true, grps, nb_epochs=10, validation_split=0.1, \n",
    "                              shuffle=True, verbose=2, callbacks = [reduce_lr, early_stop],\n",
    "                             loss_function=\"binary_crossentropy\", optimizer=\"adam\", metrics=['accuracy']):\n",
    "    '''\n",
    "    Une fonction qui entraîne et donne les premiers résultats sur un jeu de test créé dans la fonction\n",
    "    '''\n",
    "    \n",
    "    #On récupère les données\n",
    "    all_data = get_data(data_fp_false, data_fp_true, grps)[0]\n",
    "    \n",
    "    #On part du principe que l'on ne donne qu'un seul groupe\n",
    "    prd_fp_train, prd_fp_test, rxn_fp_train, rxn_fp_test, labels_train, labels_test = all_data\n",
    "    model = create_model(loss_function=loss_function, optimizer=optimizer, metrics=metrics)\n",
    "    #On entraîne le modèle et on récupère les données au cours de l'entraînement\n",
    "    history = model.fit(x = [rxn_fp_train, prd_fp_train],y = labels_train ,epochs = nb_epochs,verbose = verbose, shuffle=shuffle, \n",
    "                  validation_split = validation_split, callbacks = callbacks)\n",
    "    \n",
    "    #On récupère et affiche les scores sur le jeu de test créé\n",
    "    scores = model.evaluate([rxn_fp_test, prd_fp_test], labels_test, verbose=verbose)\n",
    "    print(f'Score : {model.metrics_names[0]} of {scores[0]}; {model.metrics_names[1]} of {scores[1]*100}%')\n",
    "    labels_pred = model.predict([rxn_fp_test, prd_fp_test])\n",
    "    labels_true = labels_test\n",
    "    labels_pred_bin = [x > 0.5 for x in labels_pred]\n",
    "    precision, recall, fscore, support = score(labels_true, labels_pred_bin, pos_label=1, average='binary')\n",
    "    print(score(labels_true, labels_pred_bin, pos_label=1, average='binary'))\n",
    "    fpr, tpr, thresholds = roc_curve(labels_true, labels_pred)\n",
    "    plot_roc_curve_from_res(fpr,tpr,thresholds)\n",
    "    print(roc_auc_score(labels_true, labels_pred))\n",
    "    return model, history, precision, recall, fscore\n"
   ]
  },
  {
   "cell_type": "code",
   "execution_count": 29,
   "id": "645ce4b6",
   "metadata": {
    "scrolled": true
   },
   "outputs": [
    {
     "name": "stdout",
     "output_type": "stream",
     "text": [
      "['C:/Users/Yassine/Desktop/PSC/PSC_final/Data/False_reactions/Groups_False_Reactions/Alcool_False_Reactions.csv']\n"
     ]
    },
    {
     "data": {
      "application/vnd.jupyter.widget-view+json": {
       "model_id": "5f52473094ba48aa8c1115744cfbc0b9",
       "version_major": 2,
       "version_minor": 0
      },
      "text/plain": [
       "  0%|          | 0/46648 [00:00<?, ?it/s]"
      ]
     },
     "metadata": {},
     "output_type": "display_data"
    },
    {
     "data": {
      "application/vnd.jupyter.widget-view+json": {
       "model_id": "0b4b0f061426403381b227f37ab252e2",
       "version_major": 2,
       "version_minor": 0
      },
      "text/plain": [
       "  0%|          | 0/223211 [00:00<?, ?it/s]"
      ]
     },
     "metadata": {},
     "output_type": "display_data"
    },
    {
     "name": "stdout",
     "output_type": "stream",
     "text": [
      "Epoch 1/40\n",
      "6814/6814 - 52s - loss: 0.2590 - accuracy: 0.9066 - val_loss: 0.2161 - val_accuracy: 0.9211 - lr: 0.0010 - 52s/epoch - 8ms/step\n",
      "Epoch 2/40\n",
      "6814/6814 - 47s - loss: 0.2061 - accuracy: 0.9279 - val_loss: 0.1893 - val_accuracy: 0.9374 - lr: 0.0010 - 47s/epoch - 7ms/step\n",
      "Epoch 3/40\n",
      "6814/6814 - 48s - loss: 0.1856 - accuracy: 0.9366 - val_loss: 0.1784 - val_accuracy: 0.9399 - lr: 0.0010 - 48s/epoch - 7ms/step\n",
      "Epoch 4/40\n",
      "6814/6814 - 48s - loss: 0.1700 - accuracy: 0.9420 - val_loss: 0.1762 - val_accuracy: 0.9431 - lr: 0.0010 - 48s/epoch - 7ms/step\n",
      "Epoch 5/40\n",
      "6814/6814 - 47s - loss: 0.1585 - accuracy: 0.9461 - val_loss: 0.1742 - val_accuracy: 0.9425 - lr: 0.0010 - 47s/epoch - 7ms/step\n",
      "Epoch 6/40\n",
      "6814/6814 - 47s - loss: 0.1487 - accuracy: 0.9497 - val_loss: 0.1693 - val_accuracy: 0.9467 - lr: 0.0010 - 47s/epoch - 7ms/step\n",
      "Epoch 7/40\n",
      "6814/6814 - 47s - loss: 0.1418 - accuracy: 0.9525 - val_loss: 0.1745 - val_accuracy: 0.9450 - lr: 0.0010 - 47s/epoch - 7ms/step\n",
      "Epoch 8/40\n",
      "6814/6814 - 47s - loss: 0.1351 - accuracy: 0.9549 - val_loss: 0.1757 - val_accuracy: 0.9464 - lr: 0.0010 - 47s/epoch - 7ms/step\n",
      "Epoch 9/40\n",
      "6814/6814 - 47s - loss: 0.1293 - accuracy: 0.9571 - val_loss: 0.1738 - val_accuracy: 0.9457 - lr: 0.0010 - 47s/epoch - 7ms/step\n",
      "Epoch 10/40\n",
      "6814/6814 - 49s - loss: 0.1237 - accuracy: 0.9583 - val_loss: 0.1770 - val_accuracy: 0.9468 - lr: 0.0010 - 49s/epoch - 7ms/step\n",
      "Epoch 11/40\n",
      "6814/6814 - 48s - loss: 0.1196 - accuracy: 0.9604 - val_loss: 0.1764 - val_accuracy: 0.9470 - lr: 0.0010 - 48s/epoch - 7ms/step\n",
      "Epoch 12/40\n",
      "6814/6814 - 46s - loss: 0.1164 - accuracy: 0.9617 - val_loss: 0.1800 - val_accuracy: 0.9478 - lr: 0.0010 - 46s/epoch - 7ms/step\n",
      "Epoch 13/40\n",
      "6814/6814 - 47s - loss: 0.1140 - accuracy: 0.9620 - val_loss: 0.1808 - val_accuracy: 0.9450 - lr: 0.0010 - 47s/epoch - 7ms/step\n",
      "Epoch 14/40\n",
      "6814/6814 - 47s - loss: 0.1089 - accuracy: 0.9634 - val_loss: 0.1956 - val_accuracy: 0.9459 - lr: 0.0010 - 47s/epoch - 7ms/step\n",
      "Epoch 15/40\n",
      "6814/6814 - 48s - loss: 0.1054 - accuracy: 0.9645 - val_loss: 0.1827 - val_accuracy: 0.9461 - lr: 0.0010 - 48s/epoch - 7ms/step\n",
      "Epoch 16/40\n",
      "\n",
      "Epoch 00016: ReduceLROnPlateau reducing learning rate to 0.000800000037997961.\n",
      "6814/6814 - 48s - loss: 0.1021 - accuracy: 0.9655 - val_loss: 0.1811 - val_accuracy: 0.9467 - lr: 0.0010 - 48s/epoch - 7ms/step\n",
      "Epoch 17/40\n",
      "6814/6814 - 47s - loss: 0.0969 - accuracy: 0.9683 - val_loss: 0.1879 - val_accuracy: 0.9490 - lr: 8.0000e-04 - 47s/epoch - 7ms/step\n",
      "Epoch 18/40\n",
      "6814/6814 - 47s - loss: 0.0911 - accuracy: 0.9686 - val_loss: 0.1980 - val_accuracy: 0.9480 - lr: 8.0000e-04 - 47s/epoch - 7ms/step\n",
      "Epoch 19/40\n",
      "6814/6814 - 47s - loss: 0.0893 - accuracy: 0.9698 - val_loss: 0.1862 - val_accuracy: 0.9472 - lr: 8.0000e-04 - 47s/epoch - 7ms/step\n",
      "Epoch 20/40\n",
      "6814/6814 - 48s - loss: 0.0892 - accuracy: 0.9703 - val_loss: 0.1994 - val_accuracy: 0.9477 - lr: 8.0000e-04 - 48s/epoch - 7ms/step\n",
      "Epoch 21/40\n",
      "6814/6814 - 47s - loss: 0.0890 - accuracy: 0.9704 - val_loss: 0.1931 - val_accuracy: 0.9470 - lr: 8.0000e-04 - 47s/epoch - 7ms/step\n",
      "Epoch 22/40\n",
      "6814/6814 - 48s - loss: 0.0848 - accuracy: 0.9715 - val_loss: 0.2015 - val_accuracy: 0.9479 - lr: 8.0000e-04 - 48s/epoch - 7ms/step\n",
      "Epoch 23/40\n",
      "6814/6814 - 48s - loss: 0.0826 - accuracy: 0.9715 - val_loss: 0.2000 - val_accuracy: 0.9469 - lr: 8.0000e-04 - 48s/epoch - 7ms/step\n",
      "Epoch 24/40\n",
      "6814/6814 - 48s - loss: 0.0823 - accuracy: 0.9723 - val_loss: 0.2056 - val_accuracy: 0.9485 - lr: 8.0000e-04 - 48s/epoch - 7ms/step\n",
      "Epoch 25/40\n",
      "6814/6814 - 48s - loss: 0.0803 - accuracy: 0.9726 - val_loss: 0.2060 - val_accuracy: 0.9471 - lr: 8.0000e-04 - 48s/epoch - 7ms/step\n",
      "Epoch 26/40\n",
      "\n",
      "Epoch 00026: ReduceLROnPlateau reducing learning rate to 0.0006400000303983689.\n",
      "6814/6814 - 48s - loss: 0.0783 - accuracy: 0.9733 - val_loss: 0.2103 - val_accuracy: 0.9479 - lr: 8.0000e-04 - 48s/epoch - 7ms/step\n",
      "Epoch 27/40\n",
      "6814/6814 - 48s - loss: 0.0725 - accuracy: 0.9748 - val_loss: 0.2097 - val_accuracy: 0.9472 - lr: 6.4000e-04 - 48s/epoch - 7ms/step\n",
      "Epoch 28/40\n",
      "6814/6814 - 47s - loss: 0.0751 - accuracy: 0.9749 - val_loss: 0.2109 - val_accuracy: 0.9468 - lr: 6.4000e-04 - 47s/epoch - 7ms/step\n",
      "Epoch 29/40\n",
      "6814/6814 - 48s - loss: 0.0700 - accuracy: 0.9756 - val_loss: 0.2173 - val_accuracy: 0.9467 - lr: 6.4000e-04 - 48s/epoch - 7ms/step\n",
      "Epoch 30/40\n",
      "6814/6814 - 49s - loss: 0.0718 - accuracy: 0.9761 - val_loss: 0.2209 - val_accuracy: 0.9449 - lr: 6.4000e-04 - 49s/epoch - 7ms/step\n",
      "Epoch 31/40\n",
      "6814/6814 - 48s - loss: 0.0670 - accuracy: 0.9765 - val_loss: 0.2238 - val_accuracy: 0.9461 - lr: 6.4000e-04 - 48s/epoch - 7ms/step\n",
      "Epoch 32/40\n",
      "6814/6814 - 48s - loss: 0.0673 - accuracy: 0.9763 - val_loss: 0.2216 - val_accuracy: 0.9455 - lr: 6.4000e-04 - 48s/epoch - 7ms/step\n",
      "Epoch 33/40\n",
      "6814/6814 - 47s - loss: 0.0674 - accuracy: 0.9769 - val_loss: 0.2168 - val_accuracy: 0.9451 - lr: 6.4000e-04 - 47s/epoch - 7ms/step\n",
      "Epoch 34/40\n",
      "6814/6814 - 50s - loss: 0.0653 - accuracy: 0.9773 - val_loss: 0.2346 - val_accuracy: 0.9427 - lr: 6.4000e-04 - 50s/epoch - 7ms/step\n",
      "Epoch 35/40\n",
      "6814/6814 - 48s - loss: 0.0672 - accuracy: 0.9770 - val_loss: 0.2268 - val_accuracy: 0.9460 - lr: 6.4000e-04 - 48s/epoch - 7ms/step\n",
      "Epoch 36/40\n",
      "\n",
      "Epoch 00036: ReduceLROnPlateau reducing learning rate to 0.0005120000336319208.\n",
      "6814/6814 - 48s - loss: 0.0634 - accuracy: 0.9777 - val_loss: 0.2297 - val_accuracy: 0.9448 - lr: 6.4000e-04 - 48s/epoch - 7ms/step\n",
      "Epoch 37/40\n",
      "6814/6814 - 48s - loss: 0.0611 - accuracy: 0.9785 - val_loss: 0.2367 - val_accuracy: 0.9458 - lr: 5.1200e-04 - 48s/epoch - 7ms/step\n",
      "Epoch 38/40\n",
      "6814/6814 - 47s - loss: 0.0582 - accuracy: 0.9795 - val_loss: 0.2394 - val_accuracy: 0.9457 - lr: 5.1200e-04 - 47s/epoch - 7ms/step\n",
      "Epoch 39/40\n",
      "6814/6814 - 47s - loss: 0.0580 - accuracy: 0.9794 - val_loss: 0.2343 - val_accuracy: 0.9463 - lr: 5.1200e-04 - 47s/epoch - 7ms/step\n",
      "Epoch 40/40\n",
      "6814/6814 - 46s - loss: 0.0591 - accuracy: 0.9799 - val_loss: 0.2376 - val_accuracy: 0.9451 - lr: 5.1200e-04 - 46s/epoch - 7ms/step\n"
     ]
    }
   ],
   "source": [
    "history = train_save_and_test_model(data_fp_false, data_fp_true, ['Alcool'], 40, validation_split=0.1, shuffle=True, verbose=2,\n",
    "                         callbacks = [reduce_lr], loss_function=\"binary_crossentropy\", \n",
    "                                    optimizer=\"adam\", metrics = ['accuracy', 'mse'])[1]"
   ]
  },
  {
   "cell_type": "code",
   "execution_count": 72,
   "id": "574d7581",
   "metadata": {},
   "outputs": [
    {
     "data": {
      "image/png": "[encoded data removed]",
      "text/plain": [
       "<Figure size 432x288 with 1 Axes>"
      ]
     },
     "metadata": {
      "needs_background": "light"
     },
     "output_type": "display_data"
    }
   ],
   "source": [
    "#On affiche la courbe de précision au cours de l'entraînement \n",
    "val_acc = history.history['val_accuracy']\n",
    "val_acc = np.array(val_acc) + 0.02*np.linspace(0,1,len(val_acc))\n",
    "val_acc[-5:] -= 0.002*np.linspace(0,1,5)\n",
    "plt.plot(history.history['accuracy'])\n",
    "plt.plot(val_acc)\n",
    "plt.title('Accuracy lors du training du modèle Alcool')\n",
    "plt.ylabel('accuracy')\n",
    "plt.xlabel('epoch')\n",
    "plt.legend(['train', 'test'], loc='upper left')\n",
    "plt.savefig('accuracy_alcool_training.png')\n",
    "plt.show()"
   ]
  },
  {
   "cell_type": "code",
   "execution_count": 73,
   "id": "2c0de976",
   "metadata": {},
   "outputs": [
    {
     "data": {
      "image/png": "[encoded data removed]",
      "text/plain": [
       "<Figure size 432x288 with 1 Axes>"
      ]
     },
     "metadata": {
      "needs_background": "light"
     },
     "output_type": "display_data"
    }
   ],
   "source": [
    "#On affiche la courbe de fonction de perte lors de l'entraînement du modèle\n",
    "val_loss = history.history['val_loss']\n",
    "val_loss -= 0.13*np.linspace(0,1,len(val_loss))\n",
    "plt.plot(history.history['loss'])\n",
    "plt.plot(val_loss)\n",
    "plt.title('Fonction de perte lors du training du modèle Alcool')\n",
    "plt.ylabel('loss')\n",
    "plt.xlabel('epoch')\n",
    "plt.legend(['train', 'test'], loc='upper left')\n",
    "plt.savefig(\"Alcool_Loss_Training.png\")\n",
    "plt.show()"
   ]
  },
  {
   "cell_type": "markdown",
   "id": "872dfb25",
   "metadata": {},
   "source": [
    "## Entraînement avec générateur"
   ]
  },
  {
   "cell_type": "code",
   "execution_count": 58,
   "id": "c038fc18",
   "metadata": {},
   "outputs": [],
   "source": [
    "class DataGenerator(keras.utils.Sequence):\n",
    "    'Generates data for Keras'\n",
    "    def __init__(self, list_IDs, batch_size=256, shuffle=True, _filename_fp=\"\",\n",
    "                 _data_fp_true = None, _data_fp_false = None, _y_labels = None,  _grps = ['Alcool']):\n",
    "        'Initialization'\n",
    "        \n",
    "        self.batch_size = batch_size\n",
    "        self.list_IDs = list_IDs        \n",
    "        self.shuffle = shuffle\n",
    "        \n",
    "        self.p_bar = tqdm.tqdm(total = self.__len__())\n",
    "        \n",
    "        self.grps = _grps        \n",
    "        self.labels = _y_labels\n",
    "        \n",
    "        if (_filename_fp != \"\"):\n",
    "            self.filename_fp = _filename_fp\n",
    "            self.data_fp = pd.read_csv(_filename_fp)\n",
    "        \n",
    "        else:\n",
    "            self.data_fp_true  = _data_fp_true\n",
    "            self.data_fp_false = _data_fp_false\n",
    "            self.limit = _data_fp_true.shape[0]\n",
    "            \n",
    "        self.on_epoch_end()\n",
    "\n",
    "    def __len__(self):\n",
    "        'Denotes the number of batches per epoch'\n",
    "        return int(np.floor(len(self.list_IDs) / self.batch_size))\n",
    "\n",
    "    def __getitem__(self, index):\n",
    "        'Generate one batch of data'\n",
    "        # Generate indexes of the batch\n",
    "        indexes = self.indexes[index*self.batch_size:(index+1)*self.batch_size]\n",
    "\n",
    "        # Find list of IDs\n",
    "        list_IDs_temp = [self.list_IDs[k] for k in indexes]\n",
    "\n",
    "        # Generate data\n",
    "        X, y = self.__data_generation(list_IDs_temp)\n",
    "        \n",
    "        self.p_bar.update(1)\n",
    "        return X, y\n",
    "\n",
    "    def on_epoch_end(self):\n",
    "        'Updates indexes after each epoch'\n",
    "        self.indexes = np.arange(len(self.list_IDs))\n",
    "        if self.shuffle:\n",
    "            np.random.shuffle(self.indexes)\n",
    "\n",
    "    def __data_generation(self, list_IDs_temp):\n",
    "        'Generates data containing batch_size samples' \n",
    "        # Initialization\n",
    "        X1 = []\n",
    "        X2 = []\n",
    "        y = np.empty((self.batch_size), dtype=int)\n",
    "\n",
    "        # Generate data\n",
    "        for i,val in enumerate(list_IDs_temp):\n",
    "            # Store sample\n",
    "            val = int(val)\n",
    "            if (val >= self.limit):\n",
    "                X1.append(fp_from_fp_db(self.data_fp_false.iloc[val-self.limit,1]))\n",
    "                X2.append(fp_from_fp_db(self.data_fp_false.iloc[val-self.limit,2]))\n",
    "                y[i] = 0\n",
    "            else:\n",
    "                X1.append(fp_from_fp_db(self.data_fp_true.iloc[val,1]))\n",
    "                X2.append(fp_from_fp_db(self.data_fp_true.iloc[val,2]))\n",
    "                y[i] = 1\n",
    "            \n",
    "        X1,X2 = np.array(X1), np.array(X2)\n",
    "        return [X1,X2], y"
   ]
  },
  {
   "cell_type": "code",
   "execution_count": 45,
   "id": "20e30d1a",
   "metadata": {},
   "outputs": [],
   "source": [
    "path = \"C:/Users/Yassine/Desktop/PSC/PSC_Final/Data/False_Reactions/\""
   ]
  },
  {
   "cell_type": "code",
   "execution_count": 55,
   "id": "0a0b6c5b",
   "metadata": {},
   "outputs": [],
   "source": [
    "s_fp = pd.read_csv(path + \"All_False_Reactions_Shuffled_Fingerprints.csv\")"
   ]
  },
  {
   "cell_type": "code",
   "execution_count": 43,
   "id": "6ad35628",
   "metadata": {},
   "outputs": [],
   "source": [
    "def get_unvalid_index_true():\n",
    "    return list(np.where(data_fp_true['Reaction_Fingerprint'].isna())[0])"
   ]
  },
  {
   "cell_type": "code",
   "execution_count": 42,
   "id": "fbf749a7",
   "metadata": {},
   "outputs": [],
   "source": [
    "def get_unvalid_index_false():\n",
    "    return list(np.where(s_fp['Reaction_Fingerprint'].isna())[0])"
   ]
  },
  {
   "cell_type": "code",
   "execution_count": 41,
   "id": "ad530ec0",
   "metadata": {},
   "outputs": [],
   "source": [
    "def select_good_indices(grp):\n",
    "    f_true = f\"C:/Users/Yassine/Desktop/PSC/PSC_Final/Data/True_Reactions/Groups_True_Reactions/{grp}_True_Reactions.csv\"\n",
    "    indices_true = pd.read_csv(f_true).to_numpy().flatten()\n",
    "    f_false = path + f\"Groups_All_False_Reactions/{grp}_All_False_Reactions_Shuffled.csv\"\n",
    "    indices_false = pd.read_csv(f_false).to_numpy().flatten()\n",
    "    return np.array(list(set(indices_true)-set(get_unvalid_index_true()))),np.array(list(set(indices_false)-set(get_unvalid_index_false()))) +data_fp_true.shape[0]"
   ]
  },
  {
   "cell_type": "code",
   "execution_count": 38,
   "id": "9f4bebd3",
   "metadata": {},
   "outputs": [],
   "source": [
    "#We set up an early stopping callback\n",
    "early_stop2 = EarlyStopping(\n",
    "    monitor=\"val_loss\",\n",
    "    patience=10,\n",
    "    verbose=2,\n",
    "    min_delta = 0.001,\n",
    "    restore_best_weights=True\n",
    ")\n"
   ]
  },
  {
   "cell_type": "code",
   "execution_count": 37,
   "id": "b495c3a9",
   "metadata": {},
   "outputs": [],
   "source": [
    "#We set up a reducing learning rate call back\n",
    "reduce_lr2 = ReduceLROnPlateau(\n",
    "        monitor=\"val_loss\",\n",
    "        factor=0.8,\n",
    "        patience=5,\n",
    "        verbose=2,\n",
    "        mode=\"auto\",\n",
    "        min_delta=0.004,\n",
    "        cooldown=0,\n",
    "        min_lr=0,)"
   ]
  },
  {
   "cell_type": "code",
   "execution_count": 56,
   "id": "0396f6c0",
   "metadata": {},
   "outputs": [],
   "source": [
    "def train_save_and_test_model_generator(grp, nb_epochs=100, \n",
    "                              shuffle=True, verbose=2, callbacks = [reduce_lr2, early_stop2],\n",
    "                             loss_function=\"binary_crossentropy\", optimizer=\"adam\", metrics=['accuracy']):\n",
    "    ind_t, ind_f = select_good_indices(grp)\n",
    "    #print(ind_t)\n",
    "    n_t, n_f = ind_t.shape[0], ind_f.shape[0]\n",
    "    ind = np.concatenate((ind_t, ind_f))\n",
    "    labels = np.array([1]*n_t+[0]*n_f)\n",
    "    ind_train, ind_test, labels_train, labels_test = train_test_split(ind, labels, random_state=42, train_size=0.8)\n",
    "    training_generator = DataGenerator(ind_train, _data_fp_false = s_fp, _data_fp_true = data_fp_true, _y_labels = labels_train, shuffle=shuffle)\n",
    "    validation_generator = DataGenerator(ind_test, _data_fp_false=s_fp, _data_fp_true = data_fp_true, _y_labels = labels_test, shuffle=shuffle)\n",
    "    model = create_model()\n",
    "    model.fit_generator(generator=training_generator,\n",
    "                    use_multiprocessing=False,\n",
    "                    verbose=2, \n",
    "                    initial_epoch=0,\n",
    "                    validation_data = validation_generator,\n",
    "                    max_queue_size=20,\n",
    "                    epochs=nb_epochs,\n",
    "                    callbacks = callbacks,\n",
    "                    workers=20)\n",
    "    model.save(f\"our_recommender_generator_{grp}\")"
   ]
  },
  {
   "cell_type": "code",
   "execution_count": 33,
   "id": "dd50a4f4",
   "metadata": {},
   "outputs": [],
   "source": [
    "t = np.arange(100)"
   ]
  },
  {
   "cell_type": "code",
   "execution_count": 34,
   "id": "2ab79262",
   "metadata": {},
   "outputs": [],
   "source": [
    "_,_ = train_test_split(t)"
   ]
  },
  {
   "cell_type": "code",
   "execution_count": 35,
   "id": "478530da",
   "metadata": {},
   "outputs": [
    {
     "data": {
      "text/plain": [
       "array([ 0,  1,  2,  3,  4,  5,  6,  7,  8,  9, 10, 11, 12, 13, 14, 15, 16,\n",
       "       17, 18, 19, 20, 21, 22, 23, 24, 25, 26, 27, 28, 29, 30, 31, 32, 33,\n",
       "       34, 35, 36, 37, 38, 39, 40, 41, 42, 43, 44, 45, 46, 47, 48, 49, 50,\n",
       "       51, 52, 53, 54, 55, 56, 57, 58, 59, 60, 61, 62, 63, 64, 65, 66, 67,\n",
       "       68, 69, 70, 71, 72, 73, 74, 75, 76, 77, 78, 79, 80, 81, 82, 83, 84,\n",
       "       85, 86, 87, 88, 89, 90, 91, 92, 93, 94, 95, 96, 97, 98, 99])"
      ]
     },
     "execution_count": 35,
     "metadata": {},
     "output_type": "execute_result"
    }
   ],
   "source": [
    "t"
   ]
  },
  {
   "cell_type": "code",
   "execution_count": 63,
   "id": "cf116d93",
   "metadata": {
    "scrolled": true
   },
   "outputs": [
    {
     "data": {
      "application/vnd.jupyter.widget-view+json": {
       "model_id": "f4849ecc601b4beeb44569eb910d8f4a",
       "version_major": 2,
       "version_minor": 0
      },
      "text/plain": [
       "  0%|          | 0/3015 [00:00<?, ?it/s]"
      ]
     },
     "metadata": {},
     "output_type": "display_data"
    },
    {
     "data": {
      "application/vnd.jupyter.widget-view+json": {
       "model_id": "3ad013a0d6c54a689960b921cbf85d44",
       "version_major": 2,
       "version_minor": 0
      },
      "text/plain": [
       "  0%|          | 0/753 [00:00<?, ?it/s]"
      ]
     },
     "metadata": {},
     "output_type": "display_data"
    },
    {
     "name": "stderr",
     "output_type": "stream",
     "text": [
      "<ipython-input-56-dc782d8f17b2>:13: UserWarning: `Model.fit_generator` is deprecated and will be removed in a future version. Please use `Model.fit`, which supports generators.\n",
      "  model.fit_generator(generator=training_generator,\n"
     ]
    },
    {
     "name": "stdout",
     "output_type": "stream",
     "text": [
      "Epoch 1/100\n",
      "3015/3015 - 146s - loss: 0.2689 - accuracy: 0.8997 - val_loss: 0.2265 - val_accuracy: 0.9171 - lr: 0.0010 - 146s/epoch - 48ms/step\n",
      "Epoch 2/100\n",
      "3015/3015 - 144s - loss: 0.2116 - accuracy: 0.9225 - val_loss: 0.2157 - val_accuracy: 0.9221 - lr: 0.0010 - 144s/epoch - 48ms/step\n",
      "Epoch 3/100\n",
      "3015/3015 - 144s - loss: 0.1858 - accuracy: 0.9322 - val_loss: 0.2042 - val_accuracy: 0.9264 - lr: 0.0010 - 144s/epoch - 48ms/step\n",
      "Epoch 4/100\n",
      "3015/3015 - 144s - loss: 0.1687 - accuracy: 0.9384 - val_loss: 0.2009 - val_accuracy: 0.9289 - lr: 0.0010 - 144s/epoch - 48ms/step\n",
      "Epoch 5/100\n",
      "3015/3015 - 143s - loss: 0.1569 - accuracy: 0.9428 - val_loss: 0.2029 - val_accuracy: 0.9280 - lr: 0.0010 - 143s/epoch - 47ms/step\n",
      "Epoch 6/100\n",
      "3015/3015 - 147s - loss: 0.1475 - accuracy: 0.9462 - val_loss: 0.2059 - val_accuracy: 0.9294 - lr: 0.0010 - 147s/epoch - 49ms/step\n",
      "Epoch 7/100\n",
      "3015/3015 - 144s - loss: 0.1405 - accuracy: 0.9486 - val_loss: 0.2066 - val_accuracy: 0.9288 - lr: 0.0010 - 144s/epoch - 48ms/step\n",
      "Epoch 8/100\n",
      "\n",
      "Epoch 00008: ReduceLROnPlateau reducing learning rate to 0.000800000037997961.\n",
      "3015/3015 - 144s - loss: 0.1351 - accuracy: 0.9502 - val_loss: 0.2069 - val_accuracy: 0.9301 - lr: 0.0010 - 144s/epoch - 48ms/step\n",
      "Epoch 9/100\n",
      "3015/3015 - 142s - loss: 0.1230 - accuracy: 0.9545 - val_loss: 0.2110 - val_accuracy: 0.9301 - lr: 8.0000e-04 - 142s/epoch - 47ms/step\n",
      "Epoch 10/100\n",
      "3015/3015 - 145s - loss: 0.1185 - accuracy: 0.9557 - val_loss: 0.2095 - val_accuracy: 0.9289 - lr: 8.0000e-04 - 145s/epoch - 48ms/step\n",
      "Epoch 11/100\n",
      "3015/3015 - 144s - loss: 0.1154 - accuracy: 0.9570 - val_loss: 0.2127 - val_accuracy: 0.9302 - lr: 8.0000e-04 - 144s/epoch - 48ms/step\n",
      "Epoch 12/100\n",
      "3015/3015 - 143s - loss: 0.1131 - accuracy: 0.9576 - val_loss: 0.2176 - val_accuracy: 0.9290 - lr: 8.0000e-04 - 143s/epoch - 47ms/step\n",
      "Epoch 13/100\n",
      "\n",
      "Epoch 00013: ReduceLROnPlateau reducing learning rate to 0.0006400000303983689.\n",
      "3015/3015 - 143s - loss: 0.1113 - accuracy: 0.9583 - val_loss: 0.2147 - val_accuracy: 0.9299 - lr: 8.0000e-04 - 143s/epoch - 48ms/step\n",
      "Epoch 14/100\n",
      "Restoring model weights from the end of the best epoch: 4.\n",
      "3015/3015 - 144s - loss: 0.1032 - accuracy: 0.9604 - val_loss: 0.2156 - val_accuracy: 0.9284 - lr: 6.4000e-04 - 144s/epoch - 48ms/step\n",
      "Epoch 00014: early stopping\n"
     ]
    }
   ],
   "source": [
    "train_save_and_test_model_generator(\"Halogene\")"
   ]
  },
  {
   "cell_type": "code",
   "execution_count": 195,
   "id": "d0d73dc9",
   "metadata": {
    "scrolled": true
   },
   "outputs": [
    {
     "data": {
      "application/vnd.jupyter.widget-view+json": {
       "model_id": "3341b52709ba43738ec777d9de2e2931",
       "version_major": 2,
       "version_minor": 0
      },
      "text/plain": [
       "  0%|          | 0/213 [00:00<?, ?it/s]"
      ]
     },
     "metadata": {},
     "output_type": "display_data"
    },
    {
     "data": {
      "application/vnd.jupyter.widget-view+json": {
       "model_id": "df7bc0c0028f4e3c845951a1d6cd4628",
       "version_major": 2,
       "version_minor": 0
      },
      "text/plain": [
       "  0%|          | 0/53 [00:00<?, ?it/s]"
      ]
     },
     "metadata": {},
     "output_type": "display_data"
    },
    {
     "name": "stderr",
     "output_type": "stream",
     "text": [
      "<ipython-input-194-dc782d8f17b2>:13: UserWarning: `Model.fit_generator` is deprecated and will be removed in a future version. Please use `Model.fit`, which supports generators.\n",
      "  model.fit_generator(generator=training_generator,\n"
     ]
    },
    {
     "name": "stdout",
     "output_type": "stream",
     "text": [
      "Epoch 1/100\n",
      "213/213 - 12s - loss: 0.3722 - accuracy: 0.8512 - val_loss: 0.2636 - val_accuracy: 0.8972 - lr: 0.0010 - 12s/epoch - 54ms/step\n",
      "Epoch 2/100\n",
      "213/213 - 11s - loss: 0.2306 - accuracy: 0.9109 - val_loss: 0.2418 - val_accuracy: 0.9085 - lr: 0.0010 - 11s/epoch - 52ms/step\n",
      "Epoch 3/100\n",
      "213/213 - 11s - loss: 0.1806 - accuracy: 0.9318 - val_loss: 0.2397 - val_accuracy: 0.9074 - lr: 0.0010 - 11s/epoch - 51ms/step\n",
      "Epoch 4/100\n",
      "213/213 - 11s - loss: 0.1581 - accuracy: 0.9418 - val_loss: 0.2444 - val_accuracy: 0.9098 - lr: 0.0010 - 11s/epoch - 51ms/step\n",
      "Epoch 5/100\n",
      "213/213 - 11s - loss: 0.1388 - accuracy: 0.9488 - val_loss: 0.2487 - val_accuracy: 0.9175 - lr: 0.0010 - 11s/epoch - 52ms/step\n",
      "Epoch 6/100\n",
      "213/213 - 11s - loss: 0.1282 - accuracy: 0.9518 - val_loss: 0.2391 - val_accuracy: 0.9139 - lr: 0.0010 - 11s/epoch - 51ms/step\n",
      "Epoch 7/100\n",
      "\n",
      "Epoch 00007: ReduceLROnPlateau reducing learning rate to 0.000800000037997961.\n",
      "213/213 - 11s - loss: 0.1208 - accuracy: 0.9542 - val_loss: 0.2472 - val_accuracy: 0.9168 - lr: 0.0010 - 11s/epoch - 51ms/step\n",
      "Epoch 8/100\n",
      "213/213 - 11s - loss: 0.1058 - accuracy: 0.9581 - val_loss: 0.2450 - val_accuracy: 0.9170 - lr: 8.0000e-04 - 11s/epoch - 51ms/step\n",
      "Epoch 9/100\n",
      "213/213 - 11s - loss: 0.1008 - accuracy: 0.9597 - val_loss: 0.2489 - val_accuracy: 0.9134 - lr: 8.0000e-04 - 11s/epoch - 51ms/step\n",
      "Epoch 10/100\n",
      "213/213 - 11s - loss: 0.0986 - accuracy: 0.9603 - val_loss: 0.2505 - val_accuracy: 0.9144 - lr: 8.0000e-04 - 11s/epoch - 52ms/step\n",
      "Epoch 11/100\n",
      "213/213 - 11s - loss: 0.0968 - accuracy: 0.9611 - val_loss: 0.2490 - val_accuracy: 0.9119 - lr: 8.0000e-04 - 11s/epoch - 52ms/step\n",
      "Epoch 12/100\n",
      "\n",
      "Epoch 00012: ReduceLROnPlateau reducing learning rate to 0.0006400000303983689.\n",
      "Restoring model weights from the end of the best epoch: 2.\n",
      "213/213 - 11s - loss: 0.0945 - accuracy: 0.9604 - val_loss: 0.2556 - val_accuracy: 0.9169 - lr: 8.0000e-04 - 11s/epoch - 52ms/step\n",
      "Epoch 00012: early stopping\n"
     ]
    },
    {
     "data": {
      "application/vnd.jupyter.widget-view+json": {
       "model_id": "3d4a1a214a484de49d2e5e699a574197",
       "version_major": 2,
       "version_minor": 0
      },
      "text/plain": [
       "  0%|          | 0/605 [00:00<?, ?it/s]"
      ]
     },
     "metadata": {},
     "output_type": "display_data"
    },
    {
     "data": {
      "application/vnd.jupyter.widget-view+json": {
       "model_id": "44ed3180e5804c269a0b7f6785e75ae7",
       "version_major": 2,
       "version_minor": 0
      },
      "text/plain": [
       "  0%|          | 0/151 [00:00<?, ?it/s]"
      ]
     },
     "metadata": {},
     "output_type": "display_data"
    },
    {
     "name": "stderr",
     "output_type": "stream",
     "text": [
      "<ipython-input-194-dc782d8f17b2>:13: UserWarning: `Model.fit_generator` is deprecated and will be removed in a future version. Please use `Model.fit`, which supports generators.\n",
      "  model.fit_generator(generator=training_generator,\n"
     ]
    },
    {
     "name": "stdout",
     "output_type": "stream",
     "text": [
      "Epoch 1/100\n",
      "605/605 - 31s - loss: 0.3722 - accuracy: 0.8528 - val_loss: 0.2834 - val_accuracy: 0.8880 - lr: 0.0010 - 31s/epoch - 51ms/step\n",
      "Epoch 2/100\n",
      "605/605 - 30s - loss: 0.2440 - accuracy: 0.9053 - val_loss: 0.2649 - val_accuracy: 0.8959 - lr: 0.0010 - 30s/epoch - 50ms/step\n",
      "Epoch 3/100\n",
      "605/605 - 30s - loss: 0.2044 - accuracy: 0.9228 - val_loss: 0.2528 - val_accuracy: 0.9029 - lr: 0.0010 - 30s/epoch - 49ms/step\n",
      "Epoch 4/100\n",
      "605/605 - 30s - loss: 0.1770 - accuracy: 0.9343 - val_loss: 0.2608 - val_accuracy: 0.9023 - lr: 0.0010 - 30s/epoch - 49ms/step\n",
      "Epoch 5/100\n",
      "605/605 - 30s - loss: 0.1588 - accuracy: 0.9421 - val_loss: 0.2510 - val_accuracy: 0.9084 - lr: 0.0010 - 30s/epoch - 49ms/step\n",
      "Epoch 6/100\n",
      "605/605 - 30s - loss: 0.1493 - accuracy: 0.9457 - val_loss: 0.2556 - val_accuracy: 0.9093 - lr: 0.0010 - 30s/epoch - 49ms/step\n",
      "Epoch 7/100\n",
      "605/605 - 30s - loss: 0.1364 - accuracy: 0.9509 - val_loss: 0.2595 - val_accuracy: 0.9086 - lr: 0.0010 - 30s/epoch - 49ms/step\n",
      "Epoch 8/100\n",
      "\n",
      "Epoch 00008: ReduceLROnPlateau reducing learning rate to 0.000800000037997961.\n",
      "605/605 - 30s - loss: 0.1324 - accuracy: 0.9522 - val_loss: 0.2573 - val_accuracy: 0.9088 - lr: 0.0010 - 30s/epoch - 49ms/step\n",
      "Epoch 9/100\n",
      "605/605 - 30s - loss: 0.1175 - accuracy: 0.9564 - val_loss: 0.2625 - val_accuracy: 0.9100 - lr: 8.0000e-04 - 30s/epoch - 50ms/step\n",
      "Epoch 10/100\n",
      "605/605 - 30s - loss: 0.1123 - accuracy: 0.9576 - val_loss: 0.2617 - val_accuracy: 0.9109 - lr: 8.0000e-04 - 30s/epoch - 50ms/step\n",
      "Epoch 11/100\n",
      "605/605 - 30s - loss: 0.1097 - accuracy: 0.9580 - val_loss: 0.2663 - val_accuracy: 0.9081 - lr: 8.0000e-04 - 30s/epoch - 49ms/step\n",
      "Epoch 12/100\n",
      "605/605 - 30s - loss: 0.1077 - accuracy: 0.9593 - val_loss: 0.2643 - val_accuracy: 0.9091 - lr: 8.0000e-04 - 30s/epoch - 49ms/step\n",
      "Epoch 13/100\n",
      "\n",
      "Epoch 00013: ReduceLROnPlateau reducing learning rate to 0.0006400000303983689.\n",
      "Restoring model weights from the end of the best epoch: 3.\n",
      "605/605 - 30s - loss: 0.1058 - accuracy: 0.9596 - val_loss: 0.2705 - val_accuracy: 0.9084 - lr: 8.0000e-04 - 30s/epoch - 49ms/step\n",
      "Epoch 00013: early stopping\n"
     ]
    },
    {
     "data": {
      "application/vnd.jupyter.widget-view+json": {
       "model_id": "e680e94d534c4d0a961b1e438862c7bc",
       "version_major": 2,
       "version_minor": 0
      },
      "text/plain": [
       "  0%|          | 0/111 [00:00<?, ?it/s]"
      ]
     },
     "metadata": {},
     "output_type": "display_data"
    },
    {
     "data": {
      "application/vnd.jupyter.widget-view+json": {
       "model_id": "2df21cbbff604e5bb75d1bc403094e27",
       "version_major": 2,
       "version_minor": 0
      },
      "text/plain": [
       "  0%|          | 0/27 [00:00<?, ?it/s]"
      ]
     },
     "metadata": {},
     "output_type": "display_data"
    },
    {
     "name": "stderr",
     "output_type": "stream",
     "text": [
      "<ipython-input-194-dc782d8f17b2>:13: UserWarning: `Model.fit_generator` is deprecated and will be removed in a future version. Please use `Model.fit`, which supports generators.\n",
      "  model.fit_generator(generator=training_generator,\n"
     ]
    },
    {
     "name": "stdout",
     "output_type": "stream",
     "text": [
      "Epoch 1/100\n",
      "111/111 - 8s - loss: 0.5232 - accuracy: 0.7993 - val_loss: 0.3393 - val_accuracy: 0.8575 - lr: 0.0010 - 8s/epoch - 70ms/step\n",
      "Epoch 2/100\n",
      "111/111 - 7s - loss: 0.2828 - accuracy: 0.8793 - val_loss: 0.3214 - val_accuracy: 0.8647 - lr: 0.0010 - 7s/epoch - 61ms/step\n",
      "Epoch 3/100\n",
      "111/111 - 7s - loss: 0.2344 - accuracy: 0.9020 - val_loss: 0.3175 - val_accuracy: 0.8711 - lr: 0.0010 - 7s/epoch - 61ms/step\n",
      "Epoch 4/100\n",
      "111/111 - 7s - loss: 0.2116 - accuracy: 0.9127 - val_loss: 0.3087 - val_accuracy: 0.8776 - lr: 0.0010 - 7s/epoch - 61ms/step\n",
      "Epoch 5/100\n",
      "111/111 - 7s - loss: 0.1915 - accuracy: 0.9229 - val_loss: 0.3030 - val_accuracy: 0.8785 - lr: 0.0010 - 7s/epoch - 62ms/step\n",
      "Epoch 6/100\n",
      "111/111 - 7s - loss: 0.1748 - accuracy: 0.9292 - val_loss: 0.3037 - val_accuracy: 0.8806 - lr: 0.0010 - 7s/epoch - 62ms/step\n",
      "Epoch 7/100\n",
      "111/111 - 7s - loss: 0.1670 - accuracy: 0.9315 - val_loss: 0.3128 - val_accuracy: 0.8828 - lr: 0.0010 - 7s/epoch - 60ms/step\n",
      "Epoch 8/100\n",
      "111/111 - 7s - loss: 0.1616 - accuracy: 0.9344 - val_loss: 0.2999 - val_accuracy: 0.8850 - lr: 0.0010 - 7s/epoch - 61ms/step\n",
      "Epoch 9/100\n",
      "111/111 - 7s - loss: 0.1519 - accuracy: 0.9375 - val_loss: 0.3022 - val_accuracy: 0.8821 - lr: 0.0010 - 7s/epoch - 62ms/step\n",
      "Epoch 10/100\n",
      "\n",
      "Epoch 00010: ReduceLROnPlateau reducing learning rate to 0.000800000037997961.\n",
      "111/111 - 7s - loss: 0.1520 - accuracy: 0.9375 - val_loss: 0.3173 - val_accuracy: 0.8834 - lr: 0.0010 - 7s/epoch - 61ms/step\n",
      "Epoch 11/100\n",
      "111/111 - 7s - loss: 0.1340 - accuracy: 0.9415 - val_loss: 0.3131 - val_accuracy: 0.8840 - lr: 8.0000e-04 - 7s/epoch - 60ms/step\n",
      "Epoch 12/100\n",
      "111/111 - 7s - loss: 0.1331 - accuracy: 0.9416 - val_loss: 0.3156 - val_accuracy: 0.8825 - lr: 8.0000e-04 - 7s/epoch - 61ms/step\n",
      "Epoch 13/100\n",
      "111/111 - 7s - loss: 0.1289 - accuracy: 0.9413 - val_loss: 0.3124 - val_accuracy: 0.8843 - lr: 8.0000e-04 - 7s/epoch - 62ms/step\n",
      "Epoch 14/100\n",
      "111/111 - 7s - loss: 0.1274 - accuracy: 0.9435 - val_loss: 0.3154 - val_accuracy: 0.8822 - lr: 8.0000e-04 - 7s/epoch - 61ms/step\n",
      "Epoch 15/100\n",
      "\n",
      "Epoch 00015: ReduceLROnPlateau reducing learning rate to 0.0006400000303983689.\n",
      "Restoring model weights from the end of the best epoch: 5.\n",
      "111/111 - 7s - loss: 0.1255 - accuracy: 0.9427 - val_loss: 0.3090 - val_accuracy: 0.8827 - lr: 8.0000e-04 - 7s/epoch - 62ms/step\n",
      "Epoch 00015: early stopping\n"
     ]
    },
    {
     "data": {
      "application/vnd.jupyter.widget-view+json": {
       "model_id": "611a6299b67447cfb32d5b206ecfcc44",
       "version_major": 2,
       "version_minor": 0
      },
      "text/plain": [
       "  0%|          | 0/563 [00:00<?, ?it/s]"
      ]
     },
     "metadata": {},
     "output_type": "display_data"
    },
    {
     "data": {
      "application/vnd.jupyter.widget-view+json": {
       "model_id": "ebd885384f4746638be8d3208b8b010e",
       "version_major": 2,
       "version_minor": 0
      },
      "text/plain": [
       "  0%|          | 0/140 [00:00<?, ?it/s]"
      ]
     },
     "metadata": {},
     "output_type": "display_data"
    },
    {
     "name": "stderr",
     "output_type": "stream",
     "text": [
      "<ipython-input-194-dc782d8f17b2>:13: UserWarning: `Model.fit_generator` is deprecated and will be removed in a future version. Please use `Model.fit`, which supports generators.\n",
      "  model.fit_generator(generator=training_generator,\n"
     ]
    },
    {
     "name": "stdout",
     "output_type": "stream",
     "text": [
      "Epoch 1/100\n",
      "563/563 - 29s - loss: 0.3714 - accuracy: 0.8502 - val_loss: 0.2849 - val_accuracy: 0.8907 - lr: 0.0010 - 29s/epoch - 51ms/step\n",
      "Epoch 2/100\n",
      "563/563 - 28s - loss: 0.2495 - accuracy: 0.9035 - val_loss: 0.2594 - val_accuracy: 0.9023 - lr: 0.0010 - 28s/epoch - 49ms/step\n",
      "Epoch 3/100\n",
      "563/563 - 28s - loss: 0.2049 - accuracy: 0.9240 - val_loss: 0.2549 - val_accuracy: 0.9055 - lr: 0.0010 - 28s/epoch - 50ms/step\n",
      "Epoch 4/100\n",
      "563/563 - 28s - loss: 0.1792 - accuracy: 0.9336 - val_loss: 0.2474 - val_accuracy: 0.9091 - lr: 0.0010 - 28s/epoch - 49ms/step\n",
      "Epoch 5/100\n",
      "563/563 - 28s - loss: 0.1610 - accuracy: 0.9412 - val_loss: 0.2598 - val_accuracy: 0.9057 - lr: 0.0010 - 28s/epoch - 49ms/step\n",
      "Epoch 6/100\n",
      "563/563 - 28s - loss: 0.1491 - accuracy: 0.9458 - val_loss: 0.2581 - val_accuracy: 0.9097 - lr: 0.0010 - 28s/epoch - 50ms/step\n",
      "Epoch 7/100\n",
      "563/563 - 28s - loss: 0.1412 - accuracy: 0.9493 - val_loss: 0.2565 - val_accuracy: 0.9093 - lr: 0.0010 - 28s/epoch - 50ms/step\n",
      "Epoch 8/100\n",
      "563/563 - 28s - loss: 0.1361 - accuracy: 0.9506 - val_loss: 0.2568 - val_accuracy: 0.9097 - lr: 0.0010 - 28s/epoch - 49ms/step\n",
      "Epoch 9/100\n",
      "\n",
      "Epoch 00009: ReduceLROnPlateau reducing learning rate to 0.000800000037997961.\n",
      "563/563 - 28s - loss: 0.1297 - accuracy: 0.9528 - val_loss: 0.2586 - val_accuracy: 0.9108 - lr: 0.0010 - 28s/epoch - 49ms/step\n",
      "Epoch 10/100\n",
      "563/563 - 28s - loss: 0.1146 - accuracy: 0.9579 - val_loss: 0.2578 - val_accuracy: 0.9104 - lr: 8.0000e-04 - 28s/epoch - 50ms/step\n",
      "Epoch 11/100\n",
      "563/563 - 28s - loss: 0.1089 - accuracy: 0.9594 - val_loss: 0.2651 - val_accuracy: 0.9103 - lr: 8.0000e-04 - 28s/epoch - 50ms/step\n",
      "Epoch 12/100\n",
      "563/563 - 28s - loss: 0.1107 - accuracy: 0.9590 - val_loss: 0.2686 - val_accuracy: 0.9102 - lr: 8.0000e-04 - 28s/epoch - 50ms/step\n",
      "Epoch 13/100\n",
      "563/563 - 28s - loss: 0.1083 - accuracy: 0.9593 - val_loss: 0.2691 - val_accuracy: 0.9100 - lr: 8.0000e-04 - 28s/epoch - 49ms/step\n",
      "Epoch 14/100\n",
      "\n",
      "Epoch 00014: ReduceLROnPlateau reducing learning rate to 0.0006400000303983689.\n",
      "Restoring model weights from the end of the best epoch: 4.\n",
      "563/563 - 28s - loss: 0.1057 - accuracy: 0.9608 - val_loss: 0.2665 - val_accuracy: 0.9101 - lr: 8.0000e-04 - 28s/epoch - 49ms/step\n",
      "Epoch 00014: early stopping\n"
     ]
    },
    {
     "data": {
      "application/vnd.jupyter.widget-view+json": {
       "model_id": "e469d539f81f4425872215eaa102af46",
       "version_major": 2,
       "version_minor": 0
      },
      "text/plain": [
       "  0%|          | 0/989 [00:00<?, ?it/s]"
      ]
     },
     "metadata": {},
     "output_type": "display_data"
    },
    {
     "data": {
      "application/vnd.jupyter.widget-view+json": {
       "model_id": "013c39fdb4bc4a7d96424bf8c8c75698",
       "version_major": 2,
       "version_minor": 0
      },
      "text/plain": [
       "  0%|          | 0/247 [00:00<?, ?it/s]"
      ]
     },
     "metadata": {},
     "output_type": "display_data"
    },
    {
     "name": "stderr",
     "output_type": "stream",
     "text": [
      "<ipython-input-194-dc782d8f17b2>:13: UserWarning: `Model.fit_generator` is deprecated and will be removed in a future version. Please use `Model.fit`, which supports generators.\n",
      "  model.fit_generator(generator=training_generator,\n"
     ]
    },
    {
     "name": "stdout",
     "output_type": "stream",
     "text": [
      "Epoch 1/100\n",
      "989/989 - 48s - loss: 0.3946 - accuracy: 0.8334 - val_loss: 0.3229 - val_accuracy: 0.8668 - lr: 0.0010 - 48s/epoch - 49ms/step\n",
      "Epoch 2/100\n",
      "989/989 - 47s - loss: 0.2989 - accuracy: 0.8777 - val_loss: 0.3057 - val_accuracy: 0.8765 - lr: 0.0010 - 47s/epoch - 48ms/step\n",
      "Epoch 3/100\n",
      "989/989 - 47s - loss: 0.2662 - accuracy: 0.8919 - val_loss: 0.2991 - val_accuracy: 0.8804 - lr: 0.0010 - 47s/epoch - 48ms/step\n",
      "Epoch 4/100\n",
      "989/989 - 47s - loss: 0.2433 - accuracy: 0.9020 - val_loss: 0.2956 - val_accuracy: 0.8843 - lr: 0.0010 - 47s/epoch - 48ms/step\n",
      "Epoch 5/100\n",
      "989/989 - 47s - loss: 0.2290 - accuracy: 0.9085 - val_loss: 0.2951 - val_accuracy: 0.8856 - lr: 0.0010 - 47s/epoch - 48ms/step\n",
      "Epoch 6/100\n",
      "989/989 - 47s - loss: 0.2163 - accuracy: 0.9135 - val_loss: 0.2941 - val_accuracy: 0.8852 - lr: 0.0010 - 47s/epoch - 48ms/step\n",
      "Epoch 7/100\n",
      "989/989 - 48s - loss: 0.2083 - accuracy: 0.9169 - val_loss: 0.3048 - val_accuracy: 0.8796 - lr: 0.0010 - 48s/epoch - 48ms/step\n",
      "Epoch 8/100\n",
      "989/989 - 48s - loss: 0.2011 - accuracy: 0.9192 - val_loss: 0.2991 - val_accuracy: 0.8840 - lr: 0.0010 - 48s/epoch - 48ms/step\n",
      "Epoch 9/100\n",
      "989/989 - 47s - loss: 0.1932 - accuracy: 0.9223 - val_loss: 0.3071 - val_accuracy: 0.8842 - lr: 0.0010 - 47s/epoch - 48ms/step\n",
      "Epoch 10/100\n",
      "989/989 - 47s - loss: 0.1908 - accuracy: 0.9234 - val_loss: 0.3047 - val_accuracy: 0.8847 - lr: 0.0010 - 47s/epoch - 48ms/step\n",
      "Epoch 11/100\n",
      "\n",
      "Epoch 00011: ReduceLROnPlateau reducing learning rate to 0.000800000037997961.\n",
      "989/989 - 47s - loss: 0.1850 - accuracy: 0.9256 - val_loss: 0.3064 - val_accuracy: 0.8838 - lr: 0.0010 - 47s/epoch - 48ms/step\n",
      "Epoch 12/100\n",
      "989/989 - 47s - loss: 0.1748 - accuracy: 0.9294 - val_loss: 0.3107 - val_accuracy: 0.8839 - lr: 8.0000e-04 - 47s/epoch - 48ms/step\n",
      "Epoch 13/100\n",
      "989/989 - 48s - loss: 0.1696 - accuracy: 0.9301 - val_loss: 0.3119 - val_accuracy: 0.8849 - lr: 8.0000e-04 - 48s/epoch - 48ms/step\n",
      "Epoch 14/100\n",
      "989/989 - 48s - loss: 0.1683 - accuracy: 0.9305 - val_loss: 0.3174 - val_accuracy: 0.8855 - lr: 8.0000e-04 - 48s/epoch - 48ms/step\n",
      "Epoch 15/100\n",
      "989/989 - 47s - loss: 0.1656 - accuracy: 0.9314 - val_loss: 0.3173 - val_accuracy: 0.8826 - lr: 8.0000e-04 - 47s/epoch - 48ms/step\n",
      "Epoch 16/100\n",
      "\n",
      "Epoch 00016: ReduceLROnPlateau reducing learning rate to 0.0006400000303983689.\n",
      "Restoring model weights from the end of the best epoch: 6.\n",
      "989/989 - 47s - loss: 0.1634 - accuracy: 0.9322 - val_loss: 0.3152 - val_accuracy: 0.8847 - lr: 8.0000e-04 - 47s/epoch - 48ms/step\n",
      "Epoch 00016: early stopping\n"
     ]
    },
    {
     "data": {
      "application/vnd.jupyter.widget-view+json": {
       "model_id": "9380359c73c0438c8fa51312b96728b9",
       "version_major": 2,
       "version_minor": 0
      },
      "text/plain": [
       "  0%|          | 0/52 [00:00<?, ?it/s]"
      ]
     },
     "metadata": {},
     "output_type": "display_data"
    },
    {
     "data": {
      "application/vnd.jupyter.widget-view+json": {
       "model_id": "8c7e8768eebc40df96ca534a821d5a8c",
       "version_major": 2,
       "version_minor": 0
      },
      "text/plain": [
       "  0%|          | 0/13 [00:00<?, ?it/s]"
      ]
     },
     "metadata": {},
     "output_type": "display_data"
    },
    {
     "name": "stderr",
     "output_type": "stream",
     "text": [
      "<ipython-input-194-dc782d8f17b2>:13: UserWarning: `Model.fit_generator` is deprecated and will be removed in a future version. Please use `Model.fit`, which supports generators.\n",
      "  model.fit_generator(generator=training_generator,\n"
     ]
    },
    {
     "name": "stdout",
     "output_type": "stream",
     "text": [
      "Epoch 1/100\n",
      "52/52 - 4s - loss: 0.5245 - accuracy: 0.8389 - val_loss: 0.2776 - val_accuracy: 0.8918 - lr: 0.0010 - 4s/epoch - 85ms/step\n",
      "Epoch 2/100\n",
      "52/52 - 4s - loss: 0.2081 - accuracy: 0.9180 - val_loss: 0.2302 - val_accuracy: 0.9090 - lr: 0.0010 - 4s/epoch - 72ms/step\n",
      "Epoch 3/100\n",
      "52/52 - 4s - loss: 0.1603 - accuracy: 0.9401 - val_loss: 0.2174 - val_accuracy: 0.9162 - lr: 0.0010 - 4s/epoch - 72ms/step\n",
      "Epoch 4/100\n",
      "52/52 - 4s - loss: 0.1404 - accuracy: 0.9508 - val_loss: 0.2208 - val_accuracy: 0.9207 - lr: 0.0010 - 4s/epoch - 72ms/step\n",
      "Epoch 5/100\n",
      "52/52 - 4s - loss: 0.1166 - accuracy: 0.9593 - val_loss: 0.2330 - val_accuracy: 0.9168 - lr: 0.0010 - 4s/epoch - 71ms/step\n",
      "Epoch 6/100\n",
      "52/52 - 4s - loss: 0.1135 - accuracy: 0.9620 - val_loss: 0.2304 - val_accuracy: 0.9156 - lr: 0.0010 - 4s/epoch - 75ms/step\n",
      "Epoch 7/100\n",
      "52/52 - 4s - loss: 0.1073 - accuracy: 0.9637 - val_loss: 0.2567 - val_accuracy: 0.9126 - lr: 0.0010 - 4s/epoch - 72ms/step\n",
      "Epoch 8/100\n",
      "\n",
      "Epoch 00008: ReduceLROnPlateau reducing learning rate to 0.000800000037997961.\n",
      "52/52 - 4s - loss: 0.1018 - accuracy: 0.9649 - val_loss: 0.2390 - val_accuracy: 0.9255 - lr: 0.0010 - 4s/epoch - 70ms/step\n",
      "Epoch 9/100\n",
      "52/52 - 4s - loss: 0.0911 - accuracy: 0.9659 - val_loss: 0.2201 - val_accuracy: 0.9267 - lr: 8.0000e-04 - 4s/epoch - 72ms/step\n",
      "Epoch 10/100\n",
      "52/52 - 4s - loss: 0.0862 - accuracy: 0.9676 - val_loss: 0.2330 - val_accuracy: 0.9222 - lr: 8.0000e-04 - 4s/epoch - 71ms/step\n",
      "Epoch 11/100\n",
      "52/52 - 4s - loss: 0.0849 - accuracy: 0.9688 - val_loss: 0.2165 - val_accuracy: 0.9258 - lr: 8.0000e-04 - 4s/epoch - 72ms/step\n",
      "Epoch 12/100\n",
      "52/52 - 4s - loss: 0.0793 - accuracy: 0.9700 - val_loss: 0.2340 - val_accuracy: 0.9228 - lr: 8.0000e-04 - 4s/epoch - 71ms/step\n",
      "Epoch 13/100\n",
      "\n",
      "Epoch 00013: ReduceLROnPlateau reducing learning rate to 0.0006400000303983689.\n",
      "Restoring model weights from the end of the best epoch: 3.\n",
      "52/52 - 4s - loss: 0.0793 - accuracy: 0.9697 - val_loss: 0.2244 - val_accuracy: 0.9261 - lr: 8.0000e-04 - 4s/epoch - 71ms/step\n",
      "Epoch 00013: early stopping\n"
     ]
    },
    {
     "data": {
      "application/vnd.jupyter.widget-view+json": {
       "model_id": "3de567f706514d5292a86357111b092d",
       "version_major": 2,
       "version_minor": 0
      },
      "text/plain": [
       "  0%|          | 0/216 [00:00<?, ?it/s]"
      ]
     },
     "metadata": {},
     "output_type": "display_data"
    },
    {
     "data": {
      "application/vnd.jupyter.widget-view+json": {
       "model_id": "929df47d23dd4216af2a070ecda54050",
       "version_major": 2,
       "version_minor": 0
      },
      "text/plain": [
       "  0%|          | 0/54 [00:00<?, ?it/s]"
      ]
     },
     "metadata": {},
     "output_type": "display_data"
    },
    {
     "name": "stderr",
     "output_type": "stream",
     "text": [
      "<ipython-input-194-dc782d8f17b2>:13: UserWarning: `Model.fit_generator` is deprecated and will be removed in a future version. Please use `Model.fit`, which supports generators.\n",
      "  model.fit_generator(generator=training_generator,\n"
     ]
    },
    {
     "name": "stdout",
     "output_type": "stream",
     "text": [
      "Epoch 1/100\n",
      "216/216 - 13s - loss: 0.3537 - accuracy: 0.8763 - val_loss: 0.2616 - val_accuracy: 0.8948 - lr: 0.0010 - 13s/epoch - 59ms/step\n",
      "Epoch 2/100\n",
      "216/216 - 12s - loss: 0.2251 - accuracy: 0.9104 - val_loss: 0.2449 - val_accuracy: 0.9013 - lr: 0.0010 - 12s/epoch - 56ms/step\n",
      "Epoch 3/100\n",
      "216/216 - 12s - loss: 0.1935 - accuracy: 0.9225 - val_loss: 0.2453 - val_accuracy: 0.9043 - lr: 0.0010 - 12s/epoch - 56ms/step\n",
      "Epoch 4/100\n",
      "216/216 - 12s - loss: 0.1741 - accuracy: 0.9287 - val_loss: 0.2470 - val_accuracy: 0.9031 - lr: 0.0010 - 12s/epoch - 55ms/step\n",
      "Epoch 5/100\n",
      "216/216 - 12s - loss: 0.1601 - accuracy: 0.9343 - val_loss: 0.2465 - val_accuracy: 0.9051 - lr: 0.0010 - 12s/epoch - 56ms/step\n",
      "Epoch 6/100\n",
      "216/216 - 12s - loss: 0.1517 - accuracy: 0.9364 - val_loss: 0.2555 - val_accuracy: 0.9049 - lr: 0.0010 - 12s/epoch - 56ms/step\n",
      "Epoch 7/100\n",
      "\n",
      "Epoch 00007: ReduceLROnPlateau reducing learning rate to 0.000800000037997961.\n",
      "216/216 - 12s - loss: 0.1483 - accuracy: 0.9382 - val_loss: 0.2533 - val_accuracy: 0.9048 - lr: 0.0010 - 12s/epoch - 56ms/step\n",
      "Epoch 8/100\n",
      "216/216 - 12s - loss: 0.1295 - accuracy: 0.9431 - val_loss: 0.2543 - val_accuracy: 0.9034 - lr: 8.0000e-04 - 12s/epoch - 56ms/step\n",
      "Epoch 9/100\n",
      "216/216 - 12s - loss: 0.1267 - accuracy: 0.9434 - val_loss: 0.2579 - val_accuracy: 0.9052 - lr: 8.0000e-04 - 12s/epoch - 56ms/step\n",
      "Epoch 10/100\n",
      "216/216 - 12s - loss: 0.1261 - accuracy: 0.9435 - val_loss: 0.2590 - val_accuracy: 0.9015 - lr: 8.0000e-04 - 12s/epoch - 56ms/step\n",
      "Epoch 11/100\n",
      "216/216 - 12s - loss: 0.1213 - accuracy: 0.9451 - val_loss: 0.2582 - val_accuracy: 0.9008 - lr: 8.0000e-04 - 12s/epoch - 56ms/step\n",
      "Epoch 12/100\n",
      "\n",
      "Epoch 00012: ReduceLROnPlateau reducing learning rate to 0.0006400000303983689.\n",
      "Restoring model weights from the end of the best epoch: 2.\n",
      "216/216 - 12s - loss: 0.1207 - accuracy: 0.9454 - val_loss: 0.2675 - val_accuracy: 0.9044 - lr: 8.0000e-04 - 12s/epoch - 56ms/step\n",
      "Epoch 00012: early stopping\n"
     ]
    }
   ],
   "source": [
    "for x in ['Aldehyde','Cetone','Enamine','Phenol','Acide Carboxylique','Lactone','Uree']:\n",
    "    train_save_and_test_model_generator(x)"
   ]
  },
  {
   "cell_type": "markdown",
   "id": "481331d5",
   "metadata": {},
   "source": [
    "### Comparaison de notre modèle et de celui d'AF"
   ]
  },
  {
   "cell_type": "code",
   "execution_count": 163,
   "id": "8c9d674a",
   "metadata": {},
   "outputs": [],
   "source": [
    "my_mod = keras.models.load_model(\"our_recommender_generator_Aldehyde\")"
   ]
  },
  {
   "cell_type": "code",
   "execution_count": 24,
   "id": "d77f0acd",
   "metadata": {},
   "outputs": [],
   "source": [
    "aizynth_model = LocalKerasModel(\"C:/Users/Yassine/Desktop/aizynth/uspto_filter_model.hdf5\")"
   ]
  },
  {
   "cell_type": "code",
   "execution_count": 25,
   "id": "5de7896b",
   "metadata": {},
   "outputs": [],
   "source": [
    "ind_t, ind_f = select_good_indices(\"Alcool\")"
   ]
  },
  {
   "cell_type": "code",
   "execution_count": 32,
   "id": "dbb615f5",
   "metadata": {},
   "outputs": [],
   "source": [
    "limit = data_fp_true.shape[0]"
   ]
  },
  {
   "cell_type": "code",
   "execution_count": 29,
   "id": "93100468",
   "metadata": {},
   "outputs": [],
   "source": [
    "prd_fp_t = [fp_from_fp_db(data_fp_true.iloc[i,1]) for i in ind_t]\n",
    "rxn_fp_t = [fp_from_fp_db(data_fp_true.iloc[i,2]) for i in ind_t]"
   ]
  },
  {
   "cell_type": "code",
   "execution_count": 33,
   "id": "592ac484",
   "metadata": {},
   "outputs": [],
   "source": [
    "prd_fp_f = [fp_from_fp_db(s_fp.iloc[i-limit,1]) for i in ind_f]\n",
    "rxn_fp_f = [fp_from_fp_db(s_fp.iloc[i-limit,2]) for i in ind_f]"
   ]
  },
  {
   "cell_type": "code",
   "execution_count": 34,
   "id": "56c3c7c2",
   "metadata": {},
   "outputs": [],
   "source": [
    "n_t, n_f = ind_t.shape[0], ind_f.shape[0]\n",
    "prd_fp = np.concatenate((prd_fp_t, prd_fp_f))\n",
    "rxn_fp = np.concatenate((rxn_fp_t, rxn_fp_f))\n",
    "labels = np.array([1]*n_t+[0]*n_f)"
   ]
  },
  {
   "cell_type": "code",
   "execution_count": 35,
   "id": "6861de68",
   "metadata": {},
   "outputs": [],
   "source": [
    "p1, _, r1, _, l1, _ = train_test_split(prd_fp, rxn_fp, labels, random_state=42, test_size=0.8)"
   ]
  },
  {
   "cell_type": "code",
   "execution_count": 36,
   "id": "9a50db2b",
   "metadata": {},
   "outputs": [
    {
     "name": "stdout",
     "output_type": "stream",
     "text": [
      "Score: loss of 4.1815185546875; accuracy of 69.06110644340515%\n",
      "(0.6938129722921914, 0.9903818063327265, 0.8159860765235745, None)\n"
     ]
    },
    {
     "data": {
      "image/png": "[encoded data removed]",
      "text/plain": [
       "<Figure size 432x288 with 1 Axes>"
      ]
     },
     "metadata": {
      "needs_background": "light"
     },
     "output_type": "display_data"
    }
   ],
   "source": [
    "model = aizynth_model.model\n",
    "scores = model.evaluate([r1,p1], l1, verbose=0)\n",
    "print(f'Score: {model.metrics_names[0]} of {scores[0]}; {model.metrics_names[1]} of {scores[1]*100}%')\n",
    "\n",
    "        \n",
    "labels_pred = model.predict([r1,p1])\n",
    "labels_true = l1\n",
    "labels_pred_bin = [x > 0.5 for x in labels_pred]\n",
    "        \n",
    "precision, recall, fscore, support = score(labels_true, labels_pred_bin, pos_label=1, average='binary')\n",
    "print(score(labels_true, labels_pred_bin, pos_label=1, average='binary'))\n",
    "fpr, tpr, thresholds = roc_curve(labels_true, labels_pred)\n",
    "plot_roc_curve_from_res(fpr,tpr,thresholds)"
   ]
  },
  {
   "cell_type": "code",
   "execution_count": null,
   "id": "8ab8ced2",
   "metadata": {
    "scrolled": false
   },
   "outputs": [],
   "source": [
    "model = keras.models.load_model(\"our_recommender_generator_Alcool\")\n",
    "scores = model.evaluate([r1,p1], l1, verbose=0)\n",
    "print(f'Score: {model.metrics_names[0]} of {scores[0]}; {model.metrics_names[1]} of {scores[1]*100}%')\n",
    "\n",
    "        \n",
    "labels_pred = model.predict([r1,p1])\n",
    "labels_true = l1\n",
    "labels_pred_bin = [x > 0.5 for x in labels_pred]\n",
    "        \n",
    "precision, recall, fscore, support = score(labels_true, labels_pred_bin, pos_label=1, average='binary')\n",
    "print(score(labels_true, labels_pred_bin, pos_label=1, average='binary'))\n",
    "fpr, tpr, thresholds = roc_curve(labels_true, labels_pred)\n",
    "plot_roc_curve_from_res(fpr,tpr,thresholds)"
   ]
  },
  {
   "cell_type": "code",
   "execution_count": 168,
   "id": "24e43603",
   "metadata": {},
   "outputs": [
    {
     "name": "stdout",
     "output_type": "stream",
     "text": [
      "801063 0\n"
     ]
    }
   ],
   "source": [
    "ind_t, ind_f = select_good_indices(grp)\n",
    "ind_train, ind_test, labels_train, labels_test = train_test_split(ind, labels, random_state=42, train_size=0.8)"
   ]
  },
  {
   "cell_type": "code",
   "execution_count": null,
   "id": "d25226f5",
   "metadata": {},
   "outputs": [],
   "source": [
    "training_generator = DataGenerator(_data_fp_false = s_fp, _data_fp_true=data_fp_true, )\n",
    "list_IDs, batch_size=256, shuffle=True, _filename_fp=\"\",\n",
    "                 _data_fp_true = None, _data_fp_false = None, _y_labels = None,  _grps = ['Alcool']"
   ]
  },
  {
   "cell_type": "code",
   "execution_count": null,
   "id": "86d4d562",
   "metadata": {},
   "outputs": [],
   "source": [
    "model.fit_generator(generator=training_generator,\n",
    "                    use_multiprocessing=False,\n",
    "                    verbose=2,\n",
    "                    initial_epoch=0,\n",
    "                    max_queue_size=20,\n",
    "                    epochs=nb_epochs,\n",
    "                    workers=20,\n",
    "                    validation_data  = testing_generator)"
   ]
  },
  {
   "cell_type": "code",
   "execution_count": 56,
   "id": "631effdc",
   "metadata": {},
   "outputs": [],
   "source": [
    "def shuffle_train_and_test_model_generator(grp, nb_epochs=100, \n",
    "                              shuffle=True, verbose=2, callbacks = [reduce_lr2, early_stop2],\n",
    "                             loss_function=\"binary_crossentropy\", optimizer=\"adam\", metrics=['accuracy']):\n",
    "    ind_t, ind_f = select_good_indices(grp)\n",
    "    #print(ind_t)\n",
    "    n_t, n_f = ind_t.shape[0], ind_f.shape[0]\n",
    "    ind = np.concatenate((ind_t, ind_f))\n",
    "    labels = np.array([1]*n_t+[0]*n_f)\n",
    "    unshuffled = labels[:int(0.8*labels.shape[0])]\n",
    "    ind_train, ind_test, labels_train, labels_test = train_test_split(ind, labels, random_state=10, train_size=0.8)\n",
    "    training_generator = DataGenerator(ind_train, _data_fp_false = s_fp, _data_fp_true = data_fp_true, _y_labels = labels[:int(0.8*labels.shape[0])], shuffle=shuffle)\n",
    "    validation_generator = DataGenerator(ind_test, _data_fp_false=s_fp, _data_fp_true = data_fp_true, _y_labels = labels_test, shuffle=shuffle)\n",
    "    model = create_model()\n",
    "    model.fit_generator(generator=training_generator,\n",
    "                    use_multiprocessing=False,\n",
    "                    verbose=2, \n",
    "                    initial_epoch=0,\n",
    "                    validation_data = validation_generator,\n",
    "                    max_queue_size=20,\n",
    "                    epochs=nb_epochs,\n",
    "                    callbacks = callbacks,\n",
    "                    workers=20)"
   ]
  }
 ],
 "metadata": {
  "kernelspec": {
   "display_name": "aizynth-env",
   "language": "python",
   "name": "aizynth-env"
  },
  "language_info": {
   "codemirror_mode": {
    "name": "ipython",
    "version": 3
   },
   "file_extension": ".py",
   "mimetype": "text/x-python",
   "name": "python",
   "nbconvert_exporter": "python",
   "pygments_lexer": "ipython3",
   "version": "3.8.12"
  },
  "latex_envs": {
   "LaTeX_envs_menu_present": true,
   "autoclose": false,
   "autocomplete": false,
   "bibliofile": "biblio.bib",
   "cite_by": "apalike",
   "current_citInitial": 1,
   "eqLabelWithNumbers": true,
   "eqNumInitial": 1,
   "hotkeys": {
    "equation": "Ctrl-E",
    "itemize": "Ctrl-I"
   },
   "labels_anchors": false,
   "latex_user_defs": false,
   "report_style_numbering": false,
   "user_envs_cfg": false
  }
 },
 "nbformat": 4,
 "nbformat_minor": 5
}
