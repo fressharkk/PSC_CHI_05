{
 "cells": [
  {
   "cell_type": "code",
   "execution_count": 1,
   "metadata": {},
   "outputs": [],
   "source": [
    "import pandas as pd"
   ]
  },
  {
   "cell_type": "code",
   "execution_count": 41,
   "metadata": {},
   "outputs": [],
   "source": [
    "filename = \"false_reactions_all_reactions\"\n",
    "list_datasets = [pd.read_csv(filename+\".csv\")]\n",
    "filename += \"_\"\n",
    "for i in range(2,18):\n",
    "    filename_ = filename + str(i)\n",
    "    list_datasets.append(pd.read_csv(filename_+\".csv\"))"
   ]
  },
  {
   "cell_type": "code",
   "execution_count": 42,
   "metadata": {},
   "outputs": [],
   "source": [
    "dataset = pd.concat(list_datasets, ignore_index=True)['0']"
   ]
  },
  {
   "cell_type": "code",
   "execution_count": 43,
   "metadata": {},
   "outputs": [
    {
     "data": {
      "text/plain": [
       "0         [Cl:1][C:2]1[C:7]([Cl:8])=[CH:6][CH:5]=[CH:4][...\n",
       "1         [CH2:1]([O:3][C:4]1[CH2:8][CH2:7][C:6](=[O:9])...\n",
       "2         [CH2:1]1[O:23][C:4]2([CH2:9][CH2:8][C:7]([CH2:...\n",
       "3         [C:1]([CH2:6][CH2:7][CH2:8][CH2:9][C:10]1[C:11...\n",
       "4         [CH2:1]([O:4][C:5](=[O:29])[CH2:6][N:7]1[C:13]...\n",
       "                                ...                        \n",
       "296222    [F:1][C:2]1[CH:7]=[CH:6][C:5]([F:8])=[CH:4][C:...\n",
       "296223    [C:1]([CH:4]1[CH2:7][N:6](C(OC(C)(C)C)=O)[CH2:...\n",
       "296224    [N+:1]([C:4]1[CH:5]=[N:6][C:7]2[N:8]([N:10]=[C...\n",
       "296225    [OH:1][CH2:2][C:3]1[C:8]([CH3:9])=[CH:7][CH:6]...\n",
       "296226    [C:1]([C:3]1[S:4][C:5]2[C:15]3[C:10](=[CH:11][...\n",
       "Name: 0, Length: 296227, dtype: object"
      ]
     },
     "execution_count": 43,
     "metadata": {},
     "output_type": "execute_result"
    }
   ],
   "source": [
    "dataset"
   ]
  },
  {
   "cell_type": "code",
   "execution_count": 46,
   "metadata": {},
   "outputs": [],
   "source": [
    "dataset = dataset.drop_duplicates()"
   ]
  },
  {
   "cell_type": "code",
   "execution_count": 47,
   "metadata": {},
   "outputs": [],
   "source": [
    "dataset.to_csv(\"merged_false_reactions.csv\")"
   ]
  }
 ],
 "metadata": {
  "kernelspec": {
   "display_name": "Python [conda env:aizynth-env]",
   "language": "python",
   "name": "conda-env-aizynth-env-py"
  },
  "language_info": {
   "codemirror_mode": {
    "name": "ipython",
    "version": 3
   },
   "file_extension": ".py",
   "mimetype": "text/x-python",
   "name": "python",
   "nbconvert_exporter": "python",
   "pygments_lexer": "ipython3",
   "version": "3.8.12"
  },
  "latex_envs": {
   "LaTeX_envs_menu_present": true,
   "autoclose": false,
   "autocomplete": false,
   "bibliofile": "biblio.bib",
   "cite_by": "apalike",
   "current_citInitial": 1,
   "eqLabelWithNumbers": true,
   "eqNumInitial": 1,
   "hotkeys": {
    "equation": "Ctrl-E",
    "itemize": "Ctrl-I"
   },
   "labels_anchors": false,
   "latex_user_defs": false,
   "report_style_numbering": false,
   "user_envs_cfg": false
  }
 },
 "nbformat": 4,
 "nbformat_minor": 4
}
