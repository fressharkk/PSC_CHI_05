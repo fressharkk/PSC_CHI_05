{
 "cells": [
  {
   "cell_type": "code",
   "execution_count": 1,
   "id": "7db0d668",
   "metadata": {},
   "outputs": [],
   "source": [
    "import os"
   ]
  },
  {
   "cell_type": "code",
   "execution_count": 2,
   "id": "ad4b00ef",
   "metadata": {},
   "outputs": [],
   "source": [
    "import pandas as pd"
   ]
  },
  {
   "cell_type": "code",
   "execution_count": 3,
   "id": "73603152",
   "metadata": {},
   "outputs": [],
   "source": [
    "import numpy as np"
   ]
  },
  {
   "cell_type": "code",
   "execution_count": 4,
   "id": "6f67b93d",
   "metadata": {},
   "outputs": [],
   "source": [
    "import tqdm.notebook as tqdm"
   ]
  },
  {
   "cell_type": "code",
   "execution_count": 54,
   "id": "4e7e7723",
   "metadata": {},
   "outputs": [],
   "source": [
    "import tensorflow as tf\n",
    "#tf.config.set_visible_devices([], 'GPU')"
   ]
  },
  {
   "cell_type": "code",
   "execution_count": 6,
   "id": "6d3a5351",
   "metadata": {},
   "outputs": [],
   "source": [
    "from tensorflow.keras.utils import to_categorical"
   ]
  },
  {
   "cell_type": "code",
   "execution_count": 7,
   "id": "aea4f5a4",
   "metadata": {},
   "outputs": [],
   "source": [
    "import tensorflow.keras as keras"
   ]
  },
  {
   "cell_type": "code",
   "execution_count": 8,
   "id": "0b4fe65b",
   "metadata": {},
   "outputs": [],
   "source": [
    "templates_all = pd.read_csv(\"Purified_Templates.csv\")"
   ]
  },
  {
   "cell_type": "code",
   "execution_count": 9,
   "id": "db94fc5b",
   "metadata": {},
   "outputs": [],
   "source": [
    "reactions_all = pd.read_csv(\"Purified_Reactions.csv\")"
   ]
  },
  {
   "cell_type": "code",
   "execution_count": 10,
   "id": "4e494c75",
   "metadata": {},
   "outputs": [],
   "source": [
    "templates_single = templates_all.drop_duplicates(subset=\"reaction_smarts\")"
   ]
  },
  {
   "cell_type": "code",
   "execution_count": 11,
   "id": "8ccf661a",
   "metadata": {},
   "outputs": [],
   "source": [
    "fp = pd.read_csv(\"Purified_Fingerprints.csv\")"
   ]
  },
  {
   "cell_type": "code",
   "execution_count": 12,
   "id": "3780be40",
   "metadata": {},
   "outputs": [],
   "source": [
    "smarts_templates = templates_single['reaction_smarts'].to_list()\n",
    "my_map = dict(list(enumerate(smarts_templates)))"
   ]
  },
  {
   "cell_type": "code",
   "execution_count": 13,
   "id": "21fa8dda",
   "metadata": {},
   "outputs": [],
   "source": [
    "inv_map = {v: k for k, v in my_map.items()}"
   ]
  },
  {
   "cell_type": "code",
   "execution_count": 14,
   "id": "8a76ed54",
   "metadata": {},
   "outputs": [],
   "source": [
    "def fp_from_fp_db(fp_db):\n",
    "    res = np.zeros(2048)\n",
    "    list_idx = fp_db.split(\" \")\n",
    "    for el in list_idx[:-1]:\n",
    "        lfp = el.split(\"-\")\n",
    "        n = len(lfp)\n",
    "        if n == 1:\n",
    "            res[int(lfp[0])] = 1\n",
    "        elif n==2:\n",
    "            res[int(lfp[0])] = int(lfp[-1])\n",
    "        else:\n",
    "            res[int(lfp[0])] = -int(lfp[-1])\n",
    "    return res"
   ]
  },
  {
   "cell_type": "code",
   "execution_count": 15,
   "id": "a13caf58",
   "metadata": {},
   "outputs": [],
   "source": [
    "class DataGenerator(keras.utils.Sequence):\n",
    "    'Generates data for Keras'\n",
    "    def __init__(self, list_IDs, batch_size=32, n_channels=1,\n",
    "                 n_classes=10, shuffle=True, _filename_fp=\"\", _filename_templates = \"\", _data_fp = None, _data_templates=None):\n",
    "        'Initialization'\n",
    "        \n",
    "        self.batch_size = batch_size\n",
    "        \n",
    "        self.list_IDs = list_IDs\n",
    "        \n",
    "        self.n_channels = n_channels\n",
    "        \n",
    "        self.n_classes = n_classes\n",
    "        \n",
    "        self.shuffle = shuffle\n",
    "        \n",
    "        self.p_bar = tqdm.tqdm(total = self.__len__())\n",
    "        \n",
    "        if (_filename_fp != \"\" and _filename_templates != \"\"):\n",
    "            self.filename_fp = _filename_fp\n",
    "            self.filename_templates = _filename_templates\n",
    "        \n",
    "            self.data_fp = pd.read_csv(_filename_fp)\n",
    "            self.data_templates = pd.read_csv(_filename_templates)\n",
    "        else:\n",
    "            self.data_fp = _data_fp\n",
    "            self.data_templates = _data_templates\n",
    "            \n",
    "        self.on_epoch_end()\n",
    "\n",
    "    def __len__(self):\n",
    "        'Denotes the number of batches per epoch'\n",
    "        return int(np.floor(len(self.list_IDs) / self.batch_size))\n",
    "\n",
    "    def __getitem__(self, index):\n",
    "        'Generate one batch of data'\n",
    "        # Generate indexes of the batch\n",
    "        indexes = self.indexes[index*self.batch_size:(index+1)*self.batch_size]\n",
    "\n",
    "        # Find list of IDs\n",
    "        list_IDs_temp = [self.list_IDs[k] for k in indexes]\n",
    "\n",
    "        # Generate data\n",
    "        X, y = self.__data_generation(list_IDs_temp)\n",
    "        \n",
    "        self.p_bar.update(1)\n",
    "        return X, y\n",
    "\n",
    "    def on_epoch_end(self):\n",
    "        'Updates indexes after each epoch'\n",
    "        self.indexes = np.arange(len(self.list_IDs))\n",
    "        if self.shuffle == True:\n",
    "            np.random.shuffle(self.indexes)\n",
    "\n",
    "    def __data_generation(self, list_IDs_temp):\n",
    "        'Generates data containing batch_size samples' \n",
    "        # Initialization\n",
    "        X = []\n",
    "        y = np.empty((self.batch_size), dtype=int)\n",
    "\n",
    "        # Generate data\n",
    "        for i,val in enumerate(list_IDs_temp):\n",
    "            # Store sample\n",
    "           # print(val)\n",
    "            r = fp_from_fp_db(self.data_fp.iloc[val,1])-fp_from_fp_db(self.data_fp.iloc[val,2])\n",
    "            X.append(r)\n",
    "            # Store class\n",
    "            y[i] = inv_map[self.data_templates.iloc[val,4]]\n",
    "        X = np.array(X)\n",
    "        y = keras.utils.to_categorical(y, num_classes=self.n_classes)\n",
    "        return np.array(X), y"
   ]
  },
  {
   "cell_type": "code",
   "execution_count": 16,
   "id": "6985142e",
   "metadata": {},
   "outputs": [],
   "source": [
    "n_s = templates_single.shape[0]\n",
    "batch_size_val = 256\n",
    "nb_epochs = 50"
   ]
  },
  {
   "cell_type": "code",
   "execution_count": 17,
   "id": "da1c05d3",
   "metadata": {},
   "outputs": [],
   "source": [
    "from keras.models import Sequential\n",
    "from keras.layers import Dense,Dropout\n",
    "from tensorflow.keras.optimizers import Adam\n",
    "adam = Adam(learning_rate=0.001, beta_1=0.9, beta_2=0.999, epsilon=None, decay=0.0)\n",
    "\n",
    "model = Sequential()\n",
    "model.add(Dense(512,input_shape=(2048,),activation=\"elu\"))\n",
    "model.add(Dropout(0.4))\n",
    "model.add(Dense(n_s, activation=\"softmax\"))\n",
    "\n",
    "model.compile(loss='categorical_crossentropy', optimizer='adam', metrics=['accuracy', 'top_k_categorical_accuracy'])\n",
    "# Design model"
   ]
  },
  {
   "cell_type": "code",
   "execution_count": 18,
   "id": "f47fc907",
   "metadata": {
    "scrolled": false
   },
   "outputs": [
    {
     "data": {
      "application/vnd.jupyter.widget-view+json": {
       "model_id": "c632bca631404011b585fec3f16e663f",
       "version_major": 2,
       "version_minor": 0
      },
      "text/plain": [
       "  0%|          | 0/66 [00:00<?, ?it/s]"
      ]
     },
     "metadata": {},
     "output_type": "display_data"
    },
    {
     "name": "stderr",
     "output_type": "stream",
     "text": [
      "<ipython-input-18-deb776cc3ac0>:5: UserWarning: `Model.fit_generator` is deprecated and will be removed in a future version. Please use `Model.fit`, which supports generators.\n",
      "  model.fit_generator(generator=training_generator,\n"
     ]
    },
    {
     "name": "stdout",
     "output_type": "stream",
     "text": [
      "Epoch 1/50\n",
      "66/66 - 26s - loss: 11.1443 - accuracy: 0.0392 - top_k_categorical_accuracy: 0.0739 - 26s/epoch - 398ms/step\n",
      "Epoch 2/50\n",
      "66/66 - 25s - loss: 8.2690 - accuracy: 0.1181 - top_k_categorical_accuracy: 0.2103 - 25s/epoch - 384ms/step\n",
      "Epoch 3/50\n",
      "66/66 - 25s - loss: 6.3615 - accuracy: 0.2605 - top_k_categorical_accuracy: 0.3924 - 25s/epoch - 384ms/step\n",
      "Epoch 4/50\n",
      "66/66 - 26s - loss: 4.6745 - accuracy: 0.4112 - top_k_categorical_accuracy: 0.5646 - 26s/epoch - 397ms/step\n",
      "Epoch 5/50\n",
      "66/66 - 25s - loss: 3.2303 - accuracy: 0.5447 - top_k_categorical_accuracy: 0.6916 - 25s/epoch - 384ms/step\n",
      "Epoch 6/50\n",
      "66/66 - 25s - loss: 2.1077 - accuracy: 0.6574 - top_k_categorical_accuracy: 0.8284 - 25s/epoch - 385ms/step\n",
      "Epoch 7/50\n",
      "66/66 - 25s - loss: 1.2736 - accuracy: 0.7808 - top_k_categorical_accuracy: 0.9440 - 25s/epoch - 386ms/step\n",
      "Epoch 8/50\n",
      "66/66 - 25s - loss: 0.7841 - accuracy: 0.8624 - top_k_categorical_accuracy: 0.9811 - 25s/epoch - 380ms/step\n",
      "Epoch 9/50\n",
      "66/66 - 25s - loss: 0.5001 - accuracy: 0.9065 - top_k_categorical_accuracy: 0.9921 - 25s/epoch - 376ms/step\n",
      "Epoch 10/50\n",
      "66/66 - 25s - loss: 0.3665 - accuracy: 0.9290 - top_k_categorical_accuracy: 0.9956 - 25s/epoch - 375ms/step\n",
      "Epoch 11/50\n",
      "66/66 - 25s - loss: 0.2804 - accuracy: 0.9447 - top_k_categorical_accuracy: 0.9981 - 25s/epoch - 378ms/step\n",
      "Epoch 12/50\n",
      "66/66 - 25s - loss: 0.2260 - accuracy: 0.9520 - top_k_categorical_accuracy: 0.9985 - 25s/epoch - 379ms/step\n",
      "Epoch 13/50\n",
      "66/66 - 25s - loss: 0.1923 - accuracy: 0.9604 - top_k_categorical_accuracy: 0.9992 - 25s/epoch - 383ms/step\n",
      "Epoch 14/50\n",
      "66/66 - 25s - loss: 0.1678 - accuracy: 0.9654 - top_k_categorical_accuracy: 0.9993 - 25s/epoch - 378ms/step\n",
      "Epoch 15/50\n",
      "66/66 - 25s - loss: 0.1426 - accuracy: 0.9697 - top_k_categorical_accuracy: 0.9995 - 25s/epoch - 378ms/step\n",
      "Epoch 16/50\n",
      "66/66 - 25s - loss: 0.1275 - accuracy: 0.9747 - top_k_categorical_accuracy: 0.9994 - 25s/epoch - 377ms/step\n",
      "Epoch 17/50\n",
      "66/66 - 25s - loss: 0.1129 - accuracy: 0.9745 - top_k_categorical_accuracy: 0.9997 - 25s/epoch - 377ms/step\n",
      "Epoch 18/50\n",
      "66/66 - 25s - loss: 0.1075 - accuracy: 0.9775 - top_k_categorical_accuracy: 0.9998 - 25s/epoch - 377ms/step\n",
      "Epoch 19/50\n",
      "66/66 - 25s - loss: 0.0954 - accuracy: 0.9806 - top_k_categorical_accuracy: 0.9995 - 25s/epoch - 377ms/step\n",
      "Epoch 20/50\n",
      "66/66 - 25s - loss: 0.0884 - accuracy: 0.9825 - top_k_categorical_accuracy: 0.9997 - 25s/epoch - 380ms/step\n",
      "Epoch 21/50\n",
      "66/66 - 25s - loss: 0.0851 - accuracy: 0.9816 - top_k_categorical_accuracy: 0.9998 - 25s/epoch - 380ms/step\n",
      "Epoch 22/50\n",
      "66/66 - 25s - loss: 0.0784 - accuracy: 0.9834 - top_k_categorical_accuracy: 0.9999 - 25s/epoch - 377ms/step\n",
      "Epoch 23/50\n",
      "66/66 - 25s - loss: 0.0762 - accuracy: 0.9838 - top_k_categorical_accuracy: 0.9995 - 25s/epoch - 377ms/step\n",
      "Epoch 24/50\n",
      "66/66 - 25s - loss: 0.0709 - accuracy: 0.9837 - top_k_categorical_accuracy: 0.9999 - 25s/epoch - 378ms/step\n",
      "Epoch 25/50\n",
      "66/66 - 25s - loss: 0.0648 - accuracy: 0.9852 - top_k_categorical_accuracy: 0.9999 - 25s/epoch - 376ms/step\n",
      "Epoch 26/50\n",
      "66/66 - 25s - loss: 0.0617 - accuracy: 0.9865 - top_k_categorical_accuracy: 0.9999 - 25s/epoch - 378ms/step\n",
      "Epoch 27/50\n",
      "66/66 - 25s - loss: 0.0611 - accuracy: 0.9863 - top_k_categorical_accuracy: 0.9998 - 25s/epoch - 378ms/step\n",
      "Epoch 28/50\n",
      "66/66 - 26s - loss: 0.0614 - accuracy: 0.9860 - top_k_categorical_accuracy: 0.9999 - 26s/epoch - 387ms/step\n",
      "Epoch 29/50\n",
      "66/66 - 25s - loss: 0.0582 - accuracy: 0.9863 - top_k_categorical_accuracy: 0.9999 - 25s/epoch - 386ms/step\n",
      "Epoch 30/50\n",
      "66/66 - 26s - loss: 0.0530 - accuracy: 0.9875 - top_k_categorical_accuracy: 1.0000 - 26s/epoch - 388ms/step\n",
      "Epoch 31/50\n",
      "66/66 - 25s - loss: 0.0521 - accuracy: 0.9879 - top_k_categorical_accuracy: 0.9999 - 25s/epoch - 380ms/step\n",
      "Epoch 32/50\n",
      "66/66 - 25s - loss: 0.0497 - accuracy: 0.9884 - top_k_categorical_accuracy: 0.9999 - 25s/epoch - 376ms/step\n",
      "Epoch 33/50\n",
      "66/66 - 25s - loss: 0.0494 - accuracy: 0.9875 - top_k_categorical_accuracy: 0.9999 - 25s/epoch - 379ms/step\n",
      "Epoch 34/50\n",
      "66/66 - 26s - loss: 0.0514 - accuracy: 0.9881 - top_k_categorical_accuracy: 0.9999 - 26s/epoch - 387ms/step\n",
      "Epoch 35/50\n",
      "66/66 - 25s - loss: 0.0474 - accuracy: 0.9891 - top_k_categorical_accuracy: 0.9999 - 25s/epoch - 384ms/step\n",
      "Epoch 36/50\n",
      "66/66 - 25s - loss: 0.0464 - accuracy: 0.9891 - top_k_categorical_accuracy: 0.9999 - 25s/epoch - 376ms/step\n",
      "Epoch 37/50\n",
      "66/66 - 25s - loss: 0.0465 - accuracy: 0.9880 - top_k_categorical_accuracy: 1.0000 - 25s/epoch - 384ms/step\n",
      "Epoch 38/50\n",
      "66/66 - 26s - loss: 0.0451 - accuracy: 0.9884 - top_k_categorical_accuracy: 0.9999 - 26s/epoch - 388ms/step\n",
      "Epoch 39/50\n",
      "66/66 - 25s - loss: 0.0430 - accuracy: 0.9894 - top_k_categorical_accuracy: 1.0000 - 25s/epoch - 386ms/step\n",
      "Epoch 40/50\n",
      "66/66 - 25s - loss: 0.0396 - accuracy: 0.9897 - top_k_categorical_accuracy: 0.9999 - 25s/epoch - 383ms/step\n",
      "Epoch 41/50\n",
      "66/66 - 26s - loss: 0.0396 - accuracy: 0.9898 - top_k_categorical_accuracy: 1.0000 - 26s/epoch - 391ms/step\n",
      "Epoch 42/50\n",
      "66/66 - 25s - loss: 0.0417 - accuracy: 0.9901 - top_k_categorical_accuracy: 0.9999 - 25s/epoch - 377ms/step\n",
      "Epoch 43/50\n",
      "66/66 - 25s - loss: 0.0411 - accuracy: 0.9897 - top_k_categorical_accuracy: 0.9999 - 25s/epoch - 377ms/step\n",
      "Epoch 44/50\n",
      "66/66 - 25s - loss: 0.0388 - accuracy: 0.9892 - top_k_categorical_accuracy: 1.0000 - 25s/epoch - 378ms/step\n",
      "Epoch 45/50\n",
      "66/66 - 25s - loss: 0.0384 - accuracy: 0.9898 - top_k_categorical_accuracy: 1.0000 - 25s/epoch - 380ms/step\n",
      "Epoch 46/50\n",
      "66/66 - 25s - loss: 0.0373 - accuracy: 0.9898 - top_k_categorical_accuracy: 0.9999 - 25s/epoch - 378ms/step\n",
      "Epoch 47/50\n",
      "66/66 - 25s - loss: 0.0385 - accuracy: 0.9899 - top_k_categorical_accuracy: 0.9999 - 25s/epoch - 382ms/step\n",
      "Epoch 48/50\n",
      "66/66 - 25s - loss: 0.0398 - accuracy: 0.9902 - top_k_categorical_accuracy: 1.0000 - 25s/epoch - 380ms/step\n",
      "Epoch 49/50\n",
      "66/66 - 25s - loss: 0.0378 - accuracy: 0.9899 - top_k_categorical_accuracy: 0.9998 - 25s/epoch - 377ms/step\n",
      "Epoch 50/50\n",
      "66/66 - 25s - loss: 0.0368 - accuracy: 0.9899 - top_k_categorical_accuracy: 1.0000 - 25s/epoch - 384ms/step\n"
     ]
    },
    {
     "data": {
      "text/plain": [
       "<keras.callbacks.History at 0x2510267a8b0>"
      ]
     },
     "execution_count": 18,
     "metadata": {},
     "output_type": "execute_result"
    }
   ],
   "source": [
    "training_generator = DataGenerator(np.arange(reactions_all.shape[0]//100), batch_size=batch_size_val, n_channels=1,\n",
    "                 n_classes=n_s, shuffle=True, _data_fp = fp, _data_templates = templates_all)\n",
    "# Train model on dataset\n",
    "\n",
    "model.fit_generator(generator=training_generator,\n",
    "                    use_multiprocessing=False,\n",
    "                    verbose=2,\n",
    "                    initial_epoch=0,\n",
    "                    max_queue_size=20,\n",
    "                    epochs=nb_epochs,\n",
    "                    workers=20)"
   ]
  },
  {
   "cell_type": "code",
   "execution_count": 20,
   "id": "ea4b4c25",
   "metadata": {},
   "outputs": [
    {
     "name": "stdout",
     "output_type": "stream",
     "text": [
      "INFO:tensorflow:Assets written to: our_recommender_model\\assets\n"
     ]
    }
   ],
   "source": [
    "model.save(\"our_recommender_model\")"
   ]
  },
  {
   "cell_type": "code",
   "execution_count": 55,
   "id": "0f7c7b16",
   "metadata": {},
   "outputs": [
    {
     "ename": "InternalError",
     "evalue": "Failed copying input tensor from /job:localhost/replica:0/task:0/device:CPU:0 to /job:localhost/replica:0/task:0/device:GPU:0 in order to run _EagerConst: Dst tensor is not initialized.",
     "output_type": "error",
     "traceback": [
      "\u001b[1;31m---------------------------------------------------------------------------\u001b[0m",
      "\u001b[1;31mInternalError\u001b[0m                             Traceback (most recent call last)",
      "\u001b[1;32m<ipython-input-55-8781ecd26658>\u001b[0m in \u001b[0;36m<module>\u001b[1;34m\u001b[0m\n\u001b[0;32m      1\u001b[0m \u001b[0mink\u001b[0m \u001b[1;33m=\u001b[0m \u001b[1;33m[\u001b[0m\u001b[0mfp_from_fp_db\u001b[0m\u001b[1;33m(\u001b[0m\u001b[0mfp\u001b[0m\u001b[1;33m.\u001b[0m\u001b[0miloc\u001b[0m\u001b[1;33m[\u001b[0m\u001b[0mx\u001b[0m\u001b[1;33m,\u001b[0m\u001b[1;36m1\u001b[0m\u001b[1;33m]\u001b[0m\u001b[1;33m)\u001b[0m\u001b[1;33m-\u001b[0m\u001b[0mfp_from_fp_db\u001b[0m\u001b[1;33m(\u001b[0m\u001b[0mfp\u001b[0m\u001b[1;33m.\u001b[0m\u001b[0miloc\u001b[0m\u001b[1;33m[\u001b[0m\u001b[0mx\u001b[0m\u001b[1;33m,\u001b[0m\u001b[1;36m2\u001b[0m\u001b[1;33m]\u001b[0m\u001b[1;33m)\u001b[0m \u001b[1;32mfor\u001b[0m \u001b[0mx\u001b[0m \u001b[1;32min\u001b[0m \u001b[0mrange\u001b[0m\u001b[1;33m(\u001b[0m\u001b[1;36m17000\u001b[0m\u001b[1;33m,\u001b[0m\u001b[1;36m30000\u001b[0m\u001b[1;33m)\u001b[0m\u001b[1;33m]\u001b[0m\u001b[1;33m\u001b[0m\u001b[1;33m\u001b[0m\u001b[0m\n\u001b[0;32m      2\u001b[0m \u001b[1;31m#print(ink.shape)\u001b[0m\u001b[1;33m\u001b[0m\u001b[1;33m\u001b[0m\u001b[1;33m\u001b[0m\u001b[0m\n\u001b[1;32m----> 3\u001b[1;33m \u001b[0mv\u001b[0m \u001b[1;33m=\u001b[0m \u001b[0mmodel\u001b[0m\u001b[1;33m.\u001b[0m\u001b[0mpredict\u001b[0m\u001b[1;33m(\u001b[0m\u001b[0mnp\u001b[0m\u001b[1;33m.\u001b[0m\u001b[0marray\u001b[0m\u001b[1;33m(\u001b[0m\u001b[0mink\u001b[0m\u001b[1;33m)\u001b[0m\u001b[1;33m)\u001b[0m\u001b[1;33m\u001b[0m\u001b[1;33m\u001b[0m\u001b[0m\n\u001b[0m",
      "\u001b[1;32m~\\anaconda3\\envs\\aizynth-env\\lib\\site-packages\\keras\\utils\\traceback_utils.py\u001b[0m in \u001b[0;36merror_handler\u001b[1;34m(*args, **kwargs)\u001b[0m\n\u001b[0;32m     65\u001b[0m     \u001b[1;32mexcept\u001b[0m \u001b[0mException\u001b[0m \u001b[1;32mas\u001b[0m \u001b[0me\u001b[0m\u001b[1;33m:\u001b[0m  \u001b[1;31m# pylint: disable=broad-except\u001b[0m\u001b[1;33m\u001b[0m\u001b[1;33m\u001b[0m\u001b[0m\n\u001b[0;32m     66\u001b[0m       \u001b[0mfiltered_tb\u001b[0m \u001b[1;33m=\u001b[0m \u001b[0m_process_traceback_frames\u001b[0m\u001b[1;33m(\u001b[0m\u001b[0me\u001b[0m\u001b[1;33m.\u001b[0m\u001b[0m__traceback__\u001b[0m\u001b[1;33m)\u001b[0m\u001b[1;33m\u001b[0m\u001b[1;33m\u001b[0m\u001b[0m\n\u001b[1;32m---> 67\u001b[1;33m       \u001b[1;32mraise\u001b[0m \u001b[0me\u001b[0m\u001b[1;33m.\u001b[0m\u001b[0mwith_traceback\u001b[0m\u001b[1;33m(\u001b[0m\u001b[0mfiltered_tb\u001b[0m\u001b[1;33m)\u001b[0m \u001b[1;32mfrom\u001b[0m \u001b[1;32mNone\u001b[0m\u001b[1;33m\u001b[0m\u001b[1;33m\u001b[0m\u001b[0m\n\u001b[0m\u001b[0;32m     68\u001b[0m     \u001b[1;32mfinally\u001b[0m\u001b[1;33m:\u001b[0m\u001b[1;33m\u001b[0m\u001b[1;33m\u001b[0m\u001b[0m\n\u001b[0;32m     69\u001b[0m       \u001b[1;32mdel\u001b[0m \u001b[0mfiltered_tb\u001b[0m\u001b[1;33m\u001b[0m\u001b[1;33m\u001b[0m\u001b[0m\n",
      "\u001b[1;32m~\\anaconda3\\envs\\aizynth-env\\lib\\site-packages\\tensorflow\\python\\framework\\constant_op.py\u001b[0m in \u001b[0;36mconvert_to_eager_tensor\u001b[1;34m(value, ctx, dtype)\u001b[0m\n\u001b[0;32m    104\u001b[0m       \u001b[0mdtype\u001b[0m \u001b[1;33m=\u001b[0m \u001b[0mdtypes\u001b[0m\u001b[1;33m.\u001b[0m\u001b[0mas_dtype\u001b[0m\u001b[1;33m(\u001b[0m\u001b[0mdtype\u001b[0m\u001b[1;33m)\u001b[0m\u001b[1;33m.\u001b[0m\u001b[0mas_datatype_enum\u001b[0m\u001b[1;33m\u001b[0m\u001b[1;33m\u001b[0m\u001b[0m\n\u001b[0;32m    105\u001b[0m   \u001b[0mctx\u001b[0m\u001b[1;33m.\u001b[0m\u001b[0mensure_initialized\u001b[0m\u001b[1;33m(\u001b[0m\u001b[1;33m)\u001b[0m\u001b[1;33m\u001b[0m\u001b[1;33m\u001b[0m\u001b[0m\n\u001b[1;32m--> 106\u001b[1;33m   \u001b[1;32mreturn\u001b[0m \u001b[0mops\u001b[0m\u001b[1;33m.\u001b[0m\u001b[0mEagerTensor\u001b[0m\u001b[1;33m(\u001b[0m\u001b[0mvalue\u001b[0m\u001b[1;33m,\u001b[0m \u001b[0mctx\u001b[0m\u001b[1;33m.\u001b[0m\u001b[0mdevice_name\u001b[0m\u001b[1;33m,\u001b[0m \u001b[0mdtype\u001b[0m\u001b[1;33m)\u001b[0m\u001b[1;33m\u001b[0m\u001b[1;33m\u001b[0m\u001b[0m\n\u001b[0m\u001b[0;32m    107\u001b[0m \u001b[1;33m\u001b[0m\u001b[0m\n\u001b[0;32m    108\u001b[0m \u001b[1;33m\u001b[0m\u001b[0m\n",
      "\u001b[1;31mInternalError\u001b[0m: Failed copying input tensor from /job:localhost/replica:0/task:0/device:CPU:0 to /job:localhost/replica:0/task:0/device:GPU:0 in order to run _EagerConst: Dst tensor is not initialized."
     ]
    }
   ],
   "source": [
    "ink = [fp_from_fp_db(fp.iloc[x,1])-fp_from_fp_db(fp.iloc[x,2]) for x in range(17000,30000)]\n",
    "#print(ink.shape)\n",
    "v = model.predict(np.array(ink))"
   ]
  },
  {
   "cell_type": "code",
   "execution_count": null,
   "id": "0656bcb7",
   "metadata": {},
   "outputs": [],
   "source": [
    "v.shape"
   ]
  },
  {
   "cell_type": "code",
   "execution_count": null,
   "id": "1e73fecb",
   "metadata": {},
   "outputs": [],
   "source": [
    "res = [max(v[i])]"
   ]
  },
  {
   "cell_type": "code",
   "execution_count": 47,
   "id": "3d1db3cd",
   "metadata": {},
   "outputs": [
    {
     "data": {
      "text/plain": [
       "82"
      ]
     },
     "execution_count": 47,
     "metadata": {},
     "output_type": "execute_result"
    }
   ],
   "source": [
    "max_index"
   ]
  },
  {
   "cell_type": "code",
   "execution_count": 49,
   "id": "d56b7dc7",
   "metadata": {},
   "outputs": [
    {
     "data": {
      "text/plain": [
       "'[C:1]-[NH;D2;+0:2]-[CH2;D2;+0:4]-[C:3]-[OH;D1;+0:5]>>[C:1]-[NH2;D1;+0:2].[C:3]1-[CH2;D2;+0:4]-[O;H0;D2;+0:5]-1'"
      ]
     },
     "execution_count": 49,
     "metadata": {},
     "output_type": "execute_result"
    }
   ],
   "source": [
    "my_map[max_index]"
   ]
  },
  {
   "cell_type": "code",
   "execution_count": 50,
   "id": "33afb3dd",
   "metadata": {},
   "outputs": [
    {
     "data": {
      "text/plain": [
       "82"
      ]
     },
     "execution_count": 50,
     "metadata": {},
     "output_type": "execute_result"
    }
   ],
   "source": [
    "inv_map[templates_all.iloc[20000,4]]"
   ]
  },
  {
   "cell_type": "code",
   "execution_count": 38,
   "id": "a9f52ca2",
   "metadata": {},
   "outputs": [
    {
     "data": {
      "text/plain": [
       "0.0019511969"
      ]
     },
     "execution_count": 38,
     "metadata": {},
     "output_type": "execute_result"
    }
   ],
   "source": [
    "v[0][1975]"
   ]
  }
 ],
 "metadata": {
  "kernelspec": {
   "display_name": "aizynth-env",
   "language": "python",
   "name": "aizynth-env"
  },
  "language_info": {
   "codemirror_mode": {
    "name": "ipython",
    "version": 3
   },
   "file_extension": ".py",
   "mimetype": "text/x-python",
   "name": "python",
   "nbconvert_exporter": "python",
   "pygments_lexer": "ipython3",
   "version": "3.8.12"
  },
  "latex_envs": {
   "LaTeX_envs_menu_present": true,
   "autoclose": false,
   "autocomplete": false,
   "bibliofile": "biblio.bib",
   "cite_by": "apalike",
   "current_citInitial": 1,
   "eqLabelWithNumbers": true,
   "eqNumInitial": 1,
   "hotkeys": {
    "equation": "Ctrl-E",
    "itemize": "Ctrl-I"
   },
   "labels_anchors": false,
   "latex_user_defs": false,
   "report_style_numbering": false,
   "user_envs_cfg": false
  }
 },
 "nbformat": 4,
 "nbformat_minor": 5
}
