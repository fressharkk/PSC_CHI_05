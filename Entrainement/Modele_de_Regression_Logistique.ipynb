{
 "cells": [
  {
   "cell_type": "code",
   "execution_count": 4,
   "id": "5f4dbb42",
   "metadata": {},
   "outputs": [],
   "source": [
    "#Importations utiles liés à la gestion des données\n",
    "import pandas as pd\n",
    "from scipy import sparse\n",
    "from scipy import linalg\n",
    "from sklearn.model_selection import train_test_split\n",
    "from sklearn.linear_model import LogisticRegression\n",
    "from sklearn.metrics import precision_recall_fscore_support as score\n",
    "from sklearn.metrics import mean_squared_error, r2_score\n",
    "from sklearn.manifold import TSNE\n",
    "from sklearn.metrics import precision_recall_fscore_support as score\n",
    "from sklearn.metrics import mean_squared_error, r2_score\n",
    "from sklearn.metrics import accuracy_score,RocCurveDisplay,roc_curve, roc_auc_score\n",
    "import numpy as np\n",
    "import matplotlib.pyplot as plt\n",
    "import tqdm.notebook as tq\n",
    "import pickle"
   ]
  },
  {
   "cell_type": "code",
   "execution_count": 5,
   "id": "d1d801fd",
   "metadata": {},
   "outputs": [],
   "source": [
    "def fp_from_fp_db(fp_db):\n",
    "    '''\n",
    "    Cette fonction permet de recréer le fingerprint de taille 2048\n",
    "    à partir du fingerprint codé en mémoire\n",
    "    '''\n",
    "    res = np.zeros(2048)\n",
    "    #On initialise un array de 2048 zéros\n",
    "    list_idx = fp_db.split(\" \")\n",
    "    #On récupère tous les indices non nuls du fingerprint\n",
    "    for el in list_idx[:-1]:\n",
    "        lfp = el.split(\"-\")\n",
    "        n = len(lfp)\n",
    "        #En fonction des cas, on complète avec la bonne valeur\n",
    "        if n == 1:\n",
    "            res[int(lfp[0])] = 1\n",
    "        elif n==2:\n",
    "            res[int(lfp[0])] = int(lfp[-1])\n",
    "        else:\n",
    "            res[int(lfp[0])] = -int(lfp[-1])\n",
    "    return res\n",
    "\n",
    "def input_model_from_db(base_fp):\n",
    "    '''\n",
    "    Cette fonction renvoie un array de fingerprint à partir d'un dataset contenant des\n",
    "    fingerprints sous forme \"codée\"\n",
    "    '''\n",
    "    #On sépare fingerprint de réactions et fingerprints du produit\n",
    "    prod_fp_db,rxn_fp_db = base_fp[\"Product_Fingerprint\"],base_fp[\"Reaction_Fingerprint\"]\n",
    "    prod_fp,rxn_fp = [],[]\n",
    "    p_bar = tq.tqdm(total=base_fp.shape[0])\n",
    "    for i in range(base_fp.shape[0]):\n",
    "        #On essaie de récupérer le fingerprint associé à la ligne i\n",
    "        try:\n",
    "            p_bar.update(1)\n",
    "            rxn_fp.append(fp_from_fp_db(rxn_fp_db.iloc[i]))\n",
    "            prod_fp.append(fp_from_fp_db(prod_fp_db.iloc[i]))\n",
    "        except:\n",
    "            continue\n",
    "    return np.array(prod_fp), np.array(rxn_fp)"
   ]
  },
  {
   "cell_type": "code",
   "execution_count": 3,
   "id": "6b02874c",
   "metadata": {},
   "outputs": [],
   "source": [
    "#Nom des fichiers nécessaires\n",
    "fname_fp_false = \"NOM DU FICHIER CONTENANT LES FAUSSES REACTIONS SUR LESQUELLES S'ENTRAINER\"\n",
    "fname_fp_true = \"NOM DU FICHIER CONTENANT LES VRAIES  REACTIONS SUR LESQUELLES S'ENTRAINER\""
   ]
  },
  {
   "cell_type": "code",
   "execution_count": 6,
   "id": "da4d183c",
   "metadata": {
    "scrolled": false
   },
   "outputs": [],
   "source": [
    "#On récupère les bases de données associées aux noms des fichiers\n",
    "data_fp_false = pd.read_csv(fname_fp_false)\n",
    "data_fp_true = pd.read_csv(fname_fp_true)"
   ]
  },
  {
   "cell_type": "code",
   "execution_count": 7,
   "id": "30519e48",
   "metadata": {},
   "outputs": [],
   "source": [
    "#On récupère la taille des données\n",
    "size_true = data_fp_true.shape[0]\n",
    "size_false = data_fp_false.shape[0]"
   ]
  },
  {
   "cell_type": "code",
   "execution_count": 8,
   "id": "bce6a1bc",
   "metadata": {},
   "outputs": [
    {
     "data": {
      "application/vnd.jupyter.widget-view+json": {
       "model_id": "a6b9f4eb53b34a4e8b9973a98c260df3",
       "version_major": 2,
       "version_minor": 0
      },
      "text/plain": [
       "  0%|          | 0/100000 [00:00<?, ?it/s]"
      ]
     },
     "metadata": {},
     "output_type": "display_data"
    }
   ],
   "source": [
    "#On convertit les données en fingerprint \n",
    "#On tronque pour ne pas saturer la RAM\n",
    "troncature = 100000\n",
    "#On récupère les produits et les réactions correspondantes sous forme de fingerprint\n",
    "p1,p2 = input_model_from_db(data_fp_true[:troncature])"
   ]
  },
  {
   "cell_type": "code",
   "execution_count": 9,
   "id": "d37b9c40",
   "metadata": {},
   "outputs": [
    {
     "data": {
      "application/vnd.jupyter.widget-view+json": {
       "model_id": "ecbd74e7569d42deb76f32d0dde3ef12",
       "version_major": 2,
       "version_minor": 0
      },
      "text/plain": [
       "  0%|          | 0/13867 [00:00<?, ?it/s]"
      ]
     },
     "metadata": {},
     "output_type": "display_data"
    }
   ],
   "source": [
    "#On récupère les produits et les réactions correspondantes sous forme de fingerprint pour la base de données fausses\n",
    "#Dans le but de ne pas induire un biais, on garde la même proportion de données vraies et fausses\n",
    "#Nous avons essayé de shuffle les données avant et d'entraîner notre modèle mais cela n'a pas donné de \n",
    "#différences notables \n",
    "#Nous avons donc gardé la version la plus simple\n",
    "p3,p4 = input_model_from_db(data_fp_false[:size_false*troncature//size_true])"
   ]
  },
  {
   "cell_type": "raw",
   "id": "d992f8ab",
   "metadata": {},
   "source": [
    "On pourrait se questionner quant au choix de 100000 comme troncature mais la regression limite rapidement le nombre d'itérations maximales ce qui fait que 100000 est un choix largement suffisant"
   ]
  },
  {
   "cell_type": "code",
   "execution_count": 10,
   "id": "3f57e749",
   "metadata": {},
   "outputs": [],
   "source": [
    "#Array des Fingerprints des Produits liés aux Vraies Reactions et Fausses Reactions\n",
    "prod_fp = np.concatenate((p1, p3))"
   ]
  },
  {
   "cell_type": "code",
   "execution_count": 11,
   "id": "76210485",
   "metadata": {},
   "outputs": [],
   "source": [
    "#Array des Fingerprints des Réactions liés aux Vraies Reactions et Fausses Reactions\n",
    "rxn_fp = np.concatenate((p2,p4))"
   ]
  },
  {
   "cell_type": "code",
   "execution_count": 12,
   "id": "fc8ed781",
   "metadata": {},
   "outputs": [],
   "source": [
    "#Labels : 1 pour les vraies réactions, 0 pour les fausses\n",
    "labels = np.array([1]*p1.shape[0]+[0]*p3.shape[0])"
   ]
  },
  {
   "cell_type": "code",
   "execution_count": 13,
   "id": "1e047f77",
   "metadata": {},
   "outputs": [],
   "source": [
    "#On concatène notre data en input ici sous la\n",
    "data_input = [np.concatenate((rxn_fp[i], prod_fp[i])) for i in range(rxn_fp.shape[0])]"
   ]
  },
  {
   "cell_type": "code",
   "execution_count": 14,
   "id": "bf034eca",
   "metadata": {},
   "outputs": [],
   "source": [
    "#### PARAMETRES : proportion d'entraînement\n",
    "train_prop = 0.9\n",
    "test_prop  = 0.1"
   ]
  },
  {
   "cell_type": "code",
   "execution_count": 15,
   "id": "b64b4385",
   "metadata": {},
   "outputs": [],
   "source": [
    "#On divise les données de façon aléatoire : on utilise le random_state 42 pour avoir des résultats reproductibles\n",
    "input_train, input_test, labels_train, labels_test = train_test_split(data_input, labels, train_size = train_prop, random_state=42)"
   ]
  },
  {
   "cell_type": "markdown",
   "id": "c7fcb5c6",
   "metadata": {},
   "source": [
    "## Entrainement du modèle"
   ]
  },
  {
   "cell_type": "code",
   "execution_count": 16,
   "id": "12251514",
   "metadata": {},
   "outputs": [],
   "source": [
    "#On crée notre modèle\n",
    "log_regression_alg = LogisticRegression()"
   ]
  },
  {
   "cell_type": "code",
   "execution_count": 17,
   "id": "31f42654",
   "metadata": {},
   "outputs": [
    {
     "name": "stderr",
     "output_type": "stream",
     "text": [
      "C:\\Users\\Yassine\\anaconda3\\envs\\aizynth-env\\lib\\site-packages\\sklearn\\linear_model\\_logistic.py:763: ConvergenceWarning: lbfgs failed to converge (status=1):\n",
      "STOP: TOTAL NO. of ITERATIONS REACHED LIMIT.\n",
      "\n",
      "Increase the number of iterations (max_iter) or scale the data as shown in:\n",
      "    https://scikit-learn.org/stable/modules/preprocessing.html\n",
      "Please also refer to the documentation for alternative solver options:\n",
      "    https://scikit-learn.org/stable/modules/linear_model.html#logistic-regression\n",
      "  n_iter_i = _check_optimize_result(\n"
     ]
    },
    {
     "data": {
      "text/plain": [
       "LogisticRegression()"
      ]
     },
     "execution_count": 17,
     "metadata": {},
     "output_type": "execute_result"
    }
   ],
   "source": [
    "#On l'entraîne\n",
    "log_regression_alg.fit(input_train, labels_train)"
   ]
  },
  {
   "cell_type": "code",
   "execution_count": 23,
   "id": "e5efc8fb",
   "metadata": {},
   "outputs": [],
   "source": [
    "#Saving the Model\n",
    "filename = 'regression_model.sav'\n",
    "pickle.dump(log_regression_alg, open(filename, 'wb'))"
   ]
  },
  {
   "cell_type": "markdown",
   "id": "11ac2a6c",
   "metadata": {},
   "source": [
    "## Premiers Résultats"
   ]
  },
  {
   "cell_type": "code",
   "execution_count": 64,
   "id": "3363fa56",
   "metadata": {},
   "outputs": [],
   "source": [
    "#On prédit sur les données de test\n",
    "y_pred = log_regression_alg.predict_proba(input_test)"
   ]
  },
  {
   "cell_type": "code",
   "execution_count": null,
   "id": "de978ae4",
   "metadata": {
    "scrolled": true
   },
   "outputs": [],
   "source": [
    "#On calcule précision, recall, fscore\n",
    "precision, recall, fscore, support = score(labels_test, y_pred, pos_label=1, average='binary')"
   ]
  },
  {
   "cell_type": "code",
   "execution_count": 66,
   "id": "417d55b1",
   "metadata": {},
   "outputs": [
    {
     "data": {
      "text/plain": [
       "(0.9573728772084373, 0.9789320922784367, 0.9680324623911322)"
      ]
     },
     "execution_count": 66,
     "metadata": {},
     "output_type": "execute_result"
    }
   ],
   "source": [
    "precision,recall,fscore"
   ]
  },
  {
   "cell_type": "code",
   "execution_count": 67,
   "id": "10f85651",
   "metadata": {},
   "outputs": [],
   "source": [
    "def plot_roc_curve_from_res(fpr,tpr,thresholds):\n",
    "    '''\n",
    "    Permet d'afficher la courbe ROC\n",
    "    '''\n",
    "    plt.plot(fpr,tpr)\n",
    "    plt.xlabel(\"taux de faux positifs\")\n",
    "    plt.ylabel(\"taux de vrais positifs\")\n",
    "\n",
    "    plt.show()"
   ]
  },
  {
   "cell_type": "code",
   "execution_count": 69,
   "id": "b65901b7",
   "metadata": {
    "scrolled": false
   },
   "outputs": [
    {
     "data": {
      "image/png": "[encoded data removed]",
      "text/plain": [
       "<Figure size 432x288 with 1 Axes>"
      ]
     },
     "metadata": {
      "needs_background": "light"
     },
     "output_type": "display_data"
    },
    {
     "data": {
      "text/plain": [
       "0.9443100801431126"
      ]
     },
     "execution_count": 69,
     "metadata": {},
     "output_type": "execute_result"
    }
   ],
   "source": [
    "fpr, tpr, thresholds = roc_curve(labels_test, y_pred[:,1])\n",
    "plot_roc_curve_from_res(fpr,tpr,thresholds)\n",
    "roc_auc_score(labels_test, y_pred[:,1])"
   ]
  }
 ],
 "metadata": {
  "kernelspec": {
   "display_name": "aizynth-env",
   "language": "python",
   "name": "aizynth-env"
  },
  "language_info": {
   "codemirror_mode": {
    "name": "ipython",
    "version": 3
   },
   "file_extension": ".py",
   "mimetype": "text/x-python",
   "name": "python",
   "nbconvert_exporter": "python",
   "pygments_lexer": "ipython3",
   "version": "3.8.12"
  },
  "latex_envs": {
   "LaTeX_envs_menu_present": true,
   "autoclose": false,
   "autocomplete": false,
   "bibliofile": "biblio.bib",
   "cite_by": "apalike",
   "current_citInitial": 1,
   "eqLabelWithNumbers": true,
   "eqNumInitial": 1,
   "hotkeys": {
    "equation": "Ctrl-E",
    "itemize": "Ctrl-I"
   },
   "labels_anchors": false,
   "latex_user_defs": false,
   "report_style_numbering": false,
   "user_envs_cfg": false
  }
 },
 "nbformat": 4,
 "nbformat_minor": 5
}
