{
 "cells": [
  {
   "cell_type": "code",
   "execution_count": 1,
   "id": "37b45796",
   "metadata": {},
   "outputs": [],
   "source": [
    "#Importations utiles liés à la gestion des données\n",
    "import pandas as pd\n",
    "from scipy import sparse\n",
    "from scipy import linalg\n",
    "from sklearn.model_selection import train_test_split\n",
    "from sklearn.ensemble import RandomForestClassifier\n",
    "from sklearn.metrics import precision_recall_fscore_support as score\n",
    "from sklearn.metrics import mean_squared_error, r2_score\n",
    "from sklearn.manifold import TSNE\n",
    "import numpy as np\n",
    "import matplotlib.pyplot as plt\n",
    "import tqdm.notebook as tq\n",
    "import pickle"
   ]
  },
  {
   "cell_type": "code",
   "execution_count": 2,
   "id": "2610fc5e",
   "metadata": {},
   "outputs": [],
   "source": [
    "def fp_from_fp_db(fp_db):\n",
    "    '''\n",
    "    Cette fonction permet de recréer le fingerprint de taille 2048\n",
    "    à partir du fingerprint codé en mémoire\n",
    "    '''\n",
    "    res = np.zeros(2048)\n",
    "    #On initialise un array de 2048 zéros\n",
    "    list_idx = fp_db.split(\" \")\n",
    "    #On récupère tous les indices non nuls du fingerprint\n",
    "    for el in list_idx[:-1]:\n",
    "        lfp = el.split(\"-\")\n",
    "        n = len(lfp)\n",
    "        #En fonction des cas, on complète avec la bonne valeur\n",
    "        if n == 1:\n",
    "            res[int(lfp[0])] = 1\n",
    "        elif n==2:\n",
    "            res[int(lfp[0])] = int(lfp[-1])\n",
    "        else:\n",
    "            res[int(lfp[0])] = -int(lfp[-1])\n",
    "    return res\n",
    "\n",
    "def input_model_from_db(base_fp):\n",
    "    '''\n",
    "    Cette fonction renvoie un array de fingerprint à partir d'un dataset contenant des\n",
    "    fingerprints sous forme \"codée\"\n",
    "    '''\n",
    "    #On sépare fingerprint de réactions et fingerprints du produit\n",
    "    prod_fp_db,rxn_fp_db = base_fp[\"Product_Fingerprint\"],base_fp[\"Reaction_Fingerprint\"]\n",
    "    prod_fp,rxn_fp = [],[]\n",
    "    p_bar = tq.tqdm(total=base_fp.shape[0])\n",
    "    for i in range(base_fp.shape[0]):\n",
    "        #On essaie de récupérer le fingerprint associé à la ligne i\n",
    "        try:\n",
    "            p_bar.update(1)\n",
    "            rxn_fp.append(fp_from_fp_db(rxn_fp_db.iloc[i]))\n",
    "            prod_fp.append(fp_from_fp_db(prod_fp_db.iloc[i]))\n",
    "        except:\n",
    "            continue\n",
    "    return np.array(prod_fp), np.array(rxn_fp)"
   ]
  },
  {
   "cell_type": "code",
   "execution_count": 3,
   "id": "97b3fd01",
   "metadata": {},
   "outputs": [],
   "source": [
    "#Nom des fichiers nécessaires\n",
    "fname_fp_false = \"NOM DU FICHIER CONTENANT LES FAUSSES REACTIONS SUR LESQUELLES S'ENTRAINER\"\n",
    "fname_fp_true = \"NOM DU FICHIER CONTENANT LES VRAIES  REACTIONS SUR LESQUELLES S'ENTRAINER\""
   ]
  },
  {
   "cell_type": "code",
   "execution_count": 4,
   "id": "2c5db03e",
   "metadata": {
    "scrolled": false
   },
   "outputs": [],
   "source": [
    "#On récupère les bases de données associées aux noms des fichiers\n",
    "data_fp_false = pd.read_csv(fname_fp_false)\n",
    "data_fp_true = pd.read_csv(fname_fp_true)"
   ]
  },
  {
   "cell_type": "code",
   "execution_count": 5,
   "id": "d982b883",
   "metadata": {},
   "outputs": [],
   "source": [
    "#On récupère la taille des données\n",
    "size_true = data_fp_true.shape[0]\n",
    "size_false = data_fp_false.shape[0]"
   ]
  },
  {
   "cell_type": "code",
   "execution_count": 6,
   "id": "67b35e1d",
   "metadata": {},
   "outputs": [
    {
     "data": {
      "application/vnd.jupyter.widget-view+json": {
       "model_id": "5846675aae7c4a08b512aaef9e9e5e50",
       "version_major": 2,
       "version_minor": 0
      },
      "text/plain": [
       "  0%|          | 0/180825 [00:00<?, ?it/s]"
      ]
     },
     "metadata": {},
     "output_type": "display_data"
    }
   ],
   "source": [
    "#On convertit les données en fingerprint \n",
    "#On tronque pour ne pas saturer la RAM\n",
    "size_percentage = 0.1\n",
    "#On récupère les produits et les réactions correspondantes sous forme de fingerprint\n",
    "p1,p2 = input_model_from_db(data_fp_true[:size_true*size_percentage])"
   ]
  },
  {
   "cell_type": "code",
   "execution_count": 7,
   "id": "e032a2e6",
   "metadata": {},
   "outputs": [
    {
     "data": {
      "application/vnd.jupyter.widget-view+json": {
       "model_id": "834aa3c1d8244f909c40e723e54c9ff0",
       "version_major": 2,
       "version_minor": 0
      },
      "text/plain": [
       "  0%|          | 0/25076 [00:00<?, ?it/s]"
      ]
     },
     "metadata": {},
     "output_type": "display_data"
    }
   ],
   "source": [
    "#On récupère les produits et les réactions correspondantes sous forme de fingerprint pour la base de données fausses\n",
    "#Dans le but de ne pas induire un biais, on garde la même proportion de données vraies et fausses\n",
    "#Nous avons essayé de shuffle les données avant et d'entraîner notre modèle mais cela n'a pas donné de \n",
    "#différences notables \n",
    "#Nous avons donc gardé la version la plus simple\n",
    "p3,p4 = input_model_from_db(data_fp_false[:size_false*size_percentage])"
   ]
  },
  {
   "cell_type": "code",
   "execution_count": 8,
   "id": "47313b1a",
   "metadata": {},
   "outputs": [],
   "source": [
    "#Array des Fingerprints des Produits liés aux Vraies Reactions et Fausses Reactions\n",
    "prod_fp = np.concatenate((p1, p3))prod_fp = np.concatenate((p1, p3))"
   ]
  },
  {
   "cell_type": "code",
   "execution_count": 9,
   "id": "5f7bda52",
   "metadata": {},
   "outputs": [],
   "source": [
    "#Array des Fingerprints des Réactions liés aux Vraies Reactions et Fausses Reactions\n",
    "rxn_fp = np.concatenate((p2,p4))"
   ]
  },
  {
   "cell_type": "code",
   "execution_count": 10,
   "id": "c46bb420",
   "metadata": {},
   "outputs": [],
   "source": [
    "#Labels : 1 pour les vraies réactions, 0 pour les fausses\n",
    "labels = np.array([1]*p1.shape[0]+[0]*p3.shape[0])"
   ]
  },
  {
   "cell_type": "code",
   "execution_count": 11,
   "id": "0d9f28f1",
   "metadata": {},
   "outputs": [],
   "source": [
    "#### PARAMETRES : proportion d'entraînement\n",
    "train_prop = 0.9\n",
    "test_prop  = 0.1"
   ]
  },
  {
   "cell_type": "code",
   "execution_count": 12,
   "id": "11354326",
   "metadata": {},
   "outputs": [],
   "source": [
    "#On divise les données de façon aléatoire : on utilise le random_state 42 pour avoir des résultats reproductibles\n",
    "prd_fp_train, prd_fp_test, rxn_fp_train, rxn_fp_test, labels_train, labels_test = train_test_split(prod_fp, rxn_fp, labels, train_size = train_prop, random_state=42)"
   ]
  },
  {
   "cell_type": "markdown",
   "id": "d50cd9b0",
   "metadata": {},
   "source": [
    "# Entrainement du Modele"
   ]
  },
  {
   "cell_type": "code",
   "execution_count": 14,
   "id": "c83e73a3",
   "metadata": {},
   "outputs": [],
   "source": [
    "#On crée notre modèle : on choisit 100 estimateurs ; avec 1000, après un jour à tourner l'algorithme \n",
    "#n'avait toujours pas fini \n",
    "clf = RandomForestClassifier(n_estimators = 100)"
   ]
  },
  {
   "cell_type": "code",
   "execution_count": 15,
   "id": "86eff0de",
   "metadata": {},
   "outputs": [],
   "source": [
    "#On écrit la data en input sous la forme désirée\n",
    "data_input = [np.concatenate((rxn_fp_train[i], prd_fp_train[i])) for i in range(rxn_fp_train.shape[0])]"
   ]
  },
  {
   "cell_type": "code",
   "execution_count": 22,
   "id": "f4602437",
   "metadata": {},
   "outputs": [
    {
     "data": {
      "text/plain": [
       "RandomForestClassifier()"
      ]
     },
     "execution_count": 22,
     "metadata": {},
     "output_type": "execute_result"
    }
   ],
   "source": [
    "#On entraîne le modèle\n",
    "clf.fit(data_input[:50000], labels_train[:50000])"
   ]
  },
  {
   "cell_type": "code",
   "execution_count": 23,
   "id": "b3ed9a01",
   "metadata": {},
   "outputs": [],
   "source": [
    "#On sauve le modèle \n",
    "filename = 'Random_Forest_model.sav'\n",
    "pickle.dump(clf, open(filename, 'wb'))"
   ]
  },
  {
   "cell_type": "markdown",
   "id": "749506d2",
   "metadata": {},
   "source": [
    "# Premiers résultats"
   ]
  },
  {
   "cell_type": "code",
   "execution_count": 31,
   "id": "0aa48156",
   "metadata": {},
   "outputs": [],
   "source": [
    "#On récupère la data de test\n",
    "data_test = [np.concatenate((rxn_fp_test[i], prd_fp_test[i])) for i in range(rxn_fp_test.shape[0])]"
   ]
  },
  {
   "cell_type": "code",
   "execution_count": 32,
   "id": "a82fa0eb",
   "metadata": {},
   "outputs": [],
   "source": [
    "#On prédit\n",
    "test_predictions = clf.predict(data_test)"
   ]
  },
  {
   "cell_type": "code",
   "execution_count": 34,
   "id": "ee42e1f6",
   "metadata": {},
   "outputs": [],
   "source": [
    "#On calcule précision, recall et fscore\n",
    "precision, recall, fscore, support = score(labels_test, test_predictions, pos_label=1, average='binary')"
   ]
  },
  {
   "cell_type": "code",
   "execution_count": 35,
   "id": "d7725a59",
   "metadata": {},
   "outputs": [
    {
     "data": {
      "text/plain": [
       "(0.8971525288729589, 0.9976473193279637, 0.9447349452853678)"
      ]
     },
     "execution_count": 35,
     "metadata": {},
     "output_type": "execute_result"
    }
   ],
   "source": [
    "#On affiche\n",
    "precision, recall, fscore"
   ]
  }
 ],
 "metadata": {
  "kernelspec": {
   "display_name": "aizynth-env",
   "language": "python",
   "name": "aizynth-env"
  },
  "language_info": {
   "codemirror_mode": {
    "name": "ipython",
    "version": 3
   },
   "file_extension": ".py",
   "mimetype": "text/x-python",
   "name": "python",
   "nbconvert_exporter": "python",
   "pygments_lexer": "ipython3",
   "version": "3.8.12"
  },
  "latex_envs": {
   "LaTeX_envs_menu_present": true,
   "autoclose": false,
   "autocomplete": false,
   "bibliofile": "biblio.bib",
   "cite_by": "apalike",
   "current_citInitial": 1,
   "eqLabelWithNumbers": true,
   "eqNumInitial": 1,
   "hotkeys": {
    "equation": "Ctrl-E",
    "itemize": "Ctrl-I"
   },
   "labels_anchors": false,
   "latex_user_defs": false,
   "report_style_numbering": false,
   "user_envs_cfg": false
  }
 },
 "nbformat": 4,
 "nbformat_minor": 5
}
