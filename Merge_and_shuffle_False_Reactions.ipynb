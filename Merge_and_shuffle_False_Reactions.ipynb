{
 "cells": [
  {
   "cell_type": "code",
   "execution_count": 52,
   "id": "cbc6c40e",
   "metadata": {},
   "outputs": [],
   "source": [
    "import pandas as pd\n",
    "from tqdm.notebook import tqdm\n",
    "from sklearn.utils import shuffle"
   ]
  },
  {
   "cell_type": "code",
   "execution_count": 8,
   "id": "7c2d1a3d",
   "metadata": {},
   "outputs": [],
   "source": [
    "path = \"C:/Users/Yassine/Desktop/PSC/PSC_final/Data/False_reactions/\""
   ]
  },
  {
   "cell_type": "code",
   "execution_count": 21,
   "id": "dd86e752",
   "metadata": {},
   "outputs": [],
   "source": [
    "random = pd.read_csv(path + \"False_reactions.csv\")\n",
    "recommender = pd.read_csv(path + \"Data_False_Reactions_Recommender.csv\", delimiter = \";\")"
   ]
  },
  {
   "cell_type": "code",
   "execution_count": 26,
   "id": "dd87efd5",
   "metadata": {},
   "outputs": [],
   "source": [
    "new_random = pd.DataFrame(columns=['Unnamed: 0', 'Reactifs', 'Products'])"
   ]
  },
  {
   "cell_type": "code",
   "execution_count": 32,
   "id": "50e8704c",
   "metadata": {},
   "outputs": [],
   "source": [
    "random_ = random['0'].to_numpy()"
   ]
  },
  {
   "cell_type": "code",
   "execution_count": 37,
   "id": "fc4a9fd4",
   "metadata": {},
   "outputs": [],
   "source": [
    "r = [x.split(\">>\")[0] for x in random_]\n",
    "p = [x.split(\">>\")[1] for x in random_]"
   ]
  },
  {
   "cell_type": "code",
   "execution_count": 44,
   "id": "74fe15e7",
   "metadata": {},
   "outputs": [],
   "source": [
    "new_random = pd.DataFrame(data = {\"Unnamed : 0\" : random['Unnamed: 0'].to_numpy(), \"Reactifs\" : r, \"Products\" : p})"
   ]
  },
  {
   "cell_type": "code",
   "execution_count": 11,
   "id": "4ee718d2",
   "metadata": {},
   "outputs": [],
   "source": [
    "random_fp = pd.read_csv(path + \"Reactions_Fingerprint_False.csv\")\n",
    "recommender_fp = pd.read_csv(path + \"False_Reactions_Recommender_Fingerprints.csv\")"
   ]
  },
  {
   "cell_type": "code",
   "execution_count": 13,
   "id": "c6bd2bf2",
   "metadata": {},
   "outputs": [],
   "source": [
    "random_grps = pd.read_csv(path + \"false_reac_groups.csv\")\n",
    "recommender_grps = pd.read_csv(path + \"Groupes_Recommender_False_Reactions.csv\")"
   ]
  },
  {
   "cell_type": "code",
   "execution_count": 46,
   "id": "51af1082",
   "metadata": {},
   "outputs": [],
   "source": [
    "reactions = pd.concat([new_random,recommender], ignore_index=True)\n",
    "fp = pd.concat([random_fp, recommender_fp], ignore_index=True)\n",
    "grps  = pd.concat([random_grps, recommender_grps], ignore_index=True)"
   ]
  },
  {
   "cell_type": "code",
   "execution_count": 48,
   "id": "ca9e7508",
   "metadata": {},
   "outputs": [],
   "source": [
    "reactions = reactions[['Reactifs', 'Products']]"
   ]
  },
  {
   "cell_type": "code",
   "execution_count": 54,
   "id": "77515ae7",
   "metadata": {},
   "outputs": [],
   "source": [
    "grps = grps['Groupes']"
   ]
  },
  {
   "cell_type": "code",
   "execution_count": 57,
   "id": "c683e4f9",
   "metadata": {},
   "outputs": [],
   "source": [
    "fp = fp[['Product_Fingerprint', 'Reaction_Fingerprint']]"
   ]
  },
  {
   "cell_type": "code",
   "execution_count": 62,
   "id": "635986ac",
   "metadata": {},
   "outputs": [],
   "source": [
    "r,g,f = shuffle(reactions, grps, fp, random_state=42)"
   ]
  },
  {
   "cell_type": "code",
   "execution_count": 64,
   "id": "4a3ac822",
   "metadata": {},
   "outputs": [],
   "source": [
    "r.to_csv(\"All_False_Reactions_Shuffled.csv\")"
   ]
  },
  {
   "cell_type": "code",
   "execution_count": 65,
   "id": "b3f97b22",
   "metadata": {},
   "outputs": [],
   "source": [
    "g.to_csv(\"All_False_Reactions_Shuffled_Groups.csv\")"
   ]
  },
  {
   "cell_type": "code",
   "execution_count": 66,
   "id": "1d4b377b",
   "metadata": {},
   "outputs": [],
   "source": [
    "f.to_csv(\"All_False_Reactions_Shuffled_Fingerprints.csv\")"
   ]
  }
 ],
 "metadata": {
  "kernelspec": {
   "display_name": "aizynth-env",
   "language": "python",
   "name": "aizynth-env"
  },
  "language_info": {
   "codemirror_mode": {
    "name": "ipython",
    "version": 3
   },
   "file_extension": ".py",
   "mimetype": "text/x-python",
   "name": "python",
   "nbconvert_exporter": "python",
   "pygments_lexer": "ipython3",
   "version": "3.8.12"
  },
  "latex_envs": {
   "LaTeX_envs_menu_present": true,
   "autoclose": false,
   "autocomplete": false,
   "bibliofile": "biblio.bib",
   "cite_by": "apalike",
   "current_citInitial": 1,
   "eqLabelWithNumbers": true,
   "eqNumInitial": 1,
   "hotkeys": {
    "equation": "Ctrl-E",
    "itemize": "Ctrl-I"
   },
   "labels_anchors": false,
   "latex_user_defs": false,
   "report_style_numbering": false,
   "user_envs_cfg": false
  }
 },
 "nbformat": 4,
 "nbformat_minor": 5
}
